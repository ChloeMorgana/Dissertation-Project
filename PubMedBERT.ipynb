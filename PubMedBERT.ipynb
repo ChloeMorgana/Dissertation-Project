{
  "nbformat": 4,
  "nbformat_minor": 0,
  "metadata": {
    "colab": {
      "provenance": [],
      "authorship_tag": "ABX9TyN7cSTVSagoP2ClvUXfQksD",
      "include_colab_link": true
    },
    "kernelspec": {
      "name": "python3",
      "display_name": "Python 3"
    },
    "language_info": {
      "name": "python"
    },
    "widgets": {
      "application/vnd.jupyter.widget-state+json": {
        "295a067c6e4045c5876b4578f491d6d5": {
          "model_module": "@jupyter-widgets/controls",
          "model_name": "HBoxModel",
          "model_module_version": "1.5.0",
          "state": {
            "_dom_classes": [],
            "_model_module": "@jupyter-widgets/controls",
            "_model_module_version": "1.5.0",
            "_model_name": "HBoxModel",
            "_view_count": null,
            "_view_module": "@jupyter-widgets/controls",
            "_view_module_version": "1.5.0",
            "_view_name": "HBoxView",
            "box_style": "",
            "children": [
              "IPY_MODEL_9c1cb1a32587412284890c02648de7c4",
              "IPY_MODEL_708577912ef8429dab70993b22a68d87",
              "IPY_MODEL_87a2eada02f640ce90a23687bcfc6959"
            ],
            "layout": "IPY_MODEL_855a3a06de7243279d4c35a105b78be7"
          }
        },
        "9c1cb1a32587412284890c02648de7c4": {
          "model_module": "@jupyter-widgets/controls",
          "model_name": "HTMLModel",
          "model_module_version": "1.5.0",
          "state": {
            "_dom_classes": [],
            "_model_module": "@jupyter-widgets/controls",
            "_model_module_version": "1.5.0",
            "_model_name": "HTMLModel",
            "_view_count": null,
            "_view_module": "@jupyter-widgets/controls",
            "_view_module_version": "1.5.0",
            "_view_name": "HTMLView",
            "description": "",
            "description_tooltip": null,
            "layout": "IPY_MODEL_97b73bee036f4c669ff06942894c8073",
            "placeholder": "​",
            "style": "IPY_MODEL_a60e46d842c542c98970110411bea81f",
            "value": "Downloading: 100%"
          }
        },
        "708577912ef8429dab70993b22a68d87": {
          "model_module": "@jupyter-widgets/controls",
          "model_name": "FloatProgressModel",
          "model_module_version": "1.5.0",
          "state": {
            "_dom_classes": [],
            "_model_module": "@jupyter-widgets/controls",
            "_model_module_version": "1.5.0",
            "_model_name": "FloatProgressModel",
            "_view_count": null,
            "_view_module": "@jupyter-widgets/controls",
            "_view_module_version": "1.5.0",
            "_view_name": "ProgressView",
            "bar_style": "success",
            "description": "",
            "description_tooltip": null,
            "layout": "IPY_MODEL_6bac3108b10949e394b180d35738e341",
            "max": 385,
            "min": 0,
            "orientation": "horizontal",
            "style": "IPY_MODEL_ecc05fc5149f4a5d96ed934c8482eca2",
            "value": 385
          }
        },
        "87a2eada02f640ce90a23687bcfc6959": {
          "model_module": "@jupyter-widgets/controls",
          "model_name": "HTMLModel",
          "model_module_version": "1.5.0",
          "state": {
            "_dom_classes": [],
            "_model_module": "@jupyter-widgets/controls",
            "_model_module_version": "1.5.0",
            "_model_name": "HTMLModel",
            "_view_count": null,
            "_view_module": "@jupyter-widgets/controls",
            "_view_module_version": "1.5.0",
            "_view_name": "HTMLView",
            "description": "",
            "description_tooltip": null,
            "layout": "IPY_MODEL_e8949e1c2298402987e1a8572fe8a121",
            "placeholder": "​",
            "style": "IPY_MODEL_0c2ef24a53e54ea3935df4c6528d6104",
            "value": " 385/385 [00:00&lt;00:00, 5.82kB/s]"
          }
        },
        "855a3a06de7243279d4c35a105b78be7": {
          "model_module": "@jupyter-widgets/base",
          "model_name": "LayoutModel",
          "model_module_version": "1.2.0",
          "state": {
            "_model_module": "@jupyter-widgets/base",
            "_model_module_version": "1.2.0",
            "_model_name": "LayoutModel",
            "_view_count": null,
            "_view_module": "@jupyter-widgets/base",
            "_view_module_version": "1.2.0",
            "_view_name": "LayoutView",
            "align_content": null,
            "align_items": null,
            "align_self": null,
            "border": null,
            "bottom": null,
            "display": null,
            "flex": null,
            "flex_flow": null,
            "grid_area": null,
            "grid_auto_columns": null,
            "grid_auto_flow": null,
            "grid_auto_rows": null,
            "grid_column": null,
            "grid_gap": null,
            "grid_row": null,
            "grid_template_areas": null,
            "grid_template_columns": null,
            "grid_template_rows": null,
            "height": null,
            "justify_content": null,
            "justify_items": null,
            "left": null,
            "margin": null,
            "max_height": null,
            "max_width": null,
            "min_height": null,
            "min_width": null,
            "object_fit": null,
            "object_position": null,
            "order": null,
            "overflow": null,
            "overflow_x": null,
            "overflow_y": null,
            "padding": null,
            "right": null,
            "top": null,
            "visibility": null,
            "width": null
          }
        },
        "97b73bee036f4c669ff06942894c8073": {
          "model_module": "@jupyter-widgets/base",
          "model_name": "LayoutModel",
          "model_module_version": "1.2.0",
          "state": {
            "_model_module": "@jupyter-widgets/base",
            "_model_module_version": "1.2.0",
            "_model_name": "LayoutModel",
            "_view_count": null,
            "_view_module": "@jupyter-widgets/base",
            "_view_module_version": "1.2.0",
            "_view_name": "LayoutView",
            "align_content": null,
            "align_items": null,
            "align_self": null,
            "border": null,
            "bottom": null,
            "display": null,
            "flex": null,
            "flex_flow": null,
            "grid_area": null,
            "grid_auto_columns": null,
            "grid_auto_flow": null,
            "grid_auto_rows": null,
            "grid_column": null,
            "grid_gap": null,
            "grid_row": null,
            "grid_template_areas": null,
            "grid_template_columns": null,
            "grid_template_rows": null,
            "height": null,
            "justify_content": null,
            "justify_items": null,
            "left": null,
            "margin": null,
            "max_height": null,
            "max_width": null,
            "min_height": null,
            "min_width": null,
            "object_fit": null,
            "object_position": null,
            "order": null,
            "overflow": null,
            "overflow_x": null,
            "overflow_y": null,
            "padding": null,
            "right": null,
            "top": null,
            "visibility": null,
            "width": null
          }
        },
        "a60e46d842c542c98970110411bea81f": {
          "model_module": "@jupyter-widgets/controls",
          "model_name": "DescriptionStyleModel",
          "model_module_version": "1.5.0",
          "state": {
            "_model_module": "@jupyter-widgets/controls",
            "_model_module_version": "1.5.0",
            "_model_name": "DescriptionStyleModel",
            "_view_count": null,
            "_view_module": "@jupyter-widgets/base",
            "_view_module_version": "1.2.0",
            "_view_name": "StyleView",
            "description_width": ""
          }
        },
        "6bac3108b10949e394b180d35738e341": {
          "model_module": "@jupyter-widgets/base",
          "model_name": "LayoutModel",
          "model_module_version": "1.2.0",
          "state": {
            "_model_module": "@jupyter-widgets/base",
            "_model_module_version": "1.2.0",
            "_model_name": "LayoutModel",
            "_view_count": null,
            "_view_module": "@jupyter-widgets/base",
            "_view_module_version": "1.2.0",
            "_view_name": "LayoutView",
            "align_content": null,
            "align_items": null,
            "align_self": null,
            "border": null,
            "bottom": null,
            "display": null,
            "flex": null,
            "flex_flow": null,
            "grid_area": null,
            "grid_auto_columns": null,
            "grid_auto_flow": null,
            "grid_auto_rows": null,
            "grid_column": null,
            "grid_gap": null,
            "grid_row": null,
            "grid_template_areas": null,
            "grid_template_columns": null,
            "grid_template_rows": null,
            "height": null,
            "justify_content": null,
            "justify_items": null,
            "left": null,
            "margin": null,
            "max_height": null,
            "max_width": null,
            "min_height": null,
            "min_width": null,
            "object_fit": null,
            "object_position": null,
            "order": null,
            "overflow": null,
            "overflow_x": null,
            "overflow_y": null,
            "padding": null,
            "right": null,
            "top": null,
            "visibility": null,
            "width": null
          }
        },
        "ecc05fc5149f4a5d96ed934c8482eca2": {
          "model_module": "@jupyter-widgets/controls",
          "model_name": "ProgressStyleModel",
          "model_module_version": "1.5.0",
          "state": {
            "_model_module": "@jupyter-widgets/controls",
            "_model_module_version": "1.5.0",
            "_model_name": "ProgressStyleModel",
            "_view_count": null,
            "_view_module": "@jupyter-widgets/base",
            "_view_module_version": "1.2.0",
            "_view_name": "StyleView",
            "bar_color": null,
            "description_width": ""
          }
        },
        "e8949e1c2298402987e1a8572fe8a121": {
          "model_module": "@jupyter-widgets/base",
          "model_name": "LayoutModel",
          "model_module_version": "1.2.0",
          "state": {
            "_model_module": "@jupyter-widgets/base",
            "_model_module_version": "1.2.0",
            "_model_name": "LayoutModel",
            "_view_count": null,
            "_view_module": "@jupyter-widgets/base",
            "_view_module_version": "1.2.0",
            "_view_name": "LayoutView",
            "align_content": null,
            "align_items": null,
            "align_self": null,
            "border": null,
            "bottom": null,
            "display": null,
            "flex": null,
            "flex_flow": null,
            "grid_area": null,
            "grid_auto_columns": null,
            "grid_auto_flow": null,
            "grid_auto_rows": null,
            "grid_column": null,
            "grid_gap": null,
            "grid_row": null,
            "grid_template_areas": null,
            "grid_template_columns": null,
            "grid_template_rows": null,
            "height": null,
            "justify_content": null,
            "justify_items": null,
            "left": null,
            "margin": null,
            "max_height": null,
            "max_width": null,
            "min_height": null,
            "min_width": null,
            "object_fit": null,
            "object_position": null,
            "order": null,
            "overflow": null,
            "overflow_x": null,
            "overflow_y": null,
            "padding": null,
            "right": null,
            "top": null,
            "visibility": null,
            "width": null
          }
        },
        "0c2ef24a53e54ea3935df4c6528d6104": {
          "model_module": "@jupyter-widgets/controls",
          "model_name": "DescriptionStyleModel",
          "model_module_version": "1.5.0",
          "state": {
            "_model_module": "@jupyter-widgets/controls",
            "_model_module_version": "1.5.0",
            "_model_name": "DescriptionStyleModel",
            "_view_count": null,
            "_view_module": "@jupyter-widgets/base",
            "_view_module_version": "1.2.0",
            "_view_name": "StyleView",
            "description_width": ""
          }
        },
        "0424e73cef10414fb767d2c560ad220e": {
          "model_module": "@jupyter-widgets/controls",
          "model_name": "HBoxModel",
          "model_module_version": "1.5.0",
          "state": {
            "_dom_classes": [],
            "_model_module": "@jupyter-widgets/controls",
            "_model_module_version": "1.5.0",
            "_model_name": "HBoxModel",
            "_view_count": null,
            "_view_module": "@jupyter-widgets/controls",
            "_view_module_version": "1.5.0",
            "_view_name": "HBoxView",
            "box_style": "",
            "children": [
              "IPY_MODEL_c9ad7f3c1b5e403abe486f267317607f",
              "IPY_MODEL_45cfcf0ddabd44a0bd589d37ca2a7751",
              "IPY_MODEL_ed0161c4527d4ffe9ef2af7414b32cde"
            ],
            "layout": "IPY_MODEL_1ac007c705c84c0a9d03a78f7155f7d2"
          }
        },
        "c9ad7f3c1b5e403abe486f267317607f": {
          "model_module": "@jupyter-widgets/controls",
          "model_name": "HTMLModel",
          "model_module_version": "1.5.0",
          "state": {
            "_dom_classes": [],
            "_model_module": "@jupyter-widgets/controls",
            "_model_module_version": "1.5.0",
            "_model_name": "HTMLModel",
            "_view_count": null,
            "_view_module": "@jupyter-widgets/controls",
            "_view_module_version": "1.5.0",
            "_view_name": "HTMLView",
            "description": "",
            "description_tooltip": null,
            "layout": "IPY_MODEL_7a65ad2af5f444679c46942d9c202ec9",
            "placeholder": "​",
            "style": "IPY_MODEL_5ccc01a0b5884b40923726fdd5732d11",
            "value": "Downloading: 100%"
          }
        },
        "45cfcf0ddabd44a0bd589d37ca2a7751": {
          "model_module": "@jupyter-widgets/controls",
          "model_name": "FloatProgressModel",
          "model_module_version": "1.5.0",
          "state": {
            "_dom_classes": [],
            "_model_module": "@jupyter-widgets/controls",
            "_model_module_version": "1.5.0",
            "_model_name": "FloatProgressModel",
            "_view_count": null,
            "_view_module": "@jupyter-widgets/controls",
            "_view_module_version": "1.5.0",
            "_view_name": "ProgressView",
            "bar_style": "success",
            "description": "",
            "description_tooltip": null,
            "layout": "IPY_MODEL_2959e77c531844c09afca8467c6a6c53",
            "max": 440474434,
            "min": 0,
            "orientation": "horizontal",
            "style": "IPY_MODEL_d21f3053c02e49da8fdee28f804ca76b",
            "value": 440474434
          }
        },
        "ed0161c4527d4ffe9ef2af7414b32cde": {
          "model_module": "@jupyter-widgets/controls",
          "model_name": "HTMLModel",
          "model_module_version": "1.5.0",
          "state": {
            "_dom_classes": [],
            "_model_module": "@jupyter-widgets/controls",
            "_model_module_version": "1.5.0",
            "_model_name": "HTMLModel",
            "_view_count": null,
            "_view_module": "@jupyter-widgets/controls",
            "_view_module_version": "1.5.0",
            "_view_name": "HTMLView",
            "description": "",
            "description_tooltip": null,
            "layout": "IPY_MODEL_bac35cd0dc7b4fc78d542ca83543ba7d",
            "placeholder": "​",
            "style": "IPY_MODEL_41b34f23e405404c9bedc779147f578f",
            "value": " 440M/440M [00:07&lt;00:00, 64.3MB/s]"
          }
        },
        "1ac007c705c84c0a9d03a78f7155f7d2": {
          "model_module": "@jupyter-widgets/base",
          "model_name": "LayoutModel",
          "model_module_version": "1.2.0",
          "state": {
            "_model_module": "@jupyter-widgets/base",
            "_model_module_version": "1.2.0",
            "_model_name": "LayoutModel",
            "_view_count": null,
            "_view_module": "@jupyter-widgets/base",
            "_view_module_version": "1.2.0",
            "_view_name": "LayoutView",
            "align_content": null,
            "align_items": null,
            "align_self": null,
            "border": null,
            "bottom": null,
            "display": null,
            "flex": null,
            "flex_flow": null,
            "grid_area": null,
            "grid_auto_columns": null,
            "grid_auto_flow": null,
            "grid_auto_rows": null,
            "grid_column": null,
            "grid_gap": null,
            "grid_row": null,
            "grid_template_areas": null,
            "grid_template_columns": null,
            "grid_template_rows": null,
            "height": null,
            "justify_content": null,
            "justify_items": null,
            "left": null,
            "margin": null,
            "max_height": null,
            "max_width": null,
            "min_height": null,
            "min_width": null,
            "object_fit": null,
            "object_position": null,
            "order": null,
            "overflow": null,
            "overflow_x": null,
            "overflow_y": null,
            "padding": null,
            "right": null,
            "top": null,
            "visibility": null,
            "width": null
          }
        },
        "7a65ad2af5f444679c46942d9c202ec9": {
          "model_module": "@jupyter-widgets/base",
          "model_name": "LayoutModel",
          "model_module_version": "1.2.0",
          "state": {
            "_model_module": "@jupyter-widgets/base",
            "_model_module_version": "1.2.0",
            "_model_name": "LayoutModel",
            "_view_count": null,
            "_view_module": "@jupyter-widgets/base",
            "_view_module_version": "1.2.0",
            "_view_name": "LayoutView",
            "align_content": null,
            "align_items": null,
            "align_self": null,
            "border": null,
            "bottom": null,
            "display": null,
            "flex": null,
            "flex_flow": null,
            "grid_area": null,
            "grid_auto_columns": null,
            "grid_auto_flow": null,
            "grid_auto_rows": null,
            "grid_column": null,
            "grid_gap": null,
            "grid_row": null,
            "grid_template_areas": null,
            "grid_template_columns": null,
            "grid_template_rows": null,
            "height": null,
            "justify_content": null,
            "justify_items": null,
            "left": null,
            "margin": null,
            "max_height": null,
            "max_width": null,
            "min_height": null,
            "min_width": null,
            "object_fit": null,
            "object_position": null,
            "order": null,
            "overflow": null,
            "overflow_x": null,
            "overflow_y": null,
            "padding": null,
            "right": null,
            "top": null,
            "visibility": null,
            "width": null
          }
        },
        "5ccc01a0b5884b40923726fdd5732d11": {
          "model_module": "@jupyter-widgets/controls",
          "model_name": "DescriptionStyleModel",
          "model_module_version": "1.5.0",
          "state": {
            "_model_module": "@jupyter-widgets/controls",
            "_model_module_version": "1.5.0",
            "_model_name": "DescriptionStyleModel",
            "_view_count": null,
            "_view_module": "@jupyter-widgets/base",
            "_view_module_version": "1.2.0",
            "_view_name": "StyleView",
            "description_width": ""
          }
        },
        "2959e77c531844c09afca8467c6a6c53": {
          "model_module": "@jupyter-widgets/base",
          "model_name": "LayoutModel",
          "model_module_version": "1.2.0",
          "state": {
            "_model_module": "@jupyter-widgets/base",
            "_model_module_version": "1.2.0",
            "_model_name": "LayoutModel",
            "_view_count": null,
            "_view_module": "@jupyter-widgets/base",
            "_view_module_version": "1.2.0",
            "_view_name": "LayoutView",
            "align_content": null,
            "align_items": null,
            "align_self": null,
            "border": null,
            "bottom": null,
            "display": null,
            "flex": null,
            "flex_flow": null,
            "grid_area": null,
            "grid_auto_columns": null,
            "grid_auto_flow": null,
            "grid_auto_rows": null,
            "grid_column": null,
            "grid_gap": null,
            "grid_row": null,
            "grid_template_areas": null,
            "grid_template_columns": null,
            "grid_template_rows": null,
            "height": null,
            "justify_content": null,
            "justify_items": null,
            "left": null,
            "margin": null,
            "max_height": null,
            "max_width": null,
            "min_height": null,
            "min_width": null,
            "object_fit": null,
            "object_position": null,
            "order": null,
            "overflow": null,
            "overflow_x": null,
            "overflow_y": null,
            "padding": null,
            "right": null,
            "top": null,
            "visibility": null,
            "width": null
          }
        },
        "d21f3053c02e49da8fdee28f804ca76b": {
          "model_module": "@jupyter-widgets/controls",
          "model_name": "ProgressStyleModel",
          "model_module_version": "1.5.0",
          "state": {
            "_model_module": "@jupyter-widgets/controls",
            "_model_module_version": "1.5.0",
            "_model_name": "ProgressStyleModel",
            "_view_count": null,
            "_view_module": "@jupyter-widgets/base",
            "_view_module_version": "1.2.0",
            "_view_name": "StyleView",
            "bar_color": null,
            "description_width": ""
          }
        },
        "bac35cd0dc7b4fc78d542ca83543ba7d": {
          "model_module": "@jupyter-widgets/base",
          "model_name": "LayoutModel",
          "model_module_version": "1.2.0",
          "state": {
            "_model_module": "@jupyter-widgets/base",
            "_model_module_version": "1.2.0",
            "_model_name": "LayoutModel",
            "_view_count": null,
            "_view_module": "@jupyter-widgets/base",
            "_view_module_version": "1.2.0",
            "_view_name": "LayoutView",
            "align_content": null,
            "align_items": null,
            "align_self": null,
            "border": null,
            "bottom": null,
            "display": null,
            "flex": null,
            "flex_flow": null,
            "grid_area": null,
            "grid_auto_columns": null,
            "grid_auto_flow": null,
            "grid_auto_rows": null,
            "grid_column": null,
            "grid_gap": null,
            "grid_row": null,
            "grid_template_areas": null,
            "grid_template_columns": null,
            "grid_template_rows": null,
            "height": null,
            "justify_content": null,
            "justify_items": null,
            "left": null,
            "margin": null,
            "max_height": null,
            "max_width": null,
            "min_height": null,
            "min_width": null,
            "object_fit": null,
            "object_position": null,
            "order": null,
            "overflow": null,
            "overflow_x": null,
            "overflow_y": null,
            "padding": null,
            "right": null,
            "top": null,
            "visibility": null,
            "width": null
          }
        },
        "41b34f23e405404c9bedc779147f578f": {
          "model_module": "@jupyter-widgets/controls",
          "model_name": "DescriptionStyleModel",
          "model_module_version": "1.5.0",
          "state": {
            "_model_module": "@jupyter-widgets/controls",
            "_model_module_version": "1.5.0",
            "_model_name": "DescriptionStyleModel",
            "_view_count": null,
            "_view_module": "@jupyter-widgets/base",
            "_view_module_version": "1.2.0",
            "_view_name": "StyleView",
            "description_width": ""
          }
        },
        "918cb6139f3b4e6c90c8f26a524efe39": {
          "model_module": "@jupyter-widgets/controls",
          "model_name": "HBoxModel",
          "model_module_version": "1.5.0",
          "state": {
            "_dom_classes": [],
            "_model_module": "@jupyter-widgets/controls",
            "_model_module_version": "1.5.0",
            "_model_name": "HBoxModel",
            "_view_count": null,
            "_view_module": "@jupyter-widgets/controls",
            "_view_module_version": "1.5.0",
            "_view_name": "HBoxView",
            "box_style": "",
            "children": [
              "IPY_MODEL_f57018c864a9430b9f02b6e39404f88d",
              "IPY_MODEL_daf5a09685de409db77b514794b51902",
              "IPY_MODEL_c7a011132e5745afad31b458ce58c8fd"
            ],
            "layout": "IPY_MODEL_92c95306ddf6431992e77de4952e3a3e"
          }
        },
        "f57018c864a9430b9f02b6e39404f88d": {
          "model_module": "@jupyter-widgets/controls",
          "model_name": "HTMLModel",
          "model_module_version": "1.5.0",
          "state": {
            "_dom_classes": [],
            "_model_module": "@jupyter-widgets/controls",
            "_model_module_version": "1.5.0",
            "_model_name": "HTMLModel",
            "_view_count": null,
            "_view_module": "@jupyter-widgets/controls",
            "_view_module_version": "1.5.0",
            "_view_name": "HTMLView",
            "description": "",
            "description_tooltip": null,
            "layout": "IPY_MODEL_8700c0fa6fb349078e7c418e8f3acf9a",
            "placeholder": "​",
            "style": "IPY_MODEL_7e6c3e5f34134f48b32cdf1fef4609e7",
            "value": "Downloading: 100%"
          }
        },
        "daf5a09685de409db77b514794b51902": {
          "model_module": "@jupyter-widgets/controls",
          "model_name": "FloatProgressModel",
          "model_module_version": "1.5.0",
          "state": {
            "_dom_classes": [],
            "_model_module": "@jupyter-widgets/controls",
            "_model_module_version": "1.5.0",
            "_model_name": "FloatProgressModel",
            "_view_count": null,
            "_view_module": "@jupyter-widgets/controls",
            "_view_module_version": "1.5.0",
            "_view_name": "ProgressView",
            "bar_style": "success",
            "description": "",
            "description_tooltip": null,
            "layout": "IPY_MODEL_0d1f9df14167445186157b49596d8a89",
            "max": 28,
            "min": 0,
            "orientation": "horizontal",
            "style": "IPY_MODEL_cff50665751a4ecba36543cdd71895f9",
            "value": 28
          }
        },
        "c7a011132e5745afad31b458ce58c8fd": {
          "model_module": "@jupyter-widgets/controls",
          "model_name": "HTMLModel",
          "model_module_version": "1.5.0",
          "state": {
            "_dom_classes": [],
            "_model_module": "@jupyter-widgets/controls",
            "_model_module_version": "1.5.0",
            "_model_name": "HTMLModel",
            "_view_count": null,
            "_view_module": "@jupyter-widgets/controls",
            "_view_module_version": "1.5.0",
            "_view_name": "HTMLView",
            "description": "",
            "description_tooltip": null,
            "layout": "IPY_MODEL_fdabb1466831429a8812298527d5002d",
            "placeholder": "​",
            "style": "IPY_MODEL_ba5b448052a74fc1a40ef3d91c98de29",
            "value": " 28.0/28.0 [00:00&lt;00:00, 759B/s]"
          }
        },
        "92c95306ddf6431992e77de4952e3a3e": {
          "model_module": "@jupyter-widgets/base",
          "model_name": "LayoutModel",
          "model_module_version": "1.2.0",
          "state": {
            "_model_module": "@jupyter-widgets/base",
            "_model_module_version": "1.2.0",
            "_model_name": "LayoutModel",
            "_view_count": null,
            "_view_module": "@jupyter-widgets/base",
            "_view_module_version": "1.2.0",
            "_view_name": "LayoutView",
            "align_content": null,
            "align_items": null,
            "align_self": null,
            "border": null,
            "bottom": null,
            "display": null,
            "flex": null,
            "flex_flow": null,
            "grid_area": null,
            "grid_auto_columns": null,
            "grid_auto_flow": null,
            "grid_auto_rows": null,
            "grid_column": null,
            "grid_gap": null,
            "grid_row": null,
            "grid_template_areas": null,
            "grid_template_columns": null,
            "grid_template_rows": null,
            "height": null,
            "justify_content": null,
            "justify_items": null,
            "left": null,
            "margin": null,
            "max_height": null,
            "max_width": null,
            "min_height": null,
            "min_width": null,
            "object_fit": null,
            "object_position": null,
            "order": null,
            "overflow": null,
            "overflow_x": null,
            "overflow_y": null,
            "padding": null,
            "right": null,
            "top": null,
            "visibility": null,
            "width": null
          }
        },
        "8700c0fa6fb349078e7c418e8f3acf9a": {
          "model_module": "@jupyter-widgets/base",
          "model_name": "LayoutModel",
          "model_module_version": "1.2.0",
          "state": {
            "_model_module": "@jupyter-widgets/base",
            "_model_module_version": "1.2.0",
            "_model_name": "LayoutModel",
            "_view_count": null,
            "_view_module": "@jupyter-widgets/base",
            "_view_module_version": "1.2.0",
            "_view_name": "LayoutView",
            "align_content": null,
            "align_items": null,
            "align_self": null,
            "border": null,
            "bottom": null,
            "display": null,
            "flex": null,
            "flex_flow": null,
            "grid_area": null,
            "grid_auto_columns": null,
            "grid_auto_flow": null,
            "grid_auto_rows": null,
            "grid_column": null,
            "grid_gap": null,
            "grid_row": null,
            "grid_template_areas": null,
            "grid_template_columns": null,
            "grid_template_rows": null,
            "height": null,
            "justify_content": null,
            "justify_items": null,
            "left": null,
            "margin": null,
            "max_height": null,
            "max_width": null,
            "min_height": null,
            "min_width": null,
            "object_fit": null,
            "object_position": null,
            "order": null,
            "overflow": null,
            "overflow_x": null,
            "overflow_y": null,
            "padding": null,
            "right": null,
            "top": null,
            "visibility": null,
            "width": null
          }
        },
        "7e6c3e5f34134f48b32cdf1fef4609e7": {
          "model_module": "@jupyter-widgets/controls",
          "model_name": "DescriptionStyleModel",
          "model_module_version": "1.5.0",
          "state": {
            "_model_module": "@jupyter-widgets/controls",
            "_model_module_version": "1.5.0",
            "_model_name": "DescriptionStyleModel",
            "_view_count": null,
            "_view_module": "@jupyter-widgets/base",
            "_view_module_version": "1.2.0",
            "_view_name": "StyleView",
            "description_width": ""
          }
        },
        "0d1f9df14167445186157b49596d8a89": {
          "model_module": "@jupyter-widgets/base",
          "model_name": "LayoutModel",
          "model_module_version": "1.2.0",
          "state": {
            "_model_module": "@jupyter-widgets/base",
            "_model_module_version": "1.2.0",
            "_model_name": "LayoutModel",
            "_view_count": null,
            "_view_module": "@jupyter-widgets/base",
            "_view_module_version": "1.2.0",
            "_view_name": "LayoutView",
            "align_content": null,
            "align_items": null,
            "align_self": null,
            "border": null,
            "bottom": null,
            "display": null,
            "flex": null,
            "flex_flow": null,
            "grid_area": null,
            "grid_auto_columns": null,
            "grid_auto_flow": null,
            "grid_auto_rows": null,
            "grid_column": null,
            "grid_gap": null,
            "grid_row": null,
            "grid_template_areas": null,
            "grid_template_columns": null,
            "grid_template_rows": null,
            "height": null,
            "justify_content": null,
            "justify_items": null,
            "left": null,
            "margin": null,
            "max_height": null,
            "max_width": null,
            "min_height": null,
            "min_width": null,
            "object_fit": null,
            "object_position": null,
            "order": null,
            "overflow": null,
            "overflow_x": null,
            "overflow_y": null,
            "padding": null,
            "right": null,
            "top": null,
            "visibility": null,
            "width": null
          }
        },
        "cff50665751a4ecba36543cdd71895f9": {
          "model_module": "@jupyter-widgets/controls",
          "model_name": "ProgressStyleModel",
          "model_module_version": "1.5.0",
          "state": {
            "_model_module": "@jupyter-widgets/controls",
            "_model_module_version": "1.5.0",
            "_model_name": "ProgressStyleModel",
            "_view_count": null,
            "_view_module": "@jupyter-widgets/base",
            "_view_module_version": "1.2.0",
            "_view_name": "StyleView",
            "bar_color": null,
            "description_width": ""
          }
        },
        "fdabb1466831429a8812298527d5002d": {
          "model_module": "@jupyter-widgets/base",
          "model_name": "LayoutModel",
          "model_module_version": "1.2.0",
          "state": {
            "_model_module": "@jupyter-widgets/base",
            "_model_module_version": "1.2.0",
            "_model_name": "LayoutModel",
            "_view_count": null,
            "_view_module": "@jupyter-widgets/base",
            "_view_module_version": "1.2.0",
            "_view_name": "LayoutView",
            "align_content": null,
            "align_items": null,
            "align_self": null,
            "border": null,
            "bottom": null,
            "display": null,
            "flex": null,
            "flex_flow": null,
            "grid_area": null,
            "grid_auto_columns": null,
            "grid_auto_flow": null,
            "grid_auto_rows": null,
            "grid_column": null,
            "grid_gap": null,
            "grid_row": null,
            "grid_template_areas": null,
            "grid_template_columns": null,
            "grid_template_rows": null,
            "height": null,
            "justify_content": null,
            "justify_items": null,
            "left": null,
            "margin": null,
            "max_height": null,
            "max_width": null,
            "min_height": null,
            "min_width": null,
            "object_fit": null,
            "object_position": null,
            "order": null,
            "overflow": null,
            "overflow_x": null,
            "overflow_y": null,
            "padding": null,
            "right": null,
            "top": null,
            "visibility": null,
            "width": null
          }
        },
        "ba5b448052a74fc1a40ef3d91c98de29": {
          "model_module": "@jupyter-widgets/controls",
          "model_name": "DescriptionStyleModel",
          "model_module_version": "1.5.0",
          "state": {
            "_model_module": "@jupyter-widgets/controls",
            "_model_module_version": "1.5.0",
            "_model_name": "DescriptionStyleModel",
            "_view_count": null,
            "_view_module": "@jupyter-widgets/base",
            "_view_module_version": "1.2.0",
            "_view_name": "StyleView",
            "description_width": ""
          }
        },
        "3356e804d2364378933ee1b24d5f2e4a": {
          "model_module": "@jupyter-widgets/controls",
          "model_name": "HBoxModel",
          "model_module_version": "1.5.0",
          "state": {
            "_dom_classes": [],
            "_model_module": "@jupyter-widgets/controls",
            "_model_module_version": "1.5.0",
            "_model_name": "HBoxModel",
            "_view_count": null,
            "_view_module": "@jupyter-widgets/controls",
            "_view_module_version": "1.5.0",
            "_view_name": "HBoxView",
            "box_style": "",
            "children": [
              "IPY_MODEL_b13b6bcd9a324afea82c962688ddf43d",
              "IPY_MODEL_01f657303530426ca8866c219f739dce",
              "IPY_MODEL_9726bee90e07414d84db5e09b85a00ce"
            ],
            "layout": "IPY_MODEL_606314164a544cba8c6348566b53ebdc"
          }
        },
        "b13b6bcd9a324afea82c962688ddf43d": {
          "model_module": "@jupyter-widgets/controls",
          "model_name": "HTMLModel",
          "model_module_version": "1.5.0",
          "state": {
            "_dom_classes": [],
            "_model_module": "@jupyter-widgets/controls",
            "_model_module_version": "1.5.0",
            "_model_name": "HTMLModel",
            "_view_count": null,
            "_view_module": "@jupyter-widgets/controls",
            "_view_module_version": "1.5.0",
            "_view_name": "HTMLView",
            "description": "",
            "description_tooltip": null,
            "layout": "IPY_MODEL_7be7728428c1489eaa1424508b2bb16d",
            "placeholder": "​",
            "style": "IPY_MODEL_3a4366586e79484697b7d7b3f6a2a407",
            "value": "Downloading: 100%"
          }
        },
        "01f657303530426ca8866c219f739dce": {
          "model_module": "@jupyter-widgets/controls",
          "model_name": "FloatProgressModel",
          "model_module_version": "1.5.0",
          "state": {
            "_dom_classes": [],
            "_model_module": "@jupyter-widgets/controls",
            "_model_module_version": "1.5.0",
            "_model_name": "FloatProgressModel",
            "_view_count": null,
            "_view_module": "@jupyter-widgets/controls",
            "_view_module_version": "1.5.0",
            "_view_name": "ProgressView",
            "bar_style": "success",
            "description": "",
            "description_tooltip": null,
            "layout": "IPY_MODEL_24478df685264bd2a6ec4cf321193f8c",
            "max": 226150,
            "min": 0,
            "orientation": "horizontal",
            "style": "IPY_MODEL_703e9f9b27d34cf8a8297edfb415ec00",
            "value": 226150
          }
        },
        "9726bee90e07414d84db5e09b85a00ce": {
          "model_module": "@jupyter-widgets/controls",
          "model_name": "HTMLModel",
          "model_module_version": "1.5.0",
          "state": {
            "_dom_classes": [],
            "_model_module": "@jupyter-widgets/controls",
            "_model_module_version": "1.5.0",
            "_model_name": "HTMLModel",
            "_view_count": null,
            "_view_module": "@jupyter-widgets/controls",
            "_view_module_version": "1.5.0",
            "_view_name": "HTMLView",
            "description": "",
            "description_tooltip": null,
            "layout": "IPY_MODEL_28ea91430be74bd9a0134ac3c2b97375",
            "placeholder": "​",
            "style": "IPY_MODEL_e9e7aafe72354340808a1946a70d33b5",
            "value": " 226k/226k [00:00&lt;00:00, 1.07MB/s]"
          }
        },
        "606314164a544cba8c6348566b53ebdc": {
          "model_module": "@jupyter-widgets/base",
          "model_name": "LayoutModel",
          "model_module_version": "1.2.0",
          "state": {
            "_model_module": "@jupyter-widgets/base",
            "_model_module_version": "1.2.0",
            "_model_name": "LayoutModel",
            "_view_count": null,
            "_view_module": "@jupyter-widgets/base",
            "_view_module_version": "1.2.0",
            "_view_name": "LayoutView",
            "align_content": null,
            "align_items": null,
            "align_self": null,
            "border": null,
            "bottom": null,
            "display": null,
            "flex": null,
            "flex_flow": null,
            "grid_area": null,
            "grid_auto_columns": null,
            "grid_auto_flow": null,
            "grid_auto_rows": null,
            "grid_column": null,
            "grid_gap": null,
            "grid_row": null,
            "grid_template_areas": null,
            "grid_template_columns": null,
            "grid_template_rows": null,
            "height": null,
            "justify_content": null,
            "justify_items": null,
            "left": null,
            "margin": null,
            "max_height": null,
            "max_width": null,
            "min_height": null,
            "min_width": null,
            "object_fit": null,
            "object_position": null,
            "order": null,
            "overflow": null,
            "overflow_x": null,
            "overflow_y": null,
            "padding": null,
            "right": null,
            "top": null,
            "visibility": null,
            "width": null
          }
        },
        "7be7728428c1489eaa1424508b2bb16d": {
          "model_module": "@jupyter-widgets/base",
          "model_name": "LayoutModel",
          "model_module_version": "1.2.0",
          "state": {
            "_model_module": "@jupyter-widgets/base",
            "_model_module_version": "1.2.0",
            "_model_name": "LayoutModel",
            "_view_count": null,
            "_view_module": "@jupyter-widgets/base",
            "_view_module_version": "1.2.0",
            "_view_name": "LayoutView",
            "align_content": null,
            "align_items": null,
            "align_self": null,
            "border": null,
            "bottom": null,
            "display": null,
            "flex": null,
            "flex_flow": null,
            "grid_area": null,
            "grid_auto_columns": null,
            "grid_auto_flow": null,
            "grid_auto_rows": null,
            "grid_column": null,
            "grid_gap": null,
            "grid_row": null,
            "grid_template_areas": null,
            "grid_template_columns": null,
            "grid_template_rows": null,
            "height": null,
            "justify_content": null,
            "justify_items": null,
            "left": null,
            "margin": null,
            "max_height": null,
            "max_width": null,
            "min_height": null,
            "min_width": null,
            "object_fit": null,
            "object_position": null,
            "order": null,
            "overflow": null,
            "overflow_x": null,
            "overflow_y": null,
            "padding": null,
            "right": null,
            "top": null,
            "visibility": null,
            "width": null
          }
        },
        "3a4366586e79484697b7d7b3f6a2a407": {
          "model_module": "@jupyter-widgets/controls",
          "model_name": "DescriptionStyleModel",
          "model_module_version": "1.5.0",
          "state": {
            "_model_module": "@jupyter-widgets/controls",
            "_model_module_version": "1.5.0",
            "_model_name": "DescriptionStyleModel",
            "_view_count": null,
            "_view_module": "@jupyter-widgets/base",
            "_view_module_version": "1.2.0",
            "_view_name": "StyleView",
            "description_width": ""
          }
        },
        "24478df685264bd2a6ec4cf321193f8c": {
          "model_module": "@jupyter-widgets/base",
          "model_name": "LayoutModel",
          "model_module_version": "1.2.0",
          "state": {
            "_model_module": "@jupyter-widgets/base",
            "_model_module_version": "1.2.0",
            "_model_name": "LayoutModel",
            "_view_count": null,
            "_view_module": "@jupyter-widgets/base",
            "_view_module_version": "1.2.0",
            "_view_name": "LayoutView",
            "align_content": null,
            "align_items": null,
            "align_self": null,
            "border": null,
            "bottom": null,
            "display": null,
            "flex": null,
            "flex_flow": null,
            "grid_area": null,
            "grid_auto_columns": null,
            "grid_auto_flow": null,
            "grid_auto_rows": null,
            "grid_column": null,
            "grid_gap": null,
            "grid_row": null,
            "grid_template_areas": null,
            "grid_template_columns": null,
            "grid_template_rows": null,
            "height": null,
            "justify_content": null,
            "justify_items": null,
            "left": null,
            "margin": null,
            "max_height": null,
            "max_width": null,
            "min_height": null,
            "min_width": null,
            "object_fit": null,
            "object_position": null,
            "order": null,
            "overflow": null,
            "overflow_x": null,
            "overflow_y": null,
            "padding": null,
            "right": null,
            "top": null,
            "visibility": null,
            "width": null
          }
        },
        "703e9f9b27d34cf8a8297edfb415ec00": {
          "model_module": "@jupyter-widgets/controls",
          "model_name": "ProgressStyleModel",
          "model_module_version": "1.5.0",
          "state": {
            "_model_module": "@jupyter-widgets/controls",
            "_model_module_version": "1.5.0",
            "_model_name": "ProgressStyleModel",
            "_view_count": null,
            "_view_module": "@jupyter-widgets/base",
            "_view_module_version": "1.2.0",
            "_view_name": "StyleView",
            "bar_color": null,
            "description_width": ""
          }
        },
        "28ea91430be74bd9a0134ac3c2b97375": {
          "model_module": "@jupyter-widgets/base",
          "model_name": "LayoutModel",
          "model_module_version": "1.2.0",
          "state": {
            "_model_module": "@jupyter-widgets/base",
            "_model_module_version": "1.2.0",
            "_model_name": "LayoutModel",
            "_view_count": null,
            "_view_module": "@jupyter-widgets/base",
            "_view_module_version": "1.2.0",
            "_view_name": "LayoutView",
            "align_content": null,
            "align_items": null,
            "align_self": null,
            "border": null,
            "bottom": null,
            "display": null,
            "flex": null,
            "flex_flow": null,
            "grid_area": null,
            "grid_auto_columns": null,
            "grid_auto_flow": null,
            "grid_auto_rows": null,
            "grid_column": null,
            "grid_gap": null,
            "grid_row": null,
            "grid_template_areas": null,
            "grid_template_columns": null,
            "grid_template_rows": null,
            "height": null,
            "justify_content": null,
            "justify_items": null,
            "left": null,
            "margin": null,
            "max_height": null,
            "max_width": null,
            "min_height": null,
            "min_width": null,
            "object_fit": null,
            "object_position": null,
            "order": null,
            "overflow": null,
            "overflow_x": null,
            "overflow_y": null,
            "padding": null,
            "right": null,
            "top": null,
            "visibility": null,
            "width": null
          }
        },
        "e9e7aafe72354340808a1946a70d33b5": {
          "model_module": "@jupyter-widgets/controls",
          "model_name": "DescriptionStyleModel",
          "model_module_version": "1.5.0",
          "state": {
            "_model_module": "@jupyter-widgets/controls",
            "_model_module_version": "1.5.0",
            "_model_name": "DescriptionStyleModel",
            "_view_count": null,
            "_view_module": "@jupyter-widgets/base",
            "_view_module_version": "1.2.0",
            "_view_name": "StyleView",
            "description_width": ""
          }
        }
      }
    }
  },
  "cells": [
    {
      "cell_type": "markdown",
      "metadata": {
        "id": "view-in-github",
        "colab_type": "text"
      },
      "source": [
        "<a href=\"https://colab.research.google.com/github/ChloeMorgana/Dissertation-Project/blob/main/PubMedBERT.ipynb\" target=\"_parent\"><img src=\"https://colab.research.google.com/assets/colab-badge.svg\" alt=\"Open In Colab\"/></a>"
      ]
    },
    {
      "cell_type": "markdown",
      "source": [
        "#Loading of DrugProt dataset\n",
        "\n",
        "Downloading and unzipping file"
      ],
      "metadata": {
        "id": "XEVZhcw6vcub"
      }
    },
    {
      "cell_type": "code",
      "execution_count": null,
      "metadata": {
        "colab": {
          "base_uri": "https://localhost:8080/"
        },
        "id": "CXtcGw7lujGS",
        "outputId": "8c12bcf5-0601-4d4b-a652-874b2824b7f2"
      },
      "outputs": [
        {
          "output_type": "stream",
          "name": "stdout",
          "text": [
            "--2022-12-07 15:52:47--  https://zenodo.org/record/5042151/files/drugprot-gs-training-development.zip\n",
            "Resolving zenodo.org (zenodo.org)... 188.185.124.72\n",
            "Connecting to zenodo.org (zenodo.org)|188.185.124.72|:443... connected.\n",
            "HTTP request sent, awaiting response... 200 OK\n",
            "Length: 3796908 (3.6M) [application/octet-stream]\n",
            "Saving to: ‘drugprot-gs-training-development.zip.4’\n",
            "\n",
            "    drugprot-gs-tra  18%[==>                 ] 694.98K   473KB/s               ^C\n",
            "Archive:  drugprot-gs-training-development.zip\n",
            "replace drugprot-gs-training-development/README.pdf? [y]es, [n]o, [A]ll, [N]one, [r]ename: "
          ]
        }
      ],
      "source": [
        "!wget https://zenodo.org/record/5042151/files/drugprot-gs-training-development.zip\n",
        "!unzip drugprot-gs-training-development.zip"
      ]
    },
    {
      "cell_type": "markdown",
      "source": [
        "Combining all three files together."
      ],
      "metadata": {
        "id": "BlEsiDFNyVK2"
      }
    },
    {
      "cell_type": "code",
      "source": [
        "def loadDrugProt(abstracts_filename, entities_filename, relations_filename):\n",
        "\n",
        "  docs = {}\n",
        "\n",
        "  # Load the title/abstracts text in as documents\n",
        "  with open(abstracts_filename, encoding='utf8') as f:\n",
        "    for lineno,line in enumerate(f):\n",
        "      split = line.strip('\\n').split('\\t')\n",
        "      assert len(split) == 3, f\"Expected 3 columns but got {len(split)} on line {lineno+1}\"\n",
        "      pubmed_id, title, abstract = split\n",
        "      pubmed_id = int(pubmed_id)\n",
        "\n",
        "      combined_text = title + '\\n' + abstract\n",
        "      docs[pubmed_id] = {'pubmed_id':pubmed_id, 'text':combined_text, 'entities':{}, 'relations':[]}\n",
        "\n",
        "  # Load the entities and match them up with the documents\n",
        "  with open(entities_filename, encoding='utf8') as f:\n",
        "    for lineno,line in enumerate(f):\n",
        "      split = line.strip('\\n').split('\\t')\n",
        "      assert len(split) == 6, f\"Expected 6 columns but got {len(split)} on line {lineno+1}\"\n",
        "      pubmed_id, entity_id, entity_type, start_coord, end_coord, entity_text = split\n",
        "\n",
        "      pubmed_id = int(pubmed_id)\n",
        "      start_coord = int(start_coord)\n",
        "      end_coord = int(end_coord)\n",
        "\n",
        "      assert pubmed_id in docs, f\"Did not find matching document for pubmed_id={pubmed_id}\"\n",
        "      doc = docs[pubmed_id]\n",
        "\n",
        "      assert doc['text'][start_coord:end_coord] == entity_text, f\"Text for entity with coords {start_coord}:{end_coord} in document (pubmed_id={pubmed_id} does not match expected. 'f{doc['text'][start_coord:end_coord]}' != '{entity_text}'\"\n",
        "\n",
        "      entity = {'type':entity_type, 'start':start_coord, 'end':end_coord, 'text':entity_text}\n",
        "      doc['entities'][entity_id] = entity\n",
        "\n",
        "  if relations_filename is not None:\n",
        "    # Load the relations and match them up with the entities in the corresponding document\n",
        "    with open(relations_filename, encoding='utf8') as f:\n",
        "      for lineno,line in enumerate(f):\n",
        "        split = line.strip('\\n').split('\\t')\n",
        "        assert len(split) == 4, f\"Expected 4 columns but got {len(split)} on line {lineno+1}\"\n",
        "\n",
        "        pubmed_id, relation_type, arg1, arg2 = split\n",
        "\n",
        "        pubmed_id = int(pubmed_id)\n",
        "        assert arg1.startswith('Arg1:'), f\"Relation argument should start with 'Arg1:'. Got: {arg1}\"\n",
        "        assert arg2.startswith('Arg2:'), f\"Relation argument should start with 'Arg2:'. Got: {arg2}\"\n",
        "\n",
        "        # Remove arg1/arg2 from text\n",
        "        arg1 = arg1.split(':')[1]\n",
        "        arg2 = arg2.split(':')[1]\n",
        "\n",
        "        assert pubmed_id in docs, f\"Did not find matching document for pubmed_id={pubmed_id}\"\n",
        "        doc = docs[pubmed_id]\n",
        "\n",
        "        assert arg1 in doc['entities'], f\"Couldn't find entity with id={arg1} in document with pubmed_id={pubmed_id}\"\n",
        "        assert arg2 in doc['entities'], f\"Couldn't find entity with id={arg2} in document with pubmed_id={pubmed_id}\"\n",
        "\n",
        "        relation = {'type':relation_type,'arg1':arg1,'arg2':arg2}\n",
        "        doc['relations'].append(relation)\n",
        "\n",
        "  # Convert the dictionary of documents (indexed by pubmed_id) into a simpler dictionary\n",
        "  docs = sorted(docs.values(), key=lambda x:x['pubmed_id'])\n",
        "\n",
        "  return docs"
      ],
      "metadata": {
        "id": "Jnq0pnCUvtPI"
      },
      "execution_count": null,
      "outputs": []
    },
    {
      "cell_type": "markdown",
      "source": [
        "Applying function to dataset"
      ],
      "metadata": {
        "id": "rmXTTkBLyk4Q"
      }
    },
    {
      "cell_type": "code",
      "source": [
        "docs = loadDrugProt('drugprot-gs-training-development/training/drugprot_training_abstracs.tsv',\n",
        "                    'drugprot-gs-training-development/training/drugprot_training_entities.tsv',\n",
        "                    'drugprot-gs-training-development/training/drugprot_training_relations.tsv')"
      ],
      "metadata": {
        "id": "yAemM9gmyG7F"
      },
      "execution_count": null,
      "outputs": []
    },
    {
      "cell_type": "markdown",
      "source": [
        "Observation of doc structure\n"
      ],
      "metadata": {
        "id": "hsBqNeznyrJC"
      }
    },
    {
      "cell_type": "code",
      "source": [
        "search = [ d for i,d in enumerate(docs) if d['pubmed_id'] == 1280065]\n",
        "assert len(search) == 1, \"Something went wrong and couldn't find the document we want\"\n",
        "\n",
        "doc = search[0]\n",
        "doc"
      ],
      "metadata": {
        "colab": {
          "base_uri": "https://localhost:8080/"
        },
        "id": "AYt1O1bLyKK8",
        "outputId": "815aaf87-3b38-4810-a2fc-aa48019567ef"
      },
      "execution_count": null,
      "outputs": [
        {
          "output_type": "execute_result",
          "data": {
            "text/plain": [
              "{'pubmed_id': 1280065,\n",
              " 'text': 'Analysis of plasmin binding and urokinase activation of plasminogen bound to the Heymann nephritis autoantigen, gp330.\\nPreviously, we demonstrated that the Heymann nephritis autoantigen, gp330, can serve as a receptor site for plasminogen. This binding was not significantly inhibited by the lysine analogue epsilon-amino caproic acid (EACA), indicating that plasminogen binding was not just through lysine binding sites as suggested for other plasminogen binding sites. We now report that once plasminogen is bound to gp330, it can be converted to its active form of plasmin by urokinase. This conversion of plasminogen to plasmin proceeds at a faster rate when plasminogen is first prebound to gp330. Although there is a proportional increase in the Vmax of the urokinase-catalyzed reaction with increasing gp330 concentrations, no change in Km was observed. Once activated, plasmin remains bound to gp330 in an active state capable of cleaving the chromogenic tripeptide, S-2251. The binding of plasmin to gp330 did not significantly change its enzymatic activity; however, gp330 did have a stabilizing effect on plasmin activity at 37 degrees C. While bound to gp330, plasmin is protected from inactivation by its natural inhibitor alpha 2-antiplasmin. The binding of plasmin to gp330 as analyzed by ELISA was shown to be time dependent, reversible, saturable, and specific for gp330. Inhibition of binding of both plasminogen and plasmin to gp330 by benzamidine was similar, although EACA inhibited the binding of plasmin to gp330 slightly more than the binding of plasminogen to gp330. These results indicate that the binding of plasminogen to gp330 serves as an effective means of increasing the rate of plasmin production on the glomerular and tubular epithelial cell surface while protecting the active plasmin from natural inhibitors.',\n",
              " 'entities': {'T1': {'type': 'CHEMICAL',\n",
              "   'start': 1455,\n",
              "   'end': 1466,\n",
              "   'text': 'benzamidine'},\n",
              "  'T2': {'type': 'CHEMICAL', 'start': 1489, 'end': 1493, 'text': 'EACA'},\n",
              "  'T3': {'type': 'CHEMICAL', 'start': 292, 'end': 298, 'text': 'lysine'},\n",
              "  'T4': {'type': 'CHEMICAL',\n",
              "   'start': 308,\n",
              "   'end': 334,\n",
              "   'text': 'epsilon-amino caproic acid'},\n",
              "  'T5': {'type': 'CHEMICAL', 'start': 336, 'end': 340, 'text': 'EACA'},\n",
              "  'T6': {'type': 'CHEMICAL', 'start': 400, 'end': 406, 'text': 'lysine'},\n",
              "  'T7': {'type': 'GENE-Y', 'start': 1165, 'end': 1170, 'text': 'gp330'},\n",
              "  'T8': {'type': 'GENE-Y', 'start': 1172, 'end': 1179, 'text': 'plasmin'},\n",
              "  'T9': {'type': 'GENE-Y', 'start': 227, 'end': 238, 'text': 'plasminogen'},\n",
              "  'T10': {'type': 'GENE-Y',\n",
              "   'start': 1236,\n",
              "   'end': 1255,\n",
              "   'text': 'alpha 2-antiplasmin'},\n",
              "  'T11': {'type': 'GENE-Y', 'start': 1272, 'end': 1279, 'text': 'plasmin'},\n",
              "  'T12': {'type': 'GENE-Y', 'start': 1283, 'end': 1288, 'text': 'gp330'},\n",
              "  'T13': {'type': 'GENE-Y', 'start': 1382, 'end': 1387, 'text': 'gp330'},\n",
              "  'T14': {'type': 'GENE-Y', 'start': 1419, 'end': 1430, 'text': 'plasminogen'},\n",
              "  'T15': {'type': 'GENE-Y', 'start': 1435, 'end': 1442, 'text': 'plasmin'},\n",
              "  'T16': {'type': 'GENE-Y', 'start': 1446, 'end': 1451, 'text': 'gp330'},\n",
              "  'T17': {'type': 'GENE-Y', 'start': 1519, 'end': 1526, 'text': 'plasmin'},\n",
              "  'T18': {'type': 'GENE-Y', 'start': 1530, 'end': 1535, 'text': 'gp330'},\n",
              "  'T19': {'type': 'GENE-Y', 'start': 1570, 'end': 1581, 'text': 'plasminogen'},\n",
              "  'T20': {'type': 'GENE-Y', 'start': 1585, 'end': 1590, 'text': 'gp330'},\n",
              "  'T21': {'type': 'GENE-Y', 'start': 1635, 'end': 1646, 'text': 'plasminogen'},\n",
              "  'T22': {'type': 'GENE-Y', 'start': 1650, 'end': 1655, 'text': 'gp330'},\n",
              "  'T23': {'type': 'GENE-Y', 'start': 1711, 'end': 1718, 'text': 'plasmin'},\n",
              "  'T24': {'type': 'GENE-Y', 'start': 1812, 'end': 1819, 'text': 'plasmin'},\n",
              "  'T25': {'type': 'GENE-Y', 'start': 359, 'end': 370, 'text': 'plasminogen'},\n",
              "  'T26': {'type': 'GENE-Y', 'start': 444, 'end': 455, 'text': 'plasminogen'},\n",
              "  'T27': {'type': 'GENE-Y', 'start': 495, 'end': 506, 'text': 'plasminogen'},\n",
              "  'T28': {'type': 'GENE-Y',\n",
              "   'start': 156,\n",
              "   'end': 185,\n",
              "   'text': 'Heymann nephritis autoantigen'},\n",
              "  'T29': {'type': 'GENE-Y', 'start': 519, 'end': 524, 'text': 'gp330'},\n",
              "  'T30': {'type': 'GENE-Y', 'start': 568, 'end': 575, 'text': 'plasmin'},\n",
              "  'T31': {'type': 'GENE-Y', 'start': 579, 'end': 588, 'text': 'urokinase'},\n",
              "  'T32': {'type': 'GENE-Y', 'start': 609, 'end': 620, 'text': 'plasminogen'},\n",
              "  'T33': {'type': 'GENE-Y', 'start': 624, 'end': 631, 'text': 'plasmin'},\n",
              "  'T34': {'type': 'GENE-Y', 'start': 663, 'end': 674, 'text': 'plasminogen'},\n",
              "  'T35': {'type': 'GENE-Y', 'start': 696, 'end': 701, 'text': 'gp330'},\n",
              "  'T36': {'type': 'GENE-Y', 'start': 764, 'end': 773, 'text': 'urokinase'},\n",
              "  'T37': {'type': 'GENE-Y', 'start': 187, 'end': 192, 'text': 'gp330'},\n",
              "  'T38': {'type': 'GENE-Y', 'start': 809, 'end': 814, 'text': 'gp330'},\n",
              "  'T39': {'type': 'GENE-Y', 'start': 877, 'end': 884, 'text': 'plasmin'},\n",
              "  'T40': {'type': 'GENE-Y', 'start': 902, 'end': 907, 'text': 'gp330'},\n",
              "  'T41': {'type': 'GENE-Y', 'start': 998, 'end': 1005, 'text': 'plasmin'},\n",
              "  'T42': {'type': 'GENE-Y', 'start': 1009, 'end': 1014, 'text': 'gp330'},\n",
              "  'T43': {'type': 'GENE-Y', 'start': 1077, 'end': 1082, 'text': 'gp330'},\n",
              "  'T44': {'type': 'GENE-Y', 'start': 1116, 'end': 1123, 'text': 'plasmin'},\n",
              "  'T45': {'type': 'GENE-Y', 'start': 112, 'end': 117, 'text': 'gp330'},\n",
              "  'T46': {'type': 'GENE-Y', 'start': 12, 'end': 19, 'text': 'plasmin'},\n",
              "  'T47': {'type': 'GENE-Y', 'start': 32, 'end': 41, 'text': 'urokinase'},\n",
              "  'T48': {'type': 'GENE-Y', 'start': 56, 'end': 67, 'text': 'plasminogen'},\n",
              "  'T49': {'type': 'GENE-Y',\n",
              "   'start': 81,\n",
              "   'end': 110,\n",
              "   'text': 'Heymann nephritis autoantigen'}},\n",
              " 'relations': [{'type': 'INHIBITOR', 'arg1': 'T1', 'arg2': 'T14'},\n",
              "  {'type': 'INHIBITOR', 'arg1': 'T1', 'arg2': 'T15'},\n",
              "  {'type': 'DIRECT-REGULATOR', 'arg1': 'T1', 'arg2': 'T16'},\n",
              "  {'type': 'INHIBITOR', 'arg1': 'T2', 'arg2': 'T17'},\n",
              "  {'type': 'DIRECT-REGULATOR', 'arg1': 'T2', 'arg2': 'T18'},\n",
              "  {'type': 'INHIBITOR', 'arg1': 'T2', 'arg2': 'T19'},\n",
              "  {'type': 'DIRECT-REGULATOR', 'arg1': 'T2', 'arg2': 'T20'}]}"
            ]
          },
          "metadata": {},
          "execution_count": 3
        }
      ]
    },
    {
      "cell_type": "markdown",
      "source": [
        "We can observe the total number of relations across all documents below:"
      ],
      "metadata": {
        "id": "SvJVGoiznqJs"
      }
    },
    {
      "cell_type": "code",
      "source": [
        "num = 0\n",
        "for doc in docs:\n",
        "  num += len(doc['relations'])\n",
        "\n",
        "print(num)"
      ],
      "metadata": {
        "colab": {
          "base_uri": "https://localhost:8080/"
        },
        "id": "YaUZTJ6Qntfq",
        "outputId": "c04ba01f-d7cf-4e71-ca20-46845671d2c7"
      },
      "execution_count": null,
      "outputs": [
        {
          "output_type": "stream",
          "name": "stdout",
          "text": [
            "17288\n"
          ]
        }
      ]
    },
    {
      "cell_type": "markdown",
      "source": [
        "# Encoding Step"
      ],
      "metadata": {
        "id": "wuvPifsbVAI2"
      }
    },
    {
      "cell_type": "markdown",
      "source": [
        "The code below imports certain packages that will be used during this relation extraction task."
      ],
      "metadata": {
        "id": "BwTEztaT7myc"
      }
    },
    {
      "cell_type": "code",
      "source": [
        "#!pip install torch\n",
        "!pip install transformers\n",
        "!pip install segtok\n",
        "\n",
        "#import transformers as ppb\n",
        "from transformers import BertModel, AutoTokenizer\n",
        "import pandas as pd\n",
        "import numpy as np\n",
        "import nltk\n",
        "import torch\n",
        "import itertools\n",
        "from segtok.segmenter import split_single"
      ],
      "metadata": {
        "colab": {
          "base_uri": "https://localhost:8080/"
        },
        "id": "zt-G3qMF6S6z",
        "outputId": "a17b5182-aa0e-425d-9b58-d9bb46dd25c2"
      },
      "execution_count": null,
      "outputs": [
        {
          "output_type": "stream",
          "name": "stdout",
          "text": [
            "Looking in indexes: https://pypi.org/simple, https://us-python.pkg.dev/colab-wheels/public/simple/\n",
            "Requirement already satisfied: transformers in /usr/local/lib/python3.8/dist-packages (4.25.1)\n",
            "Requirement already satisfied: tokenizers!=0.11.3,<0.14,>=0.11.1 in /usr/local/lib/python3.8/dist-packages (from transformers) (0.13.2)\n",
            "Requirement already satisfied: pyyaml>=5.1 in /usr/local/lib/python3.8/dist-packages (from transformers) (6.0)\n",
            "Requirement already satisfied: filelock in /usr/local/lib/python3.8/dist-packages (from transformers) (3.8.0)\n",
            "Requirement already satisfied: numpy>=1.17 in /usr/local/lib/python3.8/dist-packages (from transformers) (1.21.6)\n",
            "Requirement already satisfied: tqdm>=4.27 in /usr/local/lib/python3.8/dist-packages (from transformers) (4.64.1)\n",
            "Requirement already satisfied: huggingface-hub<1.0,>=0.10.0 in /usr/local/lib/python3.8/dist-packages (from transformers) (0.11.1)\n",
            "Requirement already satisfied: packaging>=20.0 in /usr/local/lib/python3.8/dist-packages (from transformers) (21.3)\n",
            "Requirement already satisfied: requests in /usr/local/lib/python3.8/dist-packages (from transformers) (2.23.0)\n",
            "Requirement already satisfied: regex!=2019.12.17 in /usr/local/lib/python3.8/dist-packages (from transformers) (2022.6.2)\n",
            "Requirement already satisfied: typing-extensions>=3.7.4.3 in /usr/local/lib/python3.8/dist-packages (from huggingface-hub<1.0,>=0.10.0->transformers) (4.1.1)\n",
            "Requirement already satisfied: pyparsing!=3.0.5,>=2.0.2 in /usr/local/lib/python3.8/dist-packages (from packaging>=20.0->transformers) (3.0.9)\n",
            "Requirement already satisfied: certifi>=2017.4.17 in /usr/local/lib/python3.8/dist-packages (from requests->transformers) (2022.9.24)\n",
            "Requirement already satisfied: chardet<4,>=3.0.2 in /usr/local/lib/python3.8/dist-packages (from requests->transformers) (3.0.4)\n",
            "Requirement already satisfied: idna<3,>=2.5 in /usr/local/lib/python3.8/dist-packages (from requests->transformers) (2.10)\n",
            "Requirement already satisfied: urllib3!=1.25.0,!=1.25.1,<1.26,>=1.21.1 in /usr/local/lib/python3.8/dist-packages (from requests->transformers) (1.24.3)\n",
            "Looking in indexes: https://pypi.org/simple, https://us-python.pkg.dev/colab-wheels/public/simple/\n",
            "Requirement already satisfied: segtok in /usr/local/lib/python3.8/dist-packages (1.5.11)\n",
            "Requirement already satisfied: regex in /usr/local/lib/python3.8/dist-packages (from segtok) (2022.6.2)\n"
          ]
        }
      ]
    },
    {
      "cell_type": "markdown",
      "source": [
        "This is a function that checks if a particular entity tag is part of a relation or not. This is used to form labels for the data so that the classifier can learn which sentences contain relations and which do not."
      ],
      "metadata": {
        "id": "Dzu6SwhS7GZd"
      }
    },
    {
      "cell_type": "code",
      "source": [
        "def isRelation(doc, key):\n",
        "\n",
        "  relations = doc['relations']\n",
        "  for r in relations:\n",
        "    #Checks if the entity is involved in any part of a specified relation\n",
        "    if (key == r['arg1']) or (key == r['arg2']):\n",
        "      #Returns the name of the relation and a boolean value\n",
        "      return True, r['type']\n",
        "  return False, 0\n",
        "\n",
        "def isEntityRelation(arg1,arg2,doc):\n",
        "  for r in doc['relations']:\n",
        "    if (arg1 == r['arg1']) and (arg2 == r['arg2']):\n",
        "      return True\n",
        "  return False\n"
      ],
      "metadata": {
        "id": "ruR21j2mXzO8"
      },
      "execution_count": null,
      "outputs": []
    },
    {
      "cell_type": "markdown",
      "source": [
        "This function takes in the text and finds all of the labels for all pairs of entity relations. This will be used later to input into the classifier."
      ],
      "metadata": {
        "id": "Poo81Bj15g6C"
      }
    },
    {
      "cell_type": "code",
      "source": [
        "def find_sent_idxs(text):\n",
        "  idxs = [0]\n",
        "  idx = 0\n",
        "  split_text = split_single(text)\n",
        "  for t in split_text:\n",
        "    idx += len(t)+1\n",
        "    idxs.append(idx)\n",
        "  return idxs\n",
        "\n",
        "def find_entity_labels(idxs, keys, doc):\n",
        "  labels = []\n",
        "  entity_dict = {}\n",
        "\n",
        "  for i in idxs:\n",
        "    entity_dict[i]=[]\n",
        "\n",
        "  for key in keys:\n",
        "    for i in range(len(idxs)-1):\n",
        "      if doc['entities'][key]['start'] >= idxs[i] and doc['entities'][key]['start'] <= idxs[i+1]:\n",
        "        entity_dict[idxs[i]].append(key)\n",
        "\n",
        "  for v in entity_dict.values():\n",
        "    chems = []\n",
        "    genes = []\n",
        "    for name in v:\n",
        "      if doc['entities'][name]['type'] == 'CHEMICAL':\n",
        "        chems.append(name)\n",
        "      else:\n",
        "        genes.append(name)\n",
        "\n",
        "    prods = itertools.product(chems,genes)\n",
        "    for prod in prods:\n",
        "      if isEntityRelation(prod[0],prod[1],doc):\n",
        "        labels.append(1)\n",
        "      else:\n",
        "        labels.append(0)\n",
        "\n",
        "  print(labels)\n",
        "\n",
        "  return labels\n",
        "\n",
        "\n",
        "\n",
        "entity_idx = find_sent_idxs(docs[0]['text'])\n",
        "print(entity_idx)\n",
        "#print(find_entity_labels(entity_idx))\n"
      ],
      "metadata": {
        "colab": {
          "base_uri": "https://localhost:8080/"
        },
        "id": "rjcYZDYn5y2G",
        "outputId": "92b40457-ed3f-4e50-b3ea-13455142647a"
      },
      "execution_count": null,
      "outputs": [
        {
          "output_type": "stream",
          "name": "stdout",
          "text": [
            "[0, 119, 240, 471, 590, 703, 861, 983, 1150, 1257, 1389, 1592, 1845]\n"
          ]
        }
      ]
    },
    {
      "cell_type": "markdown",
      "source": [
        "This function adds in start and end entity tags to biomedical text. This ensures that every chemical mentioned is encased in [E1][/E1] tags, and every gene is encased in [E2][/E2] tags, so that we can extract the embeddings for these later."
      ],
      "metadata": {
        "id": "DjiNDFJvgckl"
      }
    },
    {
      "cell_type": "code",
      "source": [
        "def addEntityTags(docs):\n",
        "\n",
        "  for doc in docs:\n",
        "    #Contains the labels for each sentence (1 for positive result, 0 for no relation)\n",
        "    doc['labels'] = []\n",
        "    #Contains more explicit names for the relations.\n",
        "    doc['classes'] = []\n",
        "\n",
        "    str = ''\n",
        "    index = 0\n",
        "\n",
        "    #Contains every mention of chemicals and genes for a particular document\n",
        "    keys = doc['entities'].keys()\n",
        "\n",
        "    #Makes sure the indices of these mentions are in order\n",
        "    key_list = sorted(keys, key= lambda x: (doc['entities'][x]['start']))\n",
        "\n",
        "    #Finds the indexes of the start and end of each sentence in the text\n",
        "    #idxs = find_sent_idxs(doc['text'])\n",
        "\n",
        "\n",
        "    #l = find_entity_labels(idxs, key_list, doc)\n",
        "    #doc['entity_labels'] = l\n",
        "\n",
        "    for k in key_list:\n",
        "      #Adds a 1 to the list of labels if it is a positive result, 0 if negative\n",
        "      b,r = isRelation(doc,k)\n",
        "      if b:\n",
        "        doc['labels'].append(1)\n",
        "      else:\n",
        "        doc['labels'].append(0)\n",
        "      doc['classes'].append(r)\n",
        "      v = doc['entities'][k]\n",
        "\n",
        "      #Start and end indexes of entity\n",
        "      start = v['start']\n",
        "      end = v['end']\n",
        "\n",
        "      if v['type'] == 'CHEMICAL':\n",
        "        str += doc['text'][index:start] + f'[E1] ' + doc['text'][start:end] + f' [/E1]'\n",
        "      else:\n",
        "        str += doc['text'][index:start] + f'[E2] ' + doc['text'][start:end] + f' [/E2]'\n",
        "      index = end\n",
        "    \n",
        "    #Adds the tagged text to the dictionary of a particular document\n",
        "    doc['tagged_text'] = str \n",
        "\n",
        "addEntityTags(docs[:5])\n",
        "print(docs[0]['tagged_text'])\n",
        "#print(docs[0]['entity_labels'])\n",
        "\n",
        "      "
      ],
      "metadata": {
        "id": "a7MjEIFqgiiC",
        "colab": {
          "base_uri": "https://localhost:8080/"
        },
        "outputId": "959ab022-b053-487e-bfcd-1b31fcc797ce"
      },
      "execution_count": null,
      "outputs": [
        {
          "output_type": "stream",
          "name": "stdout",
          "text": [
            "Analysis of [E2] plasmin [/E2] binding and [E2] urokinase [/E2] activation of [E2] plasminogen [/E2] bound to the [E2] Heymann nephritis autoantigen [/E2], [E2] gp330 [/E2].\n",
            "Previously, we demonstrated that the [E2] Heymann nephritis autoantigen [/E2], [E2] gp330 [/E2], can serve as a receptor site for [E2] plasminogen [/E2]. This binding was not significantly inhibited by the [E1] lysine [/E1] analogue [E1] epsilon-amino caproic acid [/E1] ([E1] EACA [/E1]), indicating that [E2] plasminogen [/E2] binding was not just through [E1] lysine [/E1] binding sites as suggested for other [E2] plasminogen [/E2] binding sites. We now report that once [E2] plasminogen [/E2] is bound to [E2] gp330 [/E2], it can be converted to its active form of [E2] plasmin [/E2] by [E2] urokinase [/E2]. This conversion of [E2] plasminogen [/E2] to [E2] plasmin [/E2] proceeds at a faster rate when [E2] plasminogen [/E2] is first prebound to [E2] gp330 [/E2]. Although there is a proportional increase in the Vmax of the [E2] urokinase [/E2]-catalyzed reaction with increasing [E2] gp330 [/E2] concentrations, no change in Km was observed. Once activated, [E2] plasmin [/E2] remains bound to [E2] gp330 [/E2] in an active state capable of cleaving the chromogenic tripeptide, S-2251. The binding of [E2] plasmin [/E2] to [E2] gp330 [/E2] did not significantly change its enzymatic activity; however, [E2] gp330 [/E2] did have a stabilizing effect on [E2] plasmin [/E2] activity at 37 degrees C. While bound to [E2] gp330 [/E2], [E2] plasmin [/E2] is protected from inactivation by its natural inhibitor [E2] alpha 2-antiplasmin [/E2]. The binding of [E2] plasmin [/E2] to [E2] gp330 [/E2] as analyzed by ELISA was shown to be time dependent, reversible, saturable, and specific for [E2] gp330 [/E2]. Inhibition of binding of both [E2] plasminogen [/E2] and [E2] plasmin [/E2] to [E2] gp330 [/E2] by [E1] benzamidine [/E1] was similar, although [E1] EACA [/E1] inhibited the binding of [E2] plasmin [/E2] to [E2] gp330 [/E2] slightly more than the binding of [E2] plasminogen [/E2] to [E2] gp330 [/E2]. These results indicate that the binding of [E2] plasminogen [/E2] to [E2] gp330 [/E2] serves as an effective means of increasing the rate of [E2] plasmin [/E2] production on the glomerular and tubular epithelial cell surface while protecting the active [E2] plasmin [/E2]\n"
          ]
        }
      ]
    },
    {
      "cell_type": "markdown",
      "source": [
        "Next, we can reduce the text to only sentences potentially containing relations between chemicals and genes by splitting the sentences and seeing if there are any entity tags present within the sentence. The findLabels function goes through the list of labels for a particular document and sees if there is a relation present within that sentence.\n",
        "\n",
        "(Note for later: I didn't take into account relations across sentences in this implementation, will have to change something to ensure that both entities for one relation are in the same sentence)"
      ],
      "metadata": {
        "id": "4ikJplM-cXqU"
      }
    },
    {
      "cell_type": "code",
      "source": [
        "from collections import Counter\n",
        "\n",
        "def relevantText():\n",
        "\n",
        "  target_text = []\n",
        "  labels = []\n",
        "\n",
        "  for doc in docs:\n",
        "    txt = doc['tagged_text']\n",
        "    lbls = doc['labels']\n",
        "\n",
        "    split_text = []\n",
        "    split_text += split_single(txt)\n",
        "    offset = 0\n",
        "\n",
        "    for s in split_text:\n",
        "      if '[/E' in s:\n",
        "        o, l, new_lbls = findLabels(s,lbls,offset)\n",
        "        target_text.append(s)\n",
        "        lbls = new_lbls\n",
        "        offset += o\n",
        "        labels.append(l)\n",
        "\n",
        "  return target_text, labels\n",
        "\n",
        "def findLabels(text, labels, offset=0):\n",
        "    words = text.split(\" \")\n",
        "    counter = Counter(words)\n",
        "    idx = counter['[E2]']+counter['[E1]']\n",
        "    isRel = False\n",
        "    for i in range(idx):\n",
        "      if labels[i]==1:\n",
        "        isRel = True\n",
        "    offset+=idx\n",
        "    if isRel:\n",
        "      label = 1\n",
        "    else:\n",
        "      label = 0\n",
        "    l = labels[idx:]\n",
        "    return offset, label, l\n",
        "\n",
        "target_text, labels= relevantText()\n",
        "\n",
        "#Both the target text and the labels must be the same length\n",
        "print(len(target_text))\n",
        "print(len(labels))\n"
      ],
      "metadata": {
        "id": "x0ps_RaP3wMU",
        "colab": {
          "base_uri": "https://localhost:8080/",
          "height": 356
        },
        "outputId": "a1f2d87b-2864-4c6e-f12d-caa6ffe9f493"
      },
      "execution_count": null,
      "outputs": [
        {
          "output_type": "error",
          "ename": "KeyError",
          "evalue": "ignored",
          "traceback": [
            "\u001b[0;31m---------------------------------------------------------------------------\u001b[0m",
            "\u001b[0;31mKeyError\u001b[0m                                  Traceback (most recent call last)",
            "\u001b[0;32m<ipython-input-35-ee44b5366b2d>\u001b[0m in \u001b[0;36m<module>\u001b[0;34m\u001b[0m\n\u001b[1;32m     40\u001b[0m     \u001b[0;32mreturn\u001b[0m \u001b[0moffset\u001b[0m\u001b[0;34m,\u001b[0m \u001b[0mlabel\u001b[0m\u001b[0;34m,\u001b[0m \u001b[0ml\u001b[0m\u001b[0;34m\u001b[0m\u001b[0;34m\u001b[0m\u001b[0m\n\u001b[1;32m     41\u001b[0m \u001b[0;34m\u001b[0m\u001b[0m\n\u001b[0;32m---> 42\u001b[0;31m \u001b[0mtarget_text\u001b[0m\u001b[0;34m,\u001b[0m \u001b[0mlabels\u001b[0m\u001b[0;34m=\u001b[0m \u001b[0mrelevantText\u001b[0m\u001b[0;34m(\u001b[0m\u001b[0;34m)\u001b[0m\u001b[0;34m\u001b[0m\u001b[0;34m\u001b[0m\u001b[0m\n\u001b[0m\u001b[1;32m     43\u001b[0m \u001b[0;34m\u001b[0m\u001b[0m\n\u001b[1;32m     44\u001b[0m \u001b[0;31m#Both the target text and the labels must be the same length\u001b[0m\u001b[0;34m\u001b[0m\u001b[0;34m\u001b[0m\u001b[0;34m\u001b[0m\u001b[0m\n",
            "\u001b[0;32m<ipython-input-35-ee44b5366b2d>\u001b[0m in \u001b[0;36mrelevantText\u001b[0;34m()\u001b[0m\n\u001b[1;32m      7\u001b[0m \u001b[0;34m\u001b[0m\u001b[0m\n\u001b[1;32m      8\u001b[0m   \u001b[0;32mfor\u001b[0m \u001b[0mdoc\u001b[0m \u001b[0;32min\u001b[0m \u001b[0mdocs\u001b[0m\u001b[0;34m:\u001b[0m\u001b[0;34m\u001b[0m\u001b[0;34m\u001b[0m\u001b[0m\n\u001b[0;32m----> 9\u001b[0;31m     \u001b[0mtxt\u001b[0m \u001b[0;34m=\u001b[0m \u001b[0mdoc\u001b[0m\u001b[0;34m[\u001b[0m\u001b[0;34m'tagged_text'\u001b[0m\u001b[0;34m]\u001b[0m\u001b[0;34m\u001b[0m\u001b[0;34m\u001b[0m\u001b[0m\n\u001b[0m\u001b[1;32m     10\u001b[0m     \u001b[0mlbls\u001b[0m \u001b[0;34m=\u001b[0m \u001b[0mdoc\u001b[0m\u001b[0;34m[\u001b[0m\u001b[0;34m'labels'\u001b[0m\u001b[0;34m]\u001b[0m\u001b[0;34m\u001b[0m\u001b[0;34m\u001b[0m\u001b[0m\n\u001b[1;32m     11\u001b[0m \u001b[0;34m\u001b[0m\u001b[0m\n",
            "\u001b[0;31mKeyError\u001b[0m: 'tagged_text'"
          ]
        }
      ]
    },
    {
      "cell_type": "markdown",
      "source": [
        "There are around 17288 total relations, therefore there some sentences that contain entities but don't actually contain a relation. The code below shows a snippet of the target text which should only contain sentences that contain tagged entities. It also contains the first five labels which are all 0 in this case. These seems sensible as there isn't a chemical in the first sentence, and therefore there is no relationship specified between a chemical and gene."
      ],
      "metadata": {
        "id": "jI2VTA9Po-a9"
      }
    },
    {
      "cell_type": "code",
      "source": [
        "print(target_text[:5])\n",
        "print(labels[:5])"
      ],
      "metadata": {
        "colab": {
          "base_uri": "https://localhost:8080/",
          "height": 183
        },
        "id": "zb4HIf7ebZdo",
        "outputId": "b6328067-11c6-4f5e-cd52-81c714dcefc8"
      },
      "execution_count": null,
      "outputs": [
        {
          "output_type": "error",
          "ename": "NameError",
          "evalue": "ignored",
          "traceback": [
            "\u001b[0;31m---------------------------------------------------------------------------\u001b[0m",
            "\u001b[0;31mNameError\u001b[0m                                 Traceback (most recent call last)",
            "\u001b[0;32m<ipython-input-65-584cac5b40c6>\u001b[0m in \u001b[0;36m<module>\u001b[0;34m\u001b[0m\n\u001b[0;32m----> 1\u001b[0;31m \u001b[0mprint\u001b[0m\u001b[0;34m(\u001b[0m\u001b[0mtarget_text\u001b[0m\u001b[0;34m[\u001b[0m\u001b[0;34m:\u001b[0m\u001b[0;36m5\u001b[0m\u001b[0;34m]\u001b[0m\u001b[0;34m)\u001b[0m\u001b[0;34m\u001b[0m\u001b[0;34m\u001b[0m\u001b[0m\n\u001b[0m\u001b[1;32m      2\u001b[0m \u001b[0mprint\u001b[0m\u001b[0;34m(\u001b[0m\u001b[0mlabels\u001b[0m\u001b[0;34m[\u001b[0m\u001b[0;34m:\u001b[0m\u001b[0;36m5\u001b[0m\u001b[0;34m]\u001b[0m\u001b[0;34m)\u001b[0m\u001b[0;34m\u001b[0m\u001b[0;34m\u001b[0m\u001b[0m\n",
            "\u001b[0;31mNameError\u001b[0m: name 'target_text' is not defined"
          ]
        }
      ]
    },
    {
      "cell_type": "markdown",
      "source": [
        "# Embedding Step\n",
        "\n",
        "Next, a BERT model is defined that has been pre-trained using PubMed texts. This allows BERT to recognise biomedical terms within the text and understand their context better.\n",
        "\n",
        "The tokeniser is also defined using pubmed texts, and special tokens are added in so that BERT can recognise them and not break them down when tokenising."
      ],
      "metadata": {
        "id": "BXYgjLzmG2DT"
      }
    },
    {
      "cell_type": "code",
      "source": [
        "model = BertModel.from_pretrained(\"microsoft/BiomedNLP-PubMedBERT-base-uncased-abstract-fulltext\",\n",
        "                                  output_hidden_states = True,\n",
        "                                  )\n",
        "\n",
        "tokenizer = AutoTokenizer.from_pretrained(\"microsoft/BiomedNLP-PubMedBERT-base-uncased-abstract-fulltext\") \n",
        "\n",
        "tokenizer.add_tokens([\"[E1]\", \"[/E1]\", \"[E2]\", \"[/E2]\"])\n",
        "\n",
        "tokenizer.vocab[\"[E1]\"]"
      ],
      "metadata": {
        "colab": {
          "base_uri": "https://localhost:8080/",
          "height": 234,
          "referenced_widgets": [
            "295a067c6e4045c5876b4578f491d6d5",
            "9c1cb1a32587412284890c02648de7c4",
            "708577912ef8429dab70993b22a68d87",
            "87a2eada02f640ce90a23687bcfc6959",
            "855a3a06de7243279d4c35a105b78be7",
            "97b73bee036f4c669ff06942894c8073",
            "a60e46d842c542c98970110411bea81f",
            "6bac3108b10949e394b180d35738e341",
            "ecc05fc5149f4a5d96ed934c8482eca2",
            "e8949e1c2298402987e1a8572fe8a121",
            "0c2ef24a53e54ea3935df4c6528d6104",
            "0424e73cef10414fb767d2c560ad220e",
            "c9ad7f3c1b5e403abe486f267317607f",
            "45cfcf0ddabd44a0bd589d37ca2a7751",
            "ed0161c4527d4ffe9ef2af7414b32cde",
            "1ac007c705c84c0a9d03a78f7155f7d2",
            "7a65ad2af5f444679c46942d9c202ec9",
            "5ccc01a0b5884b40923726fdd5732d11",
            "2959e77c531844c09afca8467c6a6c53",
            "d21f3053c02e49da8fdee28f804ca76b",
            "bac35cd0dc7b4fc78d542ca83543ba7d",
            "41b34f23e405404c9bedc779147f578f",
            "918cb6139f3b4e6c90c8f26a524efe39",
            "f57018c864a9430b9f02b6e39404f88d",
            "daf5a09685de409db77b514794b51902",
            "c7a011132e5745afad31b458ce58c8fd",
            "92c95306ddf6431992e77de4952e3a3e",
            "8700c0fa6fb349078e7c418e8f3acf9a",
            "7e6c3e5f34134f48b32cdf1fef4609e7",
            "0d1f9df14167445186157b49596d8a89",
            "cff50665751a4ecba36543cdd71895f9",
            "fdabb1466831429a8812298527d5002d",
            "ba5b448052a74fc1a40ef3d91c98de29",
            "3356e804d2364378933ee1b24d5f2e4a",
            "b13b6bcd9a324afea82c962688ddf43d",
            "01f657303530426ca8866c219f739dce",
            "9726bee90e07414d84db5e09b85a00ce",
            "606314164a544cba8c6348566b53ebdc",
            "7be7728428c1489eaa1424508b2bb16d",
            "3a4366586e79484697b7d7b3f6a2a407",
            "24478df685264bd2a6ec4cf321193f8c",
            "703e9f9b27d34cf8a8297edfb415ec00",
            "28ea91430be74bd9a0134ac3c2b97375",
            "e9e7aafe72354340808a1946a70d33b5"
          ]
        },
        "id": "FtHyA7DTG40c",
        "outputId": "228ee4a8-5618-46b2-aadb-ee73f5535227"
      },
      "execution_count": null,
      "outputs": [
        {
          "output_type": "display_data",
          "data": {
            "text/plain": [
              "Downloading:   0%|          | 0.00/385 [00:00<?, ?B/s]"
            ],
            "application/vnd.jupyter.widget-view+json": {
              "version_major": 2,
              "version_minor": 0,
              "model_id": "295a067c6e4045c5876b4578f491d6d5"
            }
          },
          "metadata": {}
        },
        {
          "output_type": "display_data",
          "data": {
            "text/plain": [
              "Downloading:   0%|          | 0.00/440M [00:00<?, ?B/s]"
            ],
            "application/vnd.jupyter.widget-view+json": {
              "version_major": 2,
              "version_minor": 0,
              "model_id": "0424e73cef10414fb767d2c560ad220e"
            }
          },
          "metadata": {}
        },
        {
          "output_type": "stream",
          "name": "stderr",
          "text": [
            "Some weights of the model checkpoint at microsoft/BiomedNLP-PubMedBERT-base-uncased-abstract-fulltext were not used when initializing BertModel: ['cls.predictions.transform.LayerNorm.bias', 'cls.predictions.decoder.weight', 'cls.predictions.transform.LayerNorm.weight', 'cls.predictions.bias', 'cls.seq_relationship.bias', 'cls.predictions.decoder.bias', 'cls.seq_relationship.weight', 'cls.predictions.transform.dense.bias', 'cls.predictions.transform.dense.weight']\n",
            "- This IS expected if you are initializing BertModel from the checkpoint of a model trained on another task or with another architecture (e.g. initializing a BertForSequenceClassification model from a BertForPreTraining model).\n",
            "- This IS NOT expected if you are initializing BertModel from the checkpoint of a model that you expect to be exactly identical (initializing a BertForSequenceClassification model from a BertForSequenceClassification model).\n"
          ]
        },
        {
          "output_type": "display_data",
          "data": {
            "text/plain": [
              "Downloading:   0%|          | 0.00/28.0 [00:00<?, ?B/s]"
            ],
            "application/vnd.jupyter.widget-view+json": {
              "version_major": 2,
              "version_minor": 0,
              "model_id": "918cb6139f3b4e6c90c8f26a524efe39"
            }
          },
          "metadata": {}
        },
        {
          "output_type": "display_data",
          "data": {
            "text/plain": [
              "Downloading:   0%|          | 0.00/226k [00:00<?, ?B/s]"
            ],
            "application/vnd.jupyter.widget-view+json": {
              "version_major": 2,
              "version_minor": 0,
              "model_id": "3356e804d2364378933ee1b24d5f2e4a"
            }
          },
          "metadata": {}
        },
        {
          "output_type": "execute_result",
          "data": {
            "text/plain": [
              "30522"
            ]
          },
          "metadata": {},
          "execution_count": 13
        }
      ]
    },
    {
      "cell_type": "markdown",
      "source": [
        "This function adds [CLS] and [SEP] tokens to the beginning and end of sentences so that BERT knows when a new sentence is beginning. It then tokenises these sentences and converts all of the inputs into tensors."
      ],
      "metadata": {
        "id": "eFzXfZX-X3D8"
      }
    },
    {
      "cell_type": "code",
      "source": [
        "def bert_text_prep(text, tokenizer):\n",
        "\n",
        "  #CLS lets BERT know when start of sentence begins, SEP indicates start of second sentence.\n",
        "  marked_text = \"[CLS]\" + text + \"[SEP]\"\n",
        "\n",
        "  #Tokenizes text\n",
        "  tokenized_text = tokenizer.tokenize(marked_text)\n",
        "\n",
        "  #Converts to ids\n",
        "  indexed_tokens = tokenizer.convert_tokens_to_ids(tokenized_text)\n",
        "\n",
        "  segments_ids = [1]*len(indexed_tokens)\n",
        "\n",
        "  # Converts inputs to tensors\n",
        "  tokens_tensor = torch.tensor([indexed_tokens])\n",
        "  segments_tensors = torch.tensor([segments_ids])\n",
        "\n",
        "  return tokenized_text, tokens_tensor, segments_tensors"
      ],
      "metadata": {
        "id": "8LWbqPbBL6TD"
      },
      "execution_count": null,
      "outputs": []
    },
    {
      "cell_type": "markdown",
      "source": [
        "These tensors are then used to find the embeddings of all of the tokens."
      ],
      "metadata": {
        "id": "PMth1UIhX6a5"
      }
    },
    {
      "cell_type": "code",
      "source": [
        "def get_bert_embeddings(tokens_tensor, segments_tensors, model):\n",
        "  with torch.no_grad():\n",
        "    outputs = model(tokens_tensor, segments_tensors)\n",
        "    hidden_states = outputs[2][1:]\n",
        "\n",
        "  token_embeddings = hidden_states[-1]\n",
        "  #Collapsing tensor into 1 dimension\n",
        "  token_embeddings = torch.squeeze(token_embeddings, dim=0)\n",
        "  #converting tensors to lists\n",
        "  list_token_embeddings = [token_embed.tolist() for token_embed in token_embeddings]\n",
        "\n",
        "  return list_token_embeddings"
      ],
      "metadata": {
        "id": "-OnSsiEiOQrM"
      },
      "execution_count": null,
      "outputs": []
    },
    {
      "cell_type": "markdown",
      "source": [
        "In order to find the relevant embeddings (entity start tag embeddings), findTags looks through the tokenised sentence and adds the index of that particular tag into a list of chemical indices or gene indices.\n",
        "\n",
        "These are then used after the sentence has been converted into embeddings to find the embedding at these specific indexes. The embeddings are accompanied by the cartesian product of all of the chemical and gene entities found, so that the embeddings for the specified indexes are concatenated."
      ],
      "metadata": {
        "id": "0li9zzHZh5Qn"
      }
    },
    {
      "cell_type": "code",
      "source": [
        "def findTags(tokens):\n",
        "  chems = []\n",
        "  genes = []\n",
        "\n",
        "  for i in range(len(tokens)):\n",
        "    #Adds the indexes to the relevant lists\n",
        "    if tokens[i] == '[e1]':\n",
        "      chems.append(i)\n",
        "    elif tokens[i] == '[e2]':\n",
        "      genes.append(i)\n",
        "  \n",
        "  #Returns empty lists if either chemicals or genes aren't present\n",
        "  if (chems == []) or (genes == []):\n",
        "    return [], []\n",
        "  else:\n",
        "    return chems, genes\n",
        "\n",
        "def findEmbeddings(prods, embeddings):\n",
        "  #Concatenates the embeddings\n",
        "  entity_embeddings = []\n",
        "  for elt in prods:\n",
        "    if elt != ():\n",
        "      chem = embeddings[elt[0]]\n",
        "      gene = embeddings[elt[1]]\n",
        "      entity_embeddings.append(chem+gene)\n",
        "  return entity_embeddings\n"
      ],
      "metadata": {
        "id": "m1oPiD79h_F1"
      },
      "execution_count": null,
      "outputs": []
    },
    {
      "cell_type": "markdown",
      "source": [
        "Getting CLS and entity embeddings for each sentence\n",
        "\n"
      ],
      "metadata": {
        "id": "SDwF0f2a3rHE"
      }
    },
    {
      "cell_type": "code",
      "source": [
        "t = target_text[:49]\n",
        "l = labels[:49]\n",
        "cls_embeddings = []\n",
        "entity_embeddings = []\n",
        "\n",
        "for text in t:\n",
        "\n",
        "    #Finds tokenized text and tensors for a particular sentence in a document\n",
        "    tokenized_text, tokens_tensor, segments_tensors = bert_text_prep(text, tokenizer)\n",
        "\n",
        "    #Finds the embeddings\n",
        "    list_token_embeddings = get_bert_embeddings(tokens_tensor, segments_tensors, model)\n",
        "\n",
        "    #Adds the [CLS] token embedding to the list\n",
        "    cls_embeddings.append(list_token_embeddings[0])\n",
        "\n",
        "    #Finds the indexes for chemicals and genes in the sentence\n",
        "    chems, genes = findTags(tokenized_text)\n",
        "\n",
        "    #Finds the cartesian product of all of these chemicals and genes\n",
        "    prods = itertools.product(chems,genes)\n",
        "\n",
        "    #Adds the concatenated embeddings of all chemicals and genes to the list\n",
        "    entity_embeddings += findEmbeddings(prods, list_token_embeddings)\n",
        "\n",
        "print(len(entity_embeddings))\n",
        "print(len(cls_embeddings))"
      ],
      "metadata": {
        "id": "tXoMT_blWrhG",
        "colab": {
          "base_uri": "https://localhost:8080/",
          "height": 235
        },
        "outputId": "715c60d7-1b34-4a86-ce68-beb8bd173558"
      },
      "execution_count": null,
      "outputs": [
        {
          "output_type": "error",
          "ename": "NameError",
          "evalue": "ignored",
          "traceback": [
            "\u001b[0;31m---------------------------------------------------------------------------\u001b[0m",
            "\u001b[0;31mNameError\u001b[0m                                 Traceback (most recent call last)",
            "\u001b[0;32m<ipython-input-32-e6385261ff14>\u001b[0m in \u001b[0;36m<module>\u001b[0;34m\u001b[0m\n\u001b[0;32m----> 1\u001b[0;31m \u001b[0mt\u001b[0m \u001b[0;34m=\u001b[0m \u001b[0mtarget_text\u001b[0m\u001b[0;34m[\u001b[0m\u001b[0;34m:\u001b[0m\u001b[0;36m49\u001b[0m\u001b[0;34m]\u001b[0m\u001b[0;34m\u001b[0m\u001b[0;34m\u001b[0m\u001b[0m\n\u001b[0m\u001b[1;32m      2\u001b[0m \u001b[0ml\u001b[0m \u001b[0;34m=\u001b[0m \u001b[0mlabels\u001b[0m\u001b[0;34m[\u001b[0m\u001b[0;34m:\u001b[0m\u001b[0;36m49\u001b[0m\u001b[0;34m]\u001b[0m\u001b[0;34m\u001b[0m\u001b[0;34m\u001b[0m\u001b[0m\n\u001b[1;32m      3\u001b[0m \u001b[0mcls_embeddings\u001b[0m \u001b[0;34m=\u001b[0m \u001b[0;34m[\u001b[0m\u001b[0;34m]\u001b[0m\u001b[0;34m\u001b[0m\u001b[0;34m\u001b[0m\u001b[0m\n\u001b[1;32m      4\u001b[0m \u001b[0mentity_embeddings\u001b[0m \u001b[0;34m=\u001b[0m \u001b[0;34m[\u001b[0m\u001b[0;34m]\u001b[0m\u001b[0;34m\u001b[0m\u001b[0;34m\u001b[0m\u001b[0m\n\u001b[1;32m      5\u001b[0m \u001b[0;34m\u001b[0m\u001b[0m\n",
            "\u001b[0;31mNameError\u001b[0m: name 'target_text' is not defined"
          ]
        }
      ]
    },
    {
      "cell_type": "markdown",
      "source": [
        "## Classification Step"
      ],
      "metadata": {
        "id": "E4CWwTfCcIqQ"
      }
    },
    {
      "cell_type": "markdown",
      "source": [
        "Relevant imports:\n",
        "\n"
      ],
      "metadata": {
        "id": "ijHn5tYH2ecP"
      }
    },
    {
      "cell_type": "code",
      "source": [
        "from sklearn.linear_model import LogisticRegression\n",
        "from sklearn.model_selection import cross_val_score\n",
        "from sklearn.model_selection import train_test_split\n",
        "from sklearn.metrics import plot_confusion_matrix"
      ],
      "metadata": {
        "id": "CwZpVx6Y9Vs-"
      },
      "execution_count": null,
      "outputs": []
    },
    {
      "cell_type": "markdown",
      "source": [
        "Splitting the embeddings into train/test sets"
      ],
      "metadata": {
        "id": "TrzGuFGnECwz"
      }
    },
    {
      "cell_type": "code",
      "source": [
        "#Splits the sentences into training and test sets\n",
        "cls_train_features, cls_test_features, cls_train_labels, cls_test_labels = train_test_split(cls_embeddings, l)"
      ],
      "metadata": {
        "id": "fZqHekZbEHon"
      },
      "execution_count": null,
      "outputs": []
    },
    {
      "cell_type": "markdown",
      "source": [
        "Classifying these using logistic regression"
      ],
      "metadata": {
        "id": "mbGMU_aTMd0e"
      }
    },
    {
      "cell_type": "code",
      "source": [
        "#Defines a logistic regression classifier\n",
        "lr_clf = LogisticRegression()\n",
        "\n",
        "#Fits the model to the training data\n",
        "lr_clf.fit(cls_train_features, cls_train_labels)\n",
        "\n",
        "#Tests the model using the test data\n",
        "lr_clf.score(cls_test_features, cls_test_labels)"
      ],
      "metadata": {
        "id": "2Puvz2iJMkS-",
        "colab": {
          "base_uri": "https://localhost:8080/"
        },
        "outputId": "7b552148-263b-4e9c-e9f4-d82f0b245cd7"
      },
      "execution_count": null,
      "outputs": [
        {
          "output_type": "execute_result",
          "data": {
            "text/plain": [
              "0.6923076923076923"
            ]
          },
          "metadata": {},
          "execution_count": 20
        }
      ]
    },
    {
      "cell_type": "markdown",
      "source": [
        "Entity start architecture"
      ],
      "metadata": {
        "id": "5B_gUEuFgxAY"
      }
    },
    {
      "cell_type": "code",
      "source": [
        "print(len(docs))\n",
        "ent_labels = [doc['entity_labels'] for doc in docs if 'entity_labels' in doc.keys()]\n",
        "e = list(itertools.chain.from_iterable(ent_labels))\n",
        "print(e)\n",
        "print(len(e))\n",
        "\n",
        "#start_train_features, start_test_features, start_train_labels, start_test_labels = train_test_split(entity_embeddings, e)"
      ],
      "metadata": {
        "id": "7KvwwWbWg5jj",
        "colab": {
          "base_uri": "https://localhost:8080/"
        },
        "outputId": "2bf545f2-131a-4b10-8da7-9556456fcd8d"
      },
      "execution_count": null,
      "outputs": [
        {
          "output_type": "stream",
          "name": "stdout",
          "text": [
            "3500\n",
            "[0, 0, 0, 0, 0, 0, 0, 0, 1, 1, 1, 0, 0, 0, 0, 0, 0, 0, 1, 1, 1, 1, 1, 1, 1, 1, 0, 0, 0, 0, 0, 0, 0, 0, 0, 0, 0, 1, 1, 1, 1, 1, 0, 0, 0, 0, 0, 1, 1, 1, 1, 1, 1, 1, 1, 1, 1, 0, 0, 1, 0, 1, 1, 0, 0, 1, 1, 0, 0, 1, 0, 1, 1, 0, 0, 0, 0, 0, 0, 0, 0, 0, 1, 0, 0, 0, 1, 0, 0, 0, 0, 0, 0, 0, 0, 0, 0, 0, 0, 0, 0, 0, 0, 0, 0, 0, 0, 0, 0, 0, 0, 0, 0, 0, 0, 0, 0, 0, 0, 0, 1, 1, 0, 0, 0, 0, 0, 0, 0, 0, 0, 0]\n",
            "132\n"
          ]
        }
      ]
    },
    {
      "cell_type": "code",
      "source": [
        "lr_clf = LogisticRegression()\n",
        "lr_clf.fit(start_train_features, start_train_labels)\n",
        "lr_clf.score(start_test_features, start_test_labels)"
      ],
      "metadata": {
        "id": "sbLcGoWghA49"
      },
      "execution_count": null,
      "outputs": []
    },
    {
      "cell_type": "markdown",
      "source": [
        "Establishing the relation labels"
      ],
      "metadata": {
        "id": "4lZZpVkhdC7I"
      }
    },
    {
      "cell_type": "code",
      "source": [
        "labels = list(set([r['type'] for doc in docs for r in doc['relations']]))"
      ],
      "metadata": {
        "id": "QklH7WB6ZaWE"
      },
      "execution_count": null,
      "outputs": []
    }
  ]
}