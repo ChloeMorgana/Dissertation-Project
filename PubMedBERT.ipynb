{
  "nbformat": 4,
  "nbformat_minor": 0,
  "metadata": {
    "colab": {
      "provenance": [],
      "authorship_tag": "ABX9TyMdjneV1PUHYU64hmPi0XXN",
      "include_colab_link": true
    },
    "kernelspec": {
      "name": "python3",
      "display_name": "Python 3"
    },
    "language_info": {
      "name": "python"
    },
    "widgets": {
      "application/vnd.jupyter.widget-state+json": {
        "e31602ae34a04458a8f3db65efee6ab3": {
          "model_module": "@jupyter-widgets/controls",
          "model_name": "HBoxModel",
          "model_module_version": "1.5.0",
          "state": {
            "_dom_classes": [],
            "_model_module": "@jupyter-widgets/controls",
            "_model_module_version": "1.5.0",
            "_model_name": "HBoxModel",
            "_view_count": null,
            "_view_module": "@jupyter-widgets/controls",
            "_view_module_version": "1.5.0",
            "_view_name": "HBoxView",
            "box_style": "",
            "children": [
              "IPY_MODEL_8afdc0f7806d465ca97ab8d4e2f9079c",
              "IPY_MODEL_8aef2ee463274c5a9fa2fbfa3ca688f5",
              "IPY_MODEL_4cec9d499b4846b7b13cc9dae4f426d7"
            ],
            "layout": "IPY_MODEL_f3aef16c64944ff49e7dba43997e527f"
          }
        },
        "8afdc0f7806d465ca97ab8d4e2f9079c": {
          "model_module": "@jupyter-widgets/controls",
          "model_name": "HTMLModel",
          "model_module_version": "1.5.0",
          "state": {
            "_dom_classes": [],
            "_model_module": "@jupyter-widgets/controls",
            "_model_module_version": "1.5.0",
            "_model_name": "HTMLModel",
            "_view_count": null,
            "_view_module": "@jupyter-widgets/controls",
            "_view_module_version": "1.5.0",
            "_view_name": "HTMLView",
            "description": "",
            "description_tooltip": null,
            "layout": "IPY_MODEL_5c841e82268b4453bce6bf675cbf1469",
            "placeholder": "​",
            "style": "IPY_MODEL_b2583c899c2c40deaf958f85b47bbc65",
            "value": "Downloading: 100%"
          }
        },
        "8aef2ee463274c5a9fa2fbfa3ca688f5": {
          "model_module": "@jupyter-widgets/controls",
          "model_name": "FloatProgressModel",
          "model_module_version": "1.5.0",
          "state": {
            "_dom_classes": [],
            "_model_module": "@jupyter-widgets/controls",
            "_model_module_version": "1.5.0",
            "_model_name": "FloatProgressModel",
            "_view_count": null,
            "_view_module": "@jupyter-widgets/controls",
            "_view_module_version": "1.5.0",
            "_view_name": "ProgressView",
            "bar_style": "success",
            "description": "",
            "description_tooltip": null,
            "layout": "IPY_MODEL_06e564489348418ba5de8550e5a8c8e9",
            "max": 385,
            "min": 0,
            "orientation": "horizontal",
            "style": "IPY_MODEL_9f7e5d644b804f578456fb024702ff30",
            "value": 385
          }
        },
        "4cec9d499b4846b7b13cc9dae4f426d7": {
          "model_module": "@jupyter-widgets/controls",
          "model_name": "HTMLModel",
          "model_module_version": "1.5.0",
          "state": {
            "_dom_classes": [],
            "_model_module": "@jupyter-widgets/controls",
            "_model_module_version": "1.5.0",
            "_model_name": "HTMLModel",
            "_view_count": null,
            "_view_module": "@jupyter-widgets/controls",
            "_view_module_version": "1.5.0",
            "_view_name": "HTMLView",
            "description": "",
            "description_tooltip": null,
            "layout": "IPY_MODEL_c35dcfbbff164439ade8ac066297d8e1",
            "placeholder": "​",
            "style": "IPY_MODEL_3428a9156c6b45ee9abe52ba435b1567",
            "value": " 385/385 [00:00&lt;00:00, 6.95kB/s]"
          }
        },
        "f3aef16c64944ff49e7dba43997e527f": {
          "model_module": "@jupyter-widgets/base",
          "model_name": "LayoutModel",
          "model_module_version": "1.2.0",
          "state": {
            "_model_module": "@jupyter-widgets/base",
            "_model_module_version": "1.2.0",
            "_model_name": "LayoutModel",
            "_view_count": null,
            "_view_module": "@jupyter-widgets/base",
            "_view_module_version": "1.2.0",
            "_view_name": "LayoutView",
            "align_content": null,
            "align_items": null,
            "align_self": null,
            "border": null,
            "bottom": null,
            "display": null,
            "flex": null,
            "flex_flow": null,
            "grid_area": null,
            "grid_auto_columns": null,
            "grid_auto_flow": null,
            "grid_auto_rows": null,
            "grid_column": null,
            "grid_gap": null,
            "grid_row": null,
            "grid_template_areas": null,
            "grid_template_columns": null,
            "grid_template_rows": null,
            "height": null,
            "justify_content": null,
            "justify_items": null,
            "left": null,
            "margin": null,
            "max_height": null,
            "max_width": null,
            "min_height": null,
            "min_width": null,
            "object_fit": null,
            "object_position": null,
            "order": null,
            "overflow": null,
            "overflow_x": null,
            "overflow_y": null,
            "padding": null,
            "right": null,
            "top": null,
            "visibility": null,
            "width": null
          }
        },
        "5c841e82268b4453bce6bf675cbf1469": {
          "model_module": "@jupyter-widgets/base",
          "model_name": "LayoutModel",
          "model_module_version": "1.2.0",
          "state": {
            "_model_module": "@jupyter-widgets/base",
            "_model_module_version": "1.2.0",
            "_model_name": "LayoutModel",
            "_view_count": null,
            "_view_module": "@jupyter-widgets/base",
            "_view_module_version": "1.2.0",
            "_view_name": "LayoutView",
            "align_content": null,
            "align_items": null,
            "align_self": null,
            "border": null,
            "bottom": null,
            "display": null,
            "flex": null,
            "flex_flow": null,
            "grid_area": null,
            "grid_auto_columns": null,
            "grid_auto_flow": null,
            "grid_auto_rows": null,
            "grid_column": null,
            "grid_gap": null,
            "grid_row": null,
            "grid_template_areas": null,
            "grid_template_columns": null,
            "grid_template_rows": null,
            "height": null,
            "justify_content": null,
            "justify_items": null,
            "left": null,
            "margin": null,
            "max_height": null,
            "max_width": null,
            "min_height": null,
            "min_width": null,
            "object_fit": null,
            "object_position": null,
            "order": null,
            "overflow": null,
            "overflow_x": null,
            "overflow_y": null,
            "padding": null,
            "right": null,
            "top": null,
            "visibility": null,
            "width": null
          }
        },
        "b2583c899c2c40deaf958f85b47bbc65": {
          "model_module": "@jupyter-widgets/controls",
          "model_name": "DescriptionStyleModel",
          "model_module_version": "1.5.0",
          "state": {
            "_model_module": "@jupyter-widgets/controls",
            "_model_module_version": "1.5.0",
            "_model_name": "DescriptionStyleModel",
            "_view_count": null,
            "_view_module": "@jupyter-widgets/base",
            "_view_module_version": "1.2.0",
            "_view_name": "StyleView",
            "description_width": ""
          }
        },
        "06e564489348418ba5de8550e5a8c8e9": {
          "model_module": "@jupyter-widgets/base",
          "model_name": "LayoutModel",
          "model_module_version": "1.2.0",
          "state": {
            "_model_module": "@jupyter-widgets/base",
            "_model_module_version": "1.2.0",
            "_model_name": "LayoutModel",
            "_view_count": null,
            "_view_module": "@jupyter-widgets/base",
            "_view_module_version": "1.2.0",
            "_view_name": "LayoutView",
            "align_content": null,
            "align_items": null,
            "align_self": null,
            "border": null,
            "bottom": null,
            "display": null,
            "flex": null,
            "flex_flow": null,
            "grid_area": null,
            "grid_auto_columns": null,
            "grid_auto_flow": null,
            "grid_auto_rows": null,
            "grid_column": null,
            "grid_gap": null,
            "grid_row": null,
            "grid_template_areas": null,
            "grid_template_columns": null,
            "grid_template_rows": null,
            "height": null,
            "justify_content": null,
            "justify_items": null,
            "left": null,
            "margin": null,
            "max_height": null,
            "max_width": null,
            "min_height": null,
            "min_width": null,
            "object_fit": null,
            "object_position": null,
            "order": null,
            "overflow": null,
            "overflow_x": null,
            "overflow_y": null,
            "padding": null,
            "right": null,
            "top": null,
            "visibility": null,
            "width": null
          }
        },
        "9f7e5d644b804f578456fb024702ff30": {
          "model_module": "@jupyter-widgets/controls",
          "model_name": "ProgressStyleModel",
          "model_module_version": "1.5.0",
          "state": {
            "_model_module": "@jupyter-widgets/controls",
            "_model_module_version": "1.5.0",
            "_model_name": "ProgressStyleModel",
            "_view_count": null,
            "_view_module": "@jupyter-widgets/base",
            "_view_module_version": "1.2.0",
            "_view_name": "StyleView",
            "bar_color": null,
            "description_width": ""
          }
        },
        "c35dcfbbff164439ade8ac066297d8e1": {
          "model_module": "@jupyter-widgets/base",
          "model_name": "LayoutModel",
          "model_module_version": "1.2.0",
          "state": {
            "_model_module": "@jupyter-widgets/base",
            "_model_module_version": "1.2.0",
            "_model_name": "LayoutModel",
            "_view_count": null,
            "_view_module": "@jupyter-widgets/base",
            "_view_module_version": "1.2.0",
            "_view_name": "LayoutView",
            "align_content": null,
            "align_items": null,
            "align_self": null,
            "border": null,
            "bottom": null,
            "display": null,
            "flex": null,
            "flex_flow": null,
            "grid_area": null,
            "grid_auto_columns": null,
            "grid_auto_flow": null,
            "grid_auto_rows": null,
            "grid_column": null,
            "grid_gap": null,
            "grid_row": null,
            "grid_template_areas": null,
            "grid_template_columns": null,
            "grid_template_rows": null,
            "height": null,
            "justify_content": null,
            "justify_items": null,
            "left": null,
            "margin": null,
            "max_height": null,
            "max_width": null,
            "min_height": null,
            "min_width": null,
            "object_fit": null,
            "object_position": null,
            "order": null,
            "overflow": null,
            "overflow_x": null,
            "overflow_y": null,
            "padding": null,
            "right": null,
            "top": null,
            "visibility": null,
            "width": null
          }
        },
        "3428a9156c6b45ee9abe52ba435b1567": {
          "model_module": "@jupyter-widgets/controls",
          "model_name": "DescriptionStyleModel",
          "model_module_version": "1.5.0",
          "state": {
            "_model_module": "@jupyter-widgets/controls",
            "_model_module_version": "1.5.0",
            "_model_name": "DescriptionStyleModel",
            "_view_count": null,
            "_view_module": "@jupyter-widgets/base",
            "_view_module_version": "1.2.0",
            "_view_name": "StyleView",
            "description_width": ""
          }
        },
        "f1633ee41a174e33bdd9452fcf94c154": {
          "model_module": "@jupyter-widgets/controls",
          "model_name": "HBoxModel",
          "model_module_version": "1.5.0",
          "state": {
            "_dom_classes": [],
            "_model_module": "@jupyter-widgets/controls",
            "_model_module_version": "1.5.0",
            "_model_name": "HBoxModel",
            "_view_count": null,
            "_view_module": "@jupyter-widgets/controls",
            "_view_module_version": "1.5.0",
            "_view_name": "HBoxView",
            "box_style": "",
            "children": [
              "IPY_MODEL_53f3955cdcdb4cb1bded43ea94f3c51b",
              "IPY_MODEL_aa3af9b0169f45ec979546381e54d757",
              "IPY_MODEL_a3fe6e466d144fac889795c1bdcec6a4"
            ],
            "layout": "IPY_MODEL_efe803502056418fb51ab0334f167b1b"
          }
        },
        "53f3955cdcdb4cb1bded43ea94f3c51b": {
          "model_module": "@jupyter-widgets/controls",
          "model_name": "HTMLModel",
          "model_module_version": "1.5.0",
          "state": {
            "_dom_classes": [],
            "_model_module": "@jupyter-widgets/controls",
            "_model_module_version": "1.5.0",
            "_model_name": "HTMLModel",
            "_view_count": null,
            "_view_module": "@jupyter-widgets/controls",
            "_view_module_version": "1.5.0",
            "_view_name": "HTMLView",
            "description": "",
            "description_tooltip": null,
            "layout": "IPY_MODEL_b081c5d948a2422997c50f740a65dbfd",
            "placeholder": "​",
            "style": "IPY_MODEL_dc4c86a003c446caae99483a3a803d5a",
            "value": "Downloading: 100%"
          }
        },
        "aa3af9b0169f45ec979546381e54d757": {
          "model_module": "@jupyter-widgets/controls",
          "model_name": "FloatProgressModel",
          "model_module_version": "1.5.0",
          "state": {
            "_dom_classes": [],
            "_model_module": "@jupyter-widgets/controls",
            "_model_module_version": "1.5.0",
            "_model_name": "FloatProgressModel",
            "_view_count": null,
            "_view_module": "@jupyter-widgets/controls",
            "_view_module_version": "1.5.0",
            "_view_name": "ProgressView",
            "bar_style": "success",
            "description": "",
            "description_tooltip": null,
            "layout": "IPY_MODEL_bac040db88f04bb8b64e2b1e797894fa",
            "max": 440474434,
            "min": 0,
            "orientation": "horizontal",
            "style": "IPY_MODEL_16bddb45057846488ee8e34bb038d4ff",
            "value": 440474434
          }
        },
        "a3fe6e466d144fac889795c1bdcec6a4": {
          "model_module": "@jupyter-widgets/controls",
          "model_name": "HTMLModel",
          "model_module_version": "1.5.0",
          "state": {
            "_dom_classes": [],
            "_model_module": "@jupyter-widgets/controls",
            "_model_module_version": "1.5.0",
            "_model_name": "HTMLModel",
            "_view_count": null,
            "_view_module": "@jupyter-widgets/controls",
            "_view_module_version": "1.5.0",
            "_view_name": "HTMLView",
            "description": "",
            "description_tooltip": null,
            "layout": "IPY_MODEL_c2de1e0bcdad4d159ddc6a1ec738a72e",
            "placeholder": "​",
            "style": "IPY_MODEL_e1841b7fc51947cf97c27093f084c994",
            "value": " 440M/440M [00:27&lt;00:00, 33.3MB/s]"
          }
        },
        "efe803502056418fb51ab0334f167b1b": {
          "model_module": "@jupyter-widgets/base",
          "model_name": "LayoutModel",
          "model_module_version": "1.2.0",
          "state": {
            "_model_module": "@jupyter-widgets/base",
            "_model_module_version": "1.2.0",
            "_model_name": "LayoutModel",
            "_view_count": null,
            "_view_module": "@jupyter-widgets/base",
            "_view_module_version": "1.2.0",
            "_view_name": "LayoutView",
            "align_content": null,
            "align_items": null,
            "align_self": null,
            "border": null,
            "bottom": null,
            "display": null,
            "flex": null,
            "flex_flow": null,
            "grid_area": null,
            "grid_auto_columns": null,
            "grid_auto_flow": null,
            "grid_auto_rows": null,
            "grid_column": null,
            "grid_gap": null,
            "grid_row": null,
            "grid_template_areas": null,
            "grid_template_columns": null,
            "grid_template_rows": null,
            "height": null,
            "justify_content": null,
            "justify_items": null,
            "left": null,
            "margin": null,
            "max_height": null,
            "max_width": null,
            "min_height": null,
            "min_width": null,
            "object_fit": null,
            "object_position": null,
            "order": null,
            "overflow": null,
            "overflow_x": null,
            "overflow_y": null,
            "padding": null,
            "right": null,
            "top": null,
            "visibility": null,
            "width": null
          }
        },
        "b081c5d948a2422997c50f740a65dbfd": {
          "model_module": "@jupyter-widgets/base",
          "model_name": "LayoutModel",
          "model_module_version": "1.2.0",
          "state": {
            "_model_module": "@jupyter-widgets/base",
            "_model_module_version": "1.2.0",
            "_model_name": "LayoutModel",
            "_view_count": null,
            "_view_module": "@jupyter-widgets/base",
            "_view_module_version": "1.2.0",
            "_view_name": "LayoutView",
            "align_content": null,
            "align_items": null,
            "align_self": null,
            "border": null,
            "bottom": null,
            "display": null,
            "flex": null,
            "flex_flow": null,
            "grid_area": null,
            "grid_auto_columns": null,
            "grid_auto_flow": null,
            "grid_auto_rows": null,
            "grid_column": null,
            "grid_gap": null,
            "grid_row": null,
            "grid_template_areas": null,
            "grid_template_columns": null,
            "grid_template_rows": null,
            "height": null,
            "justify_content": null,
            "justify_items": null,
            "left": null,
            "margin": null,
            "max_height": null,
            "max_width": null,
            "min_height": null,
            "min_width": null,
            "object_fit": null,
            "object_position": null,
            "order": null,
            "overflow": null,
            "overflow_x": null,
            "overflow_y": null,
            "padding": null,
            "right": null,
            "top": null,
            "visibility": null,
            "width": null
          }
        },
        "dc4c86a003c446caae99483a3a803d5a": {
          "model_module": "@jupyter-widgets/controls",
          "model_name": "DescriptionStyleModel",
          "model_module_version": "1.5.0",
          "state": {
            "_model_module": "@jupyter-widgets/controls",
            "_model_module_version": "1.5.0",
            "_model_name": "DescriptionStyleModel",
            "_view_count": null,
            "_view_module": "@jupyter-widgets/base",
            "_view_module_version": "1.2.0",
            "_view_name": "StyleView",
            "description_width": ""
          }
        },
        "bac040db88f04bb8b64e2b1e797894fa": {
          "model_module": "@jupyter-widgets/base",
          "model_name": "LayoutModel",
          "model_module_version": "1.2.0",
          "state": {
            "_model_module": "@jupyter-widgets/base",
            "_model_module_version": "1.2.0",
            "_model_name": "LayoutModel",
            "_view_count": null,
            "_view_module": "@jupyter-widgets/base",
            "_view_module_version": "1.2.0",
            "_view_name": "LayoutView",
            "align_content": null,
            "align_items": null,
            "align_self": null,
            "border": null,
            "bottom": null,
            "display": null,
            "flex": null,
            "flex_flow": null,
            "grid_area": null,
            "grid_auto_columns": null,
            "grid_auto_flow": null,
            "grid_auto_rows": null,
            "grid_column": null,
            "grid_gap": null,
            "grid_row": null,
            "grid_template_areas": null,
            "grid_template_columns": null,
            "grid_template_rows": null,
            "height": null,
            "justify_content": null,
            "justify_items": null,
            "left": null,
            "margin": null,
            "max_height": null,
            "max_width": null,
            "min_height": null,
            "min_width": null,
            "object_fit": null,
            "object_position": null,
            "order": null,
            "overflow": null,
            "overflow_x": null,
            "overflow_y": null,
            "padding": null,
            "right": null,
            "top": null,
            "visibility": null,
            "width": null
          }
        },
        "16bddb45057846488ee8e34bb038d4ff": {
          "model_module": "@jupyter-widgets/controls",
          "model_name": "ProgressStyleModel",
          "model_module_version": "1.5.0",
          "state": {
            "_model_module": "@jupyter-widgets/controls",
            "_model_module_version": "1.5.0",
            "_model_name": "ProgressStyleModel",
            "_view_count": null,
            "_view_module": "@jupyter-widgets/base",
            "_view_module_version": "1.2.0",
            "_view_name": "StyleView",
            "bar_color": null,
            "description_width": ""
          }
        },
        "c2de1e0bcdad4d159ddc6a1ec738a72e": {
          "model_module": "@jupyter-widgets/base",
          "model_name": "LayoutModel",
          "model_module_version": "1.2.0",
          "state": {
            "_model_module": "@jupyter-widgets/base",
            "_model_module_version": "1.2.0",
            "_model_name": "LayoutModel",
            "_view_count": null,
            "_view_module": "@jupyter-widgets/base",
            "_view_module_version": "1.2.0",
            "_view_name": "LayoutView",
            "align_content": null,
            "align_items": null,
            "align_self": null,
            "border": null,
            "bottom": null,
            "display": null,
            "flex": null,
            "flex_flow": null,
            "grid_area": null,
            "grid_auto_columns": null,
            "grid_auto_flow": null,
            "grid_auto_rows": null,
            "grid_column": null,
            "grid_gap": null,
            "grid_row": null,
            "grid_template_areas": null,
            "grid_template_columns": null,
            "grid_template_rows": null,
            "height": null,
            "justify_content": null,
            "justify_items": null,
            "left": null,
            "margin": null,
            "max_height": null,
            "max_width": null,
            "min_height": null,
            "min_width": null,
            "object_fit": null,
            "object_position": null,
            "order": null,
            "overflow": null,
            "overflow_x": null,
            "overflow_y": null,
            "padding": null,
            "right": null,
            "top": null,
            "visibility": null,
            "width": null
          }
        },
        "e1841b7fc51947cf97c27093f084c994": {
          "model_module": "@jupyter-widgets/controls",
          "model_name": "DescriptionStyleModel",
          "model_module_version": "1.5.0",
          "state": {
            "_model_module": "@jupyter-widgets/controls",
            "_model_module_version": "1.5.0",
            "_model_name": "DescriptionStyleModel",
            "_view_count": null,
            "_view_module": "@jupyter-widgets/base",
            "_view_module_version": "1.2.0",
            "_view_name": "StyleView",
            "description_width": ""
          }
        },
        "0a68c8811fa54c838c487d0a59743d1b": {
          "model_module": "@jupyter-widgets/controls",
          "model_name": "HBoxModel",
          "model_module_version": "1.5.0",
          "state": {
            "_dom_classes": [],
            "_model_module": "@jupyter-widgets/controls",
            "_model_module_version": "1.5.0",
            "_model_name": "HBoxModel",
            "_view_count": null,
            "_view_module": "@jupyter-widgets/controls",
            "_view_module_version": "1.5.0",
            "_view_name": "HBoxView",
            "box_style": "",
            "children": [
              "IPY_MODEL_3f5c8e2e304d4c029b9066ca32b0685b",
              "IPY_MODEL_5682191ad4864c62bd65311634493156",
              "IPY_MODEL_da0f56395f504074bf7d73b6e2153877"
            ],
            "layout": "IPY_MODEL_e3f55d45ce474703a5d37d07067aea62"
          }
        },
        "3f5c8e2e304d4c029b9066ca32b0685b": {
          "model_module": "@jupyter-widgets/controls",
          "model_name": "HTMLModel",
          "model_module_version": "1.5.0",
          "state": {
            "_dom_classes": [],
            "_model_module": "@jupyter-widgets/controls",
            "_model_module_version": "1.5.0",
            "_model_name": "HTMLModel",
            "_view_count": null,
            "_view_module": "@jupyter-widgets/controls",
            "_view_module_version": "1.5.0",
            "_view_name": "HTMLView",
            "description": "",
            "description_tooltip": null,
            "layout": "IPY_MODEL_9fe10ad20b6c4875979f66f0668cd912",
            "placeholder": "​",
            "style": "IPY_MODEL_16aaa33b8ae4489b89b791cacdc9522e",
            "value": "Downloading: 100%"
          }
        },
        "5682191ad4864c62bd65311634493156": {
          "model_module": "@jupyter-widgets/controls",
          "model_name": "FloatProgressModel",
          "model_module_version": "1.5.0",
          "state": {
            "_dom_classes": [],
            "_model_module": "@jupyter-widgets/controls",
            "_model_module_version": "1.5.0",
            "_model_name": "FloatProgressModel",
            "_view_count": null,
            "_view_module": "@jupyter-widgets/controls",
            "_view_module_version": "1.5.0",
            "_view_name": "ProgressView",
            "bar_style": "success",
            "description": "",
            "description_tooltip": null,
            "layout": "IPY_MODEL_6345e4df2187462dbe1318363b9383ac",
            "max": 28,
            "min": 0,
            "orientation": "horizontal",
            "style": "IPY_MODEL_5fccef9776724a609ba305f2690a6d53",
            "value": 28
          }
        },
        "da0f56395f504074bf7d73b6e2153877": {
          "model_module": "@jupyter-widgets/controls",
          "model_name": "HTMLModel",
          "model_module_version": "1.5.0",
          "state": {
            "_dom_classes": [],
            "_model_module": "@jupyter-widgets/controls",
            "_model_module_version": "1.5.0",
            "_model_name": "HTMLModel",
            "_view_count": null,
            "_view_module": "@jupyter-widgets/controls",
            "_view_module_version": "1.5.0",
            "_view_name": "HTMLView",
            "description": "",
            "description_tooltip": null,
            "layout": "IPY_MODEL_6f7fef4f3c4442a3a0cafeb2179d62ce",
            "placeholder": "​",
            "style": "IPY_MODEL_bd6b5dfe673c4451b925975ee5f0b0d8",
            "value": " 28.0/28.0 [00:00&lt;00:00, 763B/s]"
          }
        },
        "e3f55d45ce474703a5d37d07067aea62": {
          "model_module": "@jupyter-widgets/base",
          "model_name": "LayoutModel",
          "model_module_version": "1.2.0",
          "state": {
            "_model_module": "@jupyter-widgets/base",
            "_model_module_version": "1.2.0",
            "_model_name": "LayoutModel",
            "_view_count": null,
            "_view_module": "@jupyter-widgets/base",
            "_view_module_version": "1.2.0",
            "_view_name": "LayoutView",
            "align_content": null,
            "align_items": null,
            "align_self": null,
            "border": null,
            "bottom": null,
            "display": null,
            "flex": null,
            "flex_flow": null,
            "grid_area": null,
            "grid_auto_columns": null,
            "grid_auto_flow": null,
            "grid_auto_rows": null,
            "grid_column": null,
            "grid_gap": null,
            "grid_row": null,
            "grid_template_areas": null,
            "grid_template_columns": null,
            "grid_template_rows": null,
            "height": null,
            "justify_content": null,
            "justify_items": null,
            "left": null,
            "margin": null,
            "max_height": null,
            "max_width": null,
            "min_height": null,
            "min_width": null,
            "object_fit": null,
            "object_position": null,
            "order": null,
            "overflow": null,
            "overflow_x": null,
            "overflow_y": null,
            "padding": null,
            "right": null,
            "top": null,
            "visibility": null,
            "width": null
          }
        },
        "9fe10ad20b6c4875979f66f0668cd912": {
          "model_module": "@jupyter-widgets/base",
          "model_name": "LayoutModel",
          "model_module_version": "1.2.0",
          "state": {
            "_model_module": "@jupyter-widgets/base",
            "_model_module_version": "1.2.0",
            "_model_name": "LayoutModel",
            "_view_count": null,
            "_view_module": "@jupyter-widgets/base",
            "_view_module_version": "1.2.0",
            "_view_name": "LayoutView",
            "align_content": null,
            "align_items": null,
            "align_self": null,
            "border": null,
            "bottom": null,
            "display": null,
            "flex": null,
            "flex_flow": null,
            "grid_area": null,
            "grid_auto_columns": null,
            "grid_auto_flow": null,
            "grid_auto_rows": null,
            "grid_column": null,
            "grid_gap": null,
            "grid_row": null,
            "grid_template_areas": null,
            "grid_template_columns": null,
            "grid_template_rows": null,
            "height": null,
            "justify_content": null,
            "justify_items": null,
            "left": null,
            "margin": null,
            "max_height": null,
            "max_width": null,
            "min_height": null,
            "min_width": null,
            "object_fit": null,
            "object_position": null,
            "order": null,
            "overflow": null,
            "overflow_x": null,
            "overflow_y": null,
            "padding": null,
            "right": null,
            "top": null,
            "visibility": null,
            "width": null
          }
        },
        "16aaa33b8ae4489b89b791cacdc9522e": {
          "model_module": "@jupyter-widgets/controls",
          "model_name": "DescriptionStyleModel",
          "model_module_version": "1.5.0",
          "state": {
            "_model_module": "@jupyter-widgets/controls",
            "_model_module_version": "1.5.0",
            "_model_name": "DescriptionStyleModel",
            "_view_count": null,
            "_view_module": "@jupyter-widgets/base",
            "_view_module_version": "1.2.0",
            "_view_name": "StyleView",
            "description_width": ""
          }
        },
        "6345e4df2187462dbe1318363b9383ac": {
          "model_module": "@jupyter-widgets/base",
          "model_name": "LayoutModel",
          "model_module_version": "1.2.0",
          "state": {
            "_model_module": "@jupyter-widgets/base",
            "_model_module_version": "1.2.0",
            "_model_name": "LayoutModel",
            "_view_count": null,
            "_view_module": "@jupyter-widgets/base",
            "_view_module_version": "1.2.0",
            "_view_name": "LayoutView",
            "align_content": null,
            "align_items": null,
            "align_self": null,
            "border": null,
            "bottom": null,
            "display": null,
            "flex": null,
            "flex_flow": null,
            "grid_area": null,
            "grid_auto_columns": null,
            "grid_auto_flow": null,
            "grid_auto_rows": null,
            "grid_column": null,
            "grid_gap": null,
            "grid_row": null,
            "grid_template_areas": null,
            "grid_template_columns": null,
            "grid_template_rows": null,
            "height": null,
            "justify_content": null,
            "justify_items": null,
            "left": null,
            "margin": null,
            "max_height": null,
            "max_width": null,
            "min_height": null,
            "min_width": null,
            "object_fit": null,
            "object_position": null,
            "order": null,
            "overflow": null,
            "overflow_x": null,
            "overflow_y": null,
            "padding": null,
            "right": null,
            "top": null,
            "visibility": null,
            "width": null
          }
        },
        "5fccef9776724a609ba305f2690a6d53": {
          "model_module": "@jupyter-widgets/controls",
          "model_name": "ProgressStyleModel",
          "model_module_version": "1.5.0",
          "state": {
            "_model_module": "@jupyter-widgets/controls",
            "_model_module_version": "1.5.0",
            "_model_name": "ProgressStyleModel",
            "_view_count": null,
            "_view_module": "@jupyter-widgets/base",
            "_view_module_version": "1.2.0",
            "_view_name": "StyleView",
            "bar_color": null,
            "description_width": ""
          }
        },
        "6f7fef4f3c4442a3a0cafeb2179d62ce": {
          "model_module": "@jupyter-widgets/base",
          "model_name": "LayoutModel",
          "model_module_version": "1.2.0",
          "state": {
            "_model_module": "@jupyter-widgets/base",
            "_model_module_version": "1.2.0",
            "_model_name": "LayoutModel",
            "_view_count": null,
            "_view_module": "@jupyter-widgets/base",
            "_view_module_version": "1.2.0",
            "_view_name": "LayoutView",
            "align_content": null,
            "align_items": null,
            "align_self": null,
            "border": null,
            "bottom": null,
            "display": null,
            "flex": null,
            "flex_flow": null,
            "grid_area": null,
            "grid_auto_columns": null,
            "grid_auto_flow": null,
            "grid_auto_rows": null,
            "grid_column": null,
            "grid_gap": null,
            "grid_row": null,
            "grid_template_areas": null,
            "grid_template_columns": null,
            "grid_template_rows": null,
            "height": null,
            "justify_content": null,
            "justify_items": null,
            "left": null,
            "margin": null,
            "max_height": null,
            "max_width": null,
            "min_height": null,
            "min_width": null,
            "object_fit": null,
            "object_position": null,
            "order": null,
            "overflow": null,
            "overflow_x": null,
            "overflow_y": null,
            "padding": null,
            "right": null,
            "top": null,
            "visibility": null,
            "width": null
          }
        },
        "bd6b5dfe673c4451b925975ee5f0b0d8": {
          "model_module": "@jupyter-widgets/controls",
          "model_name": "DescriptionStyleModel",
          "model_module_version": "1.5.0",
          "state": {
            "_model_module": "@jupyter-widgets/controls",
            "_model_module_version": "1.5.0",
            "_model_name": "DescriptionStyleModel",
            "_view_count": null,
            "_view_module": "@jupyter-widgets/base",
            "_view_module_version": "1.2.0",
            "_view_name": "StyleView",
            "description_width": ""
          }
        },
        "00ca1eadea514b308f588282d5d3dd95": {
          "model_module": "@jupyter-widgets/controls",
          "model_name": "HBoxModel",
          "model_module_version": "1.5.0",
          "state": {
            "_dom_classes": [],
            "_model_module": "@jupyter-widgets/controls",
            "_model_module_version": "1.5.0",
            "_model_name": "HBoxModel",
            "_view_count": null,
            "_view_module": "@jupyter-widgets/controls",
            "_view_module_version": "1.5.0",
            "_view_name": "HBoxView",
            "box_style": "",
            "children": [
              "IPY_MODEL_362e7bafc4c6428aa7ae9a9720e84926",
              "IPY_MODEL_bf16a5cc0d8f45e7981dbf90d6a0a7bf",
              "IPY_MODEL_9919cee26eb34ccd83f10d96f4cfc845"
            ],
            "layout": "IPY_MODEL_f123b619958449b6ae7ad6dff8d0083e"
          }
        },
        "362e7bafc4c6428aa7ae9a9720e84926": {
          "model_module": "@jupyter-widgets/controls",
          "model_name": "HTMLModel",
          "model_module_version": "1.5.0",
          "state": {
            "_dom_classes": [],
            "_model_module": "@jupyter-widgets/controls",
            "_model_module_version": "1.5.0",
            "_model_name": "HTMLModel",
            "_view_count": null,
            "_view_module": "@jupyter-widgets/controls",
            "_view_module_version": "1.5.0",
            "_view_name": "HTMLView",
            "description": "",
            "description_tooltip": null,
            "layout": "IPY_MODEL_fb6e3f11d5ab4ba894f17bd208455b7a",
            "placeholder": "​",
            "style": "IPY_MODEL_b638cc4cbf5947f8adfb294e7175eb1f",
            "value": "Downloading: 100%"
          }
        },
        "bf16a5cc0d8f45e7981dbf90d6a0a7bf": {
          "model_module": "@jupyter-widgets/controls",
          "model_name": "FloatProgressModel",
          "model_module_version": "1.5.0",
          "state": {
            "_dom_classes": [],
            "_model_module": "@jupyter-widgets/controls",
            "_model_module_version": "1.5.0",
            "_model_name": "FloatProgressModel",
            "_view_count": null,
            "_view_module": "@jupyter-widgets/controls",
            "_view_module_version": "1.5.0",
            "_view_name": "ProgressView",
            "bar_style": "success",
            "description": "",
            "description_tooltip": null,
            "layout": "IPY_MODEL_87800c343f00489f8e2677a88542be1e",
            "max": 226150,
            "min": 0,
            "orientation": "horizontal",
            "style": "IPY_MODEL_50f00ebdfaa541c7ae1ccda28a0be898",
            "value": 226150
          }
        },
        "9919cee26eb34ccd83f10d96f4cfc845": {
          "model_module": "@jupyter-widgets/controls",
          "model_name": "HTMLModel",
          "model_module_version": "1.5.0",
          "state": {
            "_dom_classes": [],
            "_model_module": "@jupyter-widgets/controls",
            "_model_module_version": "1.5.0",
            "_model_name": "HTMLModel",
            "_view_count": null,
            "_view_module": "@jupyter-widgets/controls",
            "_view_module_version": "1.5.0",
            "_view_name": "HTMLView",
            "description": "",
            "description_tooltip": null,
            "layout": "IPY_MODEL_3e4a770eb05f4b058468d3f2b0b66815",
            "placeholder": "​",
            "style": "IPY_MODEL_938ae6c3b35c42f89fa9c6ead8a57c8d",
            "value": " 226k/226k [00:00&lt;00:00, 319kB/s]"
          }
        },
        "f123b619958449b6ae7ad6dff8d0083e": {
          "model_module": "@jupyter-widgets/base",
          "model_name": "LayoutModel",
          "model_module_version": "1.2.0",
          "state": {
            "_model_module": "@jupyter-widgets/base",
            "_model_module_version": "1.2.0",
            "_model_name": "LayoutModel",
            "_view_count": null,
            "_view_module": "@jupyter-widgets/base",
            "_view_module_version": "1.2.0",
            "_view_name": "LayoutView",
            "align_content": null,
            "align_items": null,
            "align_self": null,
            "border": null,
            "bottom": null,
            "display": null,
            "flex": null,
            "flex_flow": null,
            "grid_area": null,
            "grid_auto_columns": null,
            "grid_auto_flow": null,
            "grid_auto_rows": null,
            "grid_column": null,
            "grid_gap": null,
            "grid_row": null,
            "grid_template_areas": null,
            "grid_template_columns": null,
            "grid_template_rows": null,
            "height": null,
            "justify_content": null,
            "justify_items": null,
            "left": null,
            "margin": null,
            "max_height": null,
            "max_width": null,
            "min_height": null,
            "min_width": null,
            "object_fit": null,
            "object_position": null,
            "order": null,
            "overflow": null,
            "overflow_x": null,
            "overflow_y": null,
            "padding": null,
            "right": null,
            "top": null,
            "visibility": null,
            "width": null
          }
        },
        "fb6e3f11d5ab4ba894f17bd208455b7a": {
          "model_module": "@jupyter-widgets/base",
          "model_name": "LayoutModel",
          "model_module_version": "1.2.0",
          "state": {
            "_model_module": "@jupyter-widgets/base",
            "_model_module_version": "1.2.0",
            "_model_name": "LayoutModel",
            "_view_count": null,
            "_view_module": "@jupyter-widgets/base",
            "_view_module_version": "1.2.0",
            "_view_name": "LayoutView",
            "align_content": null,
            "align_items": null,
            "align_self": null,
            "border": null,
            "bottom": null,
            "display": null,
            "flex": null,
            "flex_flow": null,
            "grid_area": null,
            "grid_auto_columns": null,
            "grid_auto_flow": null,
            "grid_auto_rows": null,
            "grid_column": null,
            "grid_gap": null,
            "grid_row": null,
            "grid_template_areas": null,
            "grid_template_columns": null,
            "grid_template_rows": null,
            "height": null,
            "justify_content": null,
            "justify_items": null,
            "left": null,
            "margin": null,
            "max_height": null,
            "max_width": null,
            "min_height": null,
            "min_width": null,
            "object_fit": null,
            "object_position": null,
            "order": null,
            "overflow": null,
            "overflow_x": null,
            "overflow_y": null,
            "padding": null,
            "right": null,
            "top": null,
            "visibility": null,
            "width": null
          }
        },
        "b638cc4cbf5947f8adfb294e7175eb1f": {
          "model_module": "@jupyter-widgets/controls",
          "model_name": "DescriptionStyleModel",
          "model_module_version": "1.5.0",
          "state": {
            "_model_module": "@jupyter-widgets/controls",
            "_model_module_version": "1.5.0",
            "_model_name": "DescriptionStyleModel",
            "_view_count": null,
            "_view_module": "@jupyter-widgets/base",
            "_view_module_version": "1.2.0",
            "_view_name": "StyleView",
            "description_width": ""
          }
        },
        "87800c343f00489f8e2677a88542be1e": {
          "model_module": "@jupyter-widgets/base",
          "model_name": "LayoutModel",
          "model_module_version": "1.2.0",
          "state": {
            "_model_module": "@jupyter-widgets/base",
            "_model_module_version": "1.2.0",
            "_model_name": "LayoutModel",
            "_view_count": null,
            "_view_module": "@jupyter-widgets/base",
            "_view_module_version": "1.2.0",
            "_view_name": "LayoutView",
            "align_content": null,
            "align_items": null,
            "align_self": null,
            "border": null,
            "bottom": null,
            "display": null,
            "flex": null,
            "flex_flow": null,
            "grid_area": null,
            "grid_auto_columns": null,
            "grid_auto_flow": null,
            "grid_auto_rows": null,
            "grid_column": null,
            "grid_gap": null,
            "grid_row": null,
            "grid_template_areas": null,
            "grid_template_columns": null,
            "grid_template_rows": null,
            "height": null,
            "justify_content": null,
            "justify_items": null,
            "left": null,
            "margin": null,
            "max_height": null,
            "max_width": null,
            "min_height": null,
            "min_width": null,
            "object_fit": null,
            "object_position": null,
            "order": null,
            "overflow": null,
            "overflow_x": null,
            "overflow_y": null,
            "padding": null,
            "right": null,
            "top": null,
            "visibility": null,
            "width": null
          }
        },
        "50f00ebdfaa541c7ae1ccda28a0be898": {
          "model_module": "@jupyter-widgets/controls",
          "model_name": "ProgressStyleModel",
          "model_module_version": "1.5.0",
          "state": {
            "_model_module": "@jupyter-widgets/controls",
            "_model_module_version": "1.5.0",
            "_model_name": "ProgressStyleModel",
            "_view_count": null,
            "_view_module": "@jupyter-widgets/base",
            "_view_module_version": "1.2.0",
            "_view_name": "StyleView",
            "bar_color": null,
            "description_width": ""
          }
        },
        "3e4a770eb05f4b058468d3f2b0b66815": {
          "model_module": "@jupyter-widgets/base",
          "model_name": "LayoutModel",
          "model_module_version": "1.2.0",
          "state": {
            "_model_module": "@jupyter-widgets/base",
            "_model_module_version": "1.2.0",
            "_model_name": "LayoutModel",
            "_view_count": null,
            "_view_module": "@jupyter-widgets/base",
            "_view_module_version": "1.2.0",
            "_view_name": "LayoutView",
            "align_content": null,
            "align_items": null,
            "align_self": null,
            "border": null,
            "bottom": null,
            "display": null,
            "flex": null,
            "flex_flow": null,
            "grid_area": null,
            "grid_auto_columns": null,
            "grid_auto_flow": null,
            "grid_auto_rows": null,
            "grid_column": null,
            "grid_gap": null,
            "grid_row": null,
            "grid_template_areas": null,
            "grid_template_columns": null,
            "grid_template_rows": null,
            "height": null,
            "justify_content": null,
            "justify_items": null,
            "left": null,
            "margin": null,
            "max_height": null,
            "max_width": null,
            "min_height": null,
            "min_width": null,
            "object_fit": null,
            "object_position": null,
            "order": null,
            "overflow": null,
            "overflow_x": null,
            "overflow_y": null,
            "padding": null,
            "right": null,
            "top": null,
            "visibility": null,
            "width": null
          }
        },
        "938ae6c3b35c42f89fa9c6ead8a57c8d": {
          "model_module": "@jupyter-widgets/controls",
          "model_name": "DescriptionStyleModel",
          "model_module_version": "1.5.0",
          "state": {
            "_model_module": "@jupyter-widgets/controls",
            "_model_module_version": "1.5.0",
            "_model_name": "DescriptionStyleModel",
            "_view_count": null,
            "_view_module": "@jupyter-widgets/base",
            "_view_module_version": "1.2.0",
            "_view_name": "StyleView",
            "description_width": ""
          }
        }
      }
    }
  },
  "cells": [
    {
      "cell_type": "markdown",
      "metadata": {
        "id": "view-in-github",
        "colab_type": "text"
      },
      "source": [
        "<a href=\"https://colab.research.google.com/github/ChloeMorgana/Dissertation-Project/blob/main/PubMedBERT.ipynb\" target=\"_parent\"><img src=\"https://colab.research.google.com/assets/colab-badge.svg\" alt=\"Open In Colab\"/></a>"
      ]
    },
    {
      "cell_type": "markdown",
      "source": [
        "#Loading of DrugProt dataset\n",
        "\n",
        "Downloading and unzipping file"
      ],
      "metadata": {
        "id": "XEVZhcw6vcub"
      }
    },
    {
      "cell_type": "code",
      "execution_count": null,
      "metadata": {
        "colab": {
          "base_uri": "https://localhost:8080/"
        },
        "id": "CXtcGw7lujGS",
        "outputId": "b4fc5417-eeee-4c1a-b303-f90e586ca10b"
      },
      "outputs": [
        {
          "output_type": "stream",
          "name": "stdout",
          "text": [
            "--2022-12-27 10:54:17--  https://zenodo.org/record/5042151/files/drugprot-gs-training-development.zip\n",
            "Resolving zenodo.org (zenodo.org)... 188.185.124.72\n",
            "Connecting to zenodo.org (zenodo.org)|188.185.124.72|:443... connected.\n",
            "HTTP request sent, awaiting response... 200 OK\n",
            "Length: 3796908 (3.6M) [application/octet-stream]\n",
            "Saving to: ‘drugprot-gs-training-development.zip.1’\n",
            "\n",
            "drugprot-gs-trainin 100%[===================>]   3.62M  2.11MB/s    in 1.7s    \n",
            "\n",
            "2022-12-27 10:54:21 (2.11 MB/s) - ‘drugprot-gs-training-development.zip.1’ saved [3796908/3796908]\n",
            "\n",
            "Archive:  drugprot-gs-training-development.zip\n",
            "replace drugprot-gs-training-development/README.pdf? [y]es, [n]o, [A]ll, [N]one, [r]ename: "
          ]
        }
      ],
      "source": [
        "!wget https://zenodo.org/record/5042151/files/drugprot-gs-training-development.zip\n",
        "!unzip drugprot-gs-training-development.zip"
      ]
    },
    {
      "cell_type": "markdown",
      "source": [
        "Combining all three files together."
      ],
      "metadata": {
        "id": "BlEsiDFNyVK2"
      }
    },
    {
      "cell_type": "code",
      "source": [
        "def loadDrugProt(abstracts_filename, entities_filename, relations_filename):\n",
        "\n",
        "  docs = {}\n",
        "\n",
        "  # Load the title/abstracts text in as documents\n",
        "  with open(abstracts_filename, encoding='utf8') as f:\n",
        "    for lineno,line in enumerate(f):\n",
        "      split = line.strip('\\n').split('\\t')\n",
        "      assert len(split) == 3, f\"Expected 3 columns but got {len(split)} on line {lineno+1}\"\n",
        "      pubmed_id, title, abstract = split\n",
        "      pubmed_id = int(pubmed_id)\n",
        "\n",
        "      combined_text = title + '\\n' + abstract\n",
        "      docs[pubmed_id] = {'pubmed_id':pubmed_id, 'text':combined_text, 'entities':{}, 'relations':[]}\n",
        "\n",
        "  # Load the entities and match them up with the documents\n",
        "  with open(entities_filename, encoding='utf8') as f:\n",
        "    for lineno,line in enumerate(f):\n",
        "      split = line.strip('\\n').split('\\t')\n",
        "      assert len(split) == 6, f\"Expected 6 columns but got {len(split)} on line {lineno+1}\"\n",
        "      pubmed_id, entity_id, entity_type, start_coord, end_coord, entity_text = split\n",
        "\n",
        "      pubmed_id = int(pubmed_id)\n",
        "      start_coord = int(start_coord)\n",
        "      end_coord = int(end_coord)\n",
        "\n",
        "      assert pubmed_id in docs, f\"Did not find matching document for pubmed_id={pubmed_id}\"\n",
        "      doc = docs[pubmed_id]\n",
        "\n",
        "      assert doc['text'][start_coord:end_coord] == entity_text, f\"Text for entity with coords {start_coord}:{end_coord} in document (pubmed_id={pubmed_id} does not match expected. 'f{doc['text'][start_coord:end_coord]}' != '{entity_text}'\"\n",
        "\n",
        "      entity = {'type':entity_type, 'start':start_coord, 'end':end_coord, 'text':entity_text}\n",
        "      doc['entities'][entity_id] = entity\n",
        "\n",
        "  if relations_filename is not None:\n",
        "    # Load the relations and match them up with the entities in the corresponding document\n",
        "    with open(relations_filename, encoding='utf8') as f:\n",
        "      for lineno,line in enumerate(f):\n",
        "        split = line.strip('\\n').split('\\t')\n",
        "        assert len(split) == 4, f\"Expected 4 columns but got {len(split)} on line {lineno+1}\"\n",
        "\n",
        "        pubmed_id, relation_type, arg1, arg2 = split\n",
        "\n",
        "        pubmed_id = int(pubmed_id)\n",
        "        assert arg1.startswith('Arg1:'), f\"Relation argument should start with 'Arg1:'. Got: {arg1}\"\n",
        "        assert arg2.startswith('Arg2:'), f\"Relation argument should start with 'Arg2:'. Got: {arg2}\"\n",
        "\n",
        "        # Remove arg1/arg2 from text\n",
        "        arg1 = arg1.split(':')[1]\n",
        "        arg2 = arg2.split(':')[1]\n",
        "\n",
        "        assert pubmed_id in docs, f\"Did not find matching document for pubmed_id={pubmed_id}\"\n",
        "        doc = docs[pubmed_id]\n",
        "\n",
        "        assert arg1 in doc['entities'], f\"Couldn't find entity with id={arg1} in document with pubmed_id={pubmed_id}\"\n",
        "        assert arg2 in doc['entities'], f\"Couldn't find entity with id={arg2} in document with pubmed_id={pubmed_id}\"\n",
        "\n",
        "        relation = {'type':relation_type,'arg1':arg1,'arg2':arg2}\n",
        "        doc['relations'].append(relation)\n",
        "\n",
        "  # Convert the dictionary of documents (indexed by pubmed_id) into a simpler dictionary\n",
        "  docs = sorted(docs.values(), key=lambda x:x['pubmed_id'])\n",
        "\n",
        "  return docs"
      ],
      "metadata": {
        "id": "Jnq0pnCUvtPI"
      },
      "execution_count": null,
      "outputs": []
    },
    {
      "cell_type": "markdown",
      "source": [
        "Applying function to dataset"
      ],
      "metadata": {
        "id": "rmXTTkBLyk4Q"
      }
    },
    {
      "cell_type": "code",
      "source": [
        "docs = loadDrugProt('drugprot-gs-training-development/training/drugprot_training_abstracs.tsv',\n",
        "                    'drugprot-gs-training-development/training/drugprot_training_entities.tsv',\n",
        "                    'drugprot-gs-training-development/training/drugprot_training_relations.tsv')"
      ],
      "metadata": {
        "id": "yAemM9gmyG7F"
      },
      "execution_count": null,
      "outputs": []
    },
    {
      "cell_type": "markdown",
      "source": [
        "Observation of doc structure\n"
      ],
      "metadata": {
        "id": "hsBqNeznyrJC"
      }
    },
    {
      "cell_type": "code",
      "source": [
        "search = [ d for d in docs if d['pubmed_id'] == 23197773]\n",
        "#find = [ d for d in docs if \"This study was designed to establish initial safety and efficacy data in essential hypertension for this novel class of drug.\" in d['text'] ]\n",
        "#assert len(search) == 1, \"Something went wrong and couldn't find the document we want\"\n",
        "\n",
        "\n",
        "non_sent = [ d for d in docs if d['pubmed_id'] == 8733007]\n",
        "non_sent\n",
        "#doc = search\n",
        "#print(doc)\n",
        "\n",
        "docs.remove(search[0])\n",
        "#find"
      ],
      "metadata": {
        "id": "AYt1O1bLyKK8"
      },
      "execution_count": null,
      "outputs": []
    },
    {
      "cell_type": "markdown",
      "source": [
        "We can observe the total number of relations and the number of different relation types across all documents below:"
      ],
      "metadata": {
        "id": "SvJVGoiznqJs"
      }
    },
    {
      "cell_type": "code",
      "source": [
        "num = 0\n",
        "labs = list(set([r['type'] for doc in docs for r in doc['relations']]))\n",
        "rels = {}\n",
        "for l in labs:\n",
        "  rels[l] = 0\n",
        "\n",
        "for doc in docs:\n",
        "  num += len(doc['relations'])\n",
        "  for r in doc['relations']:\n",
        "    rels[r['type']]+=1\n",
        "  \n",
        "\n",
        "print(f\"Number of total relations: {num}\")\n",
        "for k,v in rels.items():\n",
        "  print(f\"Number of relations for {k} is: {v}\")"
      ],
      "metadata": {
        "colab": {
          "base_uri": "https://localhost:8080/"
        },
        "id": "YaUZTJ6Qntfq",
        "outputId": "a7355bc0-de39-4e55-9967-bf03a21a2546"
      },
      "execution_count": null,
      "outputs": [
        {
          "output_type": "stream",
          "name": "stdout",
          "text": [
            "Number of total relations: 17273\n",
            "Number of relations for DIRECT-REGULATOR is: 2250\n",
            "Number of relations for ANTAGONIST is: 968\n",
            "Number of relations for ACTIVATOR is: 1429\n",
            "Number of relations for SUBSTRATE is: 2003\n",
            "Number of relations for INHIBITOR is: 5392\n",
            "Number of relations for SUBSTRATE_PRODUCT-OF is: 25\n",
            "Number of relations for PART-OF is: 886\n",
            "Number of relations for AGONIST is: 648\n",
            "Number of relations for INDIRECT-DOWNREGULATOR is: 1330\n",
            "Number of relations for AGONIST-INHIBITOR is: 13\n",
            "Number of relations for INDIRECT-UPREGULATOR is: 1379\n",
            "Number of relations for AGONIST-ACTIVATOR is: 29\n",
            "Number of relations for PRODUCT-OF is: 921\n"
          ]
        }
      ]
    },
    {
      "cell_type": "markdown",
      "source": [
        "# Encoding Step"
      ],
      "metadata": {
        "id": "wuvPifsbVAI2"
      }
    },
    {
      "cell_type": "markdown",
      "source": [
        "The code below imports certain packages that will be used during this relation extraction task."
      ],
      "metadata": {
        "id": "BwTEztaT7myc"
      }
    },
    {
      "cell_type": "code",
      "source": [
        "#!pip install torch\n",
        "!pip install transformers\n",
        "!pip install segtok\n",
        "\n",
        "#import transformers as ppb\n",
        "from transformers import BertModel, AutoTokenizer\n",
        "import pandas as pd\n",
        "import numpy as np\n",
        "import nltk\n",
        "import torch\n",
        "import itertools\n",
        "from segtok.segmenter import split_single"
      ],
      "metadata": {
        "id": "zt-G3qMF6S6z",
        "colab": {
          "base_uri": "https://localhost:8080/"
        },
        "outputId": "76b50c1c-5ef2-4598-f6d3-f9c8863fafdc"
      },
      "execution_count": null,
      "outputs": [
        {
          "output_type": "stream",
          "name": "stdout",
          "text": [
            "Looking in indexes: https://pypi.org/simple, https://us-python.pkg.dev/colab-wheels/public/simple/\n",
            "Requirement already satisfied: transformers in /usr/local/lib/python3.8/dist-packages (4.25.1)\n",
            "Requirement already satisfied: tqdm>=4.27 in /usr/local/lib/python3.8/dist-packages (from transformers) (4.64.1)\n",
            "Requirement already satisfied: filelock in /usr/local/lib/python3.8/dist-packages (from transformers) (3.8.2)\n",
            "Requirement already satisfied: requests in /usr/local/lib/python3.8/dist-packages (from transformers) (2.23.0)\n",
            "Requirement already satisfied: tokenizers!=0.11.3,<0.14,>=0.11.1 in /usr/local/lib/python3.8/dist-packages (from transformers) (0.13.2)\n",
            "Requirement already satisfied: pyyaml>=5.1 in /usr/local/lib/python3.8/dist-packages (from transformers) (6.0)\n",
            "Requirement already satisfied: regex!=2019.12.17 in /usr/local/lib/python3.8/dist-packages (from transformers) (2022.6.2)\n",
            "Requirement already satisfied: huggingface-hub<1.0,>=0.10.0 in /usr/local/lib/python3.8/dist-packages (from transformers) (0.11.1)\n",
            "Requirement already satisfied: numpy>=1.17 in /usr/local/lib/python3.8/dist-packages (from transformers) (1.21.6)\n",
            "Requirement already satisfied: packaging>=20.0 in /usr/local/lib/python3.8/dist-packages (from transformers) (21.3)\n",
            "Requirement already satisfied: typing-extensions>=3.7.4.3 in /usr/local/lib/python3.8/dist-packages (from huggingface-hub<1.0,>=0.10.0->transformers) (4.4.0)\n",
            "Requirement already satisfied: pyparsing!=3.0.5,>=2.0.2 in /usr/local/lib/python3.8/dist-packages (from packaging>=20.0->transformers) (3.0.9)\n",
            "Requirement already satisfied: urllib3!=1.25.0,!=1.25.1,<1.26,>=1.21.1 in /usr/local/lib/python3.8/dist-packages (from requests->transformers) (1.24.3)\n",
            "Requirement already satisfied: idna<3,>=2.5 in /usr/local/lib/python3.8/dist-packages (from requests->transformers) (2.10)\n",
            "Requirement already satisfied: chardet<4,>=3.0.2 in /usr/local/lib/python3.8/dist-packages (from requests->transformers) (3.0.4)\n",
            "Requirement already satisfied: certifi>=2017.4.17 in /usr/local/lib/python3.8/dist-packages (from requests->transformers) (2022.12.7)\n",
            "Looking in indexes: https://pypi.org/simple, https://us-python.pkg.dev/colab-wheels/public/simple/\n",
            "Requirement already satisfied: segtok in /usr/local/lib/python3.8/dist-packages (1.5.11)\n",
            "Requirement already satisfied: regex in /usr/local/lib/python3.8/dist-packages (from segtok) (2022.6.2)\n"
          ]
        }
      ]
    },
    {
      "cell_type": "markdown",
      "source": [
        "This is a function that checks if a particular entity tag is part of a relation or not. This is used to form labels for the data so that the classifier can learn which sentences contain relations and which do not."
      ],
      "metadata": {
        "id": "Dzu6SwhS7GZd"
      }
    },
    {
      "cell_type": "code",
      "source": [
        "# Checks if the entity specified belongs to one term in the relation\n",
        "def isRelation(doc, key):\n",
        "\n",
        "  relations = doc['relations']\n",
        "  for r in relations:\n",
        "    #Checks if the entity is involved in any part of a specified relation\n",
        "    if (key == r['arg1']) or (key == r['arg2']):\n",
        "      #Returns the name of the relation and a boolean value\n",
        "      return True, r['type']\n",
        "  return False, 0\n",
        "\n",
        "#Checks if both arguments are terms in one relation\n",
        "def isEntityRelation(arg1,arg2,doc):\n",
        "  relation = 0\n",
        "  for r in doc['relations']:\n",
        "    if (arg1 == r['arg1']) and (arg2 == r['arg2']):\n",
        "      return True, r['type']\n",
        "  return False, 0\n"
      ],
      "metadata": {
        "id": "ruR21j2mXzO8"
      },
      "execution_count": 38,
      "outputs": []
    },
    {
      "cell_type": "markdown",
      "source": [
        "This function takes in the text and finds all of the labels for all pairs of entity relations. This will be used later to input into the classifier."
      ],
      "metadata": {
        "id": "Poo81Bj15g6C"
      }
    },
    {
      "cell_type": "code",
      "source": [
        "def find_sent_idxs(text):\n",
        "  idxs = [0]\n",
        "  idx = 0\n",
        "  split_text = split_single(text)\n",
        "  for t in split_text:\n",
        "    idx += len(t)+1\n",
        "    idxs.append(idx)\n",
        "  return idxs\n",
        "\n",
        "def find_entity_labels(idxs, keys, doc):\n",
        "  labels = []\n",
        "  rel_labels= []\n",
        "  entity_dict = {}\n",
        "  processed_entities = set()\n",
        "\n",
        "  for i in idxs:\n",
        "    entity_dict[i]=[]\n",
        "\n",
        "  for key in keys:\n",
        "    if key in processed_entities:  # skip entity if it has already been processed\n",
        "      continue\n",
        "    for i in range(len(idxs)-1):\n",
        "      s = doc['entities'][key]['start']\n",
        "      e = doc['entities'][key]['end']\n",
        "      if (s >= idxs[i] and s < idxs[i+1]) and (e > idxs[i] and e <= idxs[i+1]):\n",
        "        #print(f\"First idx: {idxs[i]}, middle idx: {doc['entities'][key]['start']} {doc['entities'][key]['end']}, second idx: {idxs[i+1]}, \")\n",
        "        entity_dict[idxs[i]].append(key)\n",
        "      elif (s >= idxs[i] and s < idxs[i+1]) and (e > idxs[i] and e >= idxs[i+1]):\n",
        "        print(doc['entities'][key]['text'])\n",
        "        print(f\"First idx: {idxs[i]}, middle idx: {doc['entities'][key]['start']} {doc['entities'][key]['end']}, second idx: {idxs[i+1]}, \")\n",
        "        \n",
        "  for k, v in entity_dict.items():\n",
        "    #print(k)\n",
        "    if not v==[]:\n",
        "      #print(v)\n",
        "      chems = []\n",
        "      genes = []\n",
        "      for name in v:\n",
        "        if doc['entities'][name]['type'] == 'CHEMICAL':\n",
        "          chems.append(name)\n",
        "        else:\n",
        "          #print(doc['entities'][name]['type'])\n",
        "          genes.append(name)\n",
        "\n",
        "      #print(f'chems: {chems}, genes: {genes}')\n",
        "      #if chems!=[] and genes!=[]:\n",
        "      prods = itertools.product(chems,genes)\n",
        "      for prod in prods:\n",
        "        #print(prod)\n",
        "        #print(prod[0])\n",
        "        b, r = isEntityRelation(prod[0],prod[1],doc)\n",
        "        if b:\n",
        "          rel_labels.append(r)\n",
        "          labels.append(1)\n",
        "        else:\n",
        "          #print(f'Prod 0: {prod[0]}, prod 1: {prod[1]}')\n",
        "          rel_labels.append(0)\n",
        "          labels.append(0)\n",
        "  \n",
        "\n",
        "  return labels, rel_labels"
      ],
      "metadata": {
        "id": "rjcYZDYn5y2G"
      },
      "execution_count": 40,
      "outputs": []
    },
    {
      "cell_type": "markdown",
      "source": [
        "This function adds in start and end entity tags to biomedical text. This ensures that every chemical mentioned is encased in [E1][/E1] tags, and every gene is encased in [E2][/E2] tags, so that we can extract the embeddings for these later."
      ],
      "metadata": {
        "id": "DjiNDFJvgckl"
      }
    },
    {
      "cell_type": "code",
      "source": [
        "def addEntityTags(docs):\n",
        "\n",
        "  for doc in docs:\n",
        "    #Contains the labels for each sentence (1 for positive result, 0 for no relation)\n",
        "    doc['labels'] = []\n",
        "    #Contains more explicit names for the relations.\n",
        "    doc['classes'] = []\n",
        "\n",
        "    str = ''\n",
        "    index = 0\n",
        "\n",
        "    #Contains every mention of chemicals and genes for a particular document\n",
        "    keys = doc['entities'].keys()\n",
        "\n",
        "    #Makes sure the indices of these mentions are in order\n",
        "    key_list = sorted(keys, key= lambda x: (doc['entities'][x]['start']))\n",
        "\n",
        "    #Finds the indexes of the start and end of each sentence in the text\n",
        "    idxs = find_sent_idxs(doc['text'])\n",
        "    #print(idxs)\n",
        "\n",
        "\n",
        "    l,r = find_entity_labels(idxs, key_list, doc)\n",
        "    doc['entity_labels'] = l\n",
        "    doc['rel_labels'] = r\n",
        "    #print(l)\n",
        "    #print(find_entity_labels(idxs, keys, doc))\n",
        "\n",
        "    for k in key_list:\n",
        "      #Adds a 1 to the list of labels if it is a positive result, 0 if negative\n",
        "      b,r = isRelation(doc,k)\n",
        "      if b:\n",
        "        doc['labels'].append(1)\n",
        "      else:\n",
        "        doc['labels'].append(0)\n",
        "      doc['classes'].append(r)\n",
        "      v = doc['entities'][k]\n",
        "\n",
        "      #Start and end indexes of entity\n",
        "      start = v['start']\n",
        "      end = v['end']\n",
        "      name = doc['text'][start:end]\n",
        "      name = name.replace('.', ' ')\n",
        "\n",
        "      if v['type'] == 'CHEMICAL':\n",
        "        str += doc['text'][index:start] + ' [E1] ' + name + ' [/E1]'\n",
        "      else:\n",
        "        str += doc['text'][index:start] + ' [E2] ' + name + ' [/E2]'\n",
        "      index = end\n",
        "    \n",
        "    #Adds the tagged text to the dictionary of a particular document\n",
        "    doc['tagged_text'] = str \n",
        "\n",
        "addEntityTags(docs)\n",
        "\n",
        "print(docs[0].keys())\n",
        "print(docs[0]['entities'])\n",
        "print(docs[0]['entity_labels'])\n",
        "print(docs[0]['rel_labels'])\n",
        "print(docs[0]['tagged_text'])\n",
        "\n"
      ],
      "metadata": {
        "id": "a7MjEIFqgiiC",
        "colab": {
          "base_uri": "https://localhost:8080/"
        },
        "outputId": "5dd2ffe7-50db-4b84-cd1e-8704d9702afc"
      },
      "execution_count": 43,
      "outputs": [
        {
          "output_type": "stream",
          "name": "stdout",
          "text": [
            "SUR1. 6\n",
            "First idx: 1008, middle idx: 1069 1076, second idx: 1075, \n",
            "E.C. 1.14.11.2\n",
            "First idx: 436, middle idx: 652 666, second idx: 657, \n",
            "Enc. cuniculi PAO\n",
            "First idx: 1221, middle idx: 1225 1242, second idx: 1230, \n",
            "Bacillus circulans ssp. alkalophilus phosphoserine aminotransferase\n",
            "First idx: 0, middle idx: 47 114, second idx: 71, \n",
            "rat brain. LDH1\n",
            "First idx: 975, middle idx: 1140 1155, second idx: 1151, \n",
            "Anabaena sp. CH1 N-acetyl-D-glucosamine 2-epimerase\n",
            "First idx: 0, middle idx: 79 130, second idx: 92, \n",
            "Anabaena sp. CH1 N-acetyl-d-glucosamine 2-epimerase\n",
            "First idx: 336, middle idx: 399 450, second idx: 412, \n",
            "dict_keys(['pubmed_id', 'text', 'entities', 'relations', 'labels', 'classes', 'entity_labels', 'tagged_text', 'rel_labels'])\n",
            "{'T1': {'type': 'CHEMICAL', 'start': 1455, 'end': 1466, 'text': 'benzamidine'}, 'T2': {'type': 'CHEMICAL', 'start': 1489, 'end': 1493, 'text': 'EACA'}, 'T3': {'type': 'CHEMICAL', 'start': 292, 'end': 298, 'text': 'lysine'}, 'T4': {'type': 'CHEMICAL', 'start': 308, 'end': 334, 'text': 'epsilon-amino caproic acid'}, 'T5': {'type': 'CHEMICAL', 'start': 336, 'end': 340, 'text': 'EACA'}, 'T6': {'type': 'CHEMICAL', 'start': 400, 'end': 406, 'text': 'lysine'}, 'T7': {'type': 'GENE-Y', 'start': 1165, 'end': 1170, 'text': 'gp330'}, 'T8': {'type': 'GENE-Y', 'start': 1172, 'end': 1179, 'text': 'plasmin'}, 'T9': {'type': 'GENE-Y', 'start': 227, 'end': 238, 'text': 'plasminogen'}, 'T10': {'type': 'GENE-Y', 'start': 1236, 'end': 1255, 'text': 'alpha 2-antiplasmin'}, 'T11': {'type': 'GENE-Y', 'start': 1272, 'end': 1279, 'text': 'plasmin'}, 'T12': {'type': 'GENE-Y', 'start': 1283, 'end': 1288, 'text': 'gp330'}, 'T13': {'type': 'GENE-Y', 'start': 1382, 'end': 1387, 'text': 'gp330'}, 'T14': {'type': 'GENE-Y', 'start': 1419, 'end': 1430, 'text': 'plasminogen'}, 'T15': {'type': 'GENE-Y', 'start': 1435, 'end': 1442, 'text': 'plasmin'}, 'T16': {'type': 'GENE-Y', 'start': 1446, 'end': 1451, 'text': 'gp330'}, 'T17': {'type': 'GENE-Y', 'start': 1519, 'end': 1526, 'text': 'plasmin'}, 'T18': {'type': 'GENE-Y', 'start': 1530, 'end': 1535, 'text': 'gp330'}, 'T19': {'type': 'GENE-Y', 'start': 1570, 'end': 1581, 'text': 'plasminogen'}, 'T20': {'type': 'GENE-Y', 'start': 1585, 'end': 1590, 'text': 'gp330'}, 'T21': {'type': 'GENE-Y', 'start': 1635, 'end': 1646, 'text': 'plasminogen'}, 'T22': {'type': 'GENE-Y', 'start': 1650, 'end': 1655, 'text': 'gp330'}, 'T23': {'type': 'GENE-Y', 'start': 1711, 'end': 1718, 'text': 'plasmin'}, 'T24': {'type': 'GENE-Y', 'start': 1812, 'end': 1819, 'text': 'plasmin'}, 'T25': {'type': 'GENE-Y', 'start': 359, 'end': 370, 'text': 'plasminogen'}, 'T26': {'type': 'GENE-Y', 'start': 444, 'end': 455, 'text': 'plasminogen'}, 'T27': {'type': 'GENE-Y', 'start': 495, 'end': 506, 'text': 'plasminogen'}, 'T28': {'type': 'GENE-Y', 'start': 156, 'end': 185, 'text': 'Heymann nephritis autoantigen'}, 'T29': {'type': 'GENE-Y', 'start': 519, 'end': 524, 'text': 'gp330'}, 'T30': {'type': 'GENE-Y', 'start': 568, 'end': 575, 'text': 'plasmin'}, 'T31': {'type': 'GENE-Y', 'start': 579, 'end': 588, 'text': 'urokinase'}, 'T32': {'type': 'GENE-Y', 'start': 609, 'end': 620, 'text': 'plasminogen'}, 'T33': {'type': 'GENE-Y', 'start': 624, 'end': 631, 'text': 'plasmin'}, 'T34': {'type': 'GENE-Y', 'start': 663, 'end': 674, 'text': 'plasminogen'}, 'T35': {'type': 'GENE-Y', 'start': 696, 'end': 701, 'text': 'gp330'}, 'T36': {'type': 'GENE-Y', 'start': 764, 'end': 773, 'text': 'urokinase'}, 'T37': {'type': 'GENE-Y', 'start': 187, 'end': 192, 'text': 'gp330'}, 'T38': {'type': 'GENE-Y', 'start': 809, 'end': 814, 'text': 'gp330'}, 'T39': {'type': 'GENE-Y', 'start': 877, 'end': 884, 'text': 'plasmin'}, 'T40': {'type': 'GENE-Y', 'start': 902, 'end': 907, 'text': 'gp330'}, 'T41': {'type': 'GENE-Y', 'start': 998, 'end': 1005, 'text': 'plasmin'}, 'T42': {'type': 'GENE-Y', 'start': 1009, 'end': 1014, 'text': 'gp330'}, 'T43': {'type': 'GENE-Y', 'start': 1077, 'end': 1082, 'text': 'gp330'}, 'T44': {'type': 'GENE-Y', 'start': 1116, 'end': 1123, 'text': 'plasmin'}, 'T45': {'type': 'GENE-Y', 'start': 112, 'end': 117, 'text': 'gp330'}, 'T46': {'type': 'GENE-Y', 'start': 12, 'end': 19, 'text': 'plasmin'}, 'T47': {'type': 'GENE-Y', 'start': 32, 'end': 41, 'text': 'urokinase'}, 'T48': {'type': 'GENE-Y', 'start': 56, 'end': 67, 'text': 'plasminogen'}, 'T49': {'type': 'GENE-Y', 'start': 81, 'end': 110, 'text': 'Heymann nephritis autoantigen'}}\n",
            "[0, 0, 0, 0, 0, 0, 0, 0, 1, 1, 1, 0, 0, 0, 0, 0, 0, 0, 1, 1, 1, 1]\n",
            "[0, 0, 0, 0, 0, 0, 0, 0, 'INHIBITOR', 'INHIBITOR', 'DIRECT-REGULATOR', 0, 0, 0, 0, 0, 0, 0, 'INHIBITOR', 'DIRECT-REGULATOR', 'INHIBITOR', 'DIRECT-REGULATOR']\n",
            "Analysis of  [E2] plasmin [/E2] binding and  [E2] urokinase [/E2] activation of  [E2] plasminogen [/E2] bound to the  [E2] Heymann nephritis autoantigen [/E2],  [E2] gp330 [/E2].\n",
            "Previously, we demonstrated that the  [E2] Heymann nephritis autoantigen [/E2],  [E2] gp330 [/E2], can serve as a receptor site for  [E2] plasminogen [/E2]. This binding was not significantly inhibited by the  [E1] lysine [/E1] analogue  [E1] epsilon-amino caproic acid [/E1] ( [E1] EACA [/E1]), indicating that  [E2] plasminogen [/E2] binding was not just through  [E1] lysine [/E1] binding sites as suggested for other  [E2] plasminogen [/E2] binding sites. We now report that once  [E2] plasminogen [/E2] is bound to  [E2] gp330 [/E2], it can be converted to its active form of  [E2] plasmin [/E2] by  [E2] urokinase [/E2]. This conversion of  [E2] plasminogen [/E2] to  [E2] plasmin [/E2] proceeds at a faster rate when  [E2] plasminogen [/E2] is first prebound to  [E2] gp330 [/E2]. Although there is a proportional increase in the Vmax of the  [E2] urokinase [/E2]-catalyzed reaction with increasing  [E2] gp330 [/E2] concentrations, no change in Km was observed. Once activated,  [E2] plasmin [/E2] remains bound to  [E2] gp330 [/E2] in an active state capable of cleaving the chromogenic tripeptide, S-2251. The binding of  [E2] plasmin [/E2] to  [E2] gp330 [/E2] did not significantly change its enzymatic activity; however,  [E2] gp330 [/E2] did have a stabilizing effect on  [E2] plasmin [/E2] activity at 37 degrees C. While bound to  [E2] gp330 [/E2],  [E2] plasmin [/E2] is protected from inactivation by its natural inhibitor  [E2] alpha 2-antiplasmin [/E2]. The binding of  [E2] plasmin [/E2] to  [E2] gp330 [/E2] as analyzed by ELISA was shown to be time dependent, reversible, saturable, and specific for  [E2] gp330 [/E2]. Inhibition of binding of both  [E2] plasminogen [/E2] and  [E2] plasmin [/E2] to  [E2] gp330 [/E2] by  [E1] benzamidine [/E1] was similar, although  [E1] EACA [/E1] inhibited the binding of  [E2] plasmin [/E2] to  [E2] gp330 [/E2] slightly more than the binding of  [E2] plasminogen [/E2] to  [E2] gp330 [/E2]. These results indicate that the binding of  [E2] plasminogen [/E2] to  [E2] gp330 [/E2] serves as an effective means of increasing the rate of  [E2] plasmin [/E2] production on the glomerular and tubular epithelial cell surface while protecting the active  [E2] plasmin [/E2]\n"
          ]
        }
      ]
    },
    {
      "cell_type": "markdown",
      "source": [
        "Next, we can reduce the text to only sentences potentially containing relations between chemicals and genes by splitting the sentences and seeing if there are any entity tags present within the sentence. The findLabels function goes through the list of labels for a particular document and sees if there is a relation present within that sentence.\n",
        "\n",
        "(Note for later: I didn't take into account relations across sentences in this implementation, will have to change something to ensure that both entities for one relation are in the same sentence)"
      ],
      "metadata": {
        "id": "4ikJplM-cXqU"
      }
    },
    {
      "cell_type": "code",
      "source": [
        "from collections import Counter\n",
        "\n",
        "def relevantText():\n",
        "\n",
        "  target_text = []\n",
        "  labels = []\n",
        "  classes = []\n",
        "\n",
        "  for doc in docs:\n",
        "    txt = doc['tagged_text']\n",
        "    lbls = doc['labels']\n",
        "\n",
        "    split_text = []\n",
        "    split_text += split_single(txt)\n",
        "    offset = 0\n",
        "\n",
        "    for s in range(len(split_text)):\n",
        "      if ('[E1]' in split_text[s] and '[/E1]' in split_text[s]) or ('[E2]' in split_text[s] and '[/E2]' in split_text[s]):\n",
        "        o, l, new_lbls = findLabels(split_text[s],lbls,offset)\n",
        "        target_text.append(split_text[s])\n",
        "        lbls = new_lbls\n",
        "        offset += o\n",
        "        labels.append(l)\n",
        "      elif '[/E' in split_text[s] or '[E1]' in split_text[s]  or '[E2]' in split_text[s]:\n",
        "        \n",
        "        print(split_text[s])\n",
        "        print(f\"Previous sentence: {split_text[s-1]}\")\n",
        "        print(f\"Next sentence: {split_text[s+1]}\")\n",
        "        print()\n",
        "  \n",
        "  return target_text, labels, classes\n",
        "\n",
        "def findLabels(text, labels, offset=0):\n",
        "    words = text.split(\" \")\n",
        "    counter = Counter(words)\n",
        "    idx = counter['[E2]']+counter['[E1]']\n",
        "    isRel = False\n",
        "    for i in range(idx):\n",
        "      if labels[i]==1:\n",
        "        isRel = True\n",
        "    offset+=idx\n",
        "    if isRel:\n",
        "      label = 1\n",
        "    else:\n",
        "      label = 0\n",
        "    l = labels[idx:]\n",
        "    return offset, label, l\n",
        "\n",
        "target_text, labels, classes = relevantText()\n",
        "\n",
        "#Both the target text and the labels must be the same length\n",
        "print(len(target_text))\n",
        "print(len(labels))\n",
        "\n"
      ],
      "metadata": {
        "id": "x0ps_RaP3wMU",
        "colab": {
          "base_uri": "https://localhost:8080/"
        },
        "outputId": "01f42792-a0bb-4b6a-9dac-23a71de706bf"
      },
      "execution_count": null,
      "outputs": [
        {
          "output_type": "stream",
          "name": "stdout",
          "text": [
            "29242\n",
            "29242\n"
          ]
        }
      ]
    },
    {
      "cell_type": "markdown",
      "source": [
        "There are around 17288 total relations, therefore there some sentences that contain entities but don't actually contain a relation. The code below shows a snippet of the target text which should only contain sentences that contain tagged entities. It also contains the first five labels which are all 0 in this case. These seems sensible as there isn't a chemical in the first sentence, and therefore there is no relationship specified between a chemical and gene."
      ],
      "metadata": {
        "id": "jI2VTA9Po-a9"
      }
    },
    {
      "cell_type": "code",
      "source": [
        "print(target_text[:12])\n",
        "print(labels[:22])"
      ],
      "metadata": {
        "id": "zb4HIf7ebZdo",
        "colab": {
          "base_uri": "https://localhost:8080/"
        },
        "outputId": "c4798db4-05e6-4846-ac75-b75e6c88bc49"
      },
      "execution_count": null,
      "outputs": [
        {
          "output_type": "stream",
          "name": "stdout",
          "text": [
            "['Analysis of  [E2] plasmin [/E2] binding and  [E2] urokinase [/E2] activation of  [E2] plasminogen [/E2] bound to the  [E2] Heymann nephritis autoantigen [/E2],  [E2] gp330 [/E2].', 'Previously, we demonstrated that the  [E2] Heymann nephritis autoantigen [/E2],  [E2] gp330 [/E2], can serve as a receptor site for  [E2] plasminogen [/E2].', 'This binding was not significantly inhibited by the  [E1] lysine [/E1] analogue  [E1] epsilon-amino caproic acid [/E1] ( [E1] EACA [/E1]), indicating that  [E2] plasminogen [/E2] binding was not just through  [E1] lysine [/E1] binding sites as suggested for other  [E2] plasminogen [/E2] binding sites.', 'We now report that once  [E2] plasminogen [/E2] is bound to  [E2] gp330 [/E2], it can be converted to its active form of  [E2] plasmin [/E2] by  [E2] urokinase [/E2].', 'This conversion of  [E2] plasminogen [/E2] to  [E2] plasmin [/E2] proceeds at a faster rate when  [E2] plasminogen [/E2] is first prebound to  [E2] gp330 [/E2].', 'Although there is a proportional increase in the Vmax of the  [E2] urokinase [/E2]-catalyzed reaction with increasing  [E2] gp330 [/E2] concentrations, no change in Km was observed.', 'Once activated,  [E2] plasmin [/E2] remains bound to  [E2] gp330 [/E2] in an active state capable of cleaving the chromogenic tripeptide, S-2251.', 'The binding of  [E2] plasmin [/E2] to  [E2] gp330 [/E2] did not significantly change its enzymatic activity; however,  [E2] gp330 [/E2] did have a stabilizing effect on  [E2] plasmin [/E2] activity at 37 degrees C.', 'While bound to  [E2] gp330 [/E2],  [E2] plasmin [/E2] is protected from inactivation by its natural inhibitor  [E2] alpha 2-antiplasmin [/E2].', 'The binding of  [E2] plasmin [/E2] to  [E2] gp330 [/E2] as analyzed by ELISA was shown to be time dependent, reversible, saturable, and specific for  [E2] gp330 [/E2].', 'Inhibition of binding of both  [E2] plasminogen [/E2] and  [E2] plasmin [/E2] to  [E2] gp330 [/E2] by  [E1] benzamidine [/E1] was similar, although  [E1] EACA [/E1] inhibited the binding of  [E2] plasmin [/E2] to  [E2] gp330 [/E2] slightly more than the binding of  [E2] plasminogen [/E2] to  [E2] gp330 [/E2].', 'These results indicate that the binding of  [E2] plasminogen [/E2] to  [E2] gp330 [/E2] serves as an effective means of increasing the rate of  [E2] plasmin [/E2] production on the glomerular and tubular epithelial cell surface while protecting the active  [E2] plasmin [/E2]']\n",
            "[0, 0, 0, 0, 0, 0, 0, 0, 0, 0, 1, 0, 0, 1, 1, 0, 1, 0, 1, 0, 1, 1]\n"
          ]
        }
      ]
    },
    {
      "cell_type": "markdown",
      "source": [
        "# Embedding Step\n",
        "\n",
        "Next, a BERT model is defined that has been pre-trained using PubMed texts. This allows BERT to recognise biomedical terms within the text and understand their context better.\n",
        "\n",
        "The tokeniser is also defined using pubmed texts, and special tokens are added in so that BERT can recognise them and not break them down when tokenising."
      ],
      "metadata": {
        "id": "BXYgjLzmG2DT"
      }
    },
    {
      "cell_type": "code",
      "source": [
        "model = BertModel.from_pretrained(\"microsoft/BiomedNLP-PubMedBERT-base-uncased-abstract-fulltext\",\n",
        "                                  output_hidden_states = True,\n",
        "                                  )\n",
        "\n",
        "tokenizer = AutoTokenizer.from_pretrained(\"microsoft/BiomedNLP-PubMedBERT-base-uncased-abstract-fulltext\") \n",
        "\n",
        "tokenizer.add_tokens([\"[E1]\", \"[/E1]\", \"[E2]\", \"[/E2]\"])\n",
        "\n",
        "tokenizer.vocab[\"[E1]\"]"
      ],
      "metadata": {
        "id": "FtHyA7DTG40c",
        "colab": {
          "base_uri": "https://localhost:8080/",
          "height": 234,
          "referenced_widgets": [
            "e31602ae34a04458a8f3db65efee6ab3",
            "8afdc0f7806d465ca97ab8d4e2f9079c",
            "8aef2ee463274c5a9fa2fbfa3ca688f5",
            "4cec9d499b4846b7b13cc9dae4f426d7",
            "f3aef16c64944ff49e7dba43997e527f",
            "5c841e82268b4453bce6bf675cbf1469",
            "b2583c899c2c40deaf958f85b47bbc65",
            "06e564489348418ba5de8550e5a8c8e9",
            "9f7e5d644b804f578456fb024702ff30",
            "c35dcfbbff164439ade8ac066297d8e1",
            "3428a9156c6b45ee9abe52ba435b1567",
            "f1633ee41a174e33bdd9452fcf94c154",
            "53f3955cdcdb4cb1bded43ea94f3c51b",
            "aa3af9b0169f45ec979546381e54d757",
            "a3fe6e466d144fac889795c1bdcec6a4",
            "efe803502056418fb51ab0334f167b1b",
            "b081c5d948a2422997c50f740a65dbfd",
            "dc4c86a003c446caae99483a3a803d5a",
            "bac040db88f04bb8b64e2b1e797894fa",
            "16bddb45057846488ee8e34bb038d4ff",
            "c2de1e0bcdad4d159ddc6a1ec738a72e",
            "e1841b7fc51947cf97c27093f084c994",
            "0a68c8811fa54c838c487d0a59743d1b",
            "3f5c8e2e304d4c029b9066ca32b0685b",
            "5682191ad4864c62bd65311634493156",
            "da0f56395f504074bf7d73b6e2153877",
            "e3f55d45ce474703a5d37d07067aea62",
            "9fe10ad20b6c4875979f66f0668cd912",
            "16aaa33b8ae4489b89b791cacdc9522e",
            "6345e4df2187462dbe1318363b9383ac",
            "5fccef9776724a609ba305f2690a6d53",
            "6f7fef4f3c4442a3a0cafeb2179d62ce",
            "bd6b5dfe673c4451b925975ee5f0b0d8",
            "00ca1eadea514b308f588282d5d3dd95",
            "362e7bafc4c6428aa7ae9a9720e84926",
            "bf16a5cc0d8f45e7981dbf90d6a0a7bf",
            "9919cee26eb34ccd83f10d96f4cfc845",
            "f123b619958449b6ae7ad6dff8d0083e",
            "fb6e3f11d5ab4ba894f17bd208455b7a",
            "b638cc4cbf5947f8adfb294e7175eb1f",
            "87800c343f00489f8e2677a88542be1e",
            "50f00ebdfaa541c7ae1ccda28a0be898",
            "3e4a770eb05f4b058468d3f2b0b66815",
            "938ae6c3b35c42f89fa9c6ead8a57c8d"
          ]
        },
        "outputId": "641edf19-4e0c-4815-e638-5208f6937aeb"
      },
      "execution_count": null,
      "outputs": [
        {
          "output_type": "display_data",
          "data": {
            "text/plain": [
              "Downloading:   0%|          | 0.00/385 [00:00<?, ?B/s]"
            ],
            "application/vnd.jupyter.widget-view+json": {
              "version_major": 2,
              "version_minor": 0,
              "model_id": "e31602ae34a04458a8f3db65efee6ab3"
            }
          },
          "metadata": {}
        },
        {
          "output_type": "display_data",
          "data": {
            "text/plain": [
              "Downloading:   0%|          | 0.00/440M [00:00<?, ?B/s]"
            ],
            "application/vnd.jupyter.widget-view+json": {
              "version_major": 2,
              "version_minor": 0,
              "model_id": "f1633ee41a174e33bdd9452fcf94c154"
            }
          },
          "metadata": {}
        },
        {
          "output_type": "stream",
          "name": "stderr",
          "text": [
            "Some weights of the model checkpoint at microsoft/BiomedNLP-PubMedBERT-base-uncased-abstract-fulltext were not used when initializing BertModel: ['cls.predictions.decoder.weight', 'cls.seq_relationship.bias', 'cls.predictions.bias', 'cls.predictions.transform.LayerNorm.bias', 'cls.predictions.transform.dense.bias', 'cls.predictions.transform.LayerNorm.weight', 'cls.seq_relationship.weight', 'cls.predictions.decoder.bias', 'cls.predictions.transform.dense.weight']\n",
            "- This IS expected if you are initializing BertModel from the checkpoint of a model trained on another task or with another architecture (e.g. initializing a BertForSequenceClassification model from a BertForPreTraining model).\n",
            "- This IS NOT expected if you are initializing BertModel from the checkpoint of a model that you expect to be exactly identical (initializing a BertForSequenceClassification model from a BertForSequenceClassification model).\n"
          ]
        },
        {
          "output_type": "display_data",
          "data": {
            "text/plain": [
              "Downloading:   0%|          | 0.00/28.0 [00:00<?, ?B/s]"
            ],
            "application/vnd.jupyter.widget-view+json": {
              "version_major": 2,
              "version_minor": 0,
              "model_id": "0a68c8811fa54c838c487d0a59743d1b"
            }
          },
          "metadata": {}
        },
        {
          "output_type": "display_data",
          "data": {
            "text/plain": [
              "Downloading:   0%|          | 0.00/226k [00:00<?, ?B/s]"
            ],
            "application/vnd.jupyter.widget-view+json": {
              "version_major": 2,
              "version_minor": 0,
              "model_id": "00ca1eadea514b308f588282d5d3dd95"
            }
          },
          "metadata": {}
        },
        {
          "output_type": "execute_result",
          "data": {
            "text/plain": [
              "30522"
            ]
          },
          "metadata": {},
          "execution_count": 32
        }
      ]
    },
    {
      "cell_type": "markdown",
      "source": [
        "This function adds [CLS] and [SEP] tokens to the beginning and end of sentences so that BERT knows when a new sentence is beginning. It then tokenises these sentences and converts all of the inputs into tensors."
      ],
      "metadata": {
        "id": "eFzXfZX-X3D8"
      }
    },
    {
      "cell_type": "code",
      "source": [
        "def bert_text_prep(text, tokenizer):\n",
        "\n",
        "  #CLS lets BERT know when start of sentence begins, SEP indicates start of second sentence.\n",
        "  marked_text = \"[CLS]\" + text + \"[SEP]\"\n",
        "\n",
        "  #Tokenizes text\n",
        "  tokenized_text = tokenizer.tokenize(marked_text)\n",
        "\n",
        "  #Converts to ids\n",
        "  indexed_tokens = tokenizer.convert_tokens_to_ids(tokenized_text)\n",
        "  segments_ids = [1]*len(indexed_tokens)\n",
        "\n",
        "  # Converts inputs to tensors\n",
        "  tokens_tensor = torch.tensor([indexed_tokens])\n",
        "  #print(tokens_tensor.size())\n",
        "  segments_tensors = torch.tensor([segments_ids])\n",
        "\n",
        "  return tokenized_text, tokens_tensor, segments_tensors"
      ],
      "metadata": {
        "id": "8LWbqPbBL6TD"
      },
      "execution_count": null,
      "outputs": []
    },
    {
      "cell_type": "markdown",
      "source": [
        "These tensors are then used to find the embeddings of all of the tokens."
      ],
      "metadata": {
        "id": "PMth1UIhX6a5"
      }
    },
    {
      "cell_type": "code",
      "source": [
        "def get_bert_embeddings(tokens_tensor, segments_tensors, model):\n",
        "  with torch.no_grad():\n",
        "    outputs = model(tokens_tensor, segments_tensors)\n",
        "    hidden_states = outputs[2][1:]\n",
        "\n",
        "  token_embeddings = hidden_states[-1]\n",
        "  #Collapsing tensor into 1 dimension\n",
        "  token_embeddings = torch.squeeze(token_embeddings, dim=0)\n",
        "  #print(token_embeddings)\n",
        "  #converting tensors to lists\n",
        "  list_token_embeddings = [token_embed.tolist() for token_embed in token_embeddings]\n",
        "\n",
        "  return list_token_embeddings"
      ],
      "metadata": {
        "id": "-OnSsiEiOQrM"
      },
      "execution_count": null,
      "outputs": []
    },
    {
      "cell_type": "markdown",
      "source": [
        "In order to find the relevant embeddings (entity start tag embeddings), findTags looks through the tokenised sentence and adds the index of that particular tag into a list of chemical indices or gene indices.\n",
        "\n",
        "These are then used after the sentence has been converted into embeddings to find the embedding at these specific indexes. The embeddings are accompanied by the cartesian product of all of the chemical and gene entities found, so that the embeddings for the specified indexes are concatenated."
      ],
      "metadata": {
        "id": "0li9zzHZh5Qn"
      }
    },
    {
      "cell_type": "code",
      "source": [
        "def findTags(tokens):\n",
        "  chems = []\n",
        "  genes = []\n",
        "\n",
        "  for i in range(len(tokens)):\n",
        "    #Adds the indexes to the relevant lists\n",
        "    if tokens[i].lower() == '[e1]':\n",
        "      chems.append(i)\n",
        "    elif tokens[i].lower() == '[e2]':\n",
        "      genes.append(i)\n",
        "  \n",
        "  #Returns empty lists if either chemicals or genes aren't present\n",
        "  return chems, genes\n",
        "\n",
        "def findEmbeddings(prods, embeddings):\n",
        "  #Concatenates the embeddings\n",
        "  entity_embeddings = []\n",
        "  for elt in prods:\n",
        "    chem = embeddings[elt[0]]\n",
        "    gene = embeddings[elt[1]]\n",
        "    entity_embeddings.append(chem+gene)\n",
        "    #print(len(chem+gene))\n",
        "  return entity_embeddings\n"
      ],
      "metadata": {
        "id": "m1oPiD79h_F1"
      },
      "execution_count": null,
      "outputs": []
    },
    {
      "cell_type": "markdown",
      "source": [
        "Getting CLS and entity embeddings for each sentence\n",
        "\n"
      ],
      "metadata": {
        "id": "SDwF0f2a3rHE"
      }
    },
    {
      "cell_type": "code",
      "source": [
        "t = target_text[:50]\n",
        "l = labels[:22]\n",
        "cls_embeddings = []\n",
        "entity_embeddings = []\n",
        "\n",
        "for text in target_text:\n",
        "\n",
        "    #Finds tokenized text and tensors for a particular sentence in a document\n",
        "    tokenized_text, tokens_tensor, segments_tensor = bert_text_prep(text, tokenizer)\n",
        "\n",
        "    #Finds the embeddings\n",
        "    list_token_embeddings = get_bert_embeddings(tokens_tensor, segments_tensor, model)\n",
        "\n",
        "    #Adds the [CLS] token embedding to the list\n",
        "    cls_embeddings.append(list_token_embeddings[0])\n",
        "\n",
        "    #Finds the indexes for chemicals and genes in the sentence\n",
        "    chems, genes = findTags(tokenized_text)\n",
        "\n",
        "    #Finds the cartesian product of all of these chemicals and genes\n",
        "    prods = itertools.product(chems,genes)\n",
        "\n",
        "    #Adds the concatenated embeddings of all chemicals and genes to the list\n",
        "    p = findEmbeddings(prods, list_token_embeddings)\n",
        "    entity_embeddings += p\n",
        "\n",
        "#np.save(\"cls_embeddings.npy\",cls_embeddings)\n",
        "#np.save(\"entity_embeddings.npy\",entity_embeddings)\n",
        "#print(len(entity_embeddings))\n",
        "#print(len(cls_embeddings))"
      ],
      "metadata": {
        "id": "tXoMT_blWrhG"
      },
      "execution_count": null,
      "outputs": []
    },
    {
      "cell_type": "code",
      "source": [
        "cls_embeddings = np.load(\"cls_embeddings.npy\")\n",
        "#entity_embeddings = np.load(\"entity_embeddings.npy\")\n",
        "\n",
        "print(len(cls_embeddings))\n",
        "#print(len(entity_embeddings))\n"
      ],
      "metadata": {
        "id": "cdX9DN-P1_9g",
        "colab": {
          "base_uri": "https://localhost:8080/"
        },
        "outputId": "4014d636-c3ec-469c-f5c8-4e3d46cb17cf"
      },
      "execution_count": 34,
      "outputs": [
        {
          "output_type": "stream",
          "name": "stdout",
          "text": [
            "29242\n"
          ]
        }
      ]
    },
    {
      "cell_type": "code",
      "source": [
        "print(len(docs))"
      ],
      "metadata": {
        "id": "nxLpqQEn7173",
        "colab": {
          "base_uri": "https://localhost:8080/"
        },
        "outputId": "a6cd6847-9a04-4c44-eae4-7532ae95cc28"
      },
      "execution_count": null,
      "outputs": [
        {
          "output_type": "stream",
          "name": "stdout",
          "text": [
            "3499\n"
          ]
        }
      ]
    },
    {
      "cell_type": "code",
      "source": [
        "search = [ d for d in docs if d['pubmed_id'] == 9647478]\n",
        "search"
      ],
      "metadata": {
        "id": "6dQMIjRJGmPA",
        "colab": {
          "base_uri": "https://localhost:8080/"
        },
        "outputId": "35887dab-98da-4eab-f46c-5cc2da98ec6a"
      },
      "execution_count": null,
      "outputs": [
        {
          "output_type": "execute_result",
          "data": {
            "text/plain": [
              "[{'pubmed_id': 9647478,\n",
              "  'text': 'Inhibition of the ATP-sensitive potassium channel from mouse pancreatic beta-cells by surfactants.\\n1. We have used patch-clamp methods to study the effects of the detergents, Cremophor, Tween 80 and Triton X100 on the K(ATP) channel in the pancreatic beta-cell from mouse. 2. All three detergents blocked K(ATP) channel activity with the following order of potency: Tween 80 (Ki< approximately 83 nM)>Triton X100 (Ki=350 nM)>Cremophor. In all cases the block was poorly reversible. 3. Single-channel studies suggested that at low doses, the detergents act as slow blockers of the K(ATP) channel. 4. Unlike the block produced by tolbutamide, that produced by detergent was not affected by intracellular Mg2+-nucleotide, diazoxide or trypsin treatment, nor did it involve an acceleration of rundown or increase in ATP sensitivity of the chanel. 5. The detergents could block the pore-forming subunit, Kir6.2deltaC26, which can be expressed independently of SUR1 (the regulatory subunit of the K(ATP) channel). These data suggest that the detergents act on Kir6.2 and not SUR1. 6. The detergents had no effect on another member of the inward rectifier family: Kir1.1a (ROMK1). 7. Voltage-dependent K-currents in the beta-cell were reversibly blocked by the detergents with a far lower potency than that found for the K(ATP) channel. 8. Like other insulin secretagogues that act by blocking the K(ATP) channel, Cremophor elevated intracellular Ca2+ in single beta-cells to levels that would be expected to elicit insulin secretion. 9. Given the role of the K(ATP) channel in many physiological processes, we conclude that plasma borne detergent may have pharmacological actions mediated through blockage of the K(ATP) channel.',\n",
              "  'entities': {'T1': {'type': 'CHEMICAL',\n",
              "    'start': 199,\n",
              "    'end': 210,\n",
              "    'text': 'Triton X100'},\n",
              "   'T2': {'type': 'CHEMICAL', 'start': 1195, 'end': 1196, 'text': 'K'},\n",
              "   'T3': {'type': 'CHEMICAL', 'start': 218, 'end': 219, 'text': 'K'},\n",
              "   'T4': {'type': 'CHEMICAL', 'start': 220, 'end': 223, 'text': 'ATP'},\n",
              "   'T5': {'type': 'CHEMICAL', 'start': 1314, 'end': 1315, 'text': 'K'},\n",
              "   'T6': {'type': 'CHEMICAL', 'start': 1316, 'end': 1319, 'text': 'ATP'},\n",
              "   'T7': {'type': 'CHEMICAL', 'start': 1391, 'end': 1392, 'text': 'K'},\n",
              "   'T8': {'type': 'CHEMICAL', 'start': 1393, 'end': 1396, 'text': 'ATP'},\n",
              "   'T9': {'type': 'CHEMICAL', 'start': 1440, 'end': 1444, 'text': 'Ca2+'},\n",
              "   'T10': {'type': 'CHEMICAL', 'start': 1553, 'end': 1554, 'text': 'K'},\n",
              "   'T11': {'type': 'CHEMICAL', 'start': 1555, 'end': 1558, 'text': 'ATP'},\n",
              "   'T12': {'type': 'CHEMICAL', 'start': 1707, 'end': 1708, 'text': 'K'},\n",
              "   'T13': {'type': 'CHEMICAL', 'start': 1709, 'end': 1712, 'text': 'ATP'},\n",
              "   'T14': {'type': 'CHEMICAL', 'start': 305, 'end': 306, 'text': 'K'},\n",
              "   'T15': {'type': 'CHEMICAL', 'start': 307, 'end': 310, 'text': 'ATP'},\n",
              "   'T16': {'type': 'CHEMICAL', 'start': 366, 'end': 374, 'text': 'Tween 80'},\n",
              "   'T17': {'type': 'CHEMICAL',\n",
              "    'start': 401,\n",
              "    'end': 412,\n",
              "    'text': 'Triton X100'},\n",
              "   'T18': {'type': 'CHEMICAL', 'start': 580, 'end': 581, 'text': 'K'},\n",
              "   'T19': {'type': 'CHEMICAL', 'start': 582, 'end': 585, 'text': 'ATP'},\n",
              "   'T20': {'type': 'CHEMICAL',\n",
              "    'start': 628,\n",
              "    'end': 639,\n",
              "    'text': 'tolbutamide'},\n",
              "   'T21': {'type': 'CHEMICAL', 'start': 702, 'end': 706, 'text': 'Mg2+'},\n",
              "   'T22': {'type': 'CHEMICAL', 'start': 719, 'end': 728, 'text': 'diazoxide'},\n",
              "   'T23': {'type': 'CHEMICAL', 'start': 812, 'end': 815, 'text': 'ATP'},\n",
              "   'T24': {'type': 'CHEMICAL', 'start': 186, 'end': 194, 'text': 'Tween 80'},\n",
              "   'T25': {'type': 'CHEMICAL', 'start': 991, 'end': 992, 'text': 'K'},\n",
              "   'T26': {'type': 'CHEMICAL', 'start': 993, 'end': 996, 'text': 'ATP'},\n",
              "   'T27': {'type': 'CHEMICAL', 'start': 18, 'end': 21, 'text': 'ATP'},\n",
              "   'T28': {'type': 'CHEMICAL', 'start': 32, 'end': 41, 'text': 'potassium'},\n",
              "   'T29': {'type': 'GENE-Y', 'start': 1157, 'end': 1164, 'text': 'Kir1.1a'},\n",
              "   'T30': {'type': 'GENE-Y', 'start': 1166, 'end': 1171, 'text': 'ROMK1'},\n",
              "   'T31': {'type': 'GENE-N',\n",
              "    'start': 218,\n",
              "    'end': 232,\n",
              "    'text': 'K(ATP) channel'},\n",
              "   'T32': {'type': 'GENE-N',\n",
              "    'start': 1314,\n",
              "    'end': 1328,\n",
              "    'text': 'K(ATP) channel'},\n",
              "   'T33': {'type': 'GENE-N', 'start': 1344, 'end': 1351, 'text': 'insulin'},\n",
              "   'T34': {'type': 'GENE-N',\n",
              "    'start': 1391,\n",
              "    'end': 1405,\n",
              "    'text': 'K(ATP) channel'},\n",
              "   'T35': {'type': 'GENE-N', 'start': 1509, 'end': 1516, 'text': 'insulin'},\n",
              "   'T36': {'type': 'GENE-N',\n",
              "    'start': 1553,\n",
              "    'end': 1567,\n",
              "    'text': 'K(ATP) channel'},\n",
              "   'T37': {'type': 'GENE-N',\n",
              "    'start': 1707,\n",
              "    'end': 1721,\n",
              "    'text': 'K(ATP) channel'},\n",
              "   'T38': {'type': 'GENE-N',\n",
              "    'start': 305,\n",
              "    'end': 319,\n",
              "    'text': 'K(ATP) channel'},\n",
              "   'T39': {'type': 'GENE-N',\n",
              "    'start': 580,\n",
              "    'end': 594,\n",
              "    'text': 'K(ATP) channel'},\n",
              "   'T40': {'type': 'GENE-N', 'start': 732, 'end': 739, 'text': 'trypsin'},\n",
              "   'T41': {'type': 'GENE-Y',\n",
              "    'start': 899,\n",
              "    'end': 913,\n",
              "    'text': 'Kir6.2deltaC26'},\n",
              "   'T42': {'type': 'GENE-Y', 'start': 955, 'end': 959, 'text': 'SUR1'},\n",
              "   'T43': {'type': 'GENE-N',\n",
              "    'start': 991,\n",
              "    'end': 1005,\n",
              "    'text': 'K(ATP) channel'},\n",
              "   'T44': {'type': 'GENE-Y', 'start': 1054, 'end': 1060, 'text': 'Kir6.2'},\n",
              "   'T45': {'type': 'GENE-Y', 'start': 1069, 'end': 1076, 'text': 'SUR1. 6'},\n",
              "   'T46': {'type': 'GENE-N',\n",
              "    'start': 18,\n",
              "    'end': 49,\n",
              "    'text': 'ATP-sensitive potassium channel'}},\n",
              "  'relations': [{'type': 'INHIBITOR', 'arg1': 'T16', 'arg2': 'T38'},\n",
              "   {'type': 'INHIBITOR', 'arg1': 'T17', 'arg2': 'T38'},\n",
              "   {'type': 'INDIRECT-UPREGULATOR', 'arg1': 'T9', 'arg2': 'T35'}],\n",
              "  'labels': [0,\n",
              "   0,\n",
              "   0,\n",
              "   0,\n",
              "   0,\n",
              "   0,\n",
              "   0,\n",
              "   0,\n",
              "   0,\n",
              "   1,\n",
              "   0,\n",
              "   1,\n",
              "   1,\n",
              "   0,\n",
              "   0,\n",
              "   0,\n",
              "   0,\n",
              "   0,\n",
              "   0,\n",
              "   0,\n",
              "   0,\n",
              "   0,\n",
              "   0,\n",
              "   0,\n",
              "   0,\n",
              "   0,\n",
              "   0,\n",
              "   0,\n",
              "   0,\n",
              "   0,\n",
              "   0,\n",
              "   0,\n",
              "   0,\n",
              "   0,\n",
              "   0,\n",
              "   0,\n",
              "   0,\n",
              "   0,\n",
              "   1,\n",
              "   1,\n",
              "   0,\n",
              "   0,\n",
              "   0,\n",
              "   0,\n",
              "   0,\n",
              "   0],\n",
              "  'classes': [0,\n",
              "   0,\n",
              "   0,\n",
              "   0,\n",
              "   0,\n",
              "   0,\n",
              "   0,\n",
              "   0,\n",
              "   0,\n",
              "   'INHIBITOR',\n",
              "   0,\n",
              "   'INHIBITOR',\n",
              "   'INHIBITOR',\n",
              "   0,\n",
              "   0,\n",
              "   0,\n",
              "   0,\n",
              "   0,\n",
              "   0,\n",
              "   0,\n",
              "   0,\n",
              "   0,\n",
              "   0,\n",
              "   0,\n",
              "   0,\n",
              "   0,\n",
              "   0,\n",
              "   0,\n",
              "   0,\n",
              "   0,\n",
              "   0,\n",
              "   0,\n",
              "   0,\n",
              "   0,\n",
              "   0,\n",
              "   0,\n",
              "   0,\n",
              "   0,\n",
              "   'INDIRECT-UPREGULATOR',\n",
              "   'INDIRECT-UPREGULATOR',\n",
              "   0,\n",
              "   0,\n",
              "   0,\n",
              "   0,\n",
              "   0,\n",
              "   0],\n",
              "  'entity_labels': [0,\n",
              "   0,\n",
              "   0,\n",
              "   0,\n",
              "   0,\n",
              "   0,\n",
              "   0,\n",
              "   0,\n",
              "   1,\n",
              "   1,\n",
              "   0,\n",
              "   0,\n",
              "   0,\n",
              "   0,\n",
              "   0,\n",
              "   0,\n",
              "   0,\n",
              "   0,\n",
              "   0,\n",
              "   0,\n",
              "   0,\n",
              "   0,\n",
              "   0,\n",
              "   0,\n",
              "   0,\n",
              "   0,\n",
              "   0,\n",
              "   0,\n",
              "   0,\n",
              "   0,\n",
              "   0,\n",
              "   0,\n",
              "   0,\n",
              "   1,\n",
              "   0,\n",
              "   0,\n",
              "   0,\n",
              "   0,\n",
              "   0,\n",
              "   0,\n",
              "   0,\n",
              "   0],\n",
              "  'tagged_text': 'Inhibition of the  [E1] ATP [/E1] [E2] ATP-sensitive potassium channel [/E2] [E1] potassium [/E1] channel from mouse pancreatic beta-cells by surfactants.\\n1. We have used patch-clamp methods to study the effects of the detergents, Cremophor,  [E1] Tween 80 [/E1] and  [E1] Triton X100 [/E1] on the  [E1] K [/E1] [E2] K(ATP) channel [/E2] [E1] ATP [/E1]) channel in the pancreatic beta-cell from mouse. 2. All three detergents blocked  [E1] K [/E1] [E2] K(ATP) channel [/E2] [E1] ATP [/E1]) channel activity with the following order of potency:  [E1] Tween 80 [/E1] (Ki< approximately 83 nM)> [E1] Triton X100 [/E1] (Ki=350 nM)>Cremophor. In all cases the block was poorly reversible. 3. Single-channel studies suggested that at low doses, the detergents act as slow blockers of the  [E1] K [/E1] [E2] K(ATP) channel [/E2] [E1] ATP [/E1]) channel. 4. Unlike the block produced by  [E1] tolbutamide [/E1], that produced by detergent was not affected by intracellular  [E1] Mg2+ [/E1]-nucleotide,  [E1] diazoxide [/E1] or  [E2] trypsin [/E2] treatment, nor did it involve an acceleration of rundown or increase in  [E1] ATP [/E1] sensitivity of the chanel. 5. The detergents could block the pore-forming subunit,  [E2] Kir6.2deltaC26 [/E2], which can be expressed independently of  [E2] SUR1 [/E2] (the regulatory subunit of the  [E1] K [/E1] [E2] K(ATP) channel [/E2] [E1] ATP [/E1]) channel). These data suggest that the detergents act on  [E2] Kir6.2 [/E2] and not  [E2] SUR1. 6 [/E2]. The detergents had no effect on another member of the inward rectifier family:  [E2] Kir1.1a [/E2] ( [E2] ROMK1 [/E2]). 7. Voltage-dependent  [E1] K [/E1]-currents in the beta-cell were reversibly blocked by the detergents with a far lower potency than that found for the  [E1] K [/E1] [E2] K(ATP) channel [/E2] [E1] ATP [/E1]) channel. 8. Like other  [E2] insulin [/E2] secretagogues that act by blocking the  [E1] K [/E1] [E2] K(ATP) channel [/E2] [E1] ATP [/E1]) channel, Cremophor elevated intracellular  [E1] Ca2+ [/E1] in single beta-cells to levels that would be expected to elicit  [E2] insulin [/E2] secretion. 9. Given the role of the  [E1] K [/E1] [E2] K(ATP) channel [/E2] [E1] ATP [/E1]) channel in many physiological processes, we conclude that plasma borne detergent may have pharmacological actions mediated through blockage of the  [E1] K [/E1] [E2] K(ATP) channel [/E2] [E1] ATP [/E1]'}]"
            ]
          },
          "metadata": {},
          "execution_count": 57
        }
      ]
    },
    {
      "cell_type": "markdown",
      "source": [
        "## Classification Step"
      ],
      "metadata": {
        "id": "E4CWwTfCcIqQ"
      }
    },
    {
      "cell_type": "markdown",
      "source": [
        "Relevant imports:\n",
        "\n"
      ],
      "metadata": {
        "id": "ijHn5tYH2ecP"
      }
    },
    {
      "cell_type": "code",
      "source": [
        "from sklearn.linear_model import LogisticRegression\n",
        "from sklearn.model_selection import cross_val_score\n",
        "from sklearn.model_selection import train_test_split\n",
        "from sklearn.metrics import plot_confusion_matrix, classification_report\n",
        "import matplotlib.pyplot as plt\n",
        "\n",
        "target_labels = list(set([r['type'] for doc in docs for r in doc['relations']]))"
      ],
      "metadata": {
        "id": "CwZpVx6Y9Vs-"
      },
      "execution_count": null,
      "outputs": []
    },
    {
      "cell_type": "markdown",
      "source": [
        "Splitting the CLS embeddings into train/test sets"
      ],
      "metadata": {
        "id": "TrzGuFGnECwz"
      }
    },
    {
      "cell_type": "code",
      "source": [
        "#Splits the sentences into training and test sets for binary classification\n",
        "cls_train_features, cls_test_features, cls_train_labels, cls_test_labels = train_test_split(cls_embeddings, labels)"
      ],
      "metadata": {
        "id": "fZqHekZbEHon"
      },
      "execution_count": 35,
      "outputs": []
    },
    {
      "cell_type": "markdown",
      "source": [
        "Classifying these using logistic regression"
      ],
      "metadata": {
        "id": "mbGMU_aTMd0e"
      }
    },
    {
      "cell_type": "code",
      "source": [
        "#Defines a logistic regression classifier\n",
        "lr_clf = LogisticRegression(solver='saga')\n",
        "\n",
        "#Fits the model to the training data\n",
        "lr_clf.fit(cls_train_features, cls_train_labels)\n",
        "\n",
        "#Tests the model using the test data\n",
        "lr_clf.score(cls_test_features, cls_test_labels)\n",
        "\n",
        "print(classification_report(cls_test_labels, lr_clf.predict(cls_test_features)))\n",
        "\n",
        "\n",
        "rel_labels = []\n",
        "pos_embeddings = []\n",
        "p = lr_clf.predict(cls_test_features)\n",
        "for elt in range(len(p)):\n",
        "  if p[elt] ==1:\n",
        "    pos_embeddings.append(cls_embeddings[elt])\n",
        "    rel_labels.append(classes[elt])\n",
        "\n",
        "cls_train_features, cls_test_features, cls_train_labels, cls_test_labels = train_test_split(pos_embeddings, rel_labels)\n",
        "\n",
        "#Defines a logistic regression classifier\n",
        "lr_clf = LogisticRegression(solver='saga')\n",
        "\n",
        "#Fits the model to the training data\n",
        "lr_clf.fit(cls_train_features, cls_train_labels)\n",
        "\n",
        "#Tests the model using the test data\n",
        "lr_clf.score(cls_test_features, cls_test_labels)\n",
        "\n",
        "print(classification_report(cls_test_labels, lr_clf.predict(cls_test_features)))\n",
        "\n"
      ],
      "metadata": {
        "id": "2Puvz2iJMkS-",
        "colab": {
          "base_uri": "https://localhost:8080/",
          "height": 426
        },
        "outputId": "d29df7be-9d4a-4904-d7ed-3346c80b25f8"
      },
      "execution_count": 37,
      "outputs": [
        {
          "output_type": "stream",
          "name": "stdout",
          "text": [
            "              precision    recall  f1-score   support\n",
            "\n",
            "           0       0.87      0.93      0.90      5607\n",
            "           1       0.70      0.56      0.62      1704\n",
            "\n",
            "    accuracy                           0.84      7311\n",
            "   macro avg       0.78      0.74      0.76      7311\n",
            "weighted avg       0.83      0.84      0.83      7311\n",
            "\n"
          ]
        },
        {
          "output_type": "stream",
          "name": "stderr",
          "text": [
            "/usr/local/lib/python3.8/dist-packages/sklearn/linear_model/_sag.py:352: ConvergenceWarning: The max_iter was reached which means the coef_ did not converge\n",
            "  warnings.warn(\n"
          ]
        },
        {
          "output_type": "error",
          "ename": "NameError",
          "evalue": "ignored",
          "traceback": [
            "\u001b[0;31m---------------------------------------------------------------------------\u001b[0m",
            "\u001b[0;31mNameError\u001b[0m                                 Traceback (most recent call last)",
            "\u001b[0;32m<ipython-input-37-f95ca386ca29>\u001b[0m in \u001b[0;36m<module>\u001b[0;34m\u001b[0m\n\u001b[1;32m     17\u001b[0m   \u001b[0;32mif\u001b[0m \u001b[0mp\u001b[0m\u001b[0;34m[\u001b[0m\u001b[0melt\u001b[0m\u001b[0;34m]\u001b[0m \u001b[0;34m==\u001b[0m\u001b[0;36m1\u001b[0m\u001b[0;34m:\u001b[0m\u001b[0;34m\u001b[0m\u001b[0;34m\u001b[0m\u001b[0m\n\u001b[1;32m     18\u001b[0m     \u001b[0mpos_embeddings\u001b[0m\u001b[0;34m.\u001b[0m\u001b[0mappend\u001b[0m\u001b[0;34m(\u001b[0m\u001b[0mcls_embeddings\u001b[0m\u001b[0;34m[\u001b[0m\u001b[0melt\u001b[0m\u001b[0;34m]\u001b[0m\u001b[0;34m)\u001b[0m\u001b[0;34m\u001b[0m\u001b[0;34m\u001b[0m\u001b[0m\n\u001b[0;32m---> 19\u001b[0;31m     \u001b[0mrel_labels\u001b[0m\u001b[0;34m.\u001b[0m\u001b[0mappend\u001b[0m\u001b[0;34m(\u001b[0m\u001b[0mclasses\u001b[0m\u001b[0;34m[\u001b[0m\u001b[0melt\u001b[0m\u001b[0;34m]\u001b[0m\u001b[0;34m)\u001b[0m\u001b[0;34m\u001b[0m\u001b[0;34m\u001b[0m\u001b[0m\n\u001b[0m\u001b[1;32m     20\u001b[0m \u001b[0;34m\u001b[0m\u001b[0m\n\u001b[1;32m     21\u001b[0m \u001b[0mcls_train_features\u001b[0m\u001b[0;34m,\u001b[0m \u001b[0mcls_test_features\u001b[0m\u001b[0;34m,\u001b[0m \u001b[0mcls_train_labels\u001b[0m\u001b[0;34m,\u001b[0m \u001b[0mcls_test_labels\u001b[0m \u001b[0;34m=\u001b[0m \u001b[0mtrain_test_split\u001b[0m\u001b[0;34m(\u001b[0m\u001b[0mpos_embeddings\u001b[0m\u001b[0;34m,\u001b[0m \u001b[0mrel_labels\u001b[0m\u001b[0;34m)\u001b[0m\u001b[0;34m\u001b[0m\u001b[0;34m\u001b[0m\u001b[0m\n",
            "\u001b[0;31mNameError\u001b[0m: name 'classes' is not defined"
          ]
        }
      ]
    },
    {
      "cell_type": "code",
      "source": [
        "fig, ax = plt.subplots(figsize=(8, 8))\n",
        "plot_confusion_matrix(lr_clf, cls_test_features, cls_test_labels, ax=ax)  \n",
        "plt.show()"
      ],
      "metadata": {
        "id": "ssV6P_L1TWOb",
        "colab": {
          "base_uri": "https://localhost:8080/",
          "height": 521
        },
        "outputId": "8682e374-c10d-4267-bfd4-0ffff075bc85"
      },
      "execution_count": null,
      "outputs": [
        {
          "output_type": "stream",
          "name": "stderr",
          "text": [
            "/usr/local/lib/python3.8/dist-packages/sklearn/utils/deprecation.py:87: FutureWarning: Function plot_confusion_matrix is deprecated; Function `plot_confusion_matrix` is deprecated in 1.0 and will be removed in 1.2. Use one of the class methods: ConfusionMatrixDisplay.from_predictions or ConfusionMatrixDisplay.from_estimator.\n",
            "  warnings.warn(msg, category=FutureWarning)\n"
          ]
        },
        {
          "output_type": "display_data",
          "data": {
            "text/plain": [
              "<Figure size 576x576 with 2 Axes>"
            ],
            "image/png": "[encoded data removed]"
          },
          "metadata": {
            "needs_background": "light"
          }
        }
      ]
    },
    {
      "cell_type": "markdown",
      "source": [
        "Entity start architecture"
      ],
      "metadata": {
        "id": "5B_gUEuFgxAY"
      }
    },
    {
      "cell_type": "code",
      "source": [
        "ent_labels = [doc['entity_labels'] for doc in docs if 'entity_labels' in doc.keys()]\n",
        "relation_labels = [doc['rel_labels'] for doc in docs if 'rel_labels' in doc.keys()]\n",
        "e = list(itertools.chain.from_iterable(ent_labels))\n",
        "r = list(itertools.chain.from_iterable(relation_labels))\n",
        "print(len(e))\n",
        "start_train_features, start_test_features, start_train_labels, start_test_labels = train_test_split(entity_embeddings, e[:64653])"
      ],
      "metadata": {
        "id": "7KvwwWbWg5jj",
        "colab": {
          "base_uri": "https://localhost:8080/",
          "height": 217
        },
        "outputId": "410fcedb-e679-4563-acce-9247eb1cef00"
      },
      "execution_count": 44,
      "outputs": [
        {
          "output_type": "stream",
          "name": "stdout",
          "text": [
            "64685\n"
          ]
        },
        {
          "output_type": "error",
          "ename": "NameError",
          "evalue": "ignored",
          "traceback": [
            "\u001b[0;31m---------------------------------------------------------------------------\u001b[0m",
            "\u001b[0;31mNameError\u001b[0m                                 Traceback (most recent call last)",
            "\u001b[0;32m<ipython-input-44-c864a0da0436>\u001b[0m in \u001b[0;36m<module>\u001b[0;34m\u001b[0m\n\u001b[1;32m      4\u001b[0m \u001b[0mr\u001b[0m \u001b[0;34m=\u001b[0m \u001b[0mlist\u001b[0m\u001b[0;34m(\u001b[0m\u001b[0mitertools\u001b[0m\u001b[0;34m.\u001b[0m\u001b[0mchain\u001b[0m\u001b[0;34m.\u001b[0m\u001b[0mfrom_iterable\u001b[0m\u001b[0;34m(\u001b[0m\u001b[0mrelation_labels\u001b[0m\u001b[0;34m)\u001b[0m\u001b[0;34m)\u001b[0m\u001b[0;34m\u001b[0m\u001b[0;34m\u001b[0m\u001b[0m\n\u001b[1;32m      5\u001b[0m \u001b[0mprint\u001b[0m\u001b[0;34m(\u001b[0m\u001b[0mlen\u001b[0m\u001b[0;34m(\u001b[0m\u001b[0me\u001b[0m\u001b[0;34m)\u001b[0m\u001b[0;34m)\u001b[0m\u001b[0;34m\u001b[0m\u001b[0;34m\u001b[0m\u001b[0m\n\u001b[0;32m----> 6\u001b[0;31m \u001b[0mstart_train_features\u001b[0m\u001b[0;34m,\u001b[0m \u001b[0mstart_test_features\u001b[0m\u001b[0;34m,\u001b[0m \u001b[0mstart_train_labels\u001b[0m\u001b[0;34m,\u001b[0m \u001b[0mstart_test_labels\u001b[0m \u001b[0;34m=\u001b[0m \u001b[0mtrain_test_split\u001b[0m\u001b[0;34m(\u001b[0m\u001b[0mentity_embeddings\u001b[0m\u001b[0;34m,\u001b[0m \u001b[0me\u001b[0m\u001b[0;34m[\u001b[0m\u001b[0;34m:\u001b[0m\u001b[0;36m64653\u001b[0m\u001b[0;34m]\u001b[0m\u001b[0;34m)\u001b[0m\u001b[0;34m\u001b[0m\u001b[0;34m\u001b[0m\u001b[0m\n\u001b[0m",
            "\u001b[0;31mNameError\u001b[0m: name 'entity_embeddings' is not defined"
          ]
        }
      ]
    },
    {
      "cell_type": "code",
      "source": [
        "lr_clf = LogisticRegression(solver='saga')\n",
        "lr_clf.fit(start_train_features, start_train_labels)\n",
        "lr_clf.score(start_test_features, start_test_labels)\n",
        "\n",
        "print(classification_report(start_test_labels, lr_clf.predict(start_test_features)))"
      ],
      "metadata": {
        "id": "sbLcGoWghA49",
        "colab": {
          "base_uri": "https://localhost:8080/"
        },
        "outputId": "c6294fb8-361b-41d3-a933-a01427c9f56a"
      },
      "execution_count": null,
      "outputs": [
        {
          "output_type": "stream",
          "name": "stdout",
          "text": [
            "              precision    recall  f1-score   support\n",
            "\n",
            "           0       0.74      0.98      0.84     11951\n",
            "           1       0.38      0.04      0.07      4206\n",
            "\n",
            "    accuracy                           0.73     16157\n",
            "   macro avg       0.56      0.51      0.46     16157\n",
            "weighted avg       0.65      0.73      0.64     16157\n",
            "\n"
          ]
        },
        {
          "output_type": "stream",
          "name": "stderr",
          "text": [
            "/usr/local/lib/python3.8/dist-packages/sklearn/linear_model/_sag.py:352: ConvergenceWarning: The max_iter was reached which means the coef_ did not converge\n",
            "  warnings.warn(\n"
          ]
        }
      ]
    },
    {
      "cell_type": "code",
      "source": [
        "fig, ax = plt.subplots(figsize=(8, 8))\n",
        "plot_confusion_matrix(lr_clf, start_test_features, start_test_labels, ax=ax)  \n",
        "plt.show()"
      ],
      "metadata": {
        "id": "QYkFtFJmUCnq",
        "colab": {
          "base_uri": "https://localhost:8080/",
          "height": 521
        },
        "outputId": "7bfcce19-0b5e-4426-b796-b709e16cb242"
      },
      "execution_count": null,
      "outputs": [
        {
          "output_type": "stream",
          "name": "stderr",
          "text": [
            "/usr/local/lib/python3.8/dist-packages/sklearn/utils/deprecation.py:87: FutureWarning: Function plot_confusion_matrix is deprecated; Function `plot_confusion_matrix` is deprecated in 1.0 and will be removed in 1.2. Use one of the class methods: ConfusionMatrixDisplay.from_predictions or ConfusionMatrixDisplay.from_estimator.\n",
            "  warnings.warn(msg, category=FutureWarning)\n"
          ]
        },
        {
          "output_type": "display_data",
          "data": {
            "text/plain": [
              "<Figure size 576x576 with 2 Axes>"
            ],
            "image/png": "[encoded data removed]"
          },
          "metadata": {
            "needs_background": "light"
          }
        }
      ]
    },
    {
      "cell_type": "code",
      "source": [
        "rel_labels = []\n",
        "pos_embeddings = []\n",
        "p = lr_clf.predict(start_test_features)\n",
        "for elt in range(len(p)):\n",
        "  if p[elt] ==1:\n",
        "    pos_embeddings.append(entity_embeddings[elt])\n",
        "    rel_labels.append(r[elt])\n",
        "\n",
        "start_train_features, start_test_features, start_train_labels, start_test_labels = train_test_split(entity_embeddings, rel_labels)\n",
        "\n",
        "#Defines a logistic regression classifier\n",
        "lr_clf = LogisticRegression(solver='saga')\n",
        "\n",
        "#Fits the model to the training data\n",
        "lr_clf.fit(start_train_features, start_train_labels)\n",
        "\n",
        "#Tests the model using the test data\n",
        "lr_clf.score(start_test_features, start_test_labels)\n",
        "\n",
        "print(classification_report(start_test_labels, lr_clf.predict(start_test_features)))"
      ],
      "metadata": {
        "id": "mPoML4ftf6dB"
      },
      "execution_count": null,
      "outputs": []
    },
    {
      "cell_type": "code",
      "source": [
        "fig, ax = plt.subplots(figsize=(8, 8))\n",
        "plot_confusion_matrix(lr_clf, start_test_features, start_test_labels, ax=ax)  \n",
        "plt.show()"
      ],
      "metadata": {
        "id": "3KcilWNKf-x_"
      },
      "execution_count": null,
      "outputs": []
    }
  ]
}