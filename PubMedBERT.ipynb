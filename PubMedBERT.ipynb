{
 "cells": [
  {
   "cell_type": "markdown",
   "metadata": {
    "colab_type": "text",
    "id": "view-in-github"
   },
   "source": [
    "<a href=\"https://colab.research.google.com/github/ChloeMorgana/Dissertation-Project/blob/main/PubMedBERT.ipynb\" target=\"_parent\"><img src=\"https://colab.research.google.com/assets/colab-badge.svg\" alt=\"Open In Colab\"/></a>"
   ]
  },
  {
   "cell_type": "markdown",
   "metadata": {
    "id": "XEVZhcw6vcub"
   },
   "source": [
    "# Loading of DrugProt dataset\n",
    "\n",
    "Downloading and unzipping file"
   ]
  },
  {
   "cell_type": "code",
   "execution_count": 35,
   "metadata": {
    "colab": {
     "base_uri": "https://localhost:8080/"
    },
    "id": "CXtcGw7lujGS",
    "outputId": "30ea2a8c-e64d-4b78-8bb3-2ff4346f6c35"
   },
   "outputs": [
    {
     "name": "stdout",
     "output_type": "stream",
     "text": [
      "--2023-01-25 11:10:17--  https://zenodo.org/record/5042151/files/drugprot-gs-training-development.zip\n",
      "Resolving zenodo.org (zenodo.org)... 188.185.124.72\n",
      "Connecting to zenodo.org (zenodo.org)|188.185.124.72|:443... connected.\n",
      "HTTP request sent, awaiting response... 200 OK\n",
      "Length: 3796908 (3.6M) [application/octet-stream]\n",
      "Saving to: ‘drugprot-gs-training-development.zip.2’\n",
      "\n",
      "drugprot-gs-trainin 100%[===================>]   3.62M  1.58MB/s    in 2.3s    \n",
      "\n",
      "2023-01-25 11:10:21 (1.58 MB/s) - ‘drugprot-gs-training-development.zip.2’ saved [3796908/3796908]\n",
      "\n",
      "Archive:  drugprot-gs-training-development.zip\n",
      "replace drugprot-gs-training-development/README.pdf? [y]es, [n]o, [A]ll, [N]one, [r]ename: ^C\n"
     ]
    }
   ],
   "source": [
    "!wget https://zenodo.org/record/5042151/files/drugprot-gs-training-development.zip\n",
    "!unzip drugprot-gs-training-development.zip"
   ]
  },
  {
   "cell_type": "markdown",
   "metadata": {
    "id": "BlEsiDFNyVK2"
   },
   "source": [
    "Combining all three files together."
   ]
  },
  {
   "cell_type": "code",
   "execution_count": 128,
   "metadata": {
    "id": "Jnq0pnCUvtPI"
   },
   "outputs": [],
   "source": [
    "def loadDrugProt(abstracts_filename, entities_filename, relations_filename):\n",
    "\n",
    "  docs = {}\n",
    "\n",
    "  # Load the title/abstracts text in as documents\n",
    "  with open(abstracts_filename, encoding='utf8') as f:\n",
    "    for lineno,line in enumerate(f):\n",
    "      split = line.strip('\\n').split('\\t')\n",
    "      assert len(split) == 3, f\"Expected 3 columns but got {len(split)} on line {lineno+1}\"\n",
    "      pubmed_id, title, abstract = split\n",
    "      pubmed_id = int(pubmed_id)\n",
    "\n",
    "      combined_text = title + '\\n' + abstract\n",
    "      docs[pubmed_id] = {'pubmed_id':pubmed_id, 'text':combined_text, 'entities':{}, 'relations':[]}\n",
    "\n",
    "  # Load the entities and match them up with the documents\n",
    "  with open(entities_filename, encoding='utf8') as f:\n",
    "    for lineno,line in enumerate(f):\n",
    "      split = line.strip('\\n').split('\\t')\n",
    "      assert len(split) == 6, f\"Expected 6 columns but got {len(split)} on line {lineno+1}\"\n",
    "      pubmed_id, entity_id, entity_type, start_coord, end_coord, entity_text = split\n",
    "\n",
    "      pubmed_id = int(pubmed_id)\n",
    "      start_coord = int(start_coord)\n",
    "      end_coord = int(end_coord)\n",
    "\n",
    "      assert pubmed_id in docs, f\"Did not find matching document for pubmed_id={pubmed_id}\"\n",
    "      doc = docs[pubmed_id]\n",
    "\n",
    "      assert doc['text'][start_coord:end_coord] == entity_text, f\"Text for entity with coords {start_coord}:{end_coord} in document (pubmed_id={pubmed_id} does not match expected. 'f{doc['text'][start_coord:end_coord]}' != '{entity_text}'\"\n",
    "\n",
    "      entity = {'type':entity_type, 'start':start_coord, 'end':end_coord, 'text':entity_text}\n",
    "      doc['entities'][entity_id] = entity\n",
    "\n",
    "  if relations_filename is not None:\n",
    "    # Load the relations and match them up with the entities in the corresponding document\n",
    "    with open(relations_filename, encoding='utf8') as f:\n",
    "      for lineno,line in enumerate(f):\n",
    "        split = line.strip('\\n').split('\\t')\n",
    "        assert len(split) == 4, f\"Expected 4 columns but got {len(split)} on line {lineno+1}\"\n",
    "\n",
    "        pubmed_id, relation_type, arg1, arg2 = split\n",
    "\n",
    "        pubmed_id = int(pubmed_id)\n",
    "        assert arg1.startswith('Arg1:'), f\"Relation argument should start with 'Arg1:'. Got: {arg1}\"\n",
    "        assert arg2.startswith('Arg2:'), f\"Relation argument should start with 'Arg2:'. Got: {arg2}\"\n",
    "\n",
    "        # Remove arg1/arg2 from text\n",
    "        arg1 = arg1.split(':')[1]\n",
    "        arg2 = arg2.split(':')[1]\n",
    "\n",
    "        assert pubmed_id in docs, f\"Did not find matching document for pubmed_id={pubmed_id}\"\n",
    "        doc = docs[pubmed_id]\n",
    "\n",
    "        assert arg1 in doc['entities'], f\"Couldn't find entity with id={arg1} in document with pubmed_id={pubmed_id}\"\n",
    "        assert arg2 in doc['entities'], f\"Couldn't find entity with id={arg2} in document with pubmed_id={pubmed_id}\"\n",
    "\n",
    "        relation = {'type':relation_type,'arg1':arg1,'arg2':arg2}\n",
    "        doc['relations'].append(relation)\n",
    "\n",
    "  # Convert the dictionary of documents (indexed by pubmed_id) into a simpler dictionary\n",
    "  docs = sorted(docs.values(), key=lambda x:x['pubmed_id'])\n",
    "\n",
    "  return docs"
   ]
  },
  {
   "cell_type": "markdown",
   "metadata": {
    "id": "rmXTTkBLyk4Q"
   },
   "source": [
    "Applying function to dataset"
   ]
  },
  {
   "cell_type": "code",
   "execution_count": 129,
   "metadata": {
    "colab": {
     "base_uri": "https://localhost:8080/"
    },
    "id": "yAemM9gmyG7F",
    "outputId": "68e1d2d2-2741-4bef-e70b-de9f870bd1b9"
   },
   "outputs": [],
   "source": [
    "docs = loadDrugProt('drugprot-gs-training-development/training/drugprot_training_abstracs.tsv',\n",
    "                    'drugprot-gs-training-development/training/drugprot_training_entities.tsv',\n",
    "                    'drugprot-gs-training-development/training/drugprot_training_relations.tsv')\n",
    "\n",
    "dev_docs = loadDrugProt('drugprot-gs-training-development/development/drugprot_development_abstracs.tsv',\n",
    "                    'drugprot-gs-training-development/development/drugprot_development_entities.tsv',\n",
    "                    'drugprot-gs-training-development/development/drugprot_development_relations.tsv')"
   ]
  },
  {
   "cell_type": "markdown",
   "metadata": {
    "id": "hsBqNeznyrJC"
   },
   "source": [
    "Observation of doc structure\n"
   ]
  },
  {
   "cell_type": "code",
   "execution_count": 130,
   "metadata": {
    "id": "AYt1O1bLyKK8"
   },
   "outputs": [],
   "source": [
    "search = [ d for d in docs if d['pubmed_id'] == 23197773]\n",
    "assert len(search) == 1, \"Something went wrong and couldn't find the document we want\"\n",
    "\n",
    "\n",
    "#non_sent = [ d for d in docs if d['pubmed_id'] == 8733007]\n",
    "docs.remove(search[0])"
   ]
  },
  {
   "cell_type": "markdown",
   "metadata": {
    "id": "SvJVGoiznqJs"
   },
   "source": [
    "We can observe the total number of relations and the number of different relation types across all documents below:"
   ]
  },
  {
   "cell_type": "markdown",
   "metadata": {
    "id": "wuvPifsbVAI2"
   },
   "source": [
    "# Encoding Step"
   ]
  },
  {
   "cell_type": "markdown",
   "metadata": {
    "id": "BwTEztaT7myc"
   },
   "source": [
    "The code below imports certain packages that will be used during this relation extraction task."
   ]
  },
  {
   "cell_type": "code",
   "execution_count": 131,
   "metadata": {
    "colab": {
     "base_uri": "https://localhost:8080/"
    },
    "id": "zt-G3qMF6S6z",
    "outputId": "eb3b559c-c86e-452a-9487-01d19f2996fa"
   },
   "outputs": [
    {
     "name": "stdout",
     "output_type": "stream",
     "text": [
      "huggingface/tokenizers: The current process just got forked, after parallelism has already been used. Disabling parallelism to avoid deadlocks...\n",
      "To disable this warning, you can either:\n",
      "\t- Avoid using `tokenizers` before the fork if possible\n",
      "\t- Explicitly set the environment variable TOKENIZERS_PARALLELISM=(true | false)\n",
      "Requirement already satisfied: transformers in ./.local/lib/python3.8/site-packages (4.23.1)\n",
      "Requirement already satisfied: filelock in ./.local/lib/python3.8/site-packages (from transformers) (3.8.0)\n",
      "Requirement already satisfied: regex!=2019.12.17 in ./.local/lib/python3.8/site-packages (from transformers) (2022.9.13)\n",
      "Requirement already satisfied: pyyaml>=5.1 in /usr/lib/python3/dist-packages (from transformers) (5.3.1)\n",
      "Requirement already satisfied: requests in /usr/lib/python3/dist-packages (from transformers) (2.22.0)\n",
      "Requirement already satisfied: huggingface-hub<1.0,>=0.10.0 in ./.local/lib/python3.8/site-packages (from transformers) (0.10.1)\n",
      "Requirement already satisfied: tokenizers!=0.11.3,<0.14,>=0.11.1 in ./.local/lib/python3.8/site-packages (from transformers) (0.13.1)\n",
      "Requirement already satisfied: numpy>=1.17 in ./.local/lib/python3.8/site-packages (from transformers) (1.23.4)\n",
      "Requirement already satisfied: packaging>=20.0 in ./.local/lib/python3.8/site-packages (from transformers) (21.3)\n",
      "Requirement already satisfied: tqdm>=4.27 in ./.local/lib/python3.8/site-packages (from transformers) (4.64.1)\n",
      "Requirement already satisfied: typing-extensions>=3.7.4.3 in ./.local/lib/python3.8/site-packages (from huggingface-hub<1.0,>=0.10.0->transformers) (4.4.0)\n",
      "Requirement already satisfied: pyparsing!=3.0.5,>=2.0.2 in ./.local/lib/python3.8/site-packages (from packaging>=20.0->transformers) (3.0.9)\n",
      "huggingface/tokenizers: The current process just got forked, after parallelism has already been used. Disabling parallelism to avoid deadlocks...\n",
      "To disable this warning, you can either:\n",
      "\t- Avoid using `tokenizers` before the fork if possible\n",
      "\t- Explicitly set the environment variable TOKENIZERS_PARALLELISM=(true | false)\n",
      "Requirement already satisfied: segtok in ./.local/lib/python3.8/site-packages (1.5.11)\n",
      "Requirement already satisfied: regex in ./.local/lib/python3.8/site-packages (from segtok) (2022.9.13)\n"
     ]
    }
   ],
   "source": [
    "#!pip install torch\n",
    "!pip install transformers\n",
    "!pip install segtok\n",
    "\n",
    "#import transformers as ppb\n",
    "from transformers import BertModel, AutoTokenizer\n",
    "import pandas as pd\n",
    "import numpy as np\n",
    "import nltk\n",
    "import torch\n",
    "import itertools\n",
    "from segtok.segmenter import split_single"
   ]
  },
  {
   "cell_type": "markdown",
   "metadata": {
    "id": "Dzu6SwhS7GZd"
   },
   "source": [
    "This is a function that checks if a particular entity tag is part of a relation or not. This is used to form labels for the data so that the classifier can learn which sentences contain relations and which do not."
   ]
  },
  {
   "cell_type": "code",
   "execution_count": 158,
   "metadata": {
    "id": "ruR21j2mXzO8"
   },
   "outputs": [],
   "source": [
    "#Checks if both arguments are terms in one relation\n",
    "def isRelation(arg1,arg2,doc):\n",
    "  relation = 0\n",
    "  for r in doc['relations']:\n",
    "    if (arg1 == r['arg1']) and (arg2 == r['arg2']):\n",
    "      return r['type']\n",
    "  return \"None\""
   ]
  },
  {
   "cell_type": "markdown",
   "metadata": {
    "id": "Poo81Bj15g6C"
   },
   "source": [
    "This function takes in the text and finds all of the labels for all pairs of entity relations. This will be used later to input into the classifier."
   ]
  },
  {
   "cell_type": "code",
   "execution_count": 178,
   "metadata": {
    "id": "rjcYZDYn5y2G"
   },
   "outputs": [],
   "source": [
    "# This finds the indexes of the start and end of sentences and returns them in a list.\n",
    "def find_sent_idxs(text):\n",
    "  idxs = [0]\n",
    "  idx = 0\n",
    "\n",
    "  split_text = split_single(text)\n",
    "  for t in split_text:\n",
    "    idx += len(t)+1\n",
    "    idxs.append(idx)\n",
    "  return idxs\n",
    "\n",
    "\n",
    "def find_entity_labels(idxs, keys, doc):\n",
    "  labels = []\n",
    "  sentences= []\n",
    "  entity_dict = {}\n",
    "\n",
    "  for i in idxs:\n",
    "    entity_dict[i]=[]\n",
    "\n",
    "  for key in keys:\n",
    "    for i in range(len(idxs)-1):\n",
    "      s = doc['entities'][key]['start']\n",
    "      e = doc['entities'][key]['end']\n",
    "        \n",
    "      # If the start and end indexes appear within one sentence, add the starting index to the dictionary.\n",
    "      if (s >= idxs[i] and s < idxs[i+1]) and (e > idxs[i] and e <= idxs[i+1]):\n",
    "        entity_dict[idxs[i]].append(key)\n",
    "      \n",
    "  # For every key in the dictionary, if there is a list of values, go through them and append them to a list of chemicals or genes depending on which one it is.\n",
    "  for k, v in entity_dict.items():\n",
    "    if not v==[]:\n",
    "        \n",
    "      chems = [value for value in v if doc['entities'][value]['type'] == 'CHEMICAL']\n",
    "      genes = [value for value in v if doc['entities'][value]['type'] != 'CHEMICAL']\n",
    "        \n",
    "      # Find the cartesian product of these entities\n",
    "      # If both of the entities are part of a relation, add a positive label (1), else add a negative label (0)\n",
    "      prods = itertools.product(chems,genes)\n",
    "      \n",
    "      for prod in prods:\n",
    "        str = ''\n",
    "        index = k\n",
    "        end_idx = idxs[idxs.index(k)+1]\n",
    "        \n",
    "        #Makes sure the indices of these mentions are in order\n",
    "        key_list = sorted(prod, key= lambda x: (doc['entities'][x]['start']))\n",
    "        \n",
    "        for key in key_list:\n",
    "            start = doc['entities'][key]['start']\n",
    "            end = doc['entities'][key]['end']\n",
    "            name = doc['text'][start:end]\n",
    "            name = name.replace('.', ' ')\n",
    "\n",
    "            if doc['entities'][key]['type'] == 'CHEMICAL':\n",
    "                str += doc['text'][index:start] + ' [E1] ' + name + ' [/E1]'\n",
    "            else:\n",
    "                str += doc['text'][index:start] + ' [E2] ' + name + ' [/E2]'\n",
    "            index = end\n",
    "        str+=doc['text'][end:end_idx]\n",
    "\n",
    "        #Adding the tagged sentence to the list of sentences\n",
    "        sentences.append(str)\n",
    "        \n",
    "        # Adding the labels to the list\n",
    "        labels.append(isRelation(prod[0],prod[1],doc))\n",
    "\n",
    "  return labels, sentences"
   ]
  },
  {
   "cell_type": "markdown",
   "metadata": {
    "id": "DjiNDFJvgckl"
   },
   "source": [
    "This function adds in start and end entity tags to biomedical text. This ensures that every chemical mentioned is encased in [E1][/E1] tags, and every gene is encased in [E2][/E2] tags, so that we can extract the embeddings for these later."
   ]
  },
  {
   "cell_type": "code",
   "execution_count": 183,
   "metadata": {
    "colab": {
     "base_uri": "https://localhost:8080/"
    },
    "id": "a7MjEIFqgiiC",
    "outputId": "56d63886-2979-4e95-8509-424f84e46d7a"
   },
   "outputs": [
    {
     "name": "stdout",
     "output_type": "stream",
     "text": [
      "64685\n",
      "64685\n",
      "\n",
      "13396\n",
      "13396\n"
     ]
    }
   ],
   "source": [
    "def addEntityTags(d):\n",
    "    \n",
    "  sentences = []\n",
    "  labels = []\n",
    "  \n",
    "  for doc in d:\n",
    "        \n",
    "    str = ''\n",
    "    index = 0\n",
    "\n",
    "    #Contains every mention of chemicals and genes for a particular document\n",
    "    keys = doc['entities'].keys()\n",
    "\n",
    "    #Finds the indexes of the start and end of each sentence in the text\n",
    "    idxs = find_sent_idxs(doc['text'])\n",
    "    \n",
    "    labs,sent = find_entity_labels(idxs, keys, doc)\n",
    "    \n",
    "    labels+=labs\n",
    "    sentences+=sent\n",
    "    \n",
    "  return sentences, labels\n",
    "\n",
    "doc_sent, doc_lab = addEntityTags(docs)\n",
    "dev_doc_sent, dev_doc_lab = addEntityTags(dev_docs)\n",
    "\n",
    "print(len(doc_sent))\n",
    "print(len(doc_lab))\n",
    "\n",
    "print()\n",
    "print(len(dev_doc_sent))\n",
    "print(len(dev_doc_lab))\n"
   ]
  },
  {
   "cell_type": "markdown",
   "metadata": {
    "id": "4ikJplM-cXqU"
   },
   "source": [
    "Next, we can reduce the text to only sentences potentially containing relations between chemicals and genes by splitting the sentences and seeing if there are any entity tags present within the sentence. The findLabels function goes through the list of labels for a particular document and sees if there is a relation present within that sentence.\n",
    "\n",
    "(Note for later: I didn't take into account relations across sentences in this implementation, will have to change something to ensure that both entities for one relation are in the same sentence)"
   ]
  },
  {
   "cell_type": "markdown",
   "metadata": {
    "id": "BXYgjLzmG2DT"
   },
   "source": [
    "# Embedding Step\n",
    "\n",
    "Next, a BERT model is defined that has been pre-trained using PubMed texts. This allows BERT to recognise biomedical terms within the text and understand their context better.\n",
    "\n",
    "The tokeniser is also defined using pubmed texts, and special tokens are added in so that BERT can recognise them and not break them down when tokenising."
   ]
  },
  {
   "cell_type": "code",
   "execution_count": 136,
   "metadata": {
    "colab": {
     "base_uri": "https://localhost:8080/",
     "height": 234,
     "referenced_widgets": [
      "6c2da5e25f9f4556bbefbb3833833c29",
      "65a53e820aaf44b1a3185bddb51b525d",
      "8d609368d61f48d4b6e46834fff667f2",
      "891c3a429eda4c798f3841cd6da875b6",
      "9b3a4e6fcf614741a8f2a33a00412905",
      "50a98e5ea6d5445688e51ec15cb89e5c",
      "61733dd0a8bb4e12ac478fdaff55f0c3",
      "b13ee4d07ae34cad84943dae27a96389",
      "78e0d74c9ca1496c8e814fbc76a86664",
      "50511b21a7c04958a3a20b86cc3e0d79",
      "2df52191262142129b00dde1af92c23d",
      "69cb626bce35488c8230c7a9665094e2",
      "1a7b1a6ff5074daf9e8433f82d64a0ad",
      "40220ed960b14cf380a9b248cc97d39e",
      "824a186663084059917149593142ad6b",
      "9ff324b861a540f09c6fe59bfb15d6f7",
      "4f2f8557084b4d7b81a46e7a2be661aa",
      "0957e25a1d214c00ba164150dceff836",
      "37a1eadfff43467ca6e43b7ca85b7ed7",
      "d5c2e0003a9d40f8837ac27184f85ba6",
      "d10807cc620548cab086786bd2998455",
      "a3a3d13ae72d4acfb8979a6bd2539cdd",
      "40480c84d7ac4c48ab31249b19fe9474",
      "4b22eef495ea42aa9cde34324bcfccad",
      "879a14bf3fe741709da3728089eb82b5",
      "eca1d042c0314d8c822e251aec0282b2",
      "d852bf22b5b146fcb5c71400b5b4b921",
      "6175fcf5df3b4751b9a93f0bb8bcc629",
      "b0bd523e1f744c9aaecd551cd65d602e",
      "3c8267139c8240f495f434e92c145dfb",
      "ea070687976e46358fec287af656b155",
      "a812be1eebed4a1dbbd77d98d36a63fe",
      "e339166de0714147a6676305442af9d9",
      "022e9e58e1ea4a65b9e7b82a729cf4c2",
      "c3306f100dd945938e9627b5eb02333d",
      "318af49c1a8e4cdcb6bc43a6a4f61057",
      "02c7ab43995a43598b8262fb0c766c16",
      "275b7a5844c44723a99ed25d7a174b81",
      "457e0aa262c241c9965f70854b7b0770",
      "095a594a9a2e474d9ead33cbb3533184",
      "5abd9d25ab614e3f8c350bceb0bbad79",
      "fa52db6ff02f41f79ecbf7594e45b718",
      "e6aac4c4cc674f5ea4b962b52a88d523",
      "a506f19bfd0144b3b640780eed1378d0"
     ]
    },
    "id": "FtHyA7DTG40c",
    "outputId": "099ee1af-ad8a-4286-c9bb-b322efeb4184"
   },
   "outputs": [
    {
     "name": "stderr",
     "output_type": "stream",
     "text": [
      "Some weights of the model checkpoint at microsoft/BiomedNLP-PubMedBERT-base-uncased-abstract-fulltext were not used when initializing BertModel: ['cls.predictions.decoder.weight', 'cls.predictions.bias', 'cls.predictions.decoder.bias', 'cls.predictions.transform.LayerNorm.weight', 'cls.predictions.transform.dense.weight', 'cls.predictions.transform.LayerNorm.bias', 'cls.seq_relationship.bias', 'cls.predictions.transform.dense.bias', 'cls.seq_relationship.weight']\n",
      "- This IS expected if you are initializing BertModel from the checkpoint of a model trained on another task or with another architecture (e.g. initializing a BertForSequenceClassification model from a BertForPreTraining model).\n",
      "- This IS NOT expected if you are initializing BertModel from the checkpoint of a model that you expect to be exactly identical (initializing a BertForSequenceClassification model from a BertForSequenceClassification model).\n"
     ]
    },
    {
     "data": {
      "text/plain": [
       "30522"
      ]
     },
     "execution_count": 136,
     "metadata": {},
     "output_type": "execute_result"
    }
   ],
   "source": [
    "model = BertModel.from_pretrained(\"microsoft/BiomedNLP-PubMedBERT-base-uncased-abstract-fulltext\",\n",
    "                                  output_hidden_states = True,\n",
    "                                  attention_probs_dropout_prob=0.1,\n",
    "                                  hidden_dropout_prob=0.1\n",
    "                                  )\n",
    "\n",
    "#print(model)\n",
    "\n",
    "tokenizer = AutoTokenizer.from_pretrained(\"microsoft/BiomedNLP-PubMedBERT-base-uncased-abstract-fulltext\") \n",
    "\n",
    "tokenizer.add_tokens([\"[E1]\", \"[/E1]\", \"[E2]\", \"[/E2]\"])\n",
    "\n",
    "tokenizer.vocab[\"[E1]\"]"
   ]
  },
  {
   "cell_type": "markdown",
   "metadata": {
    "id": "eFzXfZX-X3D8"
   },
   "source": [
    "This function adds [CLS] and [SEP] tokens to the beginning and end of sentences so that BERT knows when a new sentence is beginning. It then tokenises these sentences and converts all of the inputs into tensors."
   ]
  },
  {
   "cell_type": "code",
   "execution_count": 184,
   "metadata": {
    "id": "8LWbqPbBL6TD"
   },
   "outputs": [],
   "source": [
    "def bert_text_prep(text, tokenizer):\n",
    "\n",
    "  #CLS lets BERT know when start of sentence begins, SEP indicates start of second sentence.\n",
    "  marked_text = \"[CLS]\" + text + \"[SEP]\"\n",
    "\n",
    "  #Tokenizes text\n",
    "  tokenized_text = tokenizer.tokenize(marked_text)\n",
    "\n",
    "  #Converts to ids\n",
    "  indexed_tokens = tokenizer.convert_tokens_to_ids(tokenized_text)\n",
    "  segments_ids = [1]*len(indexed_tokens)\n",
    "\n",
    "  # Converts inputs to tensors\n",
    "  tokens_tensor = torch.tensor([indexed_tokens])\n",
    "  \n",
    "  segments_tensors = torch.tensor([segments_ids])\n",
    "\n",
    "  return tokenized_text, tokens_tensor, segments_tensors"
   ]
  },
  {
   "cell_type": "markdown",
   "metadata": {
    "id": "PMth1UIhX6a5"
   },
   "source": [
    "These tensors are then used to find the embeddings of all of the tokens."
   ]
  },
  {
   "cell_type": "code",
   "execution_count": 189,
   "metadata": {
    "id": "-OnSsiEiOQrM"
   },
   "outputs": [],
   "source": [
    "def get_bert_embeddings(tokens_tensor, segments_tensors, model):\n",
    "  with torch.no_grad():\n",
    "    outputs = model(tokens_tensor, segments_tensors)\n",
    "    hidden_states = outputs[2][1:]\n",
    "\n",
    "  token_embeddings = hidden_states[-1]\n",
    "\n",
    "  #Collapsing tensor into 1 dimension\n",
    "  token_embeddings = torch.squeeze(token_embeddings, dim=0)\n",
    "  \n",
    "  #converting tensors to lists\n",
    "  list_token_embeddings = [token_embed.tolist() for token_embed in token_embeddings]\n",
    "\n",
    "  return list_token_embeddings"
   ]
  },
  {
   "cell_type": "markdown",
   "metadata": {
    "id": "0li9zzHZh5Qn"
   },
   "source": [
    "In order to find the relevant embeddings (entity start tag embeddings), findTags looks through the tokenised sentence and adds the index of that particular tag into a list of chemical indices or gene indices.\n",
    "\n",
    "These are then used after the sentence has been converted into embeddings to find the embedding at these specific indexes. The embeddings are accompanied by the cartesian product of all of the chemical and gene entities found, so that the embeddings for the specified indexes are concatenated."
   ]
  },
  {
   "cell_type": "code",
   "execution_count": 188,
   "metadata": {
    "id": "m1oPiD79h_F1"
   },
   "outputs": [],
   "source": [
    "def findEmbedding(tokens, embeddings):\n",
    "    chem = tokens.index('[e1]')\n",
    "    gene = tokens.index('[e2]')\n",
    "    \n",
    "    #Returns empty lists if either chemicals or genes aren't present\n",
    "    return embeddings[chem]+embeddings[gene]"
   ]
  },
  {
   "cell_type": "markdown",
   "metadata": {
    "id": "SDwF0f2a3rHE"
   },
   "source": [
    "Getting CLS and entity embeddings for each sentence\n",
    "\n"
   ]
  },
  {
   "cell_type": "code",
   "execution_count": null,
   "metadata": {
    "id": "tXoMT_blWrhG"
   },
   "outputs": [],
   "source": [
    "def get_embeddings(target_text):\n",
    "  cls_embeddings = []\n",
    "  entity_embeddings = []\n",
    "\n",
    "  for text in target_text:\n",
    "\n",
    "      #Finds tokenized text and tensors for a particular sentence in a document\n",
    "      tokenized_text, tokens_tensor, segments_tensor = bert_text_prep(text, tokenizer)\n",
    "\n",
    "      #Finds the embeddings\n",
    "      list_token_embeddings = get_bert_embeddings(tokens_tensor, segments_tensor, model)\n",
    "\n",
    "      #Adds the [CLS] token embedding to the list\n",
    "      cls_embeddings.append(list_token_embeddings[0])\n",
    "\n",
    "      #Finds the indexes for chemicals and genes in the sentence\n",
    "      entity_embeddings.append(findEmbedding(tokenized_text, list_token_embeddings))\n",
    "\n",
    "  return cls_embeddings, entity_embeddings\n",
    "\n",
    "cls_embeddings, entity_embeddings = get_embeddings(doc_sent)\n",
    "dev_cls, dev_ent = get_embeddings(dev_doc_sent)\n",
    "\n",
    "# Saving training set embeddings to files\n",
    "np.save(\"cls_embeddings.npy\",cls_embeddings)\n",
    "np.save(\"entity_embeddings.npy\",entity_embeddings)\n",
    "\n",
    "# Saving development set embeddings to files\n",
    "np.save(\"dev_cls_embeddings.npy\",dev_cls)\n",
    "np.save(\"dev_ent_embeddings.npy\",dev_ent)\n"
   ]
  },
  {
   "cell_type": "code",
   "execution_count": 195,
   "metadata": {
    "colab": {
     "base_uri": "https://localhost:8080/",
     "height": 380
    },
    "id": "cdX9DN-P1_9g",
    "outputId": "cc1aaa21-f2cc-4f95-ffd4-37dbca03f2b9"
   },
   "outputs": [
    {
     "name": "stdout",
     "output_type": "stream",
     "text": [
      "13103\n",
      "13103\n",
      "2723\n",
      "2723\n"
     ]
    }
   ],
   "source": [
    "cls_embeddings = np.load(\"cls_embeddings.npy\")\n",
    "entity_embeddings = np.load(\"entity_embeddings.npy\")\n",
    "\n",
    "dev_cls = np.load(\"dev_cls_embeddings.npy\")\n",
    "dev_ent = np.load(\"dev_ent_embeddings.npy\")\n",
    "\n",
    "print(len(cls_embeddings))\n",
    "print(len(entity_embeddings))\n",
    "\n",
    "print(len(dev_cls))\n",
    "print(len(dev_ent))\n"
   ]
  },
  {
   "cell_type": "code",
   "execution_count": null,
   "metadata": {
    "colab": {
     "base_uri": "https://localhost:8080/"
    },
    "id": "nxLpqQEn7173",
    "outputId": "c3d5e0a8-7d96-4f0b-fa01-de777827f3f2"
   },
   "outputs": [],
   "source": [
    "print(len(docs))"
   ]
  },
  {
   "cell_type": "markdown",
   "metadata": {
    "id": "E4CWwTfCcIqQ"
   },
   "source": [
    "## Classification Step"
   ]
  },
  {
   "cell_type": "markdown",
   "metadata": {
    "id": "ijHn5tYH2ecP"
   },
   "source": [
    "Relevant imports:\n",
    "\n"
   ]
  },
  {
   "cell_type": "code",
   "execution_count": 196,
   "metadata": {
    "id": "CwZpVx6Y9Vs-"
   },
   "outputs": [],
   "source": [
    "from sklearn.linear_model import LogisticRegression\n",
    "from sklearn.model_selection import cross_val_score\n",
    "from sklearn.model_selection import train_test_split\n",
    "from sklearn.metrics import plot_confusion_matrix, classification_report\n",
    "import matplotlib.pyplot as plt"
   ]
  },
  {
   "cell_type": "markdown",
   "metadata": {
    "id": "mbGMU_aTMd0e"
   },
   "source": [
    "Classifying these using logistic regression"
   ]
  },
  {
   "cell_type": "code",
   "execution_count": 148,
   "metadata": {
    "colab": {
     "base_uri": "https://localhost:8080/"
    },
    "id": "2Puvz2iJMkS-",
    "outputId": "96a35c4c-f037-417f-e546-72e6a44442cf"
   },
   "outputs": [
    {
     "name": "stdout",
     "output_type": "stream",
     "text": [
      "              precision    recall  f1-score   support\n",
      "\n",
      "           0       0.70      0.67      0.69      1472\n",
      "           1       0.63      0.67      0.65      1251\n",
      "\n",
      "    accuracy                           0.67      2723\n",
      "   macro avg       0.67      0.67      0.67      2723\n",
      "weighted avg       0.67      0.67      0.67      2723\n",
      "\n"
     ]
    },
    {
     "name": "stderr",
     "output_type": "stream",
     "text": [
      "/opt/conda/envs/sharedpy38/lib/python3.8/site-packages/sklearn/linear_model/_sag.py:350: ConvergenceWarning: The max_iter was reached which means the coef_ did not converge\n",
      "  warnings.warn(\n"
     ]
    }
   ],
   "source": [
    "#Splits the sentences into training and test sets for binary classification\n",
    "#cls_train_features, cls_test_features, cls_train_labels, cls_test_labels = train_test_split(cls_embeddings, labels)\n",
    "\n",
    "#Defines a logistic regression classifier\n",
    "lr_clf = LogisticRegression(solver='saga', class_weight = 'balanced')\n",
    "\n",
    "#Fits the model to the training data\n",
    "#lr_clf.fit(cls_train_features, cls_train_labels)\n",
    "lr_clf.fit(cls_embeddings, labels)\n",
    "\n",
    "#Tests the model using the test data\n",
    "#lr_clf.score(cls_test_features, cls_test_labels)\n",
    "lr_clf.score(dev_cls, dev_labels)\n",
    "\n",
    "#print(classification_report(cls_test_labels, lr_clf.predict(cls_test_features)))\n",
    "print(classification_report(dev_labels, lr_clf.predict(dev_cls)))"
   ]
  },
  {
   "cell_type": "code",
   "execution_count": 149,
   "metadata": {
    "colab": {
     "base_uri": "https://localhost:8080/",
     "height": 538
    },
    "id": "ssV6P_L1TWOb",
    "outputId": "cfd235f8-6a69-4e38-d0ec-6058f4f98677"
   },
   "outputs": [
    {
     "name": "stderr",
     "output_type": "stream",
     "text": [
      "/opt/conda/envs/sharedpy38/lib/python3.8/site-packages/sklearn/utils/deprecation.py:87: FutureWarning: Function plot_confusion_matrix is deprecated; Function `plot_confusion_matrix` is deprecated in 1.0 and will be removed in 1.2. Use one of the class methods: ConfusionMatrixDisplay.from_predictions or ConfusionMatrixDisplay.from_estimator.\n",
      "  warnings.warn(msg, category=FutureWarning)\n"
     ]
    },
    {
     "data": {
      "image/png": "[encoded data removed]",
      "text/plain": [
       "<Figure size 800x800 with 2 Axes>"
      ]
     },
     "metadata": {},
     "output_type": "display_data"
    }
   ],
   "source": [
    "fig, ax = plt.subplots(figsize=(8, 8))\n",
    "#plot_confusion_matrix(lr_clf, cls_test_features, cls_test_labels, ax=ax)\n",
    "#print(dev_labels)  \n",
    "plot_confusion_matrix(lr_clf, dev_cls, dev_labels, ax=ax)  \n",
    "plt.show()"
   ]
  },
  {
   "cell_type": "code",
   "execution_count": 150,
   "metadata": {
    "colab": {
     "base_uri": "https://localhost:8080/"
    },
    "id": "73wla1qbHTFY",
    "outputId": "b0cdaf5e-90a0-4e64-f7db-e3f5ce9804f0"
   },
   "outputs": [
    {
     "name": "stdout",
     "output_type": "stream",
     "text": [
      "                        precision    recall  f1-score   support\n",
      "\n",
      "             ACTIVATOR       0.00      0.00      0.00         9\n",
      "               AGONIST       0.27      0.33      0.30        12\n",
      "            ANTAGONIST       0.27      0.64      0.38        14\n",
      "      DIRECT-REGULATOR       0.46      0.50      0.48        32\n",
      "INDIRECT-DOWNREGULATOR       0.12      0.18      0.15        11\n",
      "  INDIRECT-UPREGULATOR       0.21      0.43      0.29         7\n",
      "             INHIBITOR       0.57      0.64      0.60        53\n",
      "                  None       0.70      0.47      0.56       160\n",
      "               PART-OF       0.27      0.67      0.38         6\n",
      "            PRODUCT-OF       0.20      0.22      0.21         9\n",
      "             SUBSTRATE       0.38      0.35      0.36        17\n",
      "\n",
      "              accuracy                           0.47       330\n",
      "             macro avg       0.31      0.40      0.34       330\n",
      "          weighted avg       0.53      0.47      0.48       330\n",
      "\n"
     ]
    },
    {
     "name": "stderr",
     "output_type": "stream",
     "text": [
      "/opt/conda/envs/sharedpy38/lib/python3.8/site-packages/sklearn/linear_model/_sag.py:350: ConvergenceWarning: The max_iter was reached which means the coef_ did not converge\n",
      "  warnings.warn(\n"
     ]
    }
   ],
   "source": [
    "rel_labels = []\n",
    "pos_embeddings = []\n",
    "p = lr_clf.predict(dev_cls)\n",
    "#print(len(p))\n",
    "#print(len(classes))\n",
    "#print(classes)\n",
    "\n",
    "for elt in range(len(p)):\n",
    "  if p[elt] ==1:\n",
    "    pos_embeddings.append(cls_embeddings[elt])\n",
    "    rel_labels.append(classes[elt])\n",
    "\n",
    "cls_train_features, cls_test_features, cls_train_labels, cls_test_labels = train_test_split(pos_embeddings, rel_labels)\n",
    "\n",
    "#Defines a logistic regression classifier\n",
    "lr_clf = LogisticRegression(solver='saga', class_weight = 'balanced')\n",
    "\n",
    "#Fits the model to the training data\n",
    "lr_clf.fit(cls_train_features, cls_train_labels)\n",
    "\n",
    "#Tests the model using the test data\n",
    "lr_clf.score(cls_test_features, cls_test_labels)\n",
    "\n",
    "print(classification_report(cls_test_labels, lr_clf.predict(cls_test_features)))\n"
   ]
  },
  {
   "cell_type": "code",
   "execution_count": 151,
   "metadata": {
    "colab": {
     "base_uri": "https://localhost:8080/",
     "height": 527
    },
    "id": "Z8japvf3nDNa",
    "outputId": "a4fbfeaf-3540-44ea-a5b6-d8846c43c4db"
   },
   "outputs": [
    {
     "name": "stderr",
     "output_type": "stream",
     "text": [
      "/opt/conda/envs/sharedpy38/lib/python3.8/site-packages/sklearn/utils/deprecation.py:87: FutureWarning: Function plot_confusion_matrix is deprecated; Function `plot_confusion_matrix` is deprecated in 1.0 and will be removed in 1.2. Use one of the class methods: ConfusionMatrixDisplay.from_predictions or ConfusionMatrixDisplay.from_estimator.\n",
      "  warnings.warn(msg, category=FutureWarning)\n"
     ]
    },
    {
     "data": {
      "image/png": "[encoded data removed]",
      "text/plain": [
       "<Figure size 800x800 with 2 Axes>"
      ]
     },
     "metadata": {},
     "output_type": "display_data"
    }
   ],
   "source": [
    "fig, ax = plt.subplots(figsize=(8, 8))\n",
    "#plot_confusion_matrix(lr_clf, cls_test_features, cls_test_labels, ax=ax)\n",
    "#print(dev_labels)  \n",
    "plot_confusion_matrix(lr_clf, dev_cls, dev_classes, ax=ax)  \n",
    "plt.show()"
   ]
  },
  {
   "cell_type": "markdown",
   "metadata": {
    "id": "5B_gUEuFgxAY"
   },
   "source": [
    "Entity start architecture"
   ]
  },
  {
   "cell_type": "code",
   "execution_count": 152,
   "metadata": {
    "colab": {
     "base_uri": "https://localhost:8080/"
    },
    "id": "7KvwwWbWg5jj",
    "outputId": "55192572-4617-44e0-e2c4-6afe2ec21b8c"
   },
   "outputs": [
    {
     "name": "stdout",
     "output_type": "stream",
     "text": [
      "64685\n",
      "64685\n",
      "\n",
      "13396\n",
      "13396\n"
     ]
    }
   ],
   "source": [
    "ent_labels = [doc['entity_labels'] for doc in docs if 'entity_labels' in doc.keys()]\n",
    "dev_ent_labels = [d['entity_labels'] for d in dev_docs if 'entity_labels' in d.keys()]\n",
    "#print(dev_ent_labels)\n",
    "relation_labels = [doc['rel_labels'] for doc in docs if 'rel_labels' in doc.keys()]\n",
    "dev_relation_labels = [d['rel_labels'] for d in dev_docs if 'rel_labels' in d.keys()]\n",
    "\n",
    "#Entity and relation labels for the training set\n",
    "e = list(itertools.chain.from_iterable(ent_labels))\n",
    "dev_e = list(itertools.chain.from_iterable(dev_ent_labels))\n",
    "\n",
    "#Entity and relation labels for the development set\n",
    "r = list(itertools.chain.from_iterable(relation_labels))\n",
    "dev_r = list(itertools.chain.from_iterable(dev_relation_labels))\n",
    "\n",
    "#Ensuring these values are the same size\n",
    "print(len(e))\n",
    "print(len(r))\n",
    "\n",
    "print()\n",
    "print(len(dev_e))\n",
    "print(len(dev_r))\n",
    "#start_train_features, start_test_features, start_train_labels, start_test_labels = train_test_split(entity_embeddings, e[:64653])"
   ]
  },
  {
   "cell_type": "code",
   "execution_count": 153,
   "metadata": {
    "colab": {
     "background_save": true
    },
    "id": "sbLcGoWghA49",
    "outputId": "15ad73fb-83b8-4673-f8c9-cc6e3e5f3d8a"
   },
   "outputs": [
    {
     "name": "stdout",
     "output_type": "stream",
     "text": [
      "              precision    recall  f1-score   support\n",
      "\n",
      "           0       0.76      0.55      0.64      9664\n",
      "           1       0.32      0.55      0.41      3728\n",
      "\n",
      "    accuracy                           0.55     13392\n",
      "   macro avg       0.54      0.55      0.52     13392\n",
      "weighted avg       0.64      0.55      0.57     13392\n",
      "\n"
     ]
    },
    {
     "name": "stderr",
     "output_type": "stream",
     "text": [
      "/opt/conda/envs/sharedpy38/lib/python3.8/site-packages/sklearn/linear_model/_sag.py:350: ConvergenceWarning: The max_iter was reached which means the coef_ did not converge\n",
      "  warnings.warn(\n"
     ]
    }
   ],
   "source": [
    "lr_clf = LogisticRegression(solver='saga', class_weight ='balanced')\n",
    "#lr_clf.fit(start_train_features, start_train_labels)\n",
    "lr_clf.fit(entity_embeddings, e[:64653])\n",
    "lr_clf.score(dev_ent, dev_e[:13392])\n",
    "\n",
    "#print(classification_report(start_test_labels, lr_clf.predict(start_test_features)))\n",
    "print(classification_report(dev_e[:13392], lr_clf.predict(dev_ent)))"
   ]
  },
  {
   "cell_type": "code",
   "execution_count": 154,
   "metadata": {
    "colab": {
     "base_uri": "https://localhost:8080/",
     "height": 521
    },
    "id": "QYkFtFJmUCnq",
    "outputId": "e8f03112-a2c8-4739-a269-b3d09ce5760a"
   },
   "outputs": [
    {
     "name": "stderr",
     "output_type": "stream",
     "text": [
      "/opt/conda/envs/sharedpy38/lib/python3.8/site-packages/sklearn/utils/deprecation.py:87: FutureWarning: Function plot_confusion_matrix is deprecated; Function `plot_confusion_matrix` is deprecated in 1.0 and will be removed in 1.2. Use one of the class methods: ConfusionMatrixDisplay.from_predictions or ConfusionMatrixDisplay.from_estimator.\n",
      "  warnings.warn(msg, category=FutureWarning)\n"
     ]
    },
    {
     "data": {
      "image/png": "[encoded data removed]",
      "text/plain": [
       "<Figure size 800x800 with 2 Axes>"
      ]
     },
     "metadata": {},
     "output_type": "display_data"
    }
   ],
   "source": [
    "fig, ax = plt.subplots(figsize=(8, 8))\n",
    "#plot_confusion_matrix(lr_clf, start_test_features, start_test_labels, ax=ax)  \n",
    "plot_confusion_matrix(lr_clf, dev_ent, dev_e[:13392], ax=ax) \n",
    "plt.show()"
   ]
  },
  {
   "cell_type": "code",
   "execution_count": 155,
   "metadata": {
    "colab": {
     "base_uri": "https://localhost:8080/"
    },
    "id": "mPoML4ftf6dB",
    "outputId": "432dd1d7-2a09-4701-dba4-900fcd78c851"
   },
   "outputs": [
    {
     "name": "stdout",
     "output_type": "stream",
     "text": [
      "                        precision    recall  f1-score   support\n",
      "\n",
      "             ACTIVATOR       0.40      0.06      0.11        31\n",
      "               AGONIST       0.00      0.00      0.00        31\n",
      "     AGONIST-ACTIVATOR       0.00      0.00      0.00         2\n",
      "            ANTAGONIST       0.50      0.11      0.18        47\n",
      "      DIRECT-REGULATOR       0.33      0.13      0.19       100\n",
      "INDIRECT-DOWNREGULATOR       0.40      0.07      0.12        28\n",
      "  INDIRECT-UPREGULATOR       0.40      0.08      0.14        24\n",
      "             INHIBITOR       0.29      0.10      0.15       159\n",
      "           NO_RELATION       0.71      0.94      0.81      1109\n",
      "               PART-OF       0.43      0.12      0.19        25\n",
      "            PRODUCT-OF       0.67      0.11      0.18        19\n",
      "             SUBSTRATE       0.00      0.00      0.00        36\n",
      "\n",
      "              accuracy                           0.68      1611\n",
      "             macro avg       0.34      0.14      0.17      1611\n",
      "          weighted avg       0.59      0.68      0.60      1611\n",
      "\n"
     ]
    },
    {
     "name": "stderr",
     "output_type": "stream",
     "text": [
      "/opt/conda/envs/sharedpy38/lib/python3.8/site-packages/sklearn/linear_model/_sag.py:350: ConvergenceWarning: The max_iter was reached which means the coef_ did not converge\n",
      "  warnings.warn(\n",
      "/opt/conda/envs/sharedpy38/lib/python3.8/site-packages/sklearn/metrics/_classification.py:1334: UndefinedMetricWarning: Precision and F-score are ill-defined and being set to 0.0 in labels with no predicted samples. Use `zero_division` parameter to control this behavior.\n",
      "  _warn_prf(average, modifier, msg_start, len(result))\n",
      "/opt/conda/envs/sharedpy38/lib/python3.8/site-packages/sklearn/metrics/_classification.py:1334: UndefinedMetricWarning: Precision and F-score are ill-defined and being set to 0.0 in labels with no predicted samples. Use `zero_division` parameter to control this behavior.\n",
      "  _warn_prf(average, modifier, msg_start, len(result))\n",
      "/opt/conda/envs/sharedpy38/lib/python3.8/site-packages/sklearn/metrics/_classification.py:1334: UndefinedMetricWarning: Precision and F-score are ill-defined and being set to 0.0 in labels with no predicted samples. Use `zero_division` parameter to control this behavior.\n",
      "  _warn_prf(average, modifier, msg_start, len(result))\n"
     ]
    }
   ],
   "source": [
    "rel_labels = []\n",
    "pos_embeddings = []\n",
    "p = lr_clf.predict(dev_ent)\n",
    "for elt in range(len(p)):\n",
    "  if p[elt] ==1:\n",
    "    pos_embeddings.append(entity_embeddings[elt])\n",
    "    if r[elt] == 0:\n",
    "      rel_labels.append('NO_RELATION')\n",
    "    else:\n",
    "      rel_labels.append(r[elt])\n",
    "\n",
    "start_train_features, start_test_features, start_train_labels, start_test_labels = train_test_split(pos_embeddings, rel_labels)\n",
    "\n",
    "#Defines a logistic regression classifier\n",
    "lr_clf = LogisticRegression(solver='saga')\n",
    "\n",
    "#Fits the model to the training data\n",
    "lr_clf.fit(start_train_features, start_train_labels)\n",
    "\n",
    "#Tests the model using the test data\n",
    "lr_clf.score(start_test_features, start_test_labels)\n",
    "\n",
    "print(classification_report(start_test_labels, lr_clf.predict(start_test_features)))"
   ]
  },
  {
   "cell_type": "code",
   "execution_count": 156,
   "metadata": {
    "colab": {
     "base_uri": "https://localhost:8080/",
     "height": 527
    },
    "id": "3KcilWNKf-x_",
    "outputId": "cb18cd3c-c9f3-4509-963c-1fb6032ae2d8"
   },
   "outputs": [
    {
     "name": "stderr",
     "output_type": "stream",
     "text": [
      "/opt/conda/envs/sharedpy38/lib/python3.8/site-packages/sklearn/utils/deprecation.py:87: FutureWarning: Function plot_confusion_matrix is deprecated; Function `plot_confusion_matrix` is deprecated in 1.0 and will be removed in 1.2. Use one of the class methods: ConfusionMatrixDisplay.from_predictions or ConfusionMatrixDisplay.from_estimator.\n",
      "  warnings.warn(msg, category=FutureWarning)\n"
     ]
    },
    {
     "data": {
      "image/png": "[encoded data removed]",
      "text/plain": [
       "<Figure size 800x800 with 2 Axes>"
      ]
     },
     "metadata": {},
     "output_type": "display_data"
    }
   ],
   "source": [
    "fig, ax = plt.subplots(figsize=(8, 8))\n",
    "plot_confusion_matrix(lr_clf, start_test_features, start_test_labels, ax=ax)  \n",
    "plt.show()"
   ]
  },
  {
   "cell_type": "code",
   "execution_count": null,
   "metadata": {},
   "outputs": [],
   "source": []
  },
  {
   "cell_type": "code",
   "execution_count": null,
   "metadata": {},
   "outputs": [],
   "source": []
  }
 ],
 "metadata": {
  "colab": {
   "authorship_tag": "ABX9TyPxNr7LSa6sq1A5lrx5wZBe",
   "include_colab_link": true,
   "provenance": []
  },
  "kernelspec": {
   "display_name": "Shared Python 3.8 (default)",
   "language": "python",
   "name": "sharedpy38"
  },
  "language_info": {
   "codemirror_mode": {
    "name": "ipython",
    "version": 3
   },
   "file_extension": ".py",
   "mimetype": "text/x-python",
   "name": "python",
   "nbconvert_exporter": "python",
   "pygments_lexer": "ipython3",
   "version": "3.8.13"
  },
  "widgets": {
   "application/vnd.jupyter.widget-state+json": {
    "022e9e58e1ea4a65b9e7b82a729cf4c2": {
     "model_module": "@jupyter-widgets/controls",
     "model_module_version": "1.5.0",
     "model_name": "HBoxModel",
     "state": {
      "_dom_classes": [],
      "_model_module": "@jupyter-widgets/controls",
      "_model_module_version": "1.5.0",
      "_model_name": "HBoxModel",
      "_view_count": null,
      "_view_module": "@jupyter-widgets/controls",
      "_view_module_version": "1.5.0",
      "_view_name": "HBoxView",
      "box_style": "",
      "children": [
       "IPY_MODEL_c3306f100dd945938e9627b5eb02333d",
       "IPY_MODEL_318af49c1a8e4cdcb6bc43a6a4f61057",
       "IPY_MODEL_02c7ab43995a43598b8262fb0c766c16"
      ],
      "layout": "IPY_MODEL_275b7a5844c44723a99ed25d7a174b81"
     }
    },
    "02c7ab43995a43598b8262fb0c766c16": {
     "model_module": "@jupyter-widgets/controls",
     "model_module_version": "1.5.0",
     "model_name": "HTMLModel",
     "state": {
      "_dom_classes": [],
      "_model_module": "@jupyter-widgets/controls",
      "_model_module_version": "1.5.0",
      "_model_name": "HTMLModel",
      "_view_count": null,
      "_view_module": "@jupyter-widgets/controls",
      "_view_module_version": "1.5.0",
      "_view_name": "HTMLView",
      "description": "",
      "description_tooltip": null,
      "layout": "IPY_MODEL_e6aac4c4cc674f5ea4b962b52a88d523",
      "placeholder": "​",
      "style": "IPY_MODEL_a506f19bfd0144b3b640780eed1378d0",
      "value": " 226k/226k [00:00&lt;00:00, 1.73MB/s]"
     }
    },
    "0957e25a1d214c00ba164150dceff836": {
     "model_module": "@jupyter-widgets/controls",
     "model_module_version": "1.5.0",
     "model_name": "DescriptionStyleModel",
     "state": {
      "_model_module": "@jupyter-widgets/controls",
      "_model_module_version": "1.5.0",
      "_model_name": "DescriptionStyleModel",
      "_view_count": null,
      "_view_module": "@jupyter-widgets/base",
      "_view_module_version": "1.2.0",
      "_view_name": "StyleView",
      "description_width": ""
     }
    },
    "095a594a9a2e474d9ead33cbb3533184": {
     "model_module": "@jupyter-widgets/controls",
     "model_module_version": "1.5.0",
     "model_name": "DescriptionStyleModel",
     "state": {
      "_model_module": "@jupyter-widgets/controls",
      "_model_module_version": "1.5.0",
      "_model_name": "DescriptionStyleModel",
      "_view_count": null,
      "_view_module": "@jupyter-widgets/base",
      "_view_module_version": "1.2.0",
      "_view_name": "StyleView",
      "description_width": ""
     }
    },
    "1a7b1a6ff5074daf9e8433f82d64a0ad": {
     "model_module": "@jupyter-widgets/controls",
     "model_module_version": "1.5.0",
     "model_name": "HTMLModel",
     "state": {
      "_dom_classes": [],
      "_model_module": "@jupyter-widgets/controls",
      "_model_module_version": "1.5.0",
      "_model_name": "HTMLModel",
      "_view_count": null,
      "_view_module": "@jupyter-widgets/controls",
      "_view_module_version": "1.5.0",
      "_view_name": "HTMLView",
      "description": "",
      "description_tooltip": null,
      "layout": "IPY_MODEL_4f2f8557084b4d7b81a46e7a2be661aa",
      "placeholder": "​",
      "style": "IPY_MODEL_0957e25a1d214c00ba164150dceff836",
      "value": "Downloading: 100%"
     }
    },
    "275b7a5844c44723a99ed25d7a174b81": {
     "model_module": "@jupyter-widgets/base",
     "model_module_version": "1.2.0",
     "model_name": "LayoutModel",
     "state": {
      "_model_module": "@jupyter-widgets/base",
      "_model_module_version": "1.2.0",
      "_model_name": "LayoutModel",
      "_view_count": null,
      "_view_module": "@jupyter-widgets/base",
      "_view_module_version": "1.2.0",
      "_view_name": "LayoutView",
      "align_content": null,
      "align_items": null,
      "align_self": null,
      "border": null,
      "bottom": null,
      "display": null,
      "flex": null,
      "flex_flow": null,
      "grid_area": null,
      "grid_auto_columns": null,
      "grid_auto_flow": null,
      "grid_auto_rows": null,
      "grid_column": null,
      "grid_gap": null,
      "grid_row": null,
      "grid_template_areas": null,
      "grid_template_columns": null,
      "grid_template_rows": null,
      "height": null,
      "justify_content": null,
      "justify_items": null,
      "left": null,
      "margin": null,
      "max_height": null,
      "max_width": null,
      "min_height": null,
      "min_width": null,
      "object_fit": null,
      "object_position": null,
      "order": null,
      "overflow": null,
      "overflow_x": null,
      "overflow_y": null,
      "padding": null,
      "right": null,
      "top": null,
      "visibility": null,
      "width": null
     }
    },
    "2df52191262142129b00dde1af92c23d": {
     "model_module": "@jupyter-widgets/controls",
     "model_module_version": "1.5.0",
     "model_name": "DescriptionStyleModel",
     "state": {
      "_model_module": "@jupyter-widgets/controls",
      "_model_module_version": "1.5.0",
      "_model_name": "DescriptionStyleModel",
      "_view_count": null,
      "_view_module": "@jupyter-widgets/base",
      "_view_module_version": "1.2.0",
      "_view_name": "StyleView",
      "description_width": ""
     }
    },
    "318af49c1a8e4cdcb6bc43a6a4f61057": {
     "model_module": "@jupyter-widgets/controls",
     "model_module_version": "1.5.0",
     "model_name": "FloatProgressModel",
     "state": {
      "_dom_classes": [],
      "_model_module": "@jupyter-widgets/controls",
      "_model_module_version": "1.5.0",
      "_model_name": "FloatProgressModel",
      "_view_count": null,
      "_view_module": "@jupyter-widgets/controls",
      "_view_module_version": "1.5.0",
      "_view_name": "ProgressView",
      "bar_style": "success",
      "description": "",
      "description_tooltip": null,
      "layout": "IPY_MODEL_5abd9d25ab614e3f8c350bceb0bbad79",
      "max": 226150,
      "min": 0,
      "orientation": "horizontal",
      "style": "IPY_MODEL_fa52db6ff02f41f79ecbf7594e45b718",
      "value": 226150
     }
    },
    "37a1eadfff43467ca6e43b7ca85b7ed7": {
     "model_module": "@jupyter-widgets/base",
     "model_module_version": "1.2.0",
     "model_name": "LayoutModel",
     "state": {
      "_model_module": "@jupyter-widgets/base",
      "_model_module_version": "1.2.0",
      "_model_name": "LayoutModel",
      "_view_count": null,
      "_view_module": "@jupyter-widgets/base",
      "_view_module_version": "1.2.0",
      "_view_name": "LayoutView",
      "align_content": null,
      "align_items": null,
      "align_self": null,
      "border": null,
      "bottom": null,
      "display": null,
      "flex": null,
      "flex_flow": null,
      "grid_area": null,
      "grid_auto_columns": null,
      "grid_auto_flow": null,
      "grid_auto_rows": null,
      "grid_column": null,
      "grid_gap": null,
      "grid_row": null,
      "grid_template_areas": null,
      "grid_template_columns": null,
      "grid_template_rows": null,
      "height": null,
      "justify_content": null,
      "justify_items": null,
      "left": null,
      "margin": null,
      "max_height": null,
      "max_width": null,
      "min_height": null,
      "min_width": null,
      "object_fit": null,
      "object_position": null,
      "order": null,
      "overflow": null,
      "overflow_x": null,
      "overflow_y": null,
      "padding": null,
      "right": null,
      "top": null,
      "visibility": null,
      "width": null
     }
    },
    "3c8267139c8240f495f434e92c145dfb": {
     "model_module": "@jupyter-widgets/base",
     "model_module_version": "1.2.0",
     "model_name": "LayoutModel",
     "state": {
      "_model_module": "@jupyter-widgets/base",
      "_model_module_version": "1.2.0",
      "_model_name": "LayoutModel",
      "_view_count": null,
      "_view_module": "@jupyter-widgets/base",
      "_view_module_version": "1.2.0",
      "_view_name": "LayoutView",
      "align_content": null,
      "align_items": null,
      "align_self": null,
      "border": null,
      "bottom": null,
      "display": null,
      "flex": null,
      "flex_flow": null,
      "grid_area": null,
      "grid_auto_columns": null,
      "grid_auto_flow": null,
      "grid_auto_rows": null,
      "grid_column": null,
      "grid_gap": null,
      "grid_row": null,
      "grid_template_areas": null,
      "grid_template_columns": null,
      "grid_template_rows": null,
      "height": null,
      "justify_content": null,
      "justify_items": null,
      "left": null,
      "margin": null,
      "max_height": null,
      "max_width": null,
      "min_height": null,
      "min_width": null,
      "object_fit": null,
      "object_position": null,
      "order": null,
      "overflow": null,
      "overflow_x": null,
      "overflow_y": null,
      "padding": null,
      "right": null,
      "top": null,
      "visibility": null,
      "width": null
     }
    },
    "40220ed960b14cf380a9b248cc97d39e": {
     "model_module": "@jupyter-widgets/controls",
     "model_module_version": "1.5.0",
     "model_name": "FloatProgressModel",
     "state": {
      "_dom_classes": [],
      "_model_module": "@jupyter-widgets/controls",
      "_model_module_version": "1.5.0",
      "_model_name": "FloatProgressModel",
      "_view_count": null,
      "_view_module": "@jupyter-widgets/controls",
      "_view_module_version": "1.5.0",
      "_view_name": "ProgressView",
      "bar_style": "success",
      "description": "",
      "description_tooltip": null,
      "layout": "IPY_MODEL_37a1eadfff43467ca6e43b7ca85b7ed7",
      "max": 440474434,
      "min": 0,
      "orientation": "horizontal",
      "style": "IPY_MODEL_d5c2e0003a9d40f8837ac27184f85ba6",
      "value": 440474434
     }
    },
    "40480c84d7ac4c48ab31249b19fe9474": {
     "model_module": "@jupyter-widgets/controls",
     "model_module_version": "1.5.0",
     "model_name": "HBoxModel",
     "state": {
      "_dom_classes": [],
      "_model_module": "@jupyter-widgets/controls",
      "_model_module_version": "1.5.0",
      "_model_name": "HBoxModel",
      "_view_count": null,
      "_view_module": "@jupyter-widgets/controls",
      "_view_module_version": "1.5.0",
      "_view_name": "HBoxView",
      "box_style": "",
      "children": [
       "IPY_MODEL_4b22eef495ea42aa9cde34324bcfccad",
       "IPY_MODEL_879a14bf3fe741709da3728089eb82b5",
       "IPY_MODEL_eca1d042c0314d8c822e251aec0282b2"
      ],
      "layout": "IPY_MODEL_d852bf22b5b146fcb5c71400b5b4b921"
     }
    },
    "457e0aa262c241c9965f70854b7b0770": {
     "model_module": "@jupyter-widgets/base",
     "model_module_version": "1.2.0",
     "model_name": "LayoutModel",
     "state": {
      "_model_module": "@jupyter-widgets/base",
      "_model_module_version": "1.2.0",
      "_model_name": "LayoutModel",
      "_view_count": null,
      "_view_module": "@jupyter-widgets/base",
      "_view_module_version": "1.2.0",
      "_view_name": "LayoutView",
      "align_content": null,
      "align_items": null,
      "align_self": null,
      "border": null,
      "bottom": null,
      "display": null,
      "flex": null,
      "flex_flow": null,
      "grid_area": null,
      "grid_auto_columns": null,
      "grid_auto_flow": null,
      "grid_auto_rows": null,
      "grid_column": null,
      "grid_gap": null,
      "grid_row": null,
      "grid_template_areas": null,
      "grid_template_columns": null,
      "grid_template_rows": null,
      "height": null,
      "justify_content": null,
      "justify_items": null,
      "left": null,
      "margin": null,
      "max_height": null,
      "max_width": null,
      "min_height": null,
      "min_width": null,
      "object_fit": null,
      "object_position": null,
      "order": null,
      "overflow": null,
      "overflow_x": null,
      "overflow_y": null,
      "padding": null,
      "right": null,
      "top": null,
      "visibility": null,
      "width": null
     }
    },
    "4b22eef495ea42aa9cde34324bcfccad": {
     "model_module": "@jupyter-widgets/controls",
     "model_module_version": "1.5.0",
     "model_name": "HTMLModel",
     "state": {
      "_dom_classes": [],
      "_model_module": "@jupyter-widgets/controls",
      "_model_module_version": "1.5.0",
      "_model_name": "HTMLModel",
      "_view_count": null,
      "_view_module": "@jupyter-widgets/controls",
      "_view_module_version": "1.5.0",
      "_view_name": "HTMLView",
      "description": "",
      "description_tooltip": null,
      "layout": "IPY_MODEL_6175fcf5df3b4751b9a93f0bb8bcc629",
      "placeholder": "​",
      "style": "IPY_MODEL_b0bd523e1f744c9aaecd551cd65d602e",
      "value": "Downloading: 100%"
     }
    },
    "4f2f8557084b4d7b81a46e7a2be661aa": {
     "model_module": "@jupyter-widgets/base",
     "model_module_version": "1.2.0",
     "model_name": "LayoutModel",
     "state": {
      "_model_module": "@jupyter-widgets/base",
      "_model_module_version": "1.2.0",
      "_model_name": "LayoutModel",
      "_view_count": null,
      "_view_module": "@jupyter-widgets/base",
      "_view_module_version": "1.2.0",
      "_view_name": "LayoutView",
      "align_content": null,
      "align_items": null,
      "align_self": null,
      "border": null,
      "bottom": null,
      "display": null,
      "flex": null,
      "flex_flow": null,
      "grid_area": null,
      "grid_auto_columns": null,
      "grid_auto_flow": null,
      "grid_auto_rows": null,
      "grid_column": null,
      "grid_gap": null,
      "grid_row": null,
      "grid_template_areas": null,
      "grid_template_columns": null,
      "grid_template_rows": null,
      "height": null,
      "justify_content": null,
      "justify_items": null,
      "left": null,
      "margin": null,
      "max_height": null,
      "max_width": null,
      "min_height": null,
      "min_width": null,
      "object_fit": null,
      "object_position": null,
      "order": null,
      "overflow": null,
      "overflow_x": null,
      "overflow_y": null,
      "padding": null,
      "right": null,
      "top": null,
      "visibility": null,
      "width": null
     }
    },
    "50511b21a7c04958a3a20b86cc3e0d79": {
     "model_module": "@jupyter-widgets/base",
     "model_module_version": "1.2.0",
     "model_name": "LayoutModel",
     "state": {
      "_model_module": "@jupyter-widgets/base",
      "_model_module_version": "1.2.0",
      "_model_name": "LayoutModel",
      "_view_count": null,
      "_view_module": "@jupyter-widgets/base",
      "_view_module_version": "1.2.0",
      "_view_name": "LayoutView",
      "align_content": null,
      "align_items": null,
      "align_self": null,
      "border": null,
      "bottom": null,
      "display": null,
      "flex": null,
      "flex_flow": null,
      "grid_area": null,
      "grid_auto_columns": null,
      "grid_auto_flow": null,
      "grid_auto_rows": null,
      "grid_column": null,
      "grid_gap": null,
      "grid_row": null,
      "grid_template_areas": null,
      "grid_template_columns": null,
      "grid_template_rows": null,
      "height": null,
      "justify_content": null,
      "justify_items": null,
      "left": null,
      "margin": null,
      "max_height": null,
      "max_width": null,
      "min_height": null,
      "min_width": null,
      "object_fit": null,
      "object_position": null,
      "order": null,
      "overflow": null,
      "overflow_x": null,
      "overflow_y": null,
      "padding": null,
      "right": null,
      "top": null,
      "visibility": null,
      "width": null
     }
    },
    "50a98e5ea6d5445688e51ec15cb89e5c": {
     "model_module": "@jupyter-widgets/base",
     "model_module_version": "1.2.0",
     "model_name": "LayoutModel",
     "state": {
      "_model_module": "@jupyter-widgets/base",
      "_model_module_version": "1.2.0",
      "_model_name": "LayoutModel",
      "_view_count": null,
      "_view_module": "@jupyter-widgets/base",
      "_view_module_version": "1.2.0",
      "_view_name": "LayoutView",
      "align_content": null,
      "align_items": null,
      "align_self": null,
      "border": null,
      "bottom": null,
      "display": null,
      "flex": null,
      "flex_flow": null,
      "grid_area": null,
      "grid_auto_columns": null,
      "grid_auto_flow": null,
      "grid_auto_rows": null,
      "grid_column": null,
      "grid_gap": null,
      "grid_row": null,
      "grid_template_areas": null,
      "grid_template_columns": null,
      "grid_template_rows": null,
      "height": null,
      "justify_content": null,
      "justify_items": null,
      "left": null,
      "margin": null,
      "max_height": null,
      "max_width": null,
      "min_height": null,
      "min_width": null,
      "object_fit": null,
      "object_position": null,
      "order": null,
      "overflow": null,
      "overflow_x": null,
      "overflow_y": null,
      "padding": null,
      "right": null,
      "top": null,
      "visibility": null,
      "width": null
     }
    },
    "5abd9d25ab614e3f8c350bceb0bbad79": {
     "model_module": "@jupyter-widgets/base",
     "model_module_version": "1.2.0",
     "model_name": "LayoutModel",
     "state": {
      "_model_module": "@jupyter-widgets/base",
      "_model_module_version": "1.2.0",
      "_model_name": "LayoutModel",
      "_view_count": null,
      "_view_module": "@jupyter-widgets/base",
      "_view_module_version": "1.2.0",
      "_view_name": "LayoutView",
      "align_content": null,
      "align_items": null,
      "align_self": null,
      "border": null,
      "bottom": null,
      "display": null,
      "flex": null,
      "flex_flow": null,
      "grid_area": null,
      "grid_auto_columns": null,
      "grid_auto_flow": null,
      "grid_auto_rows": null,
      "grid_column": null,
      "grid_gap": null,
      "grid_row": null,
      "grid_template_areas": null,
      "grid_template_columns": null,
      "grid_template_rows": null,
      "height": null,
      "justify_content": null,
      "justify_items": null,
      "left": null,
      "margin": null,
      "max_height": null,
      "max_width": null,
      "min_height": null,
      "min_width": null,
      "object_fit": null,
      "object_position": null,
      "order": null,
      "overflow": null,
      "overflow_x": null,
      "overflow_y": null,
      "padding": null,
      "right": null,
      "top": null,
      "visibility": null,
      "width": null
     }
    },
    "61733dd0a8bb4e12ac478fdaff55f0c3": {
     "model_module": "@jupyter-widgets/controls",
     "model_module_version": "1.5.0",
     "model_name": "DescriptionStyleModel",
     "state": {
      "_model_module": "@jupyter-widgets/controls",
      "_model_module_version": "1.5.0",
      "_model_name": "DescriptionStyleModel",
      "_view_count": null,
      "_view_module": "@jupyter-widgets/base",
      "_view_module_version": "1.2.0",
      "_view_name": "StyleView",
      "description_width": ""
     }
    },
    "6175fcf5df3b4751b9a93f0bb8bcc629": {
     "model_module": "@jupyter-widgets/base",
     "model_module_version": "1.2.0",
     "model_name": "LayoutModel",
     "state": {
      "_model_module": "@jupyter-widgets/base",
      "_model_module_version": "1.2.0",
      "_model_name": "LayoutModel",
      "_view_count": null,
      "_view_module": "@jupyter-widgets/base",
      "_view_module_version": "1.2.0",
      "_view_name": "LayoutView",
      "align_content": null,
      "align_items": null,
      "align_self": null,
      "border": null,
      "bottom": null,
      "display": null,
      "flex": null,
      "flex_flow": null,
      "grid_area": null,
      "grid_auto_columns": null,
      "grid_auto_flow": null,
      "grid_auto_rows": null,
      "grid_column": null,
      "grid_gap": null,
      "grid_row": null,
      "grid_template_areas": null,
      "grid_template_columns": null,
      "grid_template_rows": null,
      "height": null,
      "justify_content": null,
      "justify_items": null,
      "left": null,
      "margin": null,
      "max_height": null,
      "max_width": null,
      "min_height": null,
      "min_width": null,
      "object_fit": null,
      "object_position": null,
      "order": null,
      "overflow": null,
      "overflow_x": null,
      "overflow_y": null,
      "padding": null,
      "right": null,
      "top": null,
      "visibility": null,
      "width": null
     }
    },
    "65a53e820aaf44b1a3185bddb51b525d": {
     "model_module": "@jupyter-widgets/controls",
     "model_module_version": "1.5.0",
     "model_name": "HTMLModel",
     "state": {
      "_dom_classes": [],
      "_model_module": "@jupyter-widgets/controls",
      "_model_module_version": "1.5.0",
      "_model_name": "HTMLModel",
      "_view_count": null,
      "_view_module": "@jupyter-widgets/controls",
      "_view_module_version": "1.5.0",
      "_view_name": "HTMLView",
      "description": "",
      "description_tooltip": null,
      "layout": "IPY_MODEL_50a98e5ea6d5445688e51ec15cb89e5c",
      "placeholder": "​",
      "style": "IPY_MODEL_61733dd0a8bb4e12ac478fdaff55f0c3",
      "value": "Downloading: 100%"
     }
    },
    "69cb626bce35488c8230c7a9665094e2": {
     "model_module": "@jupyter-widgets/controls",
     "model_module_version": "1.5.0",
     "model_name": "HBoxModel",
     "state": {
      "_dom_classes": [],
      "_model_module": "@jupyter-widgets/controls",
      "_model_module_version": "1.5.0",
      "_model_name": "HBoxModel",
      "_view_count": null,
      "_view_module": "@jupyter-widgets/controls",
      "_view_module_version": "1.5.0",
      "_view_name": "HBoxView",
      "box_style": "",
      "children": [
       "IPY_MODEL_1a7b1a6ff5074daf9e8433f82d64a0ad",
       "IPY_MODEL_40220ed960b14cf380a9b248cc97d39e",
       "IPY_MODEL_824a186663084059917149593142ad6b"
      ],
      "layout": "IPY_MODEL_9ff324b861a540f09c6fe59bfb15d6f7"
     }
    },
    "6c2da5e25f9f4556bbefbb3833833c29": {
     "model_module": "@jupyter-widgets/controls",
     "model_module_version": "1.5.0",
     "model_name": "HBoxModel",
     "state": {
      "_dom_classes": [],
      "_model_module": "@jupyter-widgets/controls",
      "_model_module_version": "1.5.0",
      "_model_name": "HBoxModel",
      "_view_count": null,
      "_view_module": "@jupyter-widgets/controls",
      "_view_module_version": "1.5.0",
      "_view_name": "HBoxView",
      "box_style": "",
      "children": [
       "IPY_MODEL_65a53e820aaf44b1a3185bddb51b525d",
       "IPY_MODEL_8d609368d61f48d4b6e46834fff667f2",
       "IPY_MODEL_891c3a429eda4c798f3841cd6da875b6"
      ],
      "layout": "IPY_MODEL_9b3a4e6fcf614741a8f2a33a00412905"
     }
    },
    "78e0d74c9ca1496c8e814fbc76a86664": {
     "model_module": "@jupyter-widgets/controls",
     "model_module_version": "1.5.0",
     "model_name": "ProgressStyleModel",
     "state": {
      "_model_module": "@jupyter-widgets/controls",
      "_model_module_version": "1.5.0",
      "_model_name": "ProgressStyleModel",
      "_view_count": null,
      "_view_module": "@jupyter-widgets/base",
      "_view_module_version": "1.2.0",
      "_view_name": "StyleView",
      "bar_color": null,
      "description_width": ""
     }
    },
    "824a186663084059917149593142ad6b": {
     "model_module": "@jupyter-widgets/controls",
     "model_module_version": "1.5.0",
     "model_name": "HTMLModel",
     "state": {
      "_dom_classes": [],
      "_model_module": "@jupyter-widgets/controls",
      "_model_module_version": "1.5.0",
      "_model_name": "HTMLModel",
      "_view_count": null,
      "_view_module": "@jupyter-widgets/controls",
      "_view_module_version": "1.5.0",
      "_view_name": "HTMLView",
      "description": "",
      "description_tooltip": null,
      "layout": "IPY_MODEL_d10807cc620548cab086786bd2998455",
      "placeholder": "​",
      "style": "IPY_MODEL_a3a3d13ae72d4acfb8979a6bd2539cdd",
      "value": " 440M/440M [00:20&lt;00:00, 28.0MB/s]"
     }
    },
    "879a14bf3fe741709da3728089eb82b5": {
     "model_module": "@jupyter-widgets/controls",
     "model_module_version": "1.5.0",
     "model_name": "FloatProgressModel",
     "state": {
      "_dom_classes": [],
      "_model_module": "@jupyter-widgets/controls",
      "_model_module_version": "1.5.0",
      "_model_name": "FloatProgressModel",
      "_view_count": null,
      "_view_module": "@jupyter-widgets/controls",
      "_view_module_version": "1.5.0",
      "_view_name": "ProgressView",
      "bar_style": "success",
      "description": "",
      "description_tooltip": null,
      "layout": "IPY_MODEL_3c8267139c8240f495f434e92c145dfb",
      "max": 28,
      "min": 0,
      "orientation": "horizontal",
      "style": "IPY_MODEL_ea070687976e46358fec287af656b155",
      "value": 28
     }
    },
    "891c3a429eda4c798f3841cd6da875b6": {
     "model_module": "@jupyter-widgets/controls",
     "model_module_version": "1.5.0",
     "model_name": "HTMLModel",
     "state": {
      "_dom_classes": [],
      "_model_module": "@jupyter-widgets/controls",
      "_model_module_version": "1.5.0",
      "_model_name": "HTMLModel",
      "_view_count": null,
      "_view_module": "@jupyter-widgets/controls",
      "_view_module_version": "1.5.0",
      "_view_name": "HTMLView",
      "description": "",
      "description_tooltip": null,
      "layout": "IPY_MODEL_50511b21a7c04958a3a20b86cc3e0d79",
      "placeholder": "​",
      "style": "IPY_MODEL_2df52191262142129b00dde1af92c23d",
      "value": " 385/385 [00:00&lt;00:00, 7.70kB/s]"
     }
    },
    "8d609368d61f48d4b6e46834fff667f2": {
     "model_module": "@jupyter-widgets/controls",
     "model_module_version": "1.5.0",
     "model_name": "FloatProgressModel",
     "state": {
      "_dom_classes": [],
      "_model_module": "@jupyter-widgets/controls",
      "_model_module_version": "1.5.0",
      "_model_name": "FloatProgressModel",
      "_view_count": null,
      "_view_module": "@jupyter-widgets/controls",
      "_view_module_version": "1.5.0",
      "_view_name": "ProgressView",
      "bar_style": "success",
      "description": "",
      "description_tooltip": null,
      "layout": "IPY_MODEL_b13ee4d07ae34cad84943dae27a96389",
      "max": 385,
      "min": 0,
      "orientation": "horizontal",
      "style": "IPY_MODEL_78e0d74c9ca1496c8e814fbc76a86664",
      "value": 385
     }
    },
    "9b3a4e6fcf614741a8f2a33a00412905": {
     "model_module": "@jupyter-widgets/base",
     "model_module_version": "1.2.0",
     "model_name": "LayoutModel",
     "state": {
      "_model_module": "@jupyter-widgets/base",
      "_model_module_version": "1.2.0",
      "_model_name": "LayoutModel",
      "_view_count": null,
      "_view_module": "@jupyter-widgets/base",
      "_view_module_version": "1.2.0",
      "_view_name": "LayoutView",
      "align_content": null,
      "align_items": null,
      "align_self": null,
      "border": null,
      "bottom": null,
      "display": null,
      "flex": null,
      "flex_flow": null,
      "grid_area": null,
      "grid_auto_columns": null,
      "grid_auto_flow": null,
      "grid_auto_rows": null,
      "grid_column": null,
      "grid_gap": null,
      "grid_row": null,
      "grid_template_areas": null,
      "grid_template_columns": null,
      "grid_template_rows": null,
      "height": null,
      "justify_content": null,
      "justify_items": null,
      "left": null,
      "margin": null,
      "max_height": null,
      "max_width": null,
      "min_height": null,
      "min_width": null,
      "object_fit": null,
      "object_position": null,
      "order": null,
      "overflow": null,
      "overflow_x": null,
      "overflow_y": null,
      "padding": null,
      "right": null,
      "top": null,
      "visibility": null,
      "width": null
     }
    },
    "9ff324b861a540f09c6fe59bfb15d6f7": {
     "model_module": "@jupyter-widgets/base",
     "model_module_version": "1.2.0",
     "model_name": "LayoutModel",
     "state": {
      "_model_module": "@jupyter-widgets/base",
      "_model_module_version": "1.2.0",
      "_model_name": "LayoutModel",
      "_view_count": null,
      "_view_module": "@jupyter-widgets/base",
      "_view_module_version": "1.2.0",
      "_view_name": "LayoutView",
      "align_content": null,
      "align_items": null,
      "align_self": null,
      "border": null,
      "bottom": null,
      "display": null,
      "flex": null,
      "flex_flow": null,
      "grid_area": null,
      "grid_auto_columns": null,
      "grid_auto_flow": null,
      "grid_auto_rows": null,
      "grid_column": null,
      "grid_gap": null,
      "grid_row": null,
      "grid_template_areas": null,
      "grid_template_columns": null,
      "grid_template_rows": null,
      "height": null,
      "justify_content": null,
      "justify_items": null,
      "left": null,
      "margin": null,
      "max_height": null,
      "max_width": null,
      "min_height": null,
      "min_width": null,
      "object_fit": null,
      "object_position": null,
      "order": null,
      "overflow": null,
      "overflow_x": null,
      "overflow_y": null,
      "padding": null,
      "right": null,
      "top": null,
      "visibility": null,
      "width": null
     }
    },
    "a3a3d13ae72d4acfb8979a6bd2539cdd": {
     "model_module": "@jupyter-widgets/controls",
     "model_module_version": "1.5.0",
     "model_name": "DescriptionStyleModel",
     "state": {
      "_model_module": "@jupyter-widgets/controls",
      "_model_module_version": "1.5.0",
      "_model_name": "DescriptionStyleModel",
      "_view_count": null,
      "_view_module": "@jupyter-widgets/base",
      "_view_module_version": "1.2.0",
      "_view_name": "StyleView",
      "description_width": ""
     }
    },
    "a506f19bfd0144b3b640780eed1378d0": {
     "model_module": "@jupyter-widgets/controls",
     "model_module_version": "1.5.0",
     "model_name": "DescriptionStyleModel",
     "state": {
      "_model_module": "@jupyter-widgets/controls",
      "_model_module_version": "1.5.0",
      "_model_name": "DescriptionStyleModel",
      "_view_count": null,
      "_view_module": "@jupyter-widgets/base",
      "_view_module_version": "1.2.0",
      "_view_name": "StyleView",
      "description_width": ""
     }
    },
    "a812be1eebed4a1dbbd77d98d36a63fe": {
     "model_module": "@jupyter-widgets/base",
     "model_module_version": "1.2.0",
     "model_name": "LayoutModel",
     "state": {
      "_model_module": "@jupyter-widgets/base",
      "_model_module_version": "1.2.0",
      "_model_name": "LayoutModel",
      "_view_count": null,
      "_view_module": "@jupyter-widgets/base",
      "_view_module_version": "1.2.0",
      "_view_name": "LayoutView",
      "align_content": null,
      "align_items": null,
      "align_self": null,
      "border": null,
      "bottom": null,
      "display": null,
      "flex": null,
      "flex_flow": null,
      "grid_area": null,
      "grid_auto_columns": null,
      "grid_auto_flow": null,
      "grid_auto_rows": null,
      "grid_column": null,
      "grid_gap": null,
      "grid_row": null,
      "grid_template_areas": null,
      "grid_template_columns": null,
      "grid_template_rows": null,
      "height": null,
      "justify_content": null,
      "justify_items": null,
      "left": null,
      "margin": null,
      "max_height": null,
      "max_width": null,
      "min_height": null,
      "min_width": null,
      "object_fit": null,
      "object_position": null,
      "order": null,
      "overflow": null,
      "overflow_x": null,
      "overflow_y": null,
      "padding": null,
      "right": null,
      "top": null,
      "visibility": null,
      "width": null
     }
    },
    "b0bd523e1f744c9aaecd551cd65d602e": {
     "model_module": "@jupyter-widgets/controls",
     "model_module_version": "1.5.0",
     "model_name": "DescriptionStyleModel",
     "state": {
      "_model_module": "@jupyter-widgets/controls",
      "_model_module_version": "1.5.0",
      "_model_name": "DescriptionStyleModel",
      "_view_count": null,
      "_view_module": "@jupyter-widgets/base",
      "_view_module_version": "1.2.0",
      "_view_name": "StyleView",
      "description_width": ""
     }
    },
    "b13ee4d07ae34cad84943dae27a96389": {
     "model_module": "@jupyter-widgets/base",
     "model_module_version": "1.2.0",
     "model_name": "LayoutModel",
     "state": {
      "_model_module": "@jupyter-widgets/base",
      "_model_module_version": "1.2.0",
      "_model_name": "LayoutModel",
      "_view_count": null,
      "_view_module": "@jupyter-widgets/base",
      "_view_module_version": "1.2.0",
      "_view_name": "LayoutView",
      "align_content": null,
      "align_items": null,
      "align_self": null,
      "border": null,
      "bottom": null,
      "display": null,
      "flex": null,
      "flex_flow": null,
      "grid_area": null,
      "grid_auto_columns": null,
      "grid_auto_flow": null,
      "grid_auto_rows": null,
      "grid_column": null,
      "grid_gap": null,
      "grid_row": null,
      "grid_template_areas": null,
      "grid_template_columns": null,
      "grid_template_rows": null,
      "height": null,
      "justify_content": null,
      "justify_items": null,
      "left": null,
      "margin": null,
      "max_height": null,
      "max_width": null,
      "min_height": null,
      "min_width": null,
      "object_fit": null,
      "object_position": null,
      "order": null,
      "overflow": null,
      "overflow_x": null,
      "overflow_y": null,
      "padding": null,
      "right": null,
      "top": null,
      "visibility": null,
      "width": null
     }
    },
    "c3306f100dd945938e9627b5eb02333d": {
     "model_module": "@jupyter-widgets/controls",
     "model_module_version": "1.5.0",
     "model_name": "HTMLModel",
     "state": {
      "_dom_classes": [],
      "_model_module": "@jupyter-widgets/controls",
      "_model_module_version": "1.5.0",
      "_model_name": "HTMLModel",
      "_view_count": null,
      "_view_module": "@jupyter-widgets/controls",
      "_view_module_version": "1.5.0",
      "_view_name": "HTMLView",
      "description": "",
      "description_tooltip": null,
      "layout": "IPY_MODEL_457e0aa262c241c9965f70854b7b0770",
      "placeholder": "​",
      "style": "IPY_MODEL_095a594a9a2e474d9ead33cbb3533184",
      "value": "Downloading: 100%"
     }
    },
    "d10807cc620548cab086786bd2998455": {
     "model_module": "@jupyter-widgets/base",
     "model_module_version": "1.2.0",
     "model_name": "LayoutModel",
     "state": {
      "_model_module": "@jupyter-widgets/base",
      "_model_module_version": "1.2.0",
      "_model_name": "LayoutModel",
      "_view_count": null,
      "_view_module": "@jupyter-widgets/base",
      "_view_module_version": "1.2.0",
      "_view_name": "LayoutView",
      "align_content": null,
      "align_items": null,
      "align_self": null,
      "border": null,
      "bottom": null,
      "display": null,
      "flex": null,
      "flex_flow": null,
      "grid_area": null,
      "grid_auto_columns": null,
      "grid_auto_flow": null,
      "grid_auto_rows": null,
      "grid_column": null,
      "grid_gap": null,
      "grid_row": null,
      "grid_template_areas": null,
      "grid_template_columns": null,
      "grid_template_rows": null,
      "height": null,
      "justify_content": null,
      "justify_items": null,
      "left": null,
      "margin": null,
      "max_height": null,
      "max_width": null,
      "min_height": null,
      "min_width": null,
      "object_fit": null,
      "object_position": null,
      "order": null,
      "overflow": null,
      "overflow_x": null,
      "overflow_y": null,
      "padding": null,
      "right": null,
      "top": null,
      "visibility": null,
      "width": null
     }
    },
    "d5c2e0003a9d40f8837ac27184f85ba6": {
     "model_module": "@jupyter-widgets/controls",
     "model_module_version": "1.5.0",
     "model_name": "ProgressStyleModel",
     "state": {
      "_model_module": "@jupyter-widgets/controls",
      "_model_module_version": "1.5.0",
      "_model_name": "ProgressStyleModel",
      "_view_count": null,
      "_view_module": "@jupyter-widgets/base",
      "_view_module_version": "1.2.0",
      "_view_name": "StyleView",
      "bar_color": null,
      "description_width": ""
     }
    },
    "d852bf22b5b146fcb5c71400b5b4b921": {
     "model_module": "@jupyter-widgets/base",
     "model_module_version": "1.2.0",
     "model_name": "LayoutModel",
     "state": {
      "_model_module": "@jupyter-widgets/base",
      "_model_module_version": "1.2.0",
      "_model_name": "LayoutModel",
      "_view_count": null,
      "_view_module": "@jupyter-widgets/base",
      "_view_module_version": "1.2.0",
      "_view_name": "LayoutView",
      "align_content": null,
      "align_items": null,
      "align_self": null,
      "border": null,
      "bottom": null,
      "display": null,
      "flex": null,
      "flex_flow": null,
      "grid_area": null,
      "grid_auto_columns": null,
      "grid_auto_flow": null,
      "grid_auto_rows": null,
      "grid_column": null,
      "grid_gap": null,
      "grid_row": null,
      "grid_template_areas": null,
      "grid_template_columns": null,
      "grid_template_rows": null,
      "height": null,
      "justify_content": null,
      "justify_items": null,
      "left": null,
      "margin": null,
      "max_height": null,
      "max_width": null,
      "min_height": null,
      "min_width": null,
      "object_fit": null,
      "object_position": null,
      "order": null,
      "overflow": null,
      "overflow_x": null,
      "overflow_y": null,
      "padding": null,
      "right": null,
      "top": null,
      "visibility": null,
      "width": null
     }
    },
    "e339166de0714147a6676305442af9d9": {
     "model_module": "@jupyter-widgets/controls",
     "model_module_version": "1.5.0",
     "model_name": "DescriptionStyleModel",
     "state": {
      "_model_module": "@jupyter-widgets/controls",
      "_model_module_version": "1.5.0",
      "_model_name": "DescriptionStyleModel",
      "_view_count": null,
      "_view_module": "@jupyter-widgets/base",
      "_view_module_version": "1.2.0",
      "_view_name": "StyleView",
      "description_width": ""
     }
    },
    "e6aac4c4cc674f5ea4b962b52a88d523": {
     "model_module": "@jupyter-widgets/base",
     "model_module_version": "1.2.0",
     "model_name": "LayoutModel",
     "state": {
      "_model_module": "@jupyter-widgets/base",
      "_model_module_version": "1.2.0",
      "_model_name": "LayoutModel",
      "_view_count": null,
      "_view_module": "@jupyter-widgets/base",
      "_view_module_version": "1.2.0",
      "_view_name": "LayoutView",
      "align_content": null,
      "align_items": null,
      "align_self": null,
      "border": null,
      "bottom": null,
      "display": null,
      "flex": null,
      "flex_flow": null,
      "grid_area": null,
      "grid_auto_columns": null,
      "grid_auto_flow": null,
      "grid_auto_rows": null,
      "grid_column": null,
      "grid_gap": null,
      "grid_row": null,
      "grid_template_areas": null,
      "grid_template_columns": null,
      "grid_template_rows": null,
      "height": null,
      "justify_content": null,
      "justify_items": null,
      "left": null,
      "margin": null,
      "max_height": null,
      "max_width": null,
      "min_height": null,
      "min_width": null,
      "object_fit": null,
      "object_position": null,
      "order": null,
      "overflow": null,
      "overflow_x": null,
      "overflow_y": null,
      "padding": null,
      "right": null,
      "top": null,
      "visibility": null,
      "width": null
     }
    },
    "ea070687976e46358fec287af656b155": {
     "model_module": "@jupyter-widgets/controls",
     "model_module_version": "1.5.0",
     "model_name": "ProgressStyleModel",
     "state": {
      "_model_module": "@jupyter-widgets/controls",
      "_model_module_version": "1.5.0",
      "_model_name": "ProgressStyleModel",
      "_view_count": null,
      "_view_module": "@jupyter-widgets/base",
      "_view_module_version": "1.2.0",
      "_view_name": "StyleView",
      "bar_color": null,
      "description_width": ""
     }
    },
    "eca1d042c0314d8c822e251aec0282b2": {
     "model_module": "@jupyter-widgets/controls",
     "model_module_version": "1.5.0",
     "model_name": "HTMLModel",
     "state": {
      "_dom_classes": [],
      "_model_module": "@jupyter-widgets/controls",
      "_model_module_version": "1.5.0",
      "_model_name": "HTMLModel",
      "_view_count": null,
      "_view_module": "@jupyter-widgets/controls",
      "_view_module_version": "1.5.0",
      "_view_name": "HTMLView",
      "description": "",
      "description_tooltip": null,
      "layout": "IPY_MODEL_a812be1eebed4a1dbbd77d98d36a63fe",
      "placeholder": "​",
      "style": "IPY_MODEL_e339166de0714147a6676305442af9d9",
      "value": " 28.0/28.0 [00:00&lt;00:00, 692B/s]"
     }
    },
    "fa52db6ff02f41f79ecbf7594e45b718": {
     "model_module": "@jupyter-widgets/controls",
     "model_module_version": "1.5.0",
     "model_name": "ProgressStyleModel",
     "state": {
      "_model_module": "@jupyter-widgets/controls",
      "_model_module_version": "1.5.0",
      "_model_name": "ProgressStyleModel",
      "_view_count": null,
      "_view_module": "@jupyter-widgets/base",
      "_view_module_version": "1.2.0",
      "_view_name": "StyleView",
      "bar_color": null,
      "description_width": ""
     }
    }
   }
  }
 },
 "nbformat": 4,
 "nbformat_minor": 4
}
