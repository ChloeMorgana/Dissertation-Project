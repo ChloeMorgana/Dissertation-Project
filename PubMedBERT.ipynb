{
  "nbformat": 4,
  "nbformat_minor": 0,
  "metadata": {
    "colab": {
      "provenance": [],
      "collapsed_sections": []
    },
    "kernelspec": {
      "name": "python3",
      "display_name": "Python 3"
    },
    "language_info": {
      "name": "python"
    },
    "widgets": {
      "application/vnd.jupyter.widget-state+json": {
        "639e41dc47ad420a9fca3ae35c9ce020": {
          "model_module": "@jupyter-widgets/controls",
          "model_name": "HBoxModel",
          "model_module_version": "1.5.0",
          "state": {
            "_dom_classes": [],
            "_model_module": "@jupyter-widgets/controls",
            "_model_module_version": "1.5.0",
            "_model_name": "HBoxModel",
            "_view_count": null,
            "_view_module": "@jupyter-widgets/controls",
            "_view_module_version": "1.5.0",
            "_view_name": "HBoxView",
            "box_style": "",
            "children": [
              "IPY_MODEL_d97acac0de6040f984be8e4910521cfb",
              "IPY_MODEL_7d33fde402314429bffd032b45e7dc94",
              "IPY_MODEL_803dddff62fe45de8faaab3cd0da6ad3"
            ],
            "layout": "IPY_MODEL_0a68745502e44d6e9bb822f70a2324f4"
          }
        },
        "d97acac0de6040f984be8e4910521cfb": {
          "model_module": "@jupyter-widgets/controls",
          "model_name": "HTMLModel",
          "model_module_version": "1.5.0",
          "state": {
            "_dom_classes": [],
            "_model_module": "@jupyter-widgets/controls",
            "_model_module_version": "1.5.0",
            "_model_name": "HTMLModel",
            "_view_count": null,
            "_view_module": "@jupyter-widgets/controls",
            "_view_module_version": "1.5.0",
            "_view_name": "HTMLView",
            "description": "",
            "description_tooltip": null,
            "layout": "IPY_MODEL_676563d5b4a1438a9502f4fe6999c7ef",
            "placeholder": "​",
            "style": "IPY_MODEL_8b2642b8dfbe4ac59bad98a2b843caa5",
            "value": "Downloading: 100%"
          }
        },
        "7d33fde402314429bffd032b45e7dc94": {
          "model_module": "@jupyter-widgets/controls",
          "model_name": "FloatProgressModel",
          "model_module_version": "1.5.0",
          "state": {
            "_dom_classes": [],
            "_model_module": "@jupyter-widgets/controls",
            "_model_module_version": "1.5.0",
            "_model_name": "FloatProgressModel",
            "_view_count": null,
            "_view_module": "@jupyter-widgets/controls",
            "_view_module_version": "1.5.0",
            "_view_name": "ProgressView",
            "bar_style": "success",
            "description": "",
            "description_tooltip": null,
            "layout": "IPY_MODEL_e970bc2e83c04d338709db8ab6646582",
            "max": 385,
            "min": 0,
            "orientation": "horizontal",
            "style": "IPY_MODEL_5a199244bb024980934250594ef15bbd",
            "value": 385
          }
        },
        "803dddff62fe45de8faaab3cd0da6ad3": {
          "model_module": "@jupyter-widgets/controls",
          "model_name": "HTMLModel",
          "model_module_version": "1.5.0",
          "state": {
            "_dom_classes": [],
            "_model_module": "@jupyter-widgets/controls",
            "_model_module_version": "1.5.0",
            "_model_name": "HTMLModel",
            "_view_count": null,
            "_view_module": "@jupyter-widgets/controls",
            "_view_module_version": "1.5.0",
            "_view_name": "HTMLView",
            "description": "",
            "description_tooltip": null,
            "layout": "IPY_MODEL_9e069cb3d70d4d14b08c008a646f80ad",
            "placeholder": "​",
            "style": "IPY_MODEL_6ea1844ef46540d5b9a131263a22733e",
            "value": " 385/385 [00:00&lt;00:00, 5.42kB/s]"
          }
        },
        "0a68745502e44d6e9bb822f70a2324f4": {
          "model_module": "@jupyter-widgets/base",
          "model_name": "LayoutModel",
          "model_module_version": "1.2.0",
          "state": {
            "_model_module": "@jupyter-widgets/base",
            "_model_module_version": "1.2.0",
            "_model_name": "LayoutModel",
            "_view_count": null,
            "_view_module": "@jupyter-widgets/base",
            "_view_module_version": "1.2.0",
            "_view_name": "LayoutView",
            "align_content": null,
            "align_items": null,
            "align_self": null,
            "border": null,
            "bottom": null,
            "display": null,
            "flex": null,
            "flex_flow": null,
            "grid_area": null,
            "grid_auto_columns": null,
            "grid_auto_flow": null,
            "grid_auto_rows": null,
            "grid_column": null,
            "grid_gap": null,
            "grid_row": null,
            "grid_template_areas": null,
            "grid_template_columns": null,
            "grid_template_rows": null,
            "height": null,
            "justify_content": null,
            "justify_items": null,
            "left": null,
            "margin": null,
            "max_height": null,
            "max_width": null,
            "min_height": null,
            "min_width": null,
            "object_fit": null,
            "object_position": null,
            "order": null,
            "overflow": null,
            "overflow_x": null,
            "overflow_y": null,
            "padding": null,
            "right": null,
            "top": null,
            "visibility": null,
            "width": null
          }
        },
        "676563d5b4a1438a9502f4fe6999c7ef": {
          "model_module": "@jupyter-widgets/base",
          "model_name": "LayoutModel",
          "model_module_version": "1.2.0",
          "state": {
            "_model_module": "@jupyter-widgets/base",
            "_model_module_version": "1.2.0",
            "_model_name": "LayoutModel",
            "_view_count": null,
            "_view_module": "@jupyter-widgets/base",
            "_view_module_version": "1.2.0",
            "_view_name": "LayoutView",
            "align_content": null,
            "align_items": null,
            "align_self": null,
            "border": null,
            "bottom": null,
            "display": null,
            "flex": null,
            "flex_flow": null,
            "grid_area": null,
            "grid_auto_columns": null,
            "grid_auto_flow": null,
            "grid_auto_rows": null,
            "grid_column": null,
            "grid_gap": null,
            "grid_row": null,
            "grid_template_areas": null,
            "grid_template_columns": null,
            "grid_template_rows": null,
            "height": null,
            "justify_content": null,
            "justify_items": null,
            "left": null,
            "margin": null,
            "max_height": null,
            "max_width": null,
            "min_height": null,
            "min_width": null,
            "object_fit": null,
            "object_position": null,
            "order": null,
            "overflow": null,
            "overflow_x": null,
            "overflow_y": null,
            "padding": null,
            "right": null,
            "top": null,
            "visibility": null,
            "width": null
          }
        },
        "8b2642b8dfbe4ac59bad98a2b843caa5": {
          "model_module": "@jupyter-widgets/controls",
          "model_name": "DescriptionStyleModel",
          "model_module_version": "1.5.0",
          "state": {
            "_model_module": "@jupyter-widgets/controls",
            "_model_module_version": "1.5.0",
            "_model_name": "DescriptionStyleModel",
            "_view_count": null,
            "_view_module": "@jupyter-widgets/base",
            "_view_module_version": "1.2.0",
            "_view_name": "StyleView",
            "description_width": ""
          }
        },
        "e970bc2e83c04d338709db8ab6646582": {
          "model_module": "@jupyter-widgets/base",
          "model_name": "LayoutModel",
          "model_module_version": "1.2.0",
          "state": {
            "_model_module": "@jupyter-widgets/base",
            "_model_module_version": "1.2.0",
            "_model_name": "LayoutModel",
            "_view_count": null,
            "_view_module": "@jupyter-widgets/base",
            "_view_module_version": "1.2.0",
            "_view_name": "LayoutView",
            "align_content": null,
            "align_items": null,
            "align_self": null,
            "border": null,
            "bottom": null,
            "display": null,
            "flex": null,
            "flex_flow": null,
            "grid_area": null,
            "grid_auto_columns": null,
            "grid_auto_flow": null,
            "grid_auto_rows": null,
            "grid_column": null,
            "grid_gap": null,
            "grid_row": null,
            "grid_template_areas": null,
            "grid_template_columns": null,
            "grid_template_rows": null,
            "height": null,
            "justify_content": null,
            "justify_items": null,
            "left": null,
            "margin": null,
            "max_height": null,
            "max_width": null,
            "min_height": null,
            "min_width": null,
            "object_fit": null,
            "object_position": null,
            "order": null,
            "overflow": null,
            "overflow_x": null,
            "overflow_y": null,
            "padding": null,
            "right": null,
            "top": null,
            "visibility": null,
            "width": null
          }
        },
        "5a199244bb024980934250594ef15bbd": {
          "model_module": "@jupyter-widgets/controls",
          "model_name": "ProgressStyleModel",
          "model_module_version": "1.5.0",
          "state": {
            "_model_module": "@jupyter-widgets/controls",
            "_model_module_version": "1.5.0",
            "_model_name": "ProgressStyleModel",
            "_view_count": null,
            "_view_module": "@jupyter-widgets/base",
            "_view_module_version": "1.2.0",
            "_view_name": "StyleView",
            "bar_color": null,
            "description_width": ""
          }
        },
        "9e069cb3d70d4d14b08c008a646f80ad": {
          "model_module": "@jupyter-widgets/base",
          "model_name": "LayoutModel",
          "model_module_version": "1.2.0",
          "state": {
            "_model_module": "@jupyter-widgets/base",
            "_model_module_version": "1.2.0",
            "_model_name": "LayoutModel",
            "_view_count": null,
            "_view_module": "@jupyter-widgets/base",
            "_view_module_version": "1.2.0",
            "_view_name": "LayoutView",
            "align_content": null,
            "align_items": null,
            "align_self": null,
            "border": null,
            "bottom": null,
            "display": null,
            "flex": null,
            "flex_flow": null,
            "grid_area": null,
            "grid_auto_columns": null,
            "grid_auto_flow": null,
            "grid_auto_rows": null,
            "grid_column": null,
            "grid_gap": null,
            "grid_row": null,
            "grid_template_areas": null,
            "grid_template_columns": null,
            "grid_template_rows": null,
            "height": null,
            "justify_content": null,
            "justify_items": null,
            "left": null,
            "margin": null,
            "max_height": null,
            "max_width": null,
            "min_height": null,
            "min_width": null,
            "object_fit": null,
            "object_position": null,
            "order": null,
            "overflow": null,
            "overflow_x": null,
            "overflow_y": null,
            "padding": null,
            "right": null,
            "top": null,
            "visibility": null,
            "width": null
          }
        },
        "6ea1844ef46540d5b9a131263a22733e": {
          "model_module": "@jupyter-widgets/controls",
          "model_name": "DescriptionStyleModel",
          "model_module_version": "1.5.0",
          "state": {
            "_model_module": "@jupyter-widgets/controls",
            "_model_module_version": "1.5.0",
            "_model_name": "DescriptionStyleModel",
            "_view_count": null,
            "_view_module": "@jupyter-widgets/base",
            "_view_module_version": "1.2.0",
            "_view_name": "StyleView",
            "description_width": ""
          }
        },
        "1e1d8484cb454ae7b1f2cf546b46516d": {
          "model_module": "@jupyter-widgets/controls",
          "model_name": "HBoxModel",
          "model_module_version": "1.5.0",
          "state": {
            "_dom_classes": [],
            "_model_module": "@jupyter-widgets/controls",
            "_model_module_version": "1.5.0",
            "_model_name": "HBoxModel",
            "_view_count": null,
            "_view_module": "@jupyter-widgets/controls",
            "_view_module_version": "1.5.0",
            "_view_name": "HBoxView",
            "box_style": "",
            "children": [
              "IPY_MODEL_603afcf8358d4dd7bea6ee66cae72a68",
              "IPY_MODEL_e5d4caf20ca34433ad79bb28653ceff7",
              "IPY_MODEL_28455f4ad45f4a2587f9102a7900c828"
            ],
            "layout": "IPY_MODEL_b342bf94f7fd42b18c9cc07a16f0ce20"
          }
        },
        "603afcf8358d4dd7bea6ee66cae72a68": {
          "model_module": "@jupyter-widgets/controls",
          "model_name": "HTMLModel",
          "model_module_version": "1.5.0",
          "state": {
            "_dom_classes": [],
            "_model_module": "@jupyter-widgets/controls",
            "_model_module_version": "1.5.0",
            "_model_name": "HTMLModel",
            "_view_count": null,
            "_view_module": "@jupyter-widgets/controls",
            "_view_module_version": "1.5.0",
            "_view_name": "HTMLView",
            "description": "",
            "description_tooltip": null,
            "layout": "IPY_MODEL_7fe0b98fb3604cb895605e17cd6b255c",
            "placeholder": "​",
            "style": "IPY_MODEL_f383e61e03c74e629bec55b8b494e5bd",
            "value": "Downloading: 100%"
          }
        },
        "e5d4caf20ca34433ad79bb28653ceff7": {
          "model_module": "@jupyter-widgets/controls",
          "model_name": "FloatProgressModel",
          "model_module_version": "1.5.0",
          "state": {
            "_dom_classes": [],
            "_model_module": "@jupyter-widgets/controls",
            "_model_module_version": "1.5.0",
            "_model_name": "FloatProgressModel",
            "_view_count": null,
            "_view_module": "@jupyter-widgets/controls",
            "_view_module_version": "1.5.0",
            "_view_name": "ProgressView",
            "bar_style": "success",
            "description": "",
            "description_tooltip": null,
            "layout": "IPY_MODEL_d791cd89b8654651a07a12db92030060",
            "max": 440474434,
            "min": 0,
            "orientation": "horizontal",
            "style": "IPY_MODEL_e53335594b724bbf99a9915305d6ccb6",
            "value": 440474434
          }
        },
        "28455f4ad45f4a2587f9102a7900c828": {
          "model_module": "@jupyter-widgets/controls",
          "model_name": "HTMLModel",
          "model_module_version": "1.5.0",
          "state": {
            "_dom_classes": [],
            "_model_module": "@jupyter-widgets/controls",
            "_model_module_version": "1.5.0",
            "_model_name": "HTMLModel",
            "_view_count": null,
            "_view_module": "@jupyter-widgets/controls",
            "_view_module_version": "1.5.0",
            "_view_name": "HTMLView",
            "description": "",
            "description_tooltip": null,
            "layout": "IPY_MODEL_905d58042d2149538a2f5ed391050e18",
            "placeholder": "​",
            "style": "IPY_MODEL_50ef0e2f5228406c9a7b67311c1fd65f",
            "value": " 440M/440M [00:15&lt;00:00, 27.6MB/s]"
          }
        },
        "b342bf94f7fd42b18c9cc07a16f0ce20": {
          "model_module": "@jupyter-widgets/base",
          "model_name": "LayoutModel",
          "model_module_version": "1.2.0",
          "state": {
            "_model_module": "@jupyter-widgets/base",
            "_model_module_version": "1.2.0",
            "_model_name": "LayoutModel",
            "_view_count": null,
            "_view_module": "@jupyter-widgets/base",
            "_view_module_version": "1.2.0",
            "_view_name": "LayoutView",
            "align_content": null,
            "align_items": null,
            "align_self": null,
            "border": null,
            "bottom": null,
            "display": null,
            "flex": null,
            "flex_flow": null,
            "grid_area": null,
            "grid_auto_columns": null,
            "grid_auto_flow": null,
            "grid_auto_rows": null,
            "grid_column": null,
            "grid_gap": null,
            "grid_row": null,
            "grid_template_areas": null,
            "grid_template_columns": null,
            "grid_template_rows": null,
            "height": null,
            "justify_content": null,
            "justify_items": null,
            "left": null,
            "margin": null,
            "max_height": null,
            "max_width": null,
            "min_height": null,
            "min_width": null,
            "object_fit": null,
            "object_position": null,
            "order": null,
            "overflow": null,
            "overflow_x": null,
            "overflow_y": null,
            "padding": null,
            "right": null,
            "top": null,
            "visibility": null,
            "width": null
          }
        },
        "7fe0b98fb3604cb895605e17cd6b255c": {
          "model_module": "@jupyter-widgets/base",
          "model_name": "LayoutModel",
          "model_module_version": "1.2.0",
          "state": {
            "_model_module": "@jupyter-widgets/base",
            "_model_module_version": "1.2.0",
            "_model_name": "LayoutModel",
            "_view_count": null,
            "_view_module": "@jupyter-widgets/base",
            "_view_module_version": "1.2.0",
            "_view_name": "LayoutView",
            "align_content": null,
            "align_items": null,
            "align_self": null,
            "border": null,
            "bottom": null,
            "display": null,
            "flex": null,
            "flex_flow": null,
            "grid_area": null,
            "grid_auto_columns": null,
            "grid_auto_flow": null,
            "grid_auto_rows": null,
            "grid_column": null,
            "grid_gap": null,
            "grid_row": null,
            "grid_template_areas": null,
            "grid_template_columns": null,
            "grid_template_rows": null,
            "height": null,
            "justify_content": null,
            "justify_items": null,
            "left": null,
            "margin": null,
            "max_height": null,
            "max_width": null,
            "min_height": null,
            "min_width": null,
            "object_fit": null,
            "object_position": null,
            "order": null,
            "overflow": null,
            "overflow_x": null,
            "overflow_y": null,
            "padding": null,
            "right": null,
            "top": null,
            "visibility": null,
            "width": null
          }
        },
        "f383e61e03c74e629bec55b8b494e5bd": {
          "model_module": "@jupyter-widgets/controls",
          "model_name": "DescriptionStyleModel",
          "model_module_version": "1.5.0",
          "state": {
            "_model_module": "@jupyter-widgets/controls",
            "_model_module_version": "1.5.0",
            "_model_name": "DescriptionStyleModel",
            "_view_count": null,
            "_view_module": "@jupyter-widgets/base",
            "_view_module_version": "1.2.0",
            "_view_name": "StyleView",
            "description_width": ""
          }
        },
        "d791cd89b8654651a07a12db92030060": {
          "model_module": "@jupyter-widgets/base",
          "model_name": "LayoutModel",
          "model_module_version": "1.2.0",
          "state": {
            "_model_module": "@jupyter-widgets/base",
            "_model_module_version": "1.2.0",
            "_model_name": "LayoutModel",
            "_view_count": null,
            "_view_module": "@jupyter-widgets/base",
            "_view_module_version": "1.2.0",
            "_view_name": "LayoutView",
            "align_content": null,
            "align_items": null,
            "align_self": null,
            "border": null,
            "bottom": null,
            "display": null,
            "flex": null,
            "flex_flow": null,
            "grid_area": null,
            "grid_auto_columns": null,
            "grid_auto_flow": null,
            "grid_auto_rows": null,
            "grid_column": null,
            "grid_gap": null,
            "grid_row": null,
            "grid_template_areas": null,
            "grid_template_columns": null,
            "grid_template_rows": null,
            "height": null,
            "justify_content": null,
            "justify_items": null,
            "left": null,
            "margin": null,
            "max_height": null,
            "max_width": null,
            "min_height": null,
            "min_width": null,
            "object_fit": null,
            "object_position": null,
            "order": null,
            "overflow": null,
            "overflow_x": null,
            "overflow_y": null,
            "padding": null,
            "right": null,
            "top": null,
            "visibility": null,
            "width": null
          }
        },
        "e53335594b724bbf99a9915305d6ccb6": {
          "model_module": "@jupyter-widgets/controls",
          "model_name": "ProgressStyleModel",
          "model_module_version": "1.5.0",
          "state": {
            "_model_module": "@jupyter-widgets/controls",
            "_model_module_version": "1.5.0",
            "_model_name": "ProgressStyleModel",
            "_view_count": null,
            "_view_module": "@jupyter-widgets/base",
            "_view_module_version": "1.2.0",
            "_view_name": "StyleView",
            "bar_color": null,
            "description_width": ""
          }
        },
        "905d58042d2149538a2f5ed391050e18": {
          "model_module": "@jupyter-widgets/base",
          "model_name": "LayoutModel",
          "model_module_version": "1.2.0",
          "state": {
            "_model_module": "@jupyter-widgets/base",
            "_model_module_version": "1.2.0",
            "_model_name": "LayoutModel",
            "_view_count": null,
            "_view_module": "@jupyter-widgets/base",
            "_view_module_version": "1.2.0",
            "_view_name": "LayoutView",
            "align_content": null,
            "align_items": null,
            "align_self": null,
            "border": null,
            "bottom": null,
            "display": null,
            "flex": null,
            "flex_flow": null,
            "grid_area": null,
            "grid_auto_columns": null,
            "grid_auto_flow": null,
            "grid_auto_rows": null,
            "grid_column": null,
            "grid_gap": null,
            "grid_row": null,
            "grid_template_areas": null,
            "grid_template_columns": null,
            "grid_template_rows": null,
            "height": null,
            "justify_content": null,
            "justify_items": null,
            "left": null,
            "margin": null,
            "max_height": null,
            "max_width": null,
            "min_height": null,
            "min_width": null,
            "object_fit": null,
            "object_position": null,
            "order": null,
            "overflow": null,
            "overflow_x": null,
            "overflow_y": null,
            "padding": null,
            "right": null,
            "top": null,
            "visibility": null,
            "width": null
          }
        },
        "50ef0e2f5228406c9a7b67311c1fd65f": {
          "model_module": "@jupyter-widgets/controls",
          "model_name": "DescriptionStyleModel",
          "model_module_version": "1.5.0",
          "state": {
            "_model_module": "@jupyter-widgets/controls",
            "_model_module_version": "1.5.0",
            "_model_name": "DescriptionStyleModel",
            "_view_count": null,
            "_view_module": "@jupyter-widgets/base",
            "_view_module_version": "1.2.0",
            "_view_name": "StyleView",
            "description_width": ""
          }
        },
        "ca7b8a3905984cdf8d405ceed806da2e": {
          "model_module": "@jupyter-widgets/controls",
          "model_name": "HBoxModel",
          "model_module_version": "1.5.0",
          "state": {
            "_dom_classes": [],
            "_model_module": "@jupyter-widgets/controls",
            "_model_module_version": "1.5.0",
            "_model_name": "HBoxModel",
            "_view_count": null,
            "_view_module": "@jupyter-widgets/controls",
            "_view_module_version": "1.5.0",
            "_view_name": "HBoxView",
            "box_style": "",
            "children": [
              "IPY_MODEL_90616813e6b4484f92eae0b77310fcc0",
              "IPY_MODEL_7f0fb53dc26740fdaa50aad55f2ddd99",
              "IPY_MODEL_c8bcddae966f4d238647d4334afc4db0"
            ],
            "layout": "IPY_MODEL_aab9bc26c49a437a9b16fd3f12155484"
          }
        },
        "90616813e6b4484f92eae0b77310fcc0": {
          "model_module": "@jupyter-widgets/controls",
          "model_name": "HTMLModel",
          "model_module_version": "1.5.0",
          "state": {
            "_dom_classes": [],
            "_model_module": "@jupyter-widgets/controls",
            "_model_module_version": "1.5.0",
            "_model_name": "HTMLModel",
            "_view_count": null,
            "_view_module": "@jupyter-widgets/controls",
            "_view_module_version": "1.5.0",
            "_view_name": "HTMLView",
            "description": "",
            "description_tooltip": null,
            "layout": "IPY_MODEL_b111c607b1f8487da7d571434f97b3ef",
            "placeholder": "​",
            "style": "IPY_MODEL_3a3bc369b72241c7ae3c0e0aa8925050",
            "value": "Downloading: 100%"
          }
        },
        "7f0fb53dc26740fdaa50aad55f2ddd99": {
          "model_module": "@jupyter-widgets/controls",
          "model_name": "FloatProgressModel",
          "model_module_version": "1.5.0",
          "state": {
            "_dom_classes": [],
            "_model_module": "@jupyter-widgets/controls",
            "_model_module_version": "1.5.0",
            "_model_name": "FloatProgressModel",
            "_view_count": null,
            "_view_module": "@jupyter-widgets/controls",
            "_view_module_version": "1.5.0",
            "_view_name": "ProgressView",
            "bar_style": "success",
            "description": "",
            "description_tooltip": null,
            "layout": "IPY_MODEL_85b80a1b05d74c70ae26bec38cd55291",
            "max": 226150,
            "min": 0,
            "orientation": "horizontal",
            "style": "IPY_MODEL_b1a7438ab2f3450f8e49266f388f73f2",
            "value": 226150
          }
        },
        "c8bcddae966f4d238647d4334afc4db0": {
          "model_module": "@jupyter-widgets/controls",
          "model_name": "HTMLModel",
          "model_module_version": "1.5.0",
          "state": {
            "_dom_classes": [],
            "_model_module": "@jupyter-widgets/controls",
            "_model_module_version": "1.5.0",
            "_model_name": "HTMLModel",
            "_view_count": null,
            "_view_module": "@jupyter-widgets/controls",
            "_view_module_version": "1.5.0",
            "_view_name": "HTMLView",
            "description": "",
            "description_tooltip": null,
            "layout": "IPY_MODEL_54b6b42048bb442aa949d946ef199704",
            "placeholder": "​",
            "style": "IPY_MODEL_d756802221164803839137c27aa5f410",
            "value": " 226k/226k [00:00&lt;00:00, 3.09MB/s]"
          }
        },
        "aab9bc26c49a437a9b16fd3f12155484": {
          "model_module": "@jupyter-widgets/base",
          "model_name": "LayoutModel",
          "model_module_version": "1.2.0",
          "state": {
            "_model_module": "@jupyter-widgets/base",
            "_model_module_version": "1.2.0",
            "_model_name": "LayoutModel",
            "_view_count": null,
            "_view_module": "@jupyter-widgets/base",
            "_view_module_version": "1.2.0",
            "_view_name": "LayoutView",
            "align_content": null,
            "align_items": null,
            "align_self": null,
            "border": null,
            "bottom": null,
            "display": null,
            "flex": null,
            "flex_flow": null,
            "grid_area": null,
            "grid_auto_columns": null,
            "grid_auto_flow": null,
            "grid_auto_rows": null,
            "grid_column": null,
            "grid_gap": null,
            "grid_row": null,
            "grid_template_areas": null,
            "grid_template_columns": null,
            "grid_template_rows": null,
            "height": null,
            "justify_content": null,
            "justify_items": null,
            "left": null,
            "margin": null,
            "max_height": null,
            "max_width": null,
            "min_height": null,
            "min_width": null,
            "object_fit": null,
            "object_position": null,
            "order": null,
            "overflow": null,
            "overflow_x": null,
            "overflow_y": null,
            "padding": null,
            "right": null,
            "top": null,
            "visibility": null,
            "width": null
          }
        },
        "b111c607b1f8487da7d571434f97b3ef": {
          "model_module": "@jupyter-widgets/base",
          "model_name": "LayoutModel",
          "model_module_version": "1.2.0",
          "state": {
            "_model_module": "@jupyter-widgets/base",
            "_model_module_version": "1.2.0",
            "_model_name": "LayoutModel",
            "_view_count": null,
            "_view_module": "@jupyter-widgets/base",
            "_view_module_version": "1.2.0",
            "_view_name": "LayoutView",
            "align_content": null,
            "align_items": null,
            "align_self": null,
            "border": null,
            "bottom": null,
            "display": null,
            "flex": null,
            "flex_flow": null,
            "grid_area": null,
            "grid_auto_columns": null,
            "grid_auto_flow": null,
            "grid_auto_rows": null,
            "grid_column": null,
            "grid_gap": null,
            "grid_row": null,
            "grid_template_areas": null,
            "grid_template_columns": null,
            "grid_template_rows": null,
            "height": null,
            "justify_content": null,
            "justify_items": null,
            "left": null,
            "margin": null,
            "max_height": null,
            "max_width": null,
            "min_height": null,
            "min_width": null,
            "object_fit": null,
            "object_position": null,
            "order": null,
            "overflow": null,
            "overflow_x": null,
            "overflow_y": null,
            "padding": null,
            "right": null,
            "top": null,
            "visibility": null,
            "width": null
          }
        },
        "3a3bc369b72241c7ae3c0e0aa8925050": {
          "model_module": "@jupyter-widgets/controls",
          "model_name": "DescriptionStyleModel",
          "model_module_version": "1.5.0",
          "state": {
            "_model_module": "@jupyter-widgets/controls",
            "_model_module_version": "1.5.0",
            "_model_name": "DescriptionStyleModel",
            "_view_count": null,
            "_view_module": "@jupyter-widgets/base",
            "_view_module_version": "1.2.0",
            "_view_name": "StyleView",
            "description_width": ""
          }
        },
        "85b80a1b05d74c70ae26bec38cd55291": {
          "model_module": "@jupyter-widgets/base",
          "model_name": "LayoutModel",
          "model_module_version": "1.2.0",
          "state": {
            "_model_module": "@jupyter-widgets/base",
            "_model_module_version": "1.2.0",
            "_model_name": "LayoutModel",
            "_view_count": null,
            "_view_module": "@jupyter-widgets/base",
            "_view_module_version": "1.2.0",
            "_view_name": "LayoutView",
            "align_content": null,
            "align_items": null,
            "align_self": null,
            "border": null,
            "bottom": null,
            "display": null,
            "flex": null,
            "flex_flow": null,
            "grid_area": null,
            "grid_auto_columns": null,
            "grid_auto_flow": null,
            "grid_auto_rows": null,
            "grid_column": null,
            "grid_gap": null,
            "grid_row": null,
            "grid_template_areas": null,
            "grid_template_columns": null,
            "grid_template_rows": null,
            "height": null,
            "justify_content": null,
            "justify_items": null,
            "left": null,
            "margin": null,
            "max_height": null,
            "max_width": null,
            "min_height": null,
            "min_width": null,
            "object_fit": null,
            "object_position": null,
            "order": null,
            "overflow": null,
            "overflow_x": null,
            "overflow_y": null,
            "padding": null,
            "right": null,
            "top": null,
            "visibility": null,
            "width": null
          }
        },
        "b1a7438ab2f3450f8e49266f388f73f2": {
          "model_module": "@jupyter-widgets/controls",
          "model_name": "ProgressStyleModel",
          "model_module_version": "1.5.0",
          "state": {
            "_model_module": "@jupyter-widgets/controls",
            "_model_module_version": "1.5.0",
            "_model_name": "ProgressStyleModel",
            "_view_count": null,
            "_view_module": "@jupyter-widgets/base",
            "_view_module_version": "1.2.0",
            "_view_name": "StyleView",
            "bar_color": null,
            "description_width": ""
          }
        },
        "54b6b42048bb442aa949d946ef199704": {
          "model_module": "@jupyter-widgets/base",
          "model_name": "LayoutModel",
          "model_module_version": "1.2.0",
          "state": {
            "_model_module": "@jupyter-widgets/base",
            "_model_module_version": "1.2.0",
            "_model_name": "LayoutModel",
            "_view_count": null,
            "_view_module": "@jupyter-widgets/base",
            "_view_module_version": "1.2.0",
            "_view_name": "LayoutView",
            "align_content": null,
            "align_items": null,
            "align_self": null,
            "border": null,
            "bottom": null,
            "display": null,
            "flex": null,
            "flex_flow": null,
            "grid_area": null,
            "grid_auto_columns": null,
            "grid_auto_flow": null,
            "grid_auto_rows": null,
            "grid_column": null,
            "grid_gap": null,
            "grid_row": null,
            "grid_template_areas": null,
            "grid_template_columns": null,
            "grid_template_rows": null,
            "height": null,
            "justify_content": null,
            "justify_items": null,
            "left": null,
            "margin": null,
            "max_height": null,
            "max_width": null,
            "min_height": null,
            "min_width": null,
            "object_fit": null,
            "object_position": null,
            "order": null,
            "overflow": null,
            "overflow_x": null,
            "overflow_y": null,
            "padding": null,
            "right": null,
            "top": null,
            "visibility": null,
            "width": null
          }
        },
        "d756802221164803839137c27aa5f410": {
          "model_module": "@jupyter-widgets/controls",
          "model_name": "DescriptionStyleModel",
          "model_module_version": "1.5.0",
          "state": {
            "_model_module": "@jupyter-widgets/controls",
            "_model_module_version": "1.5.0",
            "_model_name": "DescriptionStyleModel",
            "_view_count": null,
            "_view_module": "@jupyter-widgets/base",
            "_view_module_version": "1.2.0",
            "_view_name": "StyleView",
            "description_width": ""
          }
        },
        "4a8746fbfd1545bb911a454adae0362e": {
          "model_module": "@jupyter-widgets/controls",
          "model_name": "HBoxModel",
          "model_module_version": "1.5.0",
          "state": {
            "_dom_classes": [],
            "_model_module": "@jupyter-widgets/controls",
            "_model_module_version": "1.5.0",
            "_model_name": "HBoxModel",
            "_view_count": null,
            "_view_module": "@jupyter-widgets/controls",
            "_view_module_version": "1.5.0",
            "_view_name": "HBoxView",
            "box_style": "",
            "children": [
              "IPY_MODEL_4028d397d4cb46468bd2b1df84cc133b",
              "IPY_MODEL_42c7bdca438a4fa8b054925bbe2ac052",
              "IPY_MODEL_4a95f2f6e51d48ef9882c8683b878c6d"
            ],
            "layout": "IPY_MODEL_2d4516087c7b4735b54ddf0a0ce270e5"
          }
        },
        "4028d397d4cb46468bd2b1df84cc133b": {
          "model_module": "@jupyter-widgets/controls",
          "model_name": "HTMLModel",
          "model_module_version": "1.5.0",
          "state": {
            "_dom_classes": [],
            "_model_module": "@jupyter-widgets/controls",
            "_model_module_version": "1.5.0",
            "_model_name": "HTMLModel",
            "_view_count": null,
            "_view_module": "@jupyter-widgets/controls",
            "_view_module_version": "1.5.0",
            "_view_name": "HTMLView",
            "description": "",
            "description_tooltip": null,
            "layout": "IPY_MODEL_8617974132f14d289be7774c6f7ef2c6",
            "placeholder": "​",
            "style": "IPY_MODEL_e44e5b38910f4ac0bfb760d71e9bffa5",
            "value": "Downloading: 100%"
          }
        },
        "42c7bdca438a4fa8b054925bbe2ac052": {
          "model_module": "@jupyter-widgets/controls",
          "model_name": "FloatProgressModel",
          "model_module_version": "1.5.0",
          "state": {
            "_dom_classes": [],
            "_model_module": "@jupyter-widgets/controls",
            "_model_module_version": "1.5.0",
            "_model_name": "FloatProgressModel",
            "_view_count": null,
            "_view_module": "@jupyter-widgets/controls",
            "_view_module_version": "1.5.0",
            "_view_name": "ProgressView",
            "bar_style": "success",
            "description": "",
            "description_tooltip": null,
            "layout": "IPY_MODEL_b1d7a8429133453aa9448237ea6bcb55",
            "max": 28,
            "min": 0,
            "orientation": "horizontal",
            "style": "IPY_MODEL_85a91278d0514ca1a2444f032695e468",
            "value": 28
          }
        },
        "4a95f2f6e51d48ef9882c8683b878c6d": {
          "model_module": "@jupyter-widgets/controls",
          "model_name": "HTMLModel",
          "model_module_version": "1.5.0",
          "state": {
            "_dom_classes": [],
            "_model_module": "@jupyter-widgets/controls",
            "_model_module_version": "1.5.0",
            "_model_name": "HTMLModel",
            "_view_count": null,
            "_view_module": "@jupyter-widgets/controls",
            "_view_module_version": "1.5.0",
            "_view_name": "HTMLView",
            "description": "",
            "description_tooltip": null,
            "layout": "IPY_MODEL_9a16fc4cf95f45cabf98b2774242ef58",
            "placeholder": "​",
            "style": "IPY_MODEL_64bd014e48474b6b8288c3207cf0d7bd",
            "value": " 28.0/28.0 [00:00&lt;00:00, 466B/s]"
          }
        },
        "2d4516087c7b4735b54ddf0a0ce270e5": {
          "model_module": "@jupyter-widgets/base",
          "model_name": "LayoutModel",
          "model_module_version": "1.2.0",
          "state": {
            "_model_module": "@jupyter-widgets/base",
            "_model_module_version": "1.2.0",
            "_model_name": "LayoutModel",
            "_view_count": null,
            "_view_module": "@jupyter-widgets/base",
            "_view_module_version": "1.2.0",
            "_view_name": "LayoutView",
            "align_content": null,
            "align_items": null,
            "align_self": null,
            "border": null,
            "bottom": null,
            "display": null,
            "flex": null,
            "flex_flow": null,
            "grid_area": null,
            "grid_auto_columns": null,
            "grid_auto_flow": null,
            "grid_auto_rows": null,
            "grid_column": null,
            "grid_gap": null,
            "grid_row": null,
            "grid_template_areas": null,
            "grid_template_columns": null,
            "grid_template_rows": null,
            "height": null,
            "justify_content": null,
            "justify_items": null,
            "left": null,
            "margin": null,
            "max_height": null,
            "max_width": null,
            "min_height": null,
            "min_width": null,
            "object_fit": null,
            "object_position": null,
            "order": null,
            "overflow": null,
            "overflow_x": null,
            "overflow_y": null,
            "padding": null,
            "right": null,
            "top": null,
            "visibility": null,
            "width": null
          }
        },
        "8617974132f14d289be7774c6f7ef2c6": {
          "model_module": "@jupyter-widgets/base",
          "model_name": "LayoutModel",
          "model_module_version": "1.2.0",
          "state": {
            "_model_module": "@jupyter-widgets/base",
            "_model_module_version": "1.2.0",
            "_model_name": "LayoutModel",
            "_view_count": null,
            "_view_module": "@jupyter-widgets/base",
            "_view_module_version": "1.2.0",
            "_view_name": "LayoutView",
            "align_content": null,
            "align_items": null,
            "align_self": null,
            "border": null,
            "bottom": null,
            "display": null,
            "flex": null,
            "flex_flow": null,
            "grid_area": null,
            "grid_auto_columns": null,
            "grid_auto_flow": null,
            "grid_auto_rows": null,
            "grid_column": null,
            "grid_gap": null,
            "grid_row": null,
            "grid_template_areas": null,
            "grid_template_columns": null,
            "grid_template_rows": null,
            "height": null,
            "justify_content": null,
            "justify_items": null,
            "left": null,
            "margin": null,
            "max_height": null,
            "max_width": null,
            "min_height": null,
            "min_width": null,
            "object_fit": null,
            "object_position": null,
            "order": null,
            "overflow": null,
            "overflow_x": null,
            "overflow_y": null,
            "padding": null,
            "right": null,
            "top": null,
            "visibility": null,
            "width": null
          }
        },
        "e44e5b38910f4ac0bfb760d71e9bffa5": {
          "model_module": "@jupyter-widgets/controls",
          "model_name": "DescriptionStyleModel",
          "model_module_version": "1.5.0",
          "state": {
            "_model_module": "@jupyter-widgets/controls",
            "_model_module_version": "1.5.0",
            "_model_name": "DescriptionStyleModel",
            "_view_count": null,
            "_view_module": "@jupyter-widgets/base",
            "_view_module_version": "1.2.0",
            "_view_name": "StyleView",
            "description_width": ""
          }
        },
        "b1d7a8429133453aa9448237ea6bcb55": {
          "model_module": "@jupyter-widgets/base",
          "model_name": "LayoutModel",
          "model_module_version": "1.2.0",
          "state": {
            "_model_module": "@jupyter-widgets/base",
            "_model_module_version": "1.2.0",
            "_model_name": "LayoutModel",
            "_view_count": null,
            "_view_module": "@jupyter-widgets/base",
            "_view_module_version": "1.2.0",
            "_view_name": "LayoutView",
            "align_content": null,
            "align_items": null,
            "align_self": null,
            "border": null,
            "bottom": null,
            "display": null,
            "flex": null,
            "flex_flow": null,
            "grid_area": null,
            "grid_auto_columns": null,
            "grid_auto_flow": null,
            "grid_auto_rows": null,
            "grid_column": null,
            "grid_gap": null,
            "grid_row": null,
            "grid_template_areas": null,
            "grid_template_columns": null,
            "grid_template_rows": null,
            "height": null,
            "justify_content": null,
            "justify_items": null,
            "left": null,
            "margin": null,
            "max_height": null,
            "max_width": null,
            "min_height": null,
            "min_width": null,
            "object_fit": null,
            "object_position": null,
            "order": null,
            "overflow": null,
            "overflow_x": null,
            "overflow_y": null,
            "padding": null,
            "right": null,
            "top": null,
            "visibility": null,
            "width": null
          }
        },
        "85a91278d0514ca1a2444f032695e468": {
          "model_module": "@jupyter-widgets/controls",
          "model_name": "ProgressStyleModel",
          "model_module_version": "1.5.0",
          "state": {
            "_model_module": "@jupyter-widgets/controls",
            "_model_module_version": "1.5.0",
            "_model_name": "ProgressStyleModel",
            "_view_count": null,
            "_view_module": "@jupyter-widgets/base",
            "_view_module_version": "1.2.0",
            "_view_name": "StyleView",
            "bar_color": null,
            "description_width": ""
          }
        },
        "9a16fc4cf95f45cabf98b2774242ef58": {
          "model_module": "@jupyter-widgets/base",
          "model_name": "LayoutModel",
          "model_module_version": "1.2.0",
          "state": {
            "_model_module": "@jupyter-widgets/base",
            "_model_module_version": "1.2.0",
            "_model_name": "LayoutModel",
            "_view_count": null,
            "_view_module": "@jupyter-widgets/base",
            "_view_module_version": "1.2.0",
            "_view_name": "LayoutView",
            "align_content": null,
            "align_items": null,
            "align_self": null,
            "border": null,
            "bottom": null,
            "display": null,
            "flex": null,
            "flex_flow": null,
            "grid_area": null,
            "grid_auto_columns": null,
            "grid_auto_flow": null,
            "grid_auto_rows": null,
            "grid_column": null,
            "grid_gap": null,
            "grid_row": null,
            "grid_template_areas": null,
            "grid_template_columns": null,
            "grid_template_rows": null,
            "height": null,
            "justify_content": null,
            "justify_items": null,
            "left": null,
            "margin": null,
            "max_height": null,
            "max_width": null,
            "min_height": null,
            "min_width": null,
            "object_fit": null,
            "object_position": null,
            "order": null,
            "overflow": null,
            "overflow_x": null,
            "overflow_y": null,
            "padding": null,
            "right": null,
            "top": null,
            "visibility": null,
            "width": null
          }
        },
        "64bd014e48474b6b8288c3207cf0d7bd": {
          "model_module": "@jupyter-widgets/controls",
          "model_name": "DescriptionStyleModel",
          "model_module_version": "1.5.0",
          "state": {
            "_model_module": "@jupyter-widgets/controls",
            "_model_module_version": "1.5.0",
            "_model_name": "DescriptionStyleModel",
            "_view_count": null,
            "_view_module": "@jupyter-widgets/base",
            "_view_module_version": "1.2.0",
            "_view_name": "StyleView",
            "description_width": ""
          }
        }
      }
    }
  },
  "cells": [
    {
      "cell_type": "markdown",
      "source": [
        "##Loading of DrugProt dataset\n",
        "\n",
        "Downloading and unzipping file"
      ],
      "metadata": {
        "id": "XEVZhcw6vcub"
      }
    },
    {
      "cell_type": "code",
      "execution_count": 1,
      "metadata": {
        "colab": {
          "base_uri": "https://localhost:8080/"
        },
        "id": "CXtcGw7lujGS",
        "outputId": "e5c5b6a2-8a27-49d9-b222-5c89788ed0af"
      },
      "outputs": [
        {
          "output_type": "stream",
          "name": "stdout",
          "text": [
            "--2022-11-04 13:52:11--  https://zenodo.org/record/5042151/files/drugprot-gs-training-development.zip\n",
            "Resolving zenodo.org (zenodo.org)... 188.184.117.155\n",
            "Connecting to zenodo.org (zenodo.org)|188.184.117.155|:443... connected.\n",
            "HTTP request sent, awaiting response... 200 OK\n",
            "Length: 3796908 (3.6M) [application/octet-stream]\n",
            "Saving to: ‘drugprot-gs-training-development.zip’\n",
            "\n",
            "drugprot-gs-trainin 100%[===================>]   3.62M  4.51MB/s    in 0.8s    \n",
            "\n",
            "2022-11-04 13:52:13 (4.51 MB/s) - ‘drugprot-gs-training-development.zip’ saved [3796908/3796908]\n",
            "\n",
            "Archive:  drugprot-gs-training-development.zip\n",
            "   creating: drugprot-gs-training-development/\n",
            "  inflating: drugprot-gs-training-development/README.pdf  \n",
            "   creating: drugprot-gs-training-development/development/\n",
            "  inflating: drugprot-gs-training-development/development/drugprot_development_relations.tsv  \n",
            "  inflating: drugprot-gs-training-development/development/drugprot_development_entities.tsv  \n",
            "  inflating: drugprot-gs-training-development/development/drugprot_development_abstracs.tsv  \n",
            "   creating: drugprot-gs-training-development/training/\n",
            "  inflating: drugprot-gs-training-development/training/drugprot_training_abstracs.tsv  \n",
            "  inflating: drugprot-gs-training-development/training/drugprot_training_relations.tsv  \n",
            "  inflating: drugprot-gs-training-development/training/drugprot_training_entities.tsv  \n"
          ]
        }
      ],
      "source": [
        "!wget https://zenodo.org/record/5042151/files/drugprot-gs-training-development.zip\n",
        "!unzip drugprot-gs-training-development.zip"
      ]
    },
    {
      "cell_type": "markdown",
      "source": [
        "Combining all three files together."
      ],
      "metadata": {
        "id": "BlEsiDFNyVK2"
      }
    },
    {
      "cell_type": "code",
      "source": [
        "def loadDrugProt(abstracts_filename, entities_filename, relations_filename):\n",
        "\n",
        "  docs = {}\n",
        "\n",
        "  # Load the title/abstracts text in as documents\n",
        "  with open(abstracts_filename, encoding='utf8') as f:\n",
        "    for lineno,line in enumerate(f):\n",
        "      split = line.strip('\\n').split('\\t')\n",
        "      assert len(split) == 3, f\"Expected 3 columns but got {len(split)} on line {lineno+1}\"\n",
        "      pubmed_id, title, abstract = split\n",
        "      pubmed_id = int(pubmed_id)\n",
        "\n",
        "      combined_text = title + '\\n' + abstract\n",
        "      docs[pubmed_id] = {'pubmed_id':pubmed_id, 'text':combined_text, 'entities':{}, 'relations':[]}\n",
        "\n",
        "  # Load the entities and match them up with the documents\n",
        "  with open(entities_filename, encoding='utf8') as f:\n",
        "    for lineno,line in enumerate(f):\n",
        "      split = line.strip('\\n').split('\\t')\n",
        "      assert len(split) == 6, f\"Expected 6 columns but got {len(split)} on line {lineno+1}\"\n",
        "      pubmed_id, entity_id, entity_type, start_coord, end_coord, entity_text = split\n",
        "\n",
        "      pubmed_id = int(pubmed_id)\n",
        "      start_coord = int(start_coord)\n",
        "      end_coord = int(end_coord)\n",
        "\n",
        "      assert pubmed_id in docs, f\"Did not find matching document for pubmed_id={pubmed_id}\"\n",
        "      doc = docs[pubmed_id]\n",
        "\n",
        "      assert doc['text'][start_coord:end_coord] == entity_text, f\"Text for entity with coords {start_coord}:{end_coord} in document (pubmed_id={pubmed_id} does not match expected. 'f{doc['text'][start_coord:end_coord]}' != '{entity_text}'\"\n",
        "\n",
        "      entity = {'type':entity_type, 'start':start_coord, 'end':end_coord, 'text':entity_text}\n",
        "      doc['entities'][entity_id] = entity\n",
        "\n",
        "  if relations_filename is not None:\n",
        "    # Load the relations and match them up with the entities in the corresponding document\n",
        "    with open(relations_filename, encoding='utf8') as f:\n",
        "      for lineno,line in enumerate(f):\n",
        "        split = line.strip('\\n').split('\\t')\n",
        "        assert len(split) == 4, f\"Expected 4 columns but got {len(split)} on line {lineno+1}\"\n",
        "\n",
        "        pubmed_id, relation_type, arg1, arg2 = split\n",
        "\n",
        "        pubmed_id = int(pubmed_id)\n",
        "        assert arg1.startswith('Arg1:'), f\"Relation argument should start with 'Arg1:'. Got: {arg1}\"\n",
        "        assert arg2.startswith('Arg2:'), f\"Relation argument should start with 'Arg2:'. Got: {arg2}\"\n",
        "\n",
        "        # Remove arg1/arg2 from text\n",
        "        arg1 = arg1.split(':')[1]\n",
        "        arg2 = arg2.split(':')[1]\n",
        "\n",
        "        assert pubmed_id in docs, f\"Did not find matching document for pubmed_id={pubmed_id}\"\n",
        "        doc = docs[pubmed_id]\n",
        "\n",
        "        assert arg1 in doc['entities'], f\"Couldn't find entity with id={arg1} in document with pubmed_id={pubmed_id}\"\n",
        "        assert arg2 in doc['entities'], f\"Couldn't find entity with id={arg2} in document with pubmed_id={pubmed_id}\"\n",
        "\n",
        "        relation = {'type':relation_type,'arg1':arg1,'arg2':arg2}\n",
        "        doc['relations'].append(relation)\n",
        "\n",
        "  # Convert the dictionary of documents (indexed by pubmed_id) into a simpler dictionary\n",
        "  docs = sorted(docs.values(), key=lambda x:x['pubmed_id'])\n",
        "\n",
        "  return docs"
      ],
      "metadata": {
        "id": "Jnq0pnCUvtPI"
      },
      "execution_count": 2,
      "outputs": []
    },
    {
      "cell_type": "markdown",
      "source": [
        "Applying function to dataset"
      ],
      "metadata": {
        "id": "rmXTTkBLyk4Q"
      }
    },
    {
      "cell_type": "code",
      "source": [
        "docs = loadDrugProt('drugprot-gs-training-development/training/drugprot_training_abstracs.tsv',\n",
        "                    'drugprot-gs-training-development/training/drugprot_training_entities.tsv',\n",
        "                    'drugprot-gs-training-development/training/drugprot_training_relations.tsv')"
      ],
      "metadata": {
        "id": "yAemM9gmyG7F"
      },
      "execution_count": 64,
      "outputs": []
    },
    {
      "cell_type": "markdown",
      "source": [
        "Observation of doc structure\n"
      ],
      "metadata": {
        "id": "hsBqNeznyrJC"
      }
    },
    {
      "cell_type": "code",
      "source": [
        "search = [ d for i,d in enumerate(docs) if d['pubmed_id'] == 23300000]\n",
        "assert len(search) == 1, \"Something went wrong and couldn't find the document we want\"\n",
        "\n",
        "doc = search[0]\n",
        "doc"
      ],
      "metadata": {
        "colab": {
          "base_uri": "https://localhost:8080/"
        },
        "id": "AYt1O1bLyKK8",
        "outputId": "1d8c5a0f-7de1-416a-b44a-2140d37a1710"
      },
      "execution_count": 65,
      "outputs": [
        {
          "output_type": "execute_result",
          "data": {
            "text/plain": [
              "{'pubmed_id': 23300000,\n",
              " 'text': 'Influence of rare earth elements on metabolism and related enzyme activity and isozyme expression in Tetrastigma hemsleyanum cell suspension cultures.\\nThe effects of rare earth elements (REEs) not only on cell growth and flavonoid accumulation of Tetrastigma hemsleyanum suspension cells but also on the isoenzyme patterns and activities of related enzymes were studied in this paper. There were no significant differences in enhancement of flavonoid accumulation in T. hemsleyanum suspension cells among La(3+), Ce(3+), and Nd(3+). Whereas their inductive effects on cell proliferation varied greatly. The most significant effects were achieved with 100\\xa0μM Ce(3+)and Nd(3+). Under treatment over a 25-day culture period, the maximal biomass levels reached 1.92- and 1.74-fold and the total flavonoid contents are 1.45- and 1.49-fold, than that of control, respectively. Catalase, phenylalanine ammonia-lyase (PAL), and peroxidase (POD) activity was activated significantly when the REE concentration range from 0 to 300\\xa0μM, whereas no significant changes were found in superoxide dismutase activity. Differences of esterase isozymes under REE treatment only laid in expression level, and there were no specific bands. The expression level of some POD isozymes strengthened with increasing concentration of REEs within the range of 50-200\\xa0μM. When REE concentration was higher than 300\\xa0μM, the expression of some POD isozymes was inhibited; meanwhile, some other new POD isozymes were induced. Our results also showed REEs did not directly influence PAL activity. So, we speculated that 50-200\\xa0μM REEs could activate some of antioxidant enzymes, adjust some isozymes expression, trigger the defense responses of T. hemsleyanum suspension cells, and stimulate flavonoid accumulation by inducing PAL activity.',\n",
              " 'entities': {'T1': {'type': 'CHEMICAL',\n",
              "   'start': 441,\n",
              "   'end': 450,\n",
              "   'text': 'flavonoid'},\n",
              "  'T2': {'type': 'CHEMICAL', 'start': 505, 'end': 511, 'text': 'La(3+)'},\n",
              "  'T3': {'type': 'CHEMICAL', 'start': 513, 'end': 519, 'text': 'Ce(3+)'},\n",
              "  'T4': {'type': 'CHEMICAL', 'start': 525, 'end': 531, 'text': 'Nd(3+)'},\n",
              "  'T5': {'type': 'CHEMICAL', 'start': 658, 'end': 664, 'text': 'Ce(3+)'},\n",
              "  'T6': {'type': 'CHEMICAL', 'start': 668, 'end': 674, 'text': 'Nd(3+)'},\n",
              "  'T7': {'type': 'CHEMICAL', 'start': 791, 'end': 800, 'text': 'flavonoid'},\n",
              "  'T8': {'type': 'CHEMICAL', 'start': 221, 'end': 230, 'text': 'flavonoid'},\n",
              "  'T9': {'type': 'CHEMICAL',\n",
              "   'start': 881,\n",
              "   'end': 894,\n",
              "   'text': 'phenylalanine'},\n",
              "  'T10': {'type': 'CHEMICAL', 'start': 895, 'end': 902, 'text': 'ammonia'},\n",
              "  'T11': {'type': 'CHEMICAL',\n",
              "   'start': 1070,\n",
              "   'end': 1080,\n",
              "   'text': 'superoxide'},\n",
              "  'T12': {'type': 'GENE-N', 'start': 1248, 'end': 1251, 'text': 'POD'},\n",
              "  'T13': {'type': 'GENE-N', 'start': 1413, 'end': 1416, 'text': 'POD'},\n",
              "  'T14': {'type': 'GENE-N', 'start': 1467, 'end': 1470, 'text': 'POD'},\n",
              "  'T15': {'type': 'GENE-N', 'start': 1550, 'end': 1553, 'text': 'PAL'},\n",
              "  'T16': {'type': 'GENE-N', 'start': 1794, 'end': 1797, 'text': 'PAL'},\n",
              "  'T17': {'type': 'GENE-N', 'start': 871, 'end': 879, 'text': 'Catalase'},\n",
              "  'T18': {'type': 'GENE-N',\n",
              "   'start': 881,\n",
              "   'end': 908,\n",
              "   'text': 'phenylalanine ammonia-lyase'},\n",
              "  'T19': {'type': 'GENE-N', 'start': 910, 'end': 913, 'text': 'PAL'},\n",
              "  'T20': {'type': 'GENE-N', 'start': 920, 'end': 930, 'text': 'peroxidase'},\n",
              "  'T21': {'type': 'GENE-N', 'start': 932, 'end': 935, 'text': 'POD'},\n",
              "  'T22': {'type': 'GENE-N',\n",
              "   'start': 1070,\n",
              "   'end': 1090,\n",
              "   'text': 'superoxide dismutase'},\n",
              "  'T23': {'type': 'GENE-N', 'start': 1116, 'end': 1124, 'text': 'esterase'}},\n",
              " 'relations': []}"
            ]
          },
          "metadata": {},
          "execution_count": 65
        }
      ]
    },
    {
      "cell_type": "markdown",
      "source": [
        "## BERT Stuff"
      ],
      "metadata": {
        "id": "wuvPifsbVAI2"
      }
    },
    {
      "cell_type": "code",
      "source": [
        "#!pip install torch\n",
        "!pip install transformers\n",
        "!pip install segtok"
      ],
      "metadata": {
        "colab": {
          "base_uri": "https://localhost:8080/"
        },
        "id": "zt-G3qMF6S6z",
        "outputId": "a7c2e7da-87c4-4574-8b03-8e083d43ac44"
      },
      "execution_count": 71,
      "outputs": [
        {
          "output_type": "stream",
          "name": "stdout",
          "text": [
            "Looking in indexes: https://pypi.org/simple, https://us-python.pkg.dev/colab-wheels/public/simple/\n",
            "Collecting transformers\n",
            "  Downloading transformers-4.24.0-py3-none-any.whl (5.5 MB)\n",
            "\u001b[K     |████████████████████████████████| 5.5 MB 24.5 MB/s \n",
            "\u001b[?25hCollecting huggingface-hub<1.0,>=0.10.0\n",
            "  Downloading huggingface_hub-0.10.1-py3-none-any.whl (163 kB)\n",
            "\u001b[K     |████████████████████████████████| 163 kB 51.3 MB/s \n",
            "\u001b[?25hRequirement already satisfied: numpy>=1.17 in /usr/local/lib/python3.7/dist-packages (from transformers) (1.21.6)\n",
            "Requirement already satisfied: importlib-metadata in /usr/local/lib/python3.7/dist-packages (from transformers) (4.13.0)\n",
            "Requirement already satisfied: regex!=2019.12.17 in /usr/local/lib/python3.7/dist-packages (from transformers) (2022.6.2)\n",
            "Collecting tokenizers!=0.11.3,<0.14,>=0.11.1\n",
            "  Downloading tokenizers-0.13.1-cp37-cp37m-manylinux_2_17_x86_64.manylinux2014_x86_64.whl (7.6 MB)\n",
            "\u001b[K     |████████████████████████████████| 7.6 MB 40.6 MB/s \n",
            "\u001b[?25hRequirement already satisfied: requests in /usr/local/lib/python3.7/dist-packages (from transformers) (2.23.0)\n",
            "Requirement already satisfied: tqdm>=4.27 in /usr/local/lib/python3.7/dist-packages (from transformers) (4.64.1)\n",
            "Requirement already satisfied: pyyaml>=5.1 in /usr/local/lib/python3.7/dist-packages (from transformers) (6.0)\n",
            "Requirement already satisfied: packaging>=20.0 in /usr/local/lib/python3.7/dist-packages (from transformers) (21.3)\n",
            "Requirement already satisfied: filelock in /usr/local/lib/python3.7/dist-packages (from transformers) (3.8.0)\n",
            "Requirement already satisfied: typing-extensions>=3.7.4.3 in /usr/local/lib/python3.7/dist-packages (from huggingface-hub<1.0,>=0.10.0->transformers) (4.1.1)\n",
            "Requirement already satisfied: pyparsing!=3.0.5,>=2.0.2 in /usr/local/lib/python3.7/dist-packages (from packaging>=20.0->transformers) (3.0.9)\n",
            "Requirement already satisfied: zipp>=0.5 in /usr/local/lib/python3.7/dist-packages (from importlib-metadata->transformers) (3.10.0)\n",
            "Requirement already satisfied: chardet<4,>=3.0.2 in /usr/local/lib/python3.7/dist-packages (from requests->transformers) (3.0.4)\n",
            "Requirement already satisfied: certifi>=2017.4.17 in /usr/local/lib/python3.7/dist-packages (from requests->transformers) (2022.9.24)\n",
            "Requirement already satisfied: urllib3!=1.25.0,!=1.25.1,<1.26,>=1.21.1 in /usr/local/lib/python3.7/dist-packages (from requests->transformers) (1.24.3)\n",
            "Requirement already satisfied: idna<3,>=2.5 in /usr/local/lib/python3.7/dist-packages (from requests->transformers) (2.10)\n",
            "Installing collected packages: tokenizers, huggingface-hub, transformers\n",
            "Successfully installed huggingface-hub-0.10.1 tokenizers-0.13.1 transformers-4.24.0\n",
            "Looking in indexes: https://pypi.org/simple, https://us-python.pkg.dev/colab-wheels/public/simple/\n",
            "Collecting segtok\n",
            "  Downloading segtok-1.5.11-py3-none-any.whl (24 kB)\n",
            "Requirement already satisfied: regex in /usr/local/lib/python3.7/dist-packages (from segtok) (2022.6.2)\n",
            "Installing collected packages: segtok\n",
            "Successfully installed segtok-1.5.11\n"
          ]
        }
      ]
    },
    {
      "cell_type": "markdown",
      "source": [
        "Adding in start and end entity tags to biomedical text, e.g. [E1]CHEMICAL[/E1] and [E2]GENE[/E2]"
      ],
      "metadata": {
        "id": "DjiNDFJvgckl"
      }
    },
    {
      "cell_type": "code",
      "source": [
        "def addEntityTags(docs):\n",
        "  for doc in docs:\n",
        "    str = ''\n",
        "    index = 0\n",
        "    for v in doc['entities'].values():\n",
        "      start = v['start']\n",
        "      end = v['end']\n",
        "      if v['type'] == 'CHEMICAL':\n",
        "        str += doc['text'][index:start] + '[E1] ' + doc['text'][start:end] + ' [/E1]'\n",
        "        index = end\n",
        "      else:\n",
        "        str += doc['text'][index:start] + '[E2] ' + doc['text'][start:end] + ' [/E2]'\n",
        "        index = end\n",
        "    doc['tagged_text'] = str \n",
        "\n",
        "addEntityTags(docs)\n",
        "print(docs[0]['tagged_text'])\n",
        "      "
      ],
      "metadata": {
        "id": "a7MjEIFqgiiC",
        "colab": {
          "base_uri": "https://localhost:8080/"
        },
        "outputId": "a417bed4-d57c-4528-dea9-fe1d585a038e"
      },
      "execution_count": 70,
      "outputs": [
        {
          "output_type": "stream",
          "name": "stdout",
          "text": [
            "Analysis of plasmin binding and urokinase activation of plasminogen bound to the Heymann nephritis autoantigen, gp330.\n",
            "Previously, we demonstrated that the Heymann nephritis autoantigen, gp330, can serve as a receptor site for plasminogen. This binding was not significantly inhibited by the lysine analogue epsilon-amino caproic acid (EACA), indicating that plasminogen binding was not just through lysine binding sites as suggested for other plasminogen binding sites. We now report that once plasminogen is bound to gp330, it can be converted to its active form of plasmin by urokinase. This conversion of plasminogen to plasmin proceeds at a faster rate when plasminogen is first prebound to gp330. Although there is a proportional increase in the Vmax of the urokinase-catalyzed reaction with increasing gp330 concentrations, no change in Km was observed. Once activated, plasmin remains bound to gp330 in an active state capable of cleaving the chromogenic tripeptide, S-2251. The binding of plasmin to gp330 did not significantly change its enzymatic activity; however, gp330 did have a stabilizing effect on plasmin activity at 37 degrees C. While bound to gp330, plasmin is protected from inactivation by its natural inhibitor alpha 2-antiplasmin. The binding of plasmin to gp330 as analyzed by ELISA was shown to be time dependent, reversible, saturable, and specific for gp330. Inhibition of binding of both plasminogen and plasmin to gp330 by [E1] benzamidine [/E1] was similar, although [E1] EACA [/E1][E1] lysine [/E1] analogue [E1] epsilon-amino caproic acid [/E1] ([E1] EACA [/E1]), indicating that plasminogen binding was not just through [E1] lysine [/E1] binding sites as suggested for other plasminogen binding sites. We now report that once plasminogen is bound to gp330, it can be converted to its active form of plasmin by urokinase. This conversion of plasminogen to plasmin proceeds at a faster rate when plasminogen is first prebound to gp330. Although there is a proportional increase in the Vmax of the urokinase-catalyzed reaction with increasing gp330 concentrations, no change in Km was observed. Once activated, plasmin remains bound to gp330 in an active state capable of cleaving the chromogenic tripeptide, S-2251. The binding of plasmin to gp330 did not significantly change its enzymatic activity; however, gp330 did have a stabilizing effect on plasmin activity at 37 degrees C. While bound to [E2] gp330 [/E2], [E2] plasmin [/E2][E2] plasminogen [/E2]. This binding was not significantly inhibited by the lysine analogue epsilon-amino caproic acid (EACA), indicating that plasminogen binding was not just through lysine binding sites as suggested for other plasminogen binding sites. We now report that once plasminogen is bound to gp330, it can be converted to its active form of plasmin by urokinase. This conversion of plasminogen to plasmin proceeds at a faster rate when plasminogen is first prebound to gp330. Although there is a proportional increase in the Vmax of the urokinase-catalyzed reaction with increasing gp330 concentrations, no change in Km was observed. Once activated, plasmin remains bound to gp330 in an active state capable of cleaving the chromogenic tripeptide, S-2251. The binding of plasmin to gp330 did not significantly change its enzymatic activity; however, gp330 did have a stabilizing effect on plasmin activity at 37 degrees C. While bound to gp330, plasmin is protected from inactivation by its natural inhibitor [E2] alpha 2-antiplasmin [/E2]. The binding of [E2] plasmin [/E2] to [E2] gp330 [/E2] as analyzed by ELISA was shown to be time dependent, reversible, saturable, and specific for [E2] gp330 [/E2]. Inhibition of binding of both [E2] plasminogen [/E2] and [E2] plasmin [/E2] to [E2] gp330 [/E2] by benzamidine was similar, although EACA inhibited the binding of [E2] plasmin [/E2] to [E2] gp330 [/E2] slightly more than the binding of [E2] plasminogen [/E2] to [E2] gp330 [/E2]. These results indicate that the binding of [E2] plasminogen [/E2] to [E2] gp330 [/E2] serves as an effective means of increasing the rate of [E2] plasmin [/E2] production on the glomerular and tubular epithelial cell surface while protecting the active [E2] plasmin [/E2][E2] plasminogen [/E2] binding was not just through lysine binding sites as suggested for other [E2] plasminogen [/E2] binding sites. We now report that once [E2] plasminogen [/E2][E2] Heymann nephritis autoantigen [/E2], gp330, can serve as a receptor site for plasminogen. This binding was not significantly inhibited by the lysine analogue epsilon-amino caproic acid (EACA), indicating that plasminogen binding was not just through lysine binding sites as suggested for other plasminogen binding sites. We now report that once plasminogen is bound to [E2] gp330 [/E2], it can be converted to its active form of [E2] plasmin [/E2] by [E2] urokinase [/E2]. This conversion of [E2] plasminogen [/E2] to [E2] plasmin [/E2] proceeds at a faster rate when [E2] plasminogen [/E2] is first prebound to [E2] gp330 [/E2]. Although there is a proportional increase in the Vmax of the [E2] urokinase [/E2][E2] gp330 [/E2], can serve as a receptor site for plasminogen. This binding was not significantly inhibited by the lysine analogue epsilon-amino caproic acid (EACA), indicating that plasminogen binding was not just through lysine binding sites as suggested for other plasminogen binding sites. We now report that once plasminogen is bound to gp330, it can be converted to its active form of plasmin by urokinase. This conversion of plasminogen to plasmin proceeds at a faster rate when plasminogen is first prebound to gp330. Although there is a proportional increase in the Vmax of the urokinase-catalyzed reaction with increasing [E2] gp330 [/E2] concentrations, no change in Km was observed. Once activated, [E2] plasmin [/E2] remains bound to [E2] gp330 [/E2] in an active state capable of cleaving the chromogenic tripeptide, S-2251. The binding of [E2] plasmin [/E2] to [E2] gp330 [/E2] did not significantly change its enzymatic activity; however, [E2] gp330 [/E2] did have a stabilizing effect on [E2] plasmin [/E2][E2] gp330 [/E2][E2] plasmin [/E2] binding and [E2] urokinase [/E2] activation of [E2] plasminogen [/E2] bound to the [E2] Heymann nephritis autoantigen [/E2]\n"
          ]
        }
      ]
    },
    {
      "cell_type": "markdown",
      "source": [
        "Reducing the text only to sentences containing relations between chemicals and genes:"
      ],
      "metadata": {
        "id": "4ikJplM-cXqU"
      }
    },
    {
      "cell_type": "code",
      "source": [
        "def relevantText():\n",
        "  texts = [doc['tagged_text'] for doc in docs]\n",
        "\n",
        "  split_text = []\n",
        "  target_text = []\n",
        "\n",
        "  for d in texts:\n",
        "    split_text += split_single(d)\n",
        "\n",
        "  for s in split_text:\n",
        "    if ('[E1]' in s) and ('[E2]' in s):\n",
        "      target_text.append(s)\n",
        "\n",
        "  return target_text\n",
        "\n",
        "target_text = relevantText()"
      ],
      "metadata": {
        "id": "x0ps_RaP3wMU",
        "colab": {
          "base_uri": "https://localhost:8080/"
        },
        "outputId": "7f5b232f-1adb-48d1-b278-fae2b8985487"
      },
      "execution_count": 101,
      "outputs": [
        {
          "output_type": "stream",
          "name": "stdout",
          "text": [
            "α/β-Hydrolase domain-containing 6 (ABHD6) represents a potentially attractive therapeutic target for indirectly potentiating [E1] 2-arachidonoylglycerol [/E1][E2] α/β-Hydrolase domain-containing 6 [/E2] (ABHD6) represents a potentially attractive therapeutic target for indirectly potentiating 2-arachidonoylglycerol signaling; however, the enzyme is currently largely uncharacterized.\n"
          ]
        }
      ]
    },
    {
      "cell_type": "markdown",
      "source": [
        "Various imports"
      ],
      "metadata": {
        "id": "rq2ZRiCkGvqe"
      }
    },
    {
      "cell_type": "code",
      "source": [
        "from transformers import BertTokenizer, BertModel\n",
        "import pandas as pd\n",
        "import numpy as np\n",
        "import nltk\n",
        "import torch\n",
        "from segtok.segmenter import split_single"
      ],
      "metadata": {
        "id": "IJqepyVRywZk"
      },
      "execution_count": 73,
      "outputs": []
    },
    {
      "cell_type": "markdown",
      "source": [
        "Loading pre-trained PubMedBERT model + tokenizer"
      ],
      "metadata": {
        "id": "BXYgjLzmG2DT"
      }
    },
    {
      "cell_type": "code",
      "source": [
        "model = BertModel.from_pretrained(\"microsoft/BiomedNLP-PubMedBERT-base-uncased-abstract-fulltext\",\n",
        "                                  output_hidden_states = True,\n",
        "                                  )\n",
        "\n",
        "tokenizer = BertTokenizer.from_pretrained(\"microsoft/BiomedNLP-PubMedBERT-base-uncased-abstract-fulltext\") "
      ],
      "metadata": {
        "colab": {
          "base_uri": "https://localhost:8080/",
          "height": 217,
          "referenced_widgets": [
            "639e41dc47ad420a9fca3ae35c9ce020",
            "d97acac0de6040f984be8e4910521cfb",
            "7d33fde402314429bffd032b45e7dc94",
            "803dddff62fe45de8faaab3cd0da6ad3",
            "0a68745502e44d6e9bb822f70a2324f4",
            "676563d5b4a1438a9502f4fe6999c7ef",
            "8b2642b8dfbe4ac59bad98a2b843caa5",
            "e970bc2e83c04d338709db8ab6646582",
            "5a199244bb024980934250594ef15bbd",
            "9e069cb3d70d4d14b08c008a646f80ad",
            "6ea1844ef46540d5b9a131263a22733e",
            "1e1d8484cb454ae7b1f2cf546b46516d",
            "603afcf8358d4dd7bea6ee66cae72a68",
            "e5d4caf20ca34433ad79bb28653ceff7",
            "28455f4ad45f4a2587f9102a7900c828",
            "b342bf94f7fd42b18c9cc07a16f0ce20",
            "7fe0b98fb3604cb895605e17cd6b255c",
            "f383e61e03c74e629bec55b8b494e5bd",
            "d791cd89b8654651a07a12db92030060",
            "e53335594b724bbf99a9915305d6ccb6",
            "905d58042d2149538a2f5ed391050e18",
            "50ef0e2f5228406c9a7b67311c1fd65f",
            "ca7b8a3905984cdf8d405ceed806da2e",
            "90616813e6b4484f92eae0b77310fcc0",
            "7f0fb53dc26740fdaa50aad55f2ddd99",
            "c8bcddae966f4d238647d4334afc4db0",
            "aab9bc26c49a437a9b16fd3f12155484",
            "b111c607b1f8487da7d571434f97b3ef",
            "3a3bc369b72241c7ae3c0e0aa8925050",
            "85b80a1b05d74c70ae26bec38cd55291",
            "b1a7438ab2f3450f8e49266f388f73f2",
            "54b6b42048bb442aa949d946ef199704",
            "d756802221164803839137c27aa5f410",
            "4a8746fbfd1545bb911a454adae0362e",
            "4028d397d4cb46468bd2b1df84cc133b",
            "42c7bdca438a4fa8b054925bbe2ac052",
            "4a95f2f6e51d48ef9882c8683b878c6d",
            "2d4516087c7b4735b54ddf0a0ce270e5",
            "8617974132f14d289be7774c6f7ef2c6",
            "e44e5b38910f4ac0bfb760d71e9bffa5",
            "b1d7a8429133453aa9448237ea6bcb55",
            "85a91278d0514ca1a2444f032695e468",
            "9a16fc4cf95f45cabf98b2774242ef58",
            "64bd014e48474b6b8288c3207cf0d7bd"
          ]
        },
        "id": "FtHyA7DTG40c",
        "outputId": "74847d5f-8063-4e34-9207-7073a48123bd"
      },
      "execution_count": 74,
      "outputs": [
        {
          "output_type": "display_data",
          "data": {
            "text/plain": [
              "Downloading:   0%|          | 0.00/385 [00:00<?, ?B/s]"
            ],
            "application/vnd.jupyter.widget-view+json": {
              "version_major": 2,
              "version_minor": 0,
              "model_id": "639e41dc47ad420a9fca3ae35c9ce020"
            }
          },
          "metadata": {}
        },
        {
          "output_type": "display_data",
          "data": {
            "text/plain": [
              "Downloading:   0%|          | 0.00/440M [00:00<?, ?B/s]"
            ],
            "application/vnd.jupyter.widget-view+json": {
              "version_major": 2,
              "version_minor": 0,
              "model_id": "1e1d8484cb454ae7b1f2cf546b46516d"
            }
          },
          "metadata": {}
        },
        {
          "output_type": "stream",
          "name": "stderr",
          "text": [
            "Some weights of the model checkpoint at microsoft/BiomedNLP-PubMedBERT-base-uncased-abstract-fulltext were not used when initializing BertModel: ['cls.seq_relationship.bias', 'cls.predictions.bias', 'cls.predictions.decoder.bias', 'cls.predictions.transform.LayerNorm.bias', 'cls.seq_relationship.weight', 'cls.predictions.transform.dense.bias', 'cls.predictions.transform.LayerNorm.weight', 'cls.predictions.transform.dense.weight', 'cls.predictions.decoder.weight']\n",
            "- This IS expected if you are initializing BertModel from the checkpoint of a model trained on another task or with another architecture (e.g. initializing a BertForSequenceClassification model from a BertForPreTraining model).\n",
            "- This IS NOT expected if you are initializing BertModel from the checkpoint of a model that you expect to be exactly identical (initializing a BertForSequenceClassification model from a BertForSequenceClassification model).\n"
          ]
        },
        {
          "output_type": "display_data",
          "data": {
            "text/plain": [
              "Downloading:   0%|          | 0.00/226k [00:00<?, ?B/s]"
            ],
            "application/vnd.jupyter.widget-view+json": {
              "version_major": 2,
              "version_minor": 0,
              "model_id": "ca7b8a3905984cdf8d405ceed806da2e"
            }
          },
          "metadata": {}
        },
        {
          "output_type": "display_data",
          "data": {
            "text/plain": [
              "Downloading:   0%|          | 0.00/28.0 [00:00<?, ?B/s]"
            ],
            "application/vnd.jupyter.widget-view+json": {
              "version_major": 2,
              "version_minor": 0,
              "model_id": "4a8746fbfd1545bb911a454adae0362e"
            }
          },
          "metadata": {}
        }
      ]
    },
    {
      "cell_type": "markdown",
      "source": [
        "Decided to unpick the code from the blog and understand what's going on.\n",
        "\n",
        "Changing input into right form:"
      ],
      "metadata": {
        "id": "eFzXfZX-X3D8"
      }
    },
    {
      "cell_type": "code",
      "source": [
        "def bert_text_prep(text, tokenizer):\n",
        "\n",
        "  #CLS lets BERT know when start of sentence begins, SEP indicates start of second sentence.\n",
        "  marked_text = \"[CLS]\" + text + \"[SEP]\"\n",
        "\n",
        "  #Tokenizes text\n",
        "  tokenized_text = tokenizer.tokenize(marked_text)\n",
        "\n",
        "  #Converts to ids\n",
        "  indexed_tokens = tokenizer.convert_tokens_to_ids(tokenized_text)\n",
        "\n",
        "  segments_ids = [1]*len(indexed_tokens)\n",
        "\n",
        "  # Converts inputs to tensors\n",
        "  tokens_tensor = torch.tensor([indexed_tokens])\n",
        "  segments_tensors = torch.tensor([segments_ids])\n",
        "\n",
        "  return tokenized_text, tokens_tensor, segments_tensors"
      ],
      "metadata": {
        "id": "8LWbqPbBL6TD"
      },
      "execution_count": 93,
      "outputs": []
    },
    {
      "cell_type": "markdown",
      "source": [
        "Converting input into embeddings"
      ],
      "metadata": {
        "id": "PMth1UIhX6a5"
      }
    },
    {
      "cell_type": "code",
      "source": [
        "def get_bert_embeddings(tokens_tensor, segments_tensors, model):\n",
        "  with torch.no_grad():\n",
        "    outputs = model(tokens_tensor, segments_tensors)\n",
        "    hidden_states = outputs[2][1:]\n",
        "\n",
        "  token_embeddings = hidden_states[-1]\n",
        "  #Collapsing tensor into 1 dimension\n",
        "  token_embeddings = torch.squeeze(token_embeddings, dim=0)\n",
        "  #converting tensors to lists\n",
        "  list_token_embeddings = [token_embed.tolist() for token_embed in token_embeddings]\n",
        "\n",
        "  return list_token_embeddings"
      ],
      "metadata": {
        "id": "-OnSsiEiOQrM"
      },
      "execution_count": 94,
      "outputs": []
    },
    {
      "cell_type": "markdown",
      "source": [
        "Getting embeddings for word in all given contexts"
      ],
      "metadata": {
        "id": "SDwF0f2a3rHE"
      }
    },
    {
      "cell_type": "code",
      "source": [
        "print(len(target_text))"
      ],
      "metadata": {
        "colab": {
          "base_uri": "https://localhost:8080/"
        },
        "id": "zb4HIf7ebZdo",
        "outputId": "aa19f052-5105-44c7-9fd0-2dd6b00a5f88"
      },
      "execution_count": 95,
      "outputs": [
        {
          "output_type": "stream",
          "name": "stdout",
          "text": [
            "485\n"
          ]
        }
      ]
    },
    {
      "cell_type": "code",
      "source": [
        "labels = list(set([r['type'] for doc in docs for r in doc['relations']]))\n",
        "\n",
        "target_word_embeddings = []"
      ],
      "metadata": {
        "id": "QklH7WB6ZaWE"
      },
      "execution_count": 96,
      "outputs": []
    },
    {
      "cell_type": "code",
      "source": [
        "for text in target_text:\n",
        "    tokenized_text, tokens_tensor, segments_tensors = bert_text_prep(text, tokenizer)\n",
        "    list_token_embeddings = get_bert_embeddings(tokens_tensor, segments_tensors, model)\n",
        "\n",
        "    target_word_embeddings.append(list_token_embeddings)"
      ],
      "metadata": {
        "colab": {
          "base_uri": "https://localhost:8080/",
          "height": 397
        },
        "id": "tXoMT_blWrhG",
        "outputId": "4c185ca3-c59a-4f9a-dad9-3b460acb1f96"
      },
      "execution_count": 97,
      "outputs": [
        {
          "output_type": "error",
          "ename": "RuntimeError",
          "evalue": "ignored",
          "traceback": [
            "\u001b[0;31m---------------------------------------------------------------------------\u001b[0m",
            "\u001b[0;31mRuntimeError\u001b[0m                              Traceback (most recent call last)",
            "\u001b[0;32m<ipython-input-97-20268f6c5d5c>\u001b[0m in \u001b[0;36m<module>\u001b[0;34m\u001b[0m\n\u001b[1;32m      1\u001b[0m \u001b[0;32mfor\u001b[0m \u001b[0mtext\u001b[0m \u001b[0;32min\u001b[0m \u001b[0mtarget_text\u001b[0m\u001b[0;34m:\u001b[0m\u001b[0;34m\u001b[0m\u001b[0;34m\u001b[0m\u001b[0m\n\u001b[1;32m      2\u001b[0m     \u001b[0mtokenized_text\u001b[0m\u001b[0;34m,\u001b[0m \u001b[0mtokens_tensor\u001b[0m\u001b[0;34m,\u001b[0m \u001b[0msegments_tensors\u001b[0m \u001b[0;34m=\u001b[0m \u001b[0mbert_text_prep\u001b[0m\u001b[0;34m(\u001b[0m\u001b[0mtext\u001b[0m\u001b[0;34m,\u001b[0m \u001b[0mtokenizer\u001b[0m\u001b[0;34m)\u001b[0m\u001b[0;34m\u001b[0m\u001b[0;34m\u001b[0m\u001b[0m\n\u001b[0;32m----> 3\u001b[0;31m     \u001b[0mlist_token_embeddings\u001b[0m \u001b[0;34m=\u001b[0m \u001b[0mget_bert_embeddings\u001b[0m\u001b[0;34m(\u001b[0m\u001b[0mtokens_tensor\u001b[0m\u001b[0;34m,\u001b[0m \u001b[0msegments_tensors\u001b[0m\u001b[0;34m,\u001b[0m \u001b[0mmodel\u001b[0m\u001b[0;34m)\u001b[0m\u001b[0;34m\u001b[0m\u001b[0;34m\u001b[0m\u001b[0m\n\u001b[0m\u001b[1;32m      4\u001b[0m \u001b[0;34m\u001b[0m\u001b[0m\n\u001b[1;32m      5\u001b[0m     \u001b[0mtarget_word_embeddings\u001b[0m\u001b[0;34m.\u001b[0m\u001b[0mappend\u001b[0m\u001b[0;34m(\u001b[0m\u001b[0mlist_token_embeddings\u001b[0m\u001b[0;34m)\u001b[0m\u001b[0;34m\u001b[0m\u001b[0;34m\u001b[0m\u001b[0m\n",
            "\u001b[0;32m<ipython-input-94-c4c3176ccb2c>\u001b[0m in \u001b[0;36mget_bert_embeddings\u001b[0;34m(tokens_tensor, segments_tensors, model)\u001b[0m\n\u001b[1;32m      1\u001b[0m \u001b[0;32mdef\u001b[0m \u001b[0mget_bert_embeddings\u001b[0m\u001b[0;34m(\u001b[0m\u001b[0mtokens_tensor\u001b[0m\u001b[0;34m,\u001b[0m \u001b[0msegments_tensors\u001b[0m\u001b[0;34m,\u001b[0m \u001b[0mmodel\u001b[0m\u001b[0;34m)\u001b[0m\u001b[0;34m:\u001b[0m\u001b[0;34m\u001b[0m\u001b[0;34m\u001b[0m\u001b[0m\n\u001b[1;32m      2\u001b[0m   \u001b[0;32mwith\u001b[0m \u001b[0mtorch\u001b[0m\u001b[0;34m.\u001b[0m\u001b[0mno_grad\u001b[0m\u001b[0;34m(\u001b[0m\u001b[0;34m)\u001b[0m\u001b[0;34m:\u001b[0m\u001b[0;34m\u001b[0m\u001b[0;34m\u001b[0m\u001b[0m\n\u001b[0;32m----> 3\u001b[0;31m     \u001b[0moutputs\u001b[0m \u001b[0;34m=\u001b[0m \u001b[0mmodel\u001b[0m\u001b[0;34m(\u001b[0m\u001b[0mtokens_tensor\u001b[0m\u001b[0;34m,\u001b[0m \u001b[0msegments_tensors\u001b[0m\u001b[0;34m)\u001b[0m\u001b[0;34m\u001b[0m\u001b[0;34m\u001b[0m\u001b[0m\n\u001b[0m\u001b[1;32m      4\u001b[0m     \u001b[0mhidden_states\u001b[0m \u001b[0;34m=\u001b[0m \u001b[0moutputs\u001b[0m\u001b[0;34m[\u001b[0m\u001b[0;36m2\u001b[0m\u001b[0;34m]\u001b[0m\u001b[0;34m[\u001b[0m\u001b[0;36m1\u001b[0m\u001b[0;34m:\u001b[0m\u001b[0;34m]\u001b[0m\u001b[0;34m\u001b[0m\u001b[0;34m\u001b[0m\u001b[0m\n\u001b[1;32m      5\u001b[0m \u001b[0;34m\u001b[0m\u001b[0m\n",
            "\u001b[0;32m/usr/local/lib/python3.7/dist-packages/torch/nn/modules/module.py\u001b[0m in \u001b[0;36m_call_impl\u001b[0;34m(self, *input, **kwargs)\u001b[0m\n\u001b[1;32m   1128\u001b[0m         if not (self._backward_hooks or self._forward_hooks or self._forward_pre_hooks or _global_backward_hooks\n\u001b[1;32m   1129\u001b[0m                 or _global_forward_hooks or _global_forward_pre_hooks):\n\u001b[0;32m-> 1130\u001b[0;31m             \u001b[0;32mreturn\u001b[0m \u001b[0mforward_call\u001b[0m\u001b[0;34m(\u001b[0m\u001b[0;34m*\u001b[0m\u001b[0minput\u001b[0m\u001b[0;34m,\u001b[0m \u001b[0;34m**\u001b[0m\u001b[0mkwargs\u001b[0m\u001b[0;34m)\u001b[0m\u001b[0;34m\u001b[0m\u001b[0;34m\u001b[0m\u001b[0m\n\u001b[0m\u001b[1;32m   1131\u001b[0m         \u001b[0;31m# Do not call functions when jit is used\u001b[0m\u001b[0;34m\u001b[0m\u001b[0;34m\u001b[0m\u001b[0;34m\u001b[0m\u001b[0m\n\u001b[1;32m   1132\u001b[0m         \u001b[0mfull_backward_hooks\u001b[0m\u001b[0;34m,\u001b[0m \u001b[0mnon_full_backward_hooks\u001b[0m \u001b[0;34m=\u001b[0m \u001b[0;34m[\u001b[0m\u001b[0;34m]\u001b[0m\u001b[0;34m,\u001b[0m \u001b[0;34m[\u001b[0m\u001b[0;34m]\u001b[0m\u001b[0;34m\u001b[0m\u001b[0;34m\u001b[0m\u001b[0m\n",
            "\u001b[0;32m/usr/local/lib/python3.7/dist-packages/transformers/models/bert/modeling_bert.py\u001b[0m in \u001b[0;36mforward\u001b[0;34m(self, input_ids, attention_mask, token_type_ids, position_ids, head_mask, inputs_embeds, encoder_hidden_states, encoder_attention_mask, past_key_values, use_cache, output_attentions, output_hidden_states, return_dict)\u001b[0m\n\u001b[1;32m    978\u001b[0m             \u001b[0;32mif\u001b[0m \u001b[0mhasattr\u001b[0m\u001b[0;34m(\u001b[0m\u001b[0mself\u001b[0m\u001b[0;34m.\u001b[0m\u001b[0membeddings\u001b[0m\u001b[0;34m,\u001b[0m \u001b[0;34m\"token_type_ids\"\u001b[0m\u001b[0;34m)\u001b[0m\u001b[0;34m:\u001b[0m\u001b[0;34m\u001b[0m\u001b[0;34m\u001b[0m\u001b[0m\n\u001b[1;32m    979\u001b[0m                 \u001b[0mbuffered_token_type_ids\u001b[0m \u001b[0;34m=\u001b[0m \u001b[0mself\u001b[0m\u001b[0;34m.\u001b[0m\u001b[0membeddings\u001b[0m\u001b[0;34m.\u001b[0m\u001b[0mtoken_type_ids\u001b[0m\u001b[0;34m[\u001b[0m\u001b[0;34m:\u001b[0m\u001b[0;34m,\u001b[0m \u001b[0;34m:\u001b[0m\u001b[0mseq_length\u001b[0m\u001b[0;34m]\u001b[0m\u001b[0;34m\u001b[0m\u001b[0;34m\u001b[0m\u001b[0m\n\u001b[0;32m--> 980\u001b[0;31m                 \u001b[0mbuffered_token_type_ids_expanded\u001b[0m \u001b[0;34m=\u001b[0m \u001b[0mbuffered_token_type_ids\u001b[0m\u001b[0;34m.\u001b[0m\u001b[0mexpand\u001b[0m\u001b[0;34m(\u001b[0m\u001b[0mbatch_size\u001b[0m\u001b[0;34m,\u001b[0m \u001b[0mseq_length\u001b[0m\u001b[0;34m)\u001b[0m\u001b[0;34m\u001b[0m\u001b[0;34m\u001b[0m\u001b[0m\n\u001b[0m\u001b[1;32m    981\u001b[0m                 \u001b[0mtoken_type_ids\u001b[0m \u001b[0;34m=\u001b[0m \u001b[0mbuffered_token_type_ids_expanded\u001b[0m\u001b[0;34m\u001b[0m\u001b[0;34m\u001b[0m\u001b[0m\n\u001b[1;32m    982\u001b[0m             \u001b[0;32melse\u001b[0m\u001b[0;34m:\u001b[0m\u001b[0;34m\u001b[0m\u001b[0;34m\u001b[0m\u001b[0m\n",
            "\u001b[0;31mRuntimeError\u001b[0m: The expanded size of the tensor (535) must match the existing size (512) at non-singleton dimension 1.  Target sizes: [1, 535].  Tensor sizes: [1, 512]"
          ]
        }
      ]
    },
    {
      "cell_type": "code",
      "source": [],
      "metadata": {
        "id": "XznOU5O7mhyA"
      },
      "execution_count": null,
      "outputs": []
    }
  ]
}