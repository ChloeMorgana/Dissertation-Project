{
  "cells": [
    {
      "cell_type": "markdown",
      "metadata": {
        "id": "view-in-github",
        "colab_type": "text"
      },
      "source": [
        "<a href=\"https://colab.research.google.com/github/ChloeMorgana/Dissertation-Project/blob/main/PubMedBERT.ipynb\" target=\"_parent\"><img src=\"https://colab.research.google.com/assets/colab-badge.svg\" alt=\"Open In Colab\"/></a>"
      ]
    },
    {
      "cell_type": "markdown",
      "metadata": {
        "id": "XEVZhcw6vcub"
      },
      "source": [
        "#Loading of DrugProt dataset\n",
        "\n",
        "Downloading and unzipping file"
      ]
    },
    {
      "cell_type": "code",
      "execution_count": 1,
      "metadata": {
        "colab": {
          "base_uri": "https://localhost:8080/"
        },
        "id": "CXtcGw7lujGS",
        "outputId": "28bf304c-ba43-4780-8e25-fb7c54e67b34"
      },
      "outputs": [
        {
          "output_type": "stream",
          "name": "stdout",
          "text": [
            "--2023-01-11 09:33:51--  https://zenodo.org/record/5042151/files/drugprot-gs-training-development.zip\n",
            "Resolving zenodo.org (zenodo.org)... 188.185.124.72\n",
            "Connecting to zenodo.org (zenodo.org)|188.185.124.72|:443... connected.\n",
            "HTTP request sent, awaiting response... 200 OK\n",
            "Length: 3796908 (3.6M) [application/octet-stream]\n",
            "Saving to: ‘drugprot-gs-training-development.zip’\n",
            "\n",
            "drugprot-gs-trainin 100%[===================>]   3.62M   419KB/s    in 8.9s    \n",
            "\n",
            "2023-01-11 09:34:02 (416 KB/s) - ‘drugprot-gs-training-development.zip’ saved [3796908/3796908]\n",
            "\n",
            "Archive:  drugprot-gs-training-development.zip\n",
            "   creating: drugprot-gs-training-development/\n",
            "  inflating: drugprot-gs-training-development/README.pdf  \n",
            "   creating: drugprot-gs-training-development/development/\n",
            "  inflating: drugprot-gs-training-development/development/drugprot_development_relations.tsv  \n",
            "  inflating: drugprot-gs-training-development/development/drugprot_development_entities.tsv  \n",
            "  inflating: drugprot-gs-training-development/development/drugprot_development_abstracs.tsv  \n",
            "   creating: drugprot-gs-training-development/training/\n",
            "  inflating: drugprot-gs-training-development/training/drugprot_training_abstracs.tsv  \n",
            "  inflating: drugprot-gs-training-development/training/drugprot_training_relations.tsv  \n",
            "  inflating: drugprot-gs-training-development/training/drugprot_training_entities.tsv  \n"
          ]
        }
      ],
      "source": [
        "!wget https://zenodo.org/record/5042151/files/drugprot-gs-training-development.zip\n",
        "!unzip drugprot-gs-training-development.zip"
      ]
    },
    {
      "cell_type": "markdown",
      "metadata": {
        "id": "BlEsiDFNyVK2"
      },
      "source": [
        "Combining all three files together."
      ]
    },
    {
      "cell_type": "code",
      "execution_count": 2,
      "metadata": {
        "id": "Jnq0pnCUvtPI"
      },
      "outputs": [],
      "source": [
        "def loadDrugProt(abstracts_filename, entities_filename, relations_filename):\n",
        "\n",
        "  docs = {}\n",
        "\n",
        "  # Load the title/abstracts text in as documents\n",
        "  with open(abstracts_filename, encoding='utf8') as f:\n",
        "    for lineno,line in enumerate(f):\n",
        "      split = line.strip('\\n').split('\\t')\n",
        "      assert len(split) == 3, f\"Expected 3 columns but got {len(split)} on line {lineno+1}\"\n",
        "      pubmed_id, title, abstract = split\n",
        "      pubmed_id = int(pubmed_id)\n",
        "\n",
        "      combined_text = title + '\\n' + abstract\n",
        "      docs[pubmed_id] = {'pubmed_id':pubmed_id, 'text':combined_text, 'entities':{}, 'relations':[]}\n",
        "\n",
        "  # Load the entities and match them up with the documents\n",
        "  with open(entities_filename, encoding='utf8') as f:\n",
        "    for lineno,line in enumerate(f):\n",
        "      split = line.strip('\\n').split('\\t')\n",
        "      assert len(split) == 6, f\"Expected 6 columns but got {len(split)} on line {lineno+1}\"\n",
        "      pubmed_id, entity_id, entity_type, start_coord, end_coord, entity_text = split\n",
        "\n",
        "      pubmed_id = int(pubmed_id)\n",
        "      start_coord = int(start_coord)\n",
        "      end_coord = int(end_coord)\n",
        "\n",
        "      assert pubmed_id in docs, f\"Did not find matching document for pubmed_id={pubmed_id}\"\n",
        "      doc = docs[pubmed_id]\n",
        "\n",
        "      assert doc['text'][start_coord:end_coord] == entity_text, f\"Text for entity with coords {start_coord}:{end_coord} in document (pubmed_id={pubmed_id} does not match expected. 'f{doc['text'][start_coord:end_coord]}' != '{entity_text}'\"\n",
        "\n",
        "      entity = {'type':entity_type, 'start':start_coord, 'end':end_coord, 'text':entity_text}\n",
        "      doc['entities'][entity_id] = entity\n",
        "\n",
        "  if relations_filename is not None:\n",
        "    # Load the relations and match them up with the entities in the corresponding document\n",
        "    with open(relations_filename, encoding='utf8') as f:\n",
        "      for lineno,line in enumerate(f):\n",
        "        split = line.strip('\\n').split('\\t')\n",
        "        assert len(split) == 4, f\"Expected 4 columns but got {len(split)} on line {lineno+1}\"\n",
        "\n",
        "        pubmed_id, relation_type, arg1, arg2 = split\n",
        "\n",
        "        pubmed_id = int(pubmed_id)\n",
        "        assert arg1.startswith('Arg1:'), f\"Relation argument should start with 'Arg1:'. Got: {arg1}\"\n",
        "        assert arg2.startswith('Arg2:'), f\"Relation argument should start with 'Arg2:'. Got: {arg2}\"\n",
        "\n",
        "        # Remove arg1/arg2 from text\n",
        "        arg1 = arg1.split(':')[1]\n",
        "        arg2 = arg2.split(':')[1]\n",
        "\n",
        "        assert pubmed_id in docs, f\"Did not find matching document for pubmed_id={pubmed_id}\"\n",
        "        doc = docs[pubmed_id]\n",
        "\n",
        "        assert arg1 in doc['entities'], f\"Couldn't find entity with id={arg1} in document with pubmed_id={pubmed_id}\"\n",
        "        assert arg2 in doc['entities'], f\"Couldn't find entity with id={arg2} in document with pubmed_id={pubmed_id}\"\n",
        "\n",
        "        relation = {'type':relation_type,'arg1':arg1,'arg2':arg2}\n",
        "        doc['relations'].append(relation)\n",
        "\n",
        "  # Convert the dictionary of documents (indexed by pubmed_id) into a simpler dictionary\n",
        "  docs = sorted(docs.values(), key=lambda x:x['pubmed_id'])\n",
        "\n",
        "  return docs"
      ]
    },
    {
      "cell_type": "markdown",
      "metadata": {
        "id": "rmXTTkBLyk4Q"
      },
      "source": [
        "Applying function to dataset"
      ]
    },
    {
      "cell_type": "code",
      "execution_count": 39,
      "metadata": {
        "id": "yAemM9gmyG7F",
        "colab": {
          "base_uri": "https://localhost:8080/"
        },
        "outputId": "9de895e1-edc4-46fd-a0cd-b17b7f6622b9"
      },
      "outputs": [
        {
          "output_type": "stream",
          "name": "stdout",
          "text": [
            "{'pubmed_id': 1279186, 'text': \"Inhibition by pentosan polysulfate (PPS) of heparin-binding growth factors released from tumor cells and blockage by PPS of tumor growth in animals.\\nBACKGROUND: In a proliferating tumor, locally secreted polypeptide growth factors, which have autocrine and paracrine functions, induce vascularization essential for tumor growth and metastasis. These growth factors may serve as targets for tumor therapy. We have shown that the heparinoid pentosan polysulfate (PPS) can block growth of subcutaneous human tumor xenografts in nude mice and angiogenesis induced by the heparin-binding, Kaposi's sarcoma-derived fibroblast growth factor (K-FGF). PURPOSE: The purpose of this study was to determine whether PPS might also interfere with stimulation of endothelial cells by other growth factors released from tumor cells and whether the promising antitumor effects of PPS extend to other human tumor cell lines. We studied the effects of PPS on stimulation by heparin-binding growth factors released from seven human tumor cell lines in vitro and on tumors growing from these cell lines in athymic nude mice. METHODS: Seven human cell lines established from breast, prostate, epidermoid, and lung carcinomas and rhabdomyosarcoma were used in in vivo as well as in vitro studies of the effects of PPS. We also studied in vitro the effects of PPS on growth factor-induced colony formation of normal rat kidney fibroblasts and human adrenal carcinoma cells. RESULTS: The tumor cell lines released growth factors into their media that stimulated growth of endothelial and epithelial cells as well as fibroblasts. Heparin-affinity chromatography showed that heparin-binding growth factors contributed substantially to this paracrine activity and that PPS inhibited this stimulus. Six of the seven tumor cell lines were resistant to PPS in soft-agar cloning assays and hence did not appear to depend on autocrine stimulation by the heparin-binding growth factors. In contrast to this in vitro resistance, subcutaneous growth of tumors from all cell lines in athymic nude mice was inhibited in a dose-dependent fashion by daily intraperitoneal injections of PPS. CONCLUSIONS: We conclude that heparin-binding growth factors contribute substantially to tumor growth in vivo and that PPS acts by blocking the paracrine effects of heparin-binding growth factors released from the tumor cells. IMPLICATION: PPS could become a novel treatment tool targeting tumor growth factors.\", 'entities': {'T1': {'type': 'GENE', 'start': 1648, 'end': 1678, 'text': 'heparin-binding growth factors'}, 'T2': {'type': 'GENE', 'start': 1921, 'end': 1951, 'text': 'heparin-binding growth factors'}, 'T3': {'type': 'GENE', 'start': 2181, 'end': 2211, 'text': 'heparin-binding growth factors'}, 'T4': {'type': 'GENE', 'start': 2316, 'end': 2346, 'text': 'heparin-binding growth factors'}, 'T5': {'type': 'GENE', 'start': 584, 'end': 633, 'text': \"Kaposi's sarcoma-derived fibroblast growth factor\"}, 'T6': {'type': 'GENE', 'start': 635, 'end': 640, 'text': 'K-FGF'}, 'T7': {'type': 'GENE', 'start': 955, 'end': 985, 'text': 'heparin-binding growth factors'}, 'T8': {'type': 'GENE', 'start': 44, 'end': 74, 'text': 'heparin-binding growth factors'}}, 'relations': []}\n",
            "750\n"
          ]
        }
      ],
      "source": [
        "docs = loadDrugProt('drugprot-gs-training-development/training/drugprot_training_abstracs.tsv',\n",
        "                    'drugprot-gs-training-development/training/drugprot_training_entities.tsv',\n",
        "                    'drugprot-gs-training-development/training/drugprot_training_relations.tsv')\n",
        "\n",
        "dev_docs = loadDrugProt('drugprot-gs-training-development/development/drugprot_development_abstracs.tsv',\n",
        "                    'drugprot-gs-training-development/development/drugprot_development_entities.tsv',\n",
        "                    'drugprot-gs-training-development/development/drugprot_development_relations.tsv')\n",
        "\n",
        "print(dev_docs[0])\n",
        "print(len(dev_docs))"
      ]
    },
    {
      "cell_type": "markdown",
      "metadata": {
        "id": "hsBqNeznyrJC"
      },
      "source": [
        "Observation of doc structure\n"
      ]
    },
    {
      "cell_type": "code",
      "execution_count": 4,
      "metadata": {
        "id": "AYt1O1bLyKK8"
      },
      "outputs": [],
      "source": [
        "search = [ d for d in docs if d['pubmed_id'] == 23197773]\n",
        "assert len(search) == 1, \"Something went wrong and couldn't find the document we want\"\n",
        "\n",
        "\n",
        "#non_sent = [ d for d in docs if d['pubmed_id'] == 8733007]\n",
        "docs.remove(search[0])"
      ]
    },
    {
      "cell_type": "markdown",
      "metadata": {
        "id": "SvJVGoiznqJs"
      },
      "source": [
        "We can observe the total number of relations and the number of different relation types across all documents below:"
      ]
    },
    {
      "cell_type": "code",
      "execution_count": 45,
      "metadata": {
        "colab": {
          "base_uri": "https://localhost:8080/"
        },
        "id": "YaUZTJ6Qntfq",
        "outputId": "8f40d4ad-2665-43e7-8f23-3e633ed0642a"
      },
      "outputs": [
        {
          "output_type": "stream",
          "name": "stdout",
          "text": [
            "Training Set:\n",
            "Number of total relations: 17288\n",
            "Number of relations for INHIBITOR is: 5392\n",
            "Number of relations for INDIRECT-UPREGULATOR is: 1379\n",
            "Number of relations for SUBSTRATE_PRODUCT-OF is: 25\n",
            "Number of relations for SUBSTRATE is: 2003\n",
            "Number of relations for ACTIVATOR is: 1429\n",
            "Number of relations for ANTAGONIST is: 972\n",
            "Number of relations for AGONIST-INHIBITOR is: 13\n",
            "Number of relations for PART-OF is: 886\n",
            "Number of relations for DIRECT-REGULATOR is: 2250\n",
            "Number of relations for AGONIST-ACTIVATOR is: 29\n",
            "Number of relations for INDIRECT-DOWNREGULATOR is: 1330\n",
            "Number of relations for PRODUCT-OF is: 921\n",
            "Number of relations for AGONIST is: 659\n",
            "\n",
            "Development Set:\n",
            "Number of total relations: 3765\n",
            "Number of relations for INHIBITOR is: 1152\n",
            "Number of relations for INDIRECT-UPREGULATOR is: 302\n",
            "Number of relations for SUBSTRATE_PRODUCT-OF is: 3\n",
            "Number of relations for SUBSTRATE is: 495\n",
            "Number of relations for ACTIVATOR is: 246\n",
            "Number of relations for ANTAGONIST is: 218\n",
            "Number of relations for AGONIST-INHIBITOR is: 2\n",
            "Number of relations for PART-OF is: 258\n",
            "Number of relations for DIRECT-REGULATOR is: 458\n",
            "Number of relations for AGONIST-ACTIVATOR is: 10\n",
            "Number of relations for INDIRECT-DOWNREGULATOR is: 332\n",
            "Number of relations for PRODUCT-OF is: 158\n",
            "Number of relations for AGONIST is: 131\n",
            "\n"
          ]
        }
      ],
      "source": [
        "def showRels(docs):\n",
        "  num = 0\n",
        "  labs = list(set([r['type'] for doc in docs for r in doc['relations']]))\n",
        "  rels = {}\n",
        "  for l in labs:\n",
        "    rels[l] = 0\n",
        "\n",
        "  for doc in docs:\n",
        "    num += len(doc['relations'])\n",
        "    for r in doc['relations']:\n",
        "      rels[r['type']]+=1\n",
        "    \n",
        "\n",
        "  print(f\"Number of total relations: {num}\")\n",
        "  for k,v in rels.items():\n",
        "    print(f\"Number of relations for {k} is: {v}\")\n",
        "  print()\n",
        "\n",
        "print(\"Training Set:\")\n",
        "showRels(docs)\n",
        "\n",
        "print(\"Development Set:\")\n",
        "showRels(dev_docs)"
      ]
    },
    {
      "cell_type": "markdown",
      "metadata": {
        "id": "wuvPifsbVAI2"
      },
      "source": [
        "# Encoding Step"
      ]
    },
    {
      "cell_type": "markdown",
      "metadata": {
        "id": "BwTEztaT7myc"
      },
      "source": [
        "The code below imports certain packages that will be used during this relation extraction task."
      ]
    },
    {
      "cell_type": "code",
      "execution_count": 6,
      "metadata": {
        "colab": {
          "base_uri": "https://localhost:8080/"
        },
        "id": "zt-G3qMF6S6z",
        "outputId": "c65339f0-69d7-4d54-d520-76cf5f599135"
      },
      "outputs": [
        {
          "output_type": "stream",
          "name": "stdout",
          "text": [
            "Looking in indexes: https://pypi.org/simple, https://us-python.pkg.dev/colab-wheels/public/simple/\n",
            "Collecting transformers\n",
            "  Downloading transformers-4.25.1-py3-none-any.whl (5.8 MB)\n",
            "\u001b[2K     \u001b[90m━━━━━━━━━━━━━━━━━━━━━━━━━━━━━━━━━━━━━━━━\u001b[0m \u001b[32m5.8/5.8 MB\u001b[0m \u001b[31m55.9 MB/s\u001b[0m eta \u001b[36m0:00:00\u001b[0m\n",
            "\u001b[?25hCollecting tokenizers!=0.11.3,<0.14,>=0.11.1\n",
            "  Downloading tokenizers-0.13.2-cp38-cp38-manylinux_2_17_x86_64.manylinux2014_x86_64.whl (7.6 MB)\n",
            "\u001b[2K     \u001b[90m━━━━━━━━━━━━━━━━━━━━━━━━━━━━━━━━━━━━━━━━\u001b[0m \u001b[32m7.6/7.6 MB\u001b[0m \u001b[31m84.5 MB/s\u001b[0m eta \u001b[36m0:00:00\u001b[0m\n",
            "\u001b[?25hRequirement already satisfied: filelock in /usr/local/lib/python3.8/dist-packages (from transformers) (3.9.0)\n",
            "Requirement already satisfied: packaging>=20.0 in /usr/local/lib/python3.8/dist-packages (from transformers) (21.3)\n",
            "Requirement already satisfied: tqdm>=4.27 in /usr/local/lib/python3.8/dist-packages (from transformers) (4.64.1)\n",
            "Requirement already satisfied: pyyaml>=5.1 in /usr/local/lib/python3.8/dist-packages (from transformers) (6.0)\n",
            "Requirement already satisfied: numpy>=1.17 in /usr/local/lib/python3.8/dist-packages (from transformers) (1.21.6)\n",
            "Requirement already satisfied: requests in /usr/local/lib/python3.8/dist-packages (from transformers) (2.25.1)\n",
            "Requirement already satisfied: regex!=2019.12.17 in /usr/local/lib/python3.8/dist-packages (from transformers) (2022.6.2)\n",
            "Collecting huggingface-hub<1.0,>=0.10.0\n",
            "  Downloading huggingface_hub-0.11.1-py3-none-any.whl (182 kB)\n",
            "\u001b[2K     \u001b[90m━━━━━━━━━━━━━━━━━━━━━━━━━━━━━━━━━━━━━━\u001b[0m \u001b[32m182.4/182.4 KB\u001b[0m \u001b[31m19.9 MB/s\u001b[0m eta \u001b[36m0:00:00\u001b[0m\n",
            "\u001b[?25hRequirement already satisfied: typing-extensions>=3.7.4.3 in /usr/local/lib/python3.8/dist-packages (from huggingface-hub<1.0,>=0.10.0->transformers) (4.4.0)\n",
            "Requirement already satisfied: pyparsing!=3.0.5,>=2.0.2 in /usr/local/lib/python3.8/dist-packages (from packaging>=20.0->transformers) (3.0.9)\n",
            "Requirement already satisfied: chardet<5,>=3.0.2 in /usr/local/lib/python3.8/dist-packages (from requests->transformers) (4.0.0)\n",
            "Requirement already satisfied: urllib3<1.27,>=1.21.1 in /usr/local/lib/python3.8/dist-packages (from requests->transformers) (1.24.3)\n",
            "Requirement already satisfied: idna<3,>=2.5 in /usr/local/lib/python3.8/dist-packages (from requests->transformers) (2.10)\n",
            "Requirement already satisfied: certifi>=2017.4.17 in /usr/local/lib/python3.8/dist-packages (from requests->transformers) (2022.12.7)\n",
            "Installing collected packages: tokenizers, huggingface-hub, transformers\n",
            "Successfully installed huggingface-hub-0.11.1 tokenizers-0.13.2 transformers-4.25.1\n",
            "Looking in indexes: https://pypi.org/simple, https://us-python.pkg.dev/colab-wheels/public/simple/\n",
            "Collecting segtok\n",
            "  Downloading segtok-1.5.11-py3-none-any.whl (24 kB)\n",
            "Requirement already satisfied: regex in /usr/local/lib/python3.8/dist-packages (from segtok) (2022.6.2)\n",
            "Installing collected packages: segtok\n",
            "Successfully installed segtok-1.5.11\n"
          ]
        }
      ],
      "source": [
        "#!pip install torch\n",
        "!pip install transformers\n",
        "!pip install segtok\n",
        "\n",
        "#import transformers as ppb\n",
        "from transformers import BertModel, AutoTokenizer\n",
        "import pandas as pd\n",
        "import numpy as np\n",
        "import nltk\n",
        "import torch\n",
        "import itertools\n",
        "from segtok.segmenter import split_single"
      ]
    },
    {
      "cell_type": "markdown",
      "metadata": {
        "id": "Dzu6SwhS7GZd"
      },
      "source": [
        "This is a function that checks if a particular entity tag is part of a relation or not. This is used to form labels for the data so that the classifier can learn which sentences contain relations and which do not."
      ]
    },
    {
      "cell_type": "code",
      "execution_count": 7,
      "metadata": {
        "id": "ruR21j2mXzO8"
      },
      "outputs": [],
      "source": [
        "# Checks if the entity specified belongs to one term in the relation\n",
        "def isRelation(doc, key):\n",
        "\n",
        "  relations = doc['relations']\n",
        "  for r in relations:\n",
        "    #Checks if the entity is involved in any part of a specified relation\n",
        "    if (key == r['arg1']) or (key == r['arg2']):\n",
        "      #Returns the name of the relation and a boolean value\n",
        "      return True, r['type']\n",
        "  return False, \"None\"\n",
        "\n",
        "#Checks if both arguments are terms in one relation\n",
        "def isEntityRelation(arg1,arg2,doc):\n",
        "  relation = 0\n",
        "  for r in doc['relations']:\n",
        "    if (arg1 == r['arg1']) and (arg2 == r['arg2']):\n",
        "      return True, r['type']\n",
        "  return False, 0\n"
      ]
    },
    {
      "cell_type": "markdown",
      "metadata": {
        "id": "Poo81Bj15g6C"
      },
      "source": [
        "This function takes in the text and finds all of the labels for all pairs of entity relations. This will be used later to input into the classifier."
      ]
    },
    {
      "cell_type": "code",
      "execution_count": 47,
      "metadata": {
        "id": "rjcYZDYn5y2G"
      },
      "outputs": [],
      "source": [
        "def find_sent_idxs(text):\n",
        "  idxs = [0]\n",
        "  idx = 0\n",
        "  split_text = split_single(text)\n",
        "  for t in split_text:\n",
        "    idx += len(t)+1\n",
        "    idxs.append(idx)\n",
        "  return idxs\n",
        "\n",
        "def find_entity_labels(idxs, keys, doc):\n",
        "  labels = []\n",
        "  rel_labels= []\n",
        "  entity_dict = {}\n",
        "\n",
        "  for i in idxs:\n",
        "    entity_dict[i]=[]\n",
        "\n",
        "  for key in keys:\n",
        "    for i in range(len(idxs)-1):\n",
        "      s = doc['entities'][key]['start']\n",
        "      e = doc['entities'][key]['end']\n",
        "      if (s >= idxs[i] and s < idxs[i+1]) and (e > idxs[i] and e <= idxs[i+1]):\n",
        "        #print(f\"First idx: {idxs[i]}, middle idx: {doc['entities'][key]['start']} {doc['entities'][key]['end']}, second idx: {idxs[i+1]}, \")\n",
        "        entity_dict[idxs[i]].append(key)\n",
        "      #elif (s >= idxs[i] and s < idxs[i+1]) and (e > idxs[i] and e >= idxs[i+1]):\n",
        "        #print(doc['entities'][key]['text'])\n",
        "        #print(f\"First idx: {idxs[i]}, middle idx: {doc['entities'][key]['start']} {doc['entities'][key]['end']}, second idx: {idxs[i+1]}, \")\n",
        "        \n",
        "  for k, v in entity_dict.items():\n",
        "    #print(k)\n",
        "    if not v==[]:\n",
        "      #print(v)\n",
        "      chems = []\n",
        "      genes = []\n",
        "      for name in v:\n",
        "        if doc['entities'][name]['type'] == 'CHEMICAL':\n",
        "          chems.append(name)\n",
        "        else:\n",
        "          #print(doc['entities'][name]['type'])\n",
        "          genes.append(name)\n",
        "\n",
        "      #print(f'chems: {chems}, genes: {genes}')\n",
        "      #if chems!=[] and genes!=[]:\n",
        "      prods = itertools.product(chems,genes)\n",
        "      for prod in prods:\n",
        "        #print(prod)\n",
        "        #print(prod[0])\n",
        "        b, r = isEntityRelation(prod[0],prod[1],doc)\n",
        "        if b:\n",
        "          rel_labels.append(r)\n",
        "          labels.append(1)\n",
        "        else:\n",
        "          #print(f'Prod 0: {prod[0]}, prod 1: {prod[1]}')\n",
        "          rel_labels.append(0)\n",
        "          labels.append(0)\n",
        "  \n",
        "\n",
        "  return labels, rel_labels"
      ]
    },
    {
      "cell_type": "markdown",
      "metadata": {
        "id": "DjiNDFJvgckl"
      },
      "source": [
        "This function adds in start and end entity tags to biomedical text. This ensures that every chemical mentioned is encased in [E1][/E1] tags, and every gene is encased in [E2][/E2] tags, so that we can extract the embeddings for these later."
      ]
    },
    {
      "cell_type": "code",
      "execution_count": 48,
      "metadata": {
        "colab": {
          "base_uri": "https://localhost:8080/"
        },
        "id": "a7MjEIFqgiiC",
        "outputId": "ebb90611-ecbc-4fc0-9a3b-f635299aedbf"
      },
      "outputs": [
        {
          "output_type": "stream",
          "name": "stdout",
          "text": [
            "dict_keys(['pubmed_id', 'text', 'entities', 'relations', 'labels', 'classes', 'entity_labels', 'rel_labels', 'tagged_text'])\n",
            "{'T1': {'type': 'CHEMICAL', 'start': 1455, 'end': 1466, 'text': 'benzamidine'}, 'T2': {'type': 'CHEMICAL', 'start': 1489, 'end': 1493, 'text': 'EACA'}, 'T3': {'type': 'CHEMICAL', 'start': 292, 'end': 298, 'text': 'lysine'}, 'T4': {'type': 'CHEMICAL', 'start': 308, 'end': 334, 'text': 'epsilon-amino caproic acid'}, 'T5': {'type': 'CHEMICAL', 'start': 336, 'end': 340, 'text': 'EACA'}, 'T6': {'type': 'CHEMICAL', 'start': 400, 'end': 406, 'text': 'lysine'}, 'T7': {'type': 'GENE-Y', 'start': 1165, 'end': 1170, 'text': 'gp330'}, 'T8': {'type': 'GENE-Y', 'start': 1172, 'end': 1179, 'text': 'plasmin'}, 'T9': {'type': 'GENE-Y', 'start': 227, 'end': 238, 'text': 'plasminogen'}, 'T10': {'type': 'GENE-Y', 'start': 1236, 'end': 1255, 'text': 'alpha 2-antiplasmin'}, 'T11': {'type': 'GENE-Y', 'start': 1272, 'end': 1279, 'text': 'plasmin'}, 'T12': {'type': 'GENE-Y', 'start': 1283, 'end': 1288, 'text': 'gp330'}, 'T13': {'type': 'GENE-Y', 'start': 1382, 'end': 1387, 'text': 'gp330'}, 'T14': {'type': 'GENE-Y', 'start': 1419, 'end': 1430, 'text': 'plasminogen'}, 'T15': {'type': 'GENE-Y', 'start': 1435, 'end': 1442, 'text': 'plasmin'}, 'T16': {'type': 'GENE-Y', 'start': 1446, 'end': 1451, 'text': 'gp330'}, 'T17': {'type': 'GENE-Y', 'start': 1519, 'end': 1526, 'text': 'plasmin'}, 'T18': {'type': 'GENE-Y', 'start': 1530, 'end': 1535, 'text': 'gp330'}, 'T19': {'type': 'GENE-Y', 'start': 1570, 'end': 1581, 'text': 'plasminogen'}, 'T20': {'type': 'GENE-Y', 'start': 1585, 'end': 1590, 'text': 'gp330'}, 'T21': {'type': 'GENE-Y', 'start': 1635, 'end': 1646, 'text': 'plasminogen'}, 'T22': {'type': 'GENE-Y', 'start': 1650, 'end': 1655, 'text': 'gp330'}, 'T23': {'type': 'GENE-Y', 'start': 1711, 'end': 1718, 'text': 'plasmin'}, 'T24': {'type': 'GENE-Y', 'start': 1812, 'end': 1819, 'text': 'plasmin'}, 'T25': {'type': 'GENE-Y', 'start': 359, 'end': 370, 'text': 'plasminogen'}, 'T26': {'type': 'GENE-Y', 'start': 444, 'end': 455, 'text': 'plasminogen'}, 'T27': {'type': 'GENE-Y', 'start': 495, 'end': 506, 'text': 'plasminogen'}, 'T28': {'type': 'GENE-Y', 'start': 156, 'end': 185, 'text': 'Heymann nephritis autoantigen'}, 'T29': {'type': 'GENE-Y', 'start': 519, 'end': 524, 'text': 'gp330'}, 'T30': {'type': 'GENE-Y', 'start': 568, 'end': 575, 'text': 'plasmin'}, 'T31': {'type': 'GENE-Y', 'start': 579, 'end': 588, 'text': 'urokinase'}, 'T32': {'type': 'GENE-Y', 'start': 609, 'end': 620, 'text': 'plasminogen'}, 'T33': {'type': 'GENE-Y', 'start': 624, 'end': 631, 'text': 'plasmin'}, 'T34': {'type': 'GENE-Y', 'start': 663, 'end': 674, 'text': 'plasminogen'}, 'T35': {'type': 'GENE-Y', 'start': 696, 'end': 701, 'text': 'gp330'}, 'T36': {'type': 'GENE-Y', 'start': 764, 'end': 773, 'text': 'urokinase'}, 'T37': {'type': 'GENE-Y', 'start': 187, 'end': 192, 'text': 'gp330'}, 'T38': {'type': 'GENE-Y', 'start': 809, 'end': 814, 'text': 'gp330'}, 'T39': {'type': 'GENE-Y', 'start': 877, 'end': 884, 'text': 'plasmin'}, 'T40': {'type': 'GENE-Y', 'start': 902, 'end': 907, 'text': 'gp330'}, 'T41': {'type': 'GENE-Y', 'start': 998, 'end': 1005, 'text': 'plasmin'}, 'T42': {'type': 'GENE-Y', 'start': 1009, 'end': 1014, 'text': 'gp330'}, 'T43': {'type': 'GENE-Y', 'start': 1077, 'end': 1082, 'text': 'gp330'}, 'T44': {'type': 'GENE-Y', 'start': 1116, 'end': 1123, 'text': 'plasmin'}, 'T45': {'type': 'GENE-Y', 'start': 112, 'end': 117, 'text': 'gp330'}, 'T46': {'type': 'GENE-Y', 'start': 12, 'end': 19, 'text': 'plasmin'}, 'T47': {'type': 'GENE-Y', 'start': 32, 'end': 41, 'text': 'urokinase'}, 'T48': {'type': 'GENE-Y', 'start': 56, 'end': 67, 'text': 'plasminogen'}, 'T49': {'type': 'GENE-Y', 'start': 81, 'end': 110, 'text': 'Heymann nephritis autoantigen'}}\n",
            "[0, 0, 0, 0, 0, 0, 0, 0, 1, 1, 1, 0, 0, 0, 0, 0, 0, 0, 1, 1, 1, 1]\n",
            "[0, 0, 0, 0, 0, 0, 0, 0, 'INHIBITOR', 'INHIBITOR', 'DIRECT-REGULATOR', 0, 0, 0, 0, 0, 0, 0, 'INHIBITOR', 'DIRECT-REGULATOR', 'INHIBITOR', 'DIRECT-REGULATOR']\n",
            "Analysis of  [E2] plasmin [/E2] binding and  [E2] urokinase [/E2] activation of  [E2] plasminogen [/E2] bound to the  [E2] Heymann nephritis autoantigen [/E2],  [E2] gp330 [/E2].\n",
            "Previously, we demonstrated that the  [E2] Heymann nephritis autoantigen [/E2],  [E2] gp330 [/E2], can serve as a receptor site for  [E2] plasminogen [/E2]. This binding was not significantly inhibited by the  [E1] lysine [/E1] analogue  [E1] epsilon-amino caproic acid [/E1] ( [E1] EACA [/E1]), indicating that  [E2] plasminogen [/E2] binding was not just through  [E1] lysine [/E1] binding sites as suggested for other  [E2] plasminogen [/E2] binding sites. We now report that once  [E2] plasminogen [/E2] is bound to  [E2] gp330 [/E2], it can be converted to its active form of  [E2] plasmin [/E2] by  [E2] urokinase [/E2]. This conversion of  [E2] plasminogen [/E2] to  [E2] plasmin [/E2] proceeds at a faster rate when  [E2] plasminogen [/E2] is first prebound to  [E2] gp330 [/E2]. Although there is a proportional increase in the Vmax of the  [E2] urokinase [/E2]-catalyzed reaction with increasing  [E2] gp330 [/E2] concentrations, no change in Km was observed. Once activated,  [E2] plasmin [/E2] remains bound to  [E2] gp330 [/E2] in an active state capable of cleaving the chromogenic tripeptide, S-2251. The binding of  [E2] plasmin [/E2] to  [E2] gp330 [/E2] did not significantly change its enzymatic activity; however,  [E2] gp330 [/E2] did have a stabilizing effect on  [E2] plasmin [/E2] activity at 37 degrees C. While bound to  [E2] gp330 [/E2],  [E2] plasmin [/E2] is protected from inactivation by its natural inhibitor  [E2] alpha 2-antiplasmin [/E2]. The binding of  [E2] plasmin [/E2] to  [E2] gp330 [/E2] as analyzed by ELISA was shown to be time dependent, reversible, saturable, and specific for  [E2] gp330 [/E2]. Inhibition of binding of both  [E2] plasminogen [/E2] and  [E2] plasmin [/E2] to  [E2] gp330 [/E2] by  [E1] benzamidine [/E1] was similar, although  [E1] EACA [/E1] inhibited the binding of  [E2] plasmin [/E2] to  [E2] gp330 [/E2] slightly more than the binding of  [E2] plasminogen [/E2] to  [E2] gp330 [/E2]. These results indicate that the binding of  [E2] plasminogen [/E2] to  [E2] gp330 [/E2] serves as an effective means of increasing the rate of  [E2] plasmin [/E2] production on the glomerular and tubular epithelial cell surface while protecting the active  [E2] plasmin [/E2]\n"
          ]
        }
      ],
      "source": [
        "def addEntityTags(docs):\n",
        "\n",
        "  for doc in docs:\n",
        "    #Contains the labels for each sentence (1 for positive result, 0 for no relation)\n",
        "    doc['labels'] = []\n",
        "    #Contains more explicit names for the relations.\n",
        "    doc['classes'] = []\n",
        "\n",
        "    str = ''\n",
        "    index = 0\n",
        "\n",
        "    #Contains every mention of chemicals and genes for a particular document\n",
        "    keys = doc['entities'].keys()\n",
        "\n",
        "    #Makes sure the indices of these mentions are in order\n",
        "    key_list = sorted(keys, key= lambda x: (doc['entities'][x]['start']))\n",
        "\n",
        "    #Finds the indexes of the start and end of each sentence in the text\n",
        "    idxs = find_sent_idxs(doc['text'])\n",
        "    #print(idxs)\n",
        "\n",
        "\n",
        "    l,r = find_entity_labels(idxs, key_list, doc)\n",
        "    doc['entity_labels'] = l\n",
        "    doc['rel_labels'] = r\n",
        "    #print(l)\n",
        "    #print(find_entity_labels(idxs, keys, doc))\n",
        "\n",
        "    for k in key_list:\n",
        "      #Adds a 1 to the list of labels if it is a positive result, 0 if negative\n",
        "      b,r = isRelation(doc,k)\n",
        "      if b:\n",
        "        doc['labels'].append(1)\n",
        "      else:\n",
        "        doc['labels'].append(0)\n",
        "      doc['classes'].append(r)\n",
        "      v = doc['entities'][k]\n",
        "\n",
        "      #Start and end indexes of entity\n",
        "      start = v['start']\n",
        "      end = v['end']\n",
        "      name = doc['text'][start:end]\n",
        "      name = name.replace('.', ' ')\n",
        "\n",
        "      if v['type'] == 'CHEMICAL':\n",
        "        str += doc['text'][index:start] + ' [E1] ' + name + ' [/E1]'\n",
        "      else:\n",
        "        str += doc['text'][index:start] + ' [E2] ' + name + ' [/E2]'\n",
        "      index = end\n",
        "    \n",
        "    #Adds the tagged text to the dictionary of a particular document\n",
        "    doc['tagged_text'] = str \n",
        "\n",
        "addEntityTags(docs)\n",
        "addEntityTags(dev_docs)\n",
        "\n",
        "print(docs[0].keys())\n",
        "print(docs[0]['entities'])\n",
        "print(docs[0]['entity_labels'])\n",
        "print(docs[0]['rel_labels'])\n",
        "print(docs[0]['tagged_text'])\n",
        "\n"
      ]
    },
    {
      "cell_type": "markdown",
      "metadata": {
        "id": "4ikJplM-cXqU"
      },
      "source": [
        "Next, we can reduce the text to only sentences potentially containing relations between chemicals and genes by splitting the sentences and seeing if there are any entity tags present within the sentence. The findLabels function goes through the list of labels for a particular document and sees if there is a relation present within that sentence.\n",
        "\n",
        "(Note for later: I didn't take into account relations across sentences in this implementation, will have to change something to ensure that both entities for one relation are in the same sentence)"
      ]
    },
    {
      "cell_type": "code",
      "execution_count": 51,
      "metadata": {
        "colab": {
          "base_uri": "https://localhost:8080/"
        },
        "id": "x0ps_RaP3wMU",
        "outputId": "50ccefc4-c297-49a2-b765-a9ebfcdba0fa"
      },
      "outputs": [
        {
          "output_type": "stream",
          "name": "stdout",
          "text": [
            "29250\n",
            "29250\n",
            "6238\n",
            "6238\n"
          ]
        }
      ],
      "source": [
        "from collections import Counter\n",
        "\n",
        "def relevantText(docs):\n",
        "\n",
        "  target_text = []\n",
        "  labels = []\n",
        "  classes = []\n",
        "\n",
        "  for doc in docs:\n",
        "    txt = doc['tagged_text']\n",
        "    lbls = doc['labels']\n",
        "\n",
        "    split_text = []\n",
        "    split_text += split_single(txt)\n",
        "    offset = 0\n",
        "\n",
        "    for s in range(len(split_text)):\n",
        "      if ('[E1]' in split_text[s] and '[/E1]' in split_text[s]) or ('[E2]' in split_text[s] and '[/E2]' in split_text[s]):\n",
        "        o, l, new_lbls = findLabels(split_text[s],lbls,offset)\n",
        "        target_text.append(split_text[s])\n",
        "        lbls = new_lbls\n",
        "        offset += o\n",
        "        labels.append(l)\n",
        "      #elif '[/E' in split_text[s] or '[E1]' in split_text[s]  or '[E2]' in split_text[s]:\n",
        "        \n",
        "        #print(split_text[s])\n",
        "        #print(f\"Previous sentence: {split_text[s-1]}\")\n",
        "        #print(f\"Next sentence: {split_text[s+1]}\")\n",
        "        #print()\n",
        "  \n",
        "  return target_text, labels, classes\n",
        "\n",
        "def findLabels(text, labels, offset=0):\n",
        "    words = text.split(\" \")\n",
        "    counter = Counter(words)\n",
        "    idx = counter['[E2]']+counter['[E1]']\n",
        "    isRel = False\n",
        "    for i in range(idx):\n",
        "      if labels[i]==1:\n",
        "        isRel = True\n",
        "    offset+=idx\n",
        "    if isRel:\n",
        "      label = 1\n",
        "    else:\n",
        "      label = 0\n",
        "    l = labels[idx:]\n",
        "    return offset, label, l\n",
        "\n",
        "target_text, labels, classes = relevantText(docs)\n",
        "dev_target_text, dev_labels, dev_classes = relevantText(dev_docs)\n",
        "\n",
        "#Both the target text and the labels must be the same length\n",
        "#Text and labels of the training set\n",
        "print(len(target_text))\n",
        "print(len(labels))\n",
        "\n",
        "\n",
        "#Text and labels of development set\n",
        "print()\n",
        "print(len(dev_target_text))\n",
        "print(len(dev_labels))\n"
      ]
    },
    {
      "cell_type": "markdown",
      "metadata": {
        "id": "jI2VTA9Po-a9"
      },
      "source": [
        "There are around 17288 total relations, therefore there some sentences that contain entities but don't actually contain a relation. The code below shows a snippet of the target text which should only contain sentences that contain tagged entities. It also contains the first five labels which are all 0 in this case. These seems sensible as there isn't a chemical in the first sentence, and therefore there is no relationship specified between a chemical and gene."
      ]
    },
    {
      "cell_type": "code",
      "execution_count": 52,
      "metadata": {
        "colab": {
          "base_uri": "https://localhost:8080/"
        },
        "id": "zb4HIf7ebZdo",
        "outputId": "61b26885-6bfa-40ce-bbd7-4cf7d1c419b7"
      },
      "outputs": [
        {
          "output_type": "stream",
          "name": "stdout",
          "text": [
            "['Analysis of  [E2] plasmin [/E2] binding and  [E2] urokinase [/E2] activation of  [E2] plasminogen [/E2] bound to the  [E2] Heymann nephritis autoantigen [/E2],  [E2] gp330 [/E2].', 'Previously, we demonstrated that the  [E2] Heymann nephritis autoantigen [/E2],  [E2] gp330 [/E2], can serve as a receptor site for  [E2] plasminogen [/E2].', 'This binding was not significantly inhibited by the  [E1] lysine [/E1] analogue  [E1] epsilon-amino caproic acid [/E1] ( [E1] EACA [/E1]), indicating that  [E2] plasminogen [/E2] binding was not just through  [E1] lysine [/E1] binding sites as suggested for other  [E2] plasminogen [/E2] binding sites.', 'We now report that once  [E2] plasminogen [/E2] is bound to  [E2] gp330 [/E2], it can be converted to its active form of  [E2] plasmin [/E2] by  [E2] urokinase [/E2].', 'This conversion of  [E2] plasminogen [/E2] to  [E2] plasmin [/E2] proceeds at a faster rate when  [E2] plasminogen [/E2] is first prebound to  [E2] gp330 [/E2].', 'Although there is a proportional increase in the Vmax of the  [E2] urokinase [/E2]-catalyzed reaction with increasing  [E2] gp330 [/E2] concentrations, no change in Km was observed.', 'Once activated,  [E2] plasmin [/E2] remains bound to  [E2] gp330 [/E2] in an active state capable of cleaving the chromogenic tripeptide, S-2251.', 'The binding of  [E2] plasmin [/E2] to  [E2] gp330 [/E2] did not significantly change its enzymatic activity; however,  [E2] gp330 [/E2] did have a stabilizing effect on  [E2] plasmin [/E2] activity at 37 degrees C.', 'While bound to  [E2] gp330 [/E2],  [E2] plasmin [/E2] is protected from inactivation by its natural inhibitor  [E2] alpha 2-antiplasmin [/E2].', 'The binding of  [E2] plasmin [/E2] to  [E2] gp330 [/E2] as analyzed by ELISA was shown to be time dependent, reversible, saturable, and specific for  [E2] gp330 [/E2].', 'Inhibition of binding of both  [E2] plasminogen [/E2] and  [E2] plasmin [/E2] to  [E2] gp330 [/E2] by  [E1] benzamidine [/E1] was similar, although  [E1] EACA [/E1] inhibited the binding of  [E2] plasmin [/E2] to  [E2] gp330 [/E2] slightly more than the binding of  [E2] plasminogen [/E2] to  [E2] gp330 [/E2].', 'These results indicate that the binding of  [E2] plasminogen [/E2] to  [E2] gp330 [/E2] serves as an effective means of increasing the rate of  [E2] plasmin [/E2] production on the glomerular and tubular epithelial cell surface while protecting the active  [E2] plasmin [/E2]']\n",
            "[0, 0, 0, 0, 0, 0, 0, 0, 0, 0, 1, 0, 0, 1, 1, 0, 1, 0, 1, 0, 1, 1]\n",
            "\n",
            "['Inhibition by pentosan polysulfate (PPS) of  [E2] heparin-binding growth factors [/E2] released from tumor cells and blockage by PPS of tumor growth in animals.', \"We have shown that the heparinoid pentosan polysulfate (PPS) can block growth of subcutaneous human tumor xenografts in nude mice and angiogenesis induced by the heparin-binding,  [E2] Kaposi's sarcoma-derived fibroblast growth factor [/E2] ( [E2] K-FGF [/E2]).\", 'We studied the effects of PPS on stimulation by  [E2] heparin-binding growth factors [/E2] released from seven human tumor cell lines in vitro and on tumors growing from these cell lines in athymic nude mice.', 'Heparin-affinity chromatography showed that  [E2] heparin-binding growth factors [/E2] contributed substantially to this paracrine activity and that PPS inhibited this stimulus.', 'Six of the seven tumor cell lines were resistant to PPS in soft-agar cloning assays and hence did not appear to depend on autocrine stimulation by the  [E2] heparin-binding growth factors [/E2].', 'CONCLUSIONS: We conclude that  [E2] heparin-binding growth factors [/E2] contribute substantially to tumor growth in vivo and that PPS acts by blocking the paracrine effects of  [E2] heparin-binding growth factors [/E2]', 'Anabolic effects of  [E1] clenbuterol [/E1] on skeletal muscle are mediated by  [E2] beta 2-adrenoceptor [/E2] activation.', 'The potent anabolic effects of the  [E2] beta 2-adrenoceptor [/E2] agonist  [E1] clenbuterol [/E1] on skeletal muscle have been reported to be independent of actions on  [E2] beta-adrenoceptors [/E2].', 'In the present study  [E1] clenbuterol [/E1], presented to rats in the diet (4 mg/kg), caused significant increases in gastrocnemius muscle mass, protein, and RNA content and a decrease in epididymal fat pad mass.', 'These effects were not mimicked by oral administration of the  [E2] beta 2-adrenoceptor [/E2] agonist  [E1] salbutamol [/E1] even at high dose (52 mg/kg diet), and the effects of  [E1] clenbuterol [/E1] were not inhibited by addition of  [E1] DL-propranolol [/E1] (200 mg/kg diet).', 'However, the selective beta 2-antagonist  [E1] ICI-118,551 [/E1] (200 mg/kg diet) reversed the anabolic effects of  [E1] clenbuterol [/E1], and a high dose of  [E1] DL-propranolol [/E1] (1,000 mg/kg diet) also inhibited these actions of  [E1] clenbuterol [/E1].', 'Furthermore, continuous infusion of  [E1] salbutamol [/E1] (1.15 mg.kg body wt-1.day-1) via miniosmotic pumps did cause significant increases in muscle mass, protein, and RNA content.']\n",
            "[0, 0, 0, 0, 0, 0, 1, 1, 0, 1, 0, 0, 0, 0, 1, 0, 1, 0, 0, 1, 0, 1]\n"
          ]
        }
      ],
      "source": [
        "print(target_text[:12])\n",
        "print(labels[:22])\n",
        "\n",
        "print()\n",
        "print(dev_target_text[:12])\n",
        "print(dev_labels[:22])"
      ]
    },
    {
      "cell_type": "markdown",
      "metadata": {
        "id": "BXYgjLzmG2DT"
      },
      "source": [
        "# Embedding Step\n",
        "\n",
        "Next, a BERT model is defined that has been pre-trained using PubMed texts. This allows BERT to recognise biomedical terms within the text and understand their context better.\n",
        "\n",
        "The tokeniser is also defined using pubmed texts, and special tokens are added in so that BERT can recognise them and not break them down when tokenising."
      ]
    },
    {
      "cell_type": "code",
      "execution_count": 53,
      "metadata": {
        "colab": {
          "base_uri": "https://localhost:8080/"
        },
        "id": "FtHyA7DTG40c",
        "outputId": "b103e057-0633-42bf-be37-6c951824ab9a"
      },
      "outputs": [
        {
          "output_type": "stream",
          "name": "stderr",
          "text": [
            "Some weights of the model checkpoint at microsoft/BiomedNLP-PubMedBERT-base-uncased-abstract-fulltext were not used when initializing BertModel: ['cls.predictions.decoder.bias', 'cls.predictions.bias', 'cls.predictions.decoder.weight', 'cls.predictions.transform.LayerNorm.weight', 'cls.seq_relationship.weight', 'cls.predictions.transform.LayerNorm.bias', 'cls.seq_relationship.bias', 'cls.predictions.transform.dense.bias', 'cls.predictions.transform.dense.weight']\n",
            "- This IS expected if you are initializing BertModel from the checkpoint of a model trained on another task or with another architecture (e.g. initializing a BertForSequenceClassification model from a BertForPreTraining model).\n",
            "- This IS NOT expected if you are initializing BertModel from the checkpoint of a model that you expect to be exactly identical (initializing a BertForSequenceClassification model from a BertForSequenceClassification model).\n"
          ]
        },
        {
          "output_type": "execute_result",
          "data": {
            "text/plain": [
              "30522"
            ]
          },
          "metadata": {},
          "execution_count": 53
        }
      ],
      "source": [
        "model = BertModel.from_pretrained(\"microsoft/BiomedNLP-PubMedBERT-base-uncased-abstract-fulltext\",\n",
        "                                  output_hidden_states = True,\n",
        "                                  attention_probs_dropout_prob=0.5,\n",
        "                                  hidden_dropout_prob=0.5\n",
        "                                  )\n",
        "\n",
        "#print(model)\n",
        "\n",
        "tokenizer = AutoTokenizer.from_pretrained(\"microsoft/BiomedNLP-PubMedBERT-base-uncased-abstract-fulltext\") \n",
        "\n",
        "tokenizer.add_tokens([\"[E1]\", \"[/E1]\", \"[E2]\", \"[/E2]\"])\n",
        "\n",
        "tokenizer.vocab[\"[E1]\"]"
      ]
    },
    {
      "cell_type": "markdown",
      "metadata": {
        "id": "eFzXfZX-X3D8"
      },
      "source": [
        "This function adds [CLS] and [SEP] tokens to the beginning and end of sentences so that BERT knows when a new sentence is beginning. It then tokenises these sentences and converts all of the inputs into tensors."
      ]
    },
    {
      "cell_type": "code",
      "execution_count": 13,
      "metadata": {
        "id": "8LWbqPbBL6TD"
      },
      "outputs": [],
      "source": [
        "def bert_text_prep(text, tokenizer):\n",
        "\n",
        "  #CLS lets BERT know when start of sentence begins, SEP indicates start of second sentence.\n",
        "  marked_text = \"[CLS]\" + text + \"[SEP]\"\n",
        "\n",
        "  #Tokenizes text\n",
        "  tokenized_text = tokenizer.tokenize(marked_text)\n",
        "\n",
        "  #Converts to ids\n",
        "  indexed_tokens = tokenizer.convert_tokens_to_ids(tokenized_text)\n",
        "  segments_ids = [1]*len(indexed_tokens)\n",
        "\n",
        "  # Converts inputs to tensors\n",
        "  tokens_tensor = torch.tensor([indexed_tokens])\n",
        "  #print(tokens_tensor.size())\n",
        "  segments_tensors = torch.tensor([segments_ids])\n",
        "\n",
        "  return tokenized_text, tokens_tensor, segments_tensors"
      ]
    },
    {
      "cell_type": "markdown",
      "metadata": {
        "id": "PMth1UIhX6a5"
      },
      "source": [
        "These tensors are then used to find the embeddings of all of the tokens."
      ]
    },
    {
      "cell_type": "code",
      "execution_count": 14,
      "metadata": {
        "id": "-OnSsiEiOQrM"
      },
      "outputs": [],
      "source": [
        "def get_bert_embeddings(tokens_tensor, segments_tensors, model):\n",
        "  with torch.no_grad():\n",
        "    outputs = model(tokens_tensor, segments_tensors)\n",
        "    hidden_states = outputs[2][1:]\n",
        "\n",
        "  token_embeddings = hidden_states[-1]\n",
        "  #Collapsing tensor into 1 dimension\n",
        "  token_embeddings = torch.squeeze(token_embeddings, dim=0)\n",
        "  #print(token_embeddings)\n",
        "  #converting tensors to lists\n",
        "  list_token_embeddings = [token_embed.tolist() for token_embed in token_embeddings]\n",
        "\n",
        "  return list_token_embeddings"
      ]
    },
    {
      "cell_type": "markdown",
      "metadata": {
        "id": "0li9zzHZh5Qn"
      },
      "source": [
        "In order to find the relevant embeddings (entity start tag embeddings), findTags looks through the tokenised sentence and adds the index of that particular tag into a list of chemical indices or gene indices.\n",
        "\n",
        "These are then used after the sentence has been converted into embeddings to find the embedding at these specific indexes. The embeddings are accompanied by the cartesian product of all of the chemical and gene entities found, so that the embeddings for the specified indexes are concatenated."
      ]
    },
    {
      "cell_type": "code",
      "execution_count": 15,
      "metadata": {
        "id": "m1oPiD79h_F1"
      },
      "outputs": [],
      "source": [
        "def findTags(tokens):\n",
        "  chems = []\n",
        "  genes = []\n",
        "\n",
        "  for i in range(len(tokens)):\n",
        "    #Adds the indexes to the relevant lists\n",
        "    if tokens[i].lower() == '[e1]':\n",
        "      chems.append(i)\n",
        "    elif tokens[i].lower() == '[e2]':\n",
        "      genes.append(i)\n",
        "  \n",
        "  #Returns empty lists if either chemicals or genes aren't present\n",
        "  return chems, genes\n",
        "\n",
        "def findEmbeddings(prods, embeddings):\n",
        "  #Concatenates the embeddings\n",
        "  entity_embeddings = []\n",
        "  for elt in prods:\n",
        "    chem = embeddings[elt[0]]\n",
        "    gene = embeddings[elt[1]]\n",
        "    entity_embeddings.append(chem+gene)\n",
        "    #print(len(chem+gene))\n",
        "  return entity_embeddings\n"
      ]
    },
    {
      "cell_type": "markdown",
      "metadata": {
        "id": "SDwF0f2a3rHE"
      },
      "source": [
        "Getting CLS and entity embeddings for each sentence\n",
        "\n"
      ]
    },
    {
      "cell_type": "code",
      "execution_count": 16,
      "metadata": {
        "id": "tXoMT_blWrhG"
      },
      "outputs": [],
      "source": [
        "def get_embeddings(target_text):\n",
        "  t = target_text[:50]\n",
        "  l = labels[:22]\n",
        "  cls_embeddings = []\n",
        "  entity_embeddings = []\n",
        "\n",
        "  for text in target_text:\n",
        "\n",
        "      #Finds tokenized text and tensors for a particular sentence in a document\n",
        "      tokenized_text, tokens_tensor, segments_tensor = bert_text_prep(text, tokenizer)\n",
        "\n",
        "      #Finds the embeddings\n",
        "      list_token_embeddings = get_bert_embeddings(tokens_tensor, segments_tensor, model)\n",
        "\n",
        "      #Adds the [CLS] token embedding to the list\n",
        "      cls_embeddings.append(list_token_embeddings[0])\n",
        "\n",
        "      #Finds the indexes for chemicals and genes in the sentence\n",
        "      chems, genes = findTags(tokenized_text)\n",
        "\n",
        "      #Finds the cartesian product of all of these chemicals and genes\n",
        "      prods = itertools.product(chems,genes)\n",
        "\n",
        "      #Adds the concatenated embeddings of all chemicals and genes to the list\n",
        "      p = findEmbeddings(prods, list_token_embeddings)\n",
        "      entity_embeddings += p\n",
        "\n",
        "  return cls_embeddings, entity_embeddings\n",
        "\n",
        "cls_embeddings, entity_embeddings = get_embeddings(target_text)\n",
        "dev_cls, dev_ent = get_embeddings(dev_target_text)\n",
        "\n",
        "# Saving training set embeddings to files\n",
        "np.save(\"cls_embeddings.npy\",cls_embeddings)\n",
        "np.save(\"entity_embeddings.npy\",entity_embeddings)\n",
        "\n",
        "# Saving development set embeddings to files\n",
        "np.save(\"dev_cls.npy\",dev_cls)\n",
        "np.save(\"dev_ent.npy\",dev_ent)\n"
      ]
    },
    {
      "cell_type": "code",
      "execution_count": 18,
      "metadata": {
        "colab": {
          "base_uri": "https://localhost:8080/"
        },
        "id": "cdX9DN-P1_9g",
        "outputId": "b30158cc-0bdd-4d9d-cbe0-89910ae4a229"
      },
      "outputs": [
        {
          "output_type": "stream",
          "name": "stdout",
          "text": [
            "29242\n",
            "64653\n"
          ]
        }
      ],
      "source": [
        "cls_embeddings = np.load(\"cls_embeddings.npy\")\n",
        "entity_embeddings = np.load(\"entity_embeddings.npy\")\n",
        "\n",
        "dev_cls = np.load(\"dev_cls.npy\")\n",
        "dev_ent = np.load(\"dev_ent.npy\")\n",
        "\n",
        "print(len(cls_embeddings))\n",
        "print(len(entity_embeddings))\n",
        "\n",
        "print(len(dev_cls))\n",
        "print(len(dev_ent))\n"
      ]
    },
    {
      "cell_type": "code",
      "execution_count": 19,
      "metadata": {
        "colab": {
          "base_uri": "https://localhost:8080/"
        },
        "id": "nxLpqQEn7173",
        "outputId": "45ebb535-9db1-455e-d34f-c05a190f196f"
      },
      "outputs": [
        {
          "output_type": "stream",
          "name": "stdout",
          "text": [
            "3499\n"
          ]
        }
      ],
      "source": [
        "print(len(docs))"
      ]
    },
    {
      "cell_type": "code",
      "execution_count": 20,
      "metadata": {
        "colab": {
          "base_uri": "https://localhost:8080/"
        },
        "id": "6dQMIjRJGmPA",
        "outputId": "ab50b746-58a1-48d0-ebcd-23c21abf6182"
      },
      "outputs": [
        {
          "output_type": "stream",
          "name": "stdout",
          "text": [
            "42\n",
            "46\n"
          ]
        }
      ],
      "source": [
        "search = [ d for d in docs if d['pubmed_id'] == 9647478]\n",
        "print(len(search[0]['rel_labels']))\n",
        "print(len(search[0]['classes']))"
      ]
    },
    {
      "cell_type": "markdown",
      "metadata": {
        "id": "E4CWwTfCcIqQ"
      },
      "source": [
        "## Classification Step"
      ]
    },
    {
      "cell_type": "markdown",
      "metadata": {
        "id": "ijHn5tYH2ecP"
      },
      "source": [
        "Relevant imports:\n",
        "\n"
      ]
    },
    {
      "cell_type": "code",
      "execution_count": 21,
      "metadata": {
        "id": "CwZpVx6Y9Vs-"
      },
      "outputs": [],
      "source": [
        "from sklearn.linear_model import LogisticRegression\n",
        "from sklearn.model_selection import cross_val_score\n",
        "from sklearn.model_selection import train_test_split\n",
        "from sklearn.metrics import plot_confusion_matrix, classification_report\n",
        "import matplotlib.pyplot as plt\n",
        "\n",
        "target_labels = list(set([r['type'] for doc in docs for r in doc['relations']]))"
      ]
    },
    {
      "cell_type": "markdown",
      "metadata": {
        "id": "TrzGuFGnECwz"
      },
      "source": [
        "Splitting the CLS embeddings into train/test sets"
      ]
    },
    {
      "cell_type": "code",
      "execution_count": 22,
      "metadata": {
        "id": "fZqHekZbEHon"
      },
      "outputs": [],
      "source": [
        "#Splits the sentences into training and test sets for binary classification\n",
        "cls_train_features, cls_test_features, cls_train_labels, cls_test_labels = train_test_split(cls_embeddings, labels)"
      ]
    },
    {
      "cell_type": "markdown",
      "metadata": {
        "id": "mbGMU_aTMd0e"
      },
      "source": [
        "Classifying these using logistic regression"
      ]
    },
    {
      "cell_type": "code",
      "execution_count": 23,
      "metadata": {
        "colab": {
          "base_uri": "https://localhost:8080/"
        },
        "id": "2Puvz2iJMkS-",
        "outputId": "bb59477f-5bb6-44a2-e211-6222c415703e"
      },
      "outputs": [
        {
          "output_type": "stream",
          "name": "stdout",
          "text": [
            "              precision    recall  f1-score   support\n",
            "\n",
            "           0       0.88      0.92      0.90      5636\n",
            "           1       0.70      0.58      0.63      1675\n",
            "\n",
            "    accuracy                           0.85      7311\n",
            "   macro avg       0.79      0.75      0.77      7311\n",
            "weighted avg       0.84      0.85      0.84      7311\n",
            "\n"
          ]
        },
        {
          "output_type": "stream",
          "name": "stderr",
          "text": [
            "/usr/local/lib/python3.8/dist-packages/sklearn/linear_model/_sag.py:352: ConvergenceWarning: The max_iter was reached which means the coef_ did not converge\n",
            "  warnings.warn(\n"
          ]
        }
      ],
      "source": [
        "#Defines a logistic regression classifier\n",
        "lr_clf = LogisticRegression(solver='saga')\n",
        "\n",
        "#Fits the model to the training data\n",
        "lr_clf.fit(cls_train_features, cls_train_labels)\n",
        "#lr_clf.fit(cls_embeddings, labels)\n",
        "\n",
        "#Tests the model using the test data\n",
        "lr_clf.score(cls_test_features, cls_test_labels)\n",
        "#lr_clf.score(dev_cls, dev_labels)\n",
        "\n",
        "print(classification_report(cls_test_labels, lr_clf.predict(cls_test_features)))\n",
        "#print(classification_report(dev_labels, lr_clf.predict(dev_cls)))"
      ]
    },
    {
      "cell_type": "code",
      "source": [
        "rel_labels = []\n",
        "pos_embeddings = []\n",
        "p = lr_clf.predict(cls_test_features)\n",
        "print(len(p))\n",
        "print(len(classes))\n",
        "print(classes)\n",
        "\n",
        "for elt in range(len(p)):\n",
        "  if p[elt] ==1:\n",
        "    pos_embeddings.append(cls_embeddings[elt])\n",
        "    rel_labels.append(classes[elt])\n",
        "\n",
        "cls_train_features, cls_test_features, cls_train_labels, cls_test_labels = train_test_split(pos_embeddings, rel_labels)\n",
        "\n",
        "#Defines a logistic regression classifier\n",
        "lr_clf = LogisticRegression(solver='saga')\n",
        "\n",
        "#Fits the model to the training data\n",
        "lr_clf.fit(cls_train_features, cls_train_labels)\n",
        "\n",
        "#Tests the model using the test data\n",
        "lr_clf.score(cls_test_features, cls_test_labels)\n",
        "\n",
        "print(classification_report(cls_test_labels, lr_clf.predict(cls_test_features)))\n"
      ],
      "metadata": {
        "colab": {
          "base_uri": "https://localhost:8080/",
          "height": 287
        },
        "id": "73wla1qbHTFY",
        "outputId": "88cec4bf-f23e-4bd6-fc7c-a921d3e06258"
      },
      "execution_count": null,
      "outputs": [
        {
          "output_type": "stream",
          "name": "stdout",
          "text": [
            "7311\n",
            "0\n",
            "[]\n"
          ]
        },
        {
          "output_type": "error",
          "ename": "IndexError",
          "evalue": "ignored",
          "traceback": [
            "\u001b[0;31m---------------------------------------------------------------------------\u001b[0m",
            "\u001b[0;31mIndexError\u001b[0m                                Traceback (most recent call last)",
            "\u001b[0;32m<ipython-input-24-91f3fd11af74>\u001b[0m in \u001b[0;36m<module>\u001b[0;34m\u001b[0m\n\u001b[1;32m      9\u001b[0m   \u001b[0;32mif\u001b[0m \u001b[0mp\u001b[0m\u001b[0;34m[\u001b[0m\u001b[0melt\u001b[0m\u001b[0;34m]\u001b[0m \u001b[0;34m==\u001b[0m\u001b[0;36m1\u001b[0m\u001b[0;34m:\u001b[0m\u001b[0;34m\u001b[0m\u001b[0;34m\u001b[0m\u001b[0m\n\u001b[1;32m     10\u001b[0m     \u001b[0mpos_embeddings\u001b[0m\u001b[0;34m.\u001b[0m\u001b[0mappend\u001b[0m\u001b[0;34m(\u001b[0m\u001b[0mcls_embeddings\u001b[0m\u001b[0;34m[\u001b[0m\u001b[0melt\u001b[0m\u001b[0;34m]\u001b[0m\u001b[0;34m)\u001b[0m\u001b[0;34m\u001b[0m\u001b[0;34m\u001b[0m\u001b[0m\n\u001b[0;32m---> 11\u001b[0;31m     \u001b[0mrel_labels\u001b[0m\u001b[0;34m.\u001b[0m\u001b[0mappend\u001b[0m\u001b[0;34m(\u001b[0m\u001b[0mclasses\u001b[0m\u001b[0;34m[\u001b[0m\u001b[0melt\u001b[0m\u001b[0;34m]\u001b[0m\u001b[0;34m)\u001b[0m\u001b[0;34m\u001b[0m\u001b[0;34m\u001b[0m\u001b[0m\n\u001b[0m\u001b[1;32m     12\u001b[0m \u001b[0;34m\u001b[0m\u001b[0m\n\u001b[1;32m     13\u001b[0m \u001b[0mcls_train_features\u001b[0m\u001b[0;34m,\u001b[0m \u001b[0mcls_test_features\u001b[0m\u001b[0;34m,\u001b[0m \u001b[0mcls_train_labels\u001b[0m\u001b[0;34m,\u001b[0m \u001b[0mcls_test_labels\u001b[0m \u001b[0;34m=\u001b[0m \u001b[0mtrain_test_split\u001b[0m\u001b[0;34m(\u001b[0m\u001b[0mpos_embeddings\u001b[0m\u001b[0;34m,\u001b[0m \u001b[0mrel_labels\u001b[0m\u001b[0;34m)\u001b[0m\u001b[0;34m\u001b[0m\u001b[0;34m\u001b[0m\u001b[0m\n",
            "\u001b[0;31mIndexError\u001b[0m: list index out of range"
          ]
        }
      ]
    },
    {
      "cell_type": "code",
      "execution_count": null,
      "metadata": {
        "colab": {
          "base_uri": "https://localhost:8080/",
          "height": 521
        },
        "id": "ssV6P_L1TWOb",
        "outputId": "fe04ff9d-6ab2-4ce6-d431-7805ba490f68"
      },
      "outputs": [
        {
          "output_type": "stream",
          "name": "stderr",
          "text": [
            "/usr/local/lib/python3.8/dist-packages/sklearn/utils/deprecation.py:87: FutureWarning: Function plot_confusion_matrix is deprecated; Function `plot_confusion_matrix` is deprecated in 1.0 and will be removed in 1.2. Use one of the class methods: ConfusionMatrixDisplay.from_predictions or ConfusionMatrixDisplay.from_estimator.\n",
            "  warnings.warn(msg, category=FutureWarning)\n"
          ]
        },
        {
          "output_type": "display_data",
          "data": {
            "text/plain": [
              "<Figure size 576x576 with 2 Axes>"
            ],
            "image/png": "[encoded data removed]"
          },
          "metadata": {
            "needs_background": "light"
          }
        }
      ],
      "source": [
        "fig, ax = plt.subplots(figsize=(8, 8))\n",
        "plot_confusion_matrix(lr_clf, cls_test_features, cls_test_labels, ax=ax)  \n",
        "plt.show()"
      ]
    },
    {
      "cell_type": "markdown",
      "metadata": {
        "id": "5B_gUEuFgxAY"
      },
      "source": [
        "Entity start architecture"
      ]
    },
    {
      "cell_type": "code",
      "execution_count": 32,
      "metadata": {
        "colab": {
          "base_uri": "https://localhost:8080/"
        },
        "id": "7KvwwWbWg5jj",
        "outputId": "809936e3-a9b9-4527-d7d1-4f5944e6b802"
      },
      "outputs": [
        {
          "output_type": "stream",
          "name": "stdout",
          "text": [
            "64685\n"
          ]
        }
      ],
      "source": [
        "ent_labels = [doc['entity_labels'] for doc in docs if 'entity_labels' in doc.keys()]\n",
        "relation_labels = [doc['rel_labels'] for doc in docs if 'rel_labels' in doc.keys()]\n",
        "e = list(itertools.chain.from_iterable(ent_labels))\n",
        "r = list(itertools.chain.from_iterable(relation_labels))\n",
        "print(len(e))\n",
        "start_train_features, start_test_features, start_train_labels, start_test_labels = train_test_split(entity_embeddings, e[:64653])"
      ]
    },
    {
      "cell_type": "code",
      "execution_count": 33,
      "metadata": {
        "colab": {
          "base_uri": "https://localhost:8080/"
        },
        "id": "sbLcGoWghA49",
        "outputId": "ac92e8cb-fb2f-44f1-f3b9-a4e2a23be00b"
      },
      "outputs": [
        {
          "output_type": "stream",
          "name": "stdout",
          "text": [
            "              precision    recall  f1-score   support\n",
            "\n",
            "           0       0.74      0.98      0.84     11881\n",
            "           1       0.42      0.04      0.07      4283\n",
            "\n",
            "    accuracy                           0.73     16164\n",
            "   macro avg       0.58      0.51      0.46     16164\n",
            "weighted avg       0.65      0.73      0.64     16164\n",
            "\n"
          ]
        },
        {
          "output_type": "stream",
          "name": "stderr",
          "text": [
            "/usr/local/lib/python3.8/dist-packages/sklearn/linear_model/_sag.py:352: ConvergenceWarning: The max_iter was reached which means the coef_ did not converge\n",
            "  warnings.warn(\n"
          ]
        }
      ],
      "source": [
        "lr_clf = LogisticRegression(solver='saga')\n",
        "lr_clf.fit(start_train_features, start_train_labels)\n",
        "lr_clf.score(start_test_features, start_test_labels)\n",
        "\n",
        "print(classification_report(start_test_labels, lr_clf.predict(start_test_features)))"
      ]
    },
    {
      "cell_type": "code",
      "execution_count": 34,
      "metadata": {
        "colab": {
          "base_uri": "https://localhost:8080/",
          "height": 521
        },
        "id": "QYkFtFJmUCnq",
        "outputId": "25ce5139-f6e9-451c-a05c-2af3b9328cf8"
      },
      "outputs": [
        {
          "output_type": "stream",
          "name": "stderr",
          "text": [
            "/usr/local/lib/python3.8/dist-packages/sklearn/utils/deprecation.py:87: FutureWarning: Function plot_confusion_matrix is deprecated; Function `plot_confusion_matrix` is deprecated in 1.0 and will be removed in 1.2. Use one of the class methods: ConfusionMatrixDisplay.from_predictions or ConfusionMatrixDisplay.from_estimator.\n",
            "  warnings.warn(msg, category=FutureWarning)\n"
          ]
        },
        {
          "output_type": "display_data",
          "data": {
            "text/plain": [
              "<Figure size 576x576 with 2 Axes>"
            ],
            "image/png": "[encoded data removed]"
          },
          "metadata": {
            "needs_background": "light"
          }
        }
      ],
      "source": [
        "fig, ax = plt.subplots(figsize=(8, 8))\n",
        "plot_confusion_matrix(lr_clf, start_test_features, start_test_labels, ax=ax)  \n",
        "plt.show()"
      ]
    },
    {
      "cell_type": "code",
      "execution_count": 35,
      "metadata": {
        "colab": {
          "base_uri": "https://localhost:8080/"
        },
        "id": "mPoML4ftf6dB",
        "outputId": "996ff8ed-4966-4af0-a82c-09f847590fd5"
      },
      "outputs": [
        {
          "output_type": "stream",
          "name": "stdout",
          "text": [
            "                        precision    recall  f1-score   support\n",
            "\n",
            "             ACTIVATOR       0.00      0.00      0.00         3\n",
            "               AGONIST       0.00      0.00      0.00         2\n",
            "            ANTAGONIST       0.00      0.00      0.00         5\n",
            "      DIRECT-REGULATOR       0.00      0.00      0.00        10\n",
            "INDIRECT-DOWNREGULATOR       0.00      0.00      0.00         2\n",
            "  INDIRECT-UPREGULATOR       0.00      0.00      0.00         1\n",
            "             INHIBITOR       0.33      0.07      0.12        14\n",
            "           NO_RELATION       0.60      0.98      0.75        62\n",
            "               PART-OF       0.00      0.00      0.00         3\n",
            "             SUBSTRATE       0.00      0.00      0.00         3\n",
            "\n",
            "              accuracy                           0.59       105\n",
            "             macro avg       0.09      0.11      0.09       105\n",
            "          weighted avg       0.40      0.59      0.46       105\n",
            "\n"
          ]
        },
        {
          "output_type": "stream",
          "name": "stderr",
          "text": [
            "/usr/local/lib/python3.8/dist-packages/sklearn/linear_model/_sag.py:352: ConvergenceWarning: The max_iter was reached which means the coef_ did not converge\n",
            "  warnings.warn(\n",
            "/usr/local/lib/python3.8/dist-packages/sklearn/metrics/_classification.py:1318: UndefinedMetricWarning: Precision and F-score are ill-defined and being set to 0.0 in labels with no predicted samples. Use `zero_division` parameter to control this behavior.\n",
            "  _warn_prf(average, modifier, msg_start, len(result))\n",
            "/usr/local/lib/python3.8/dist-packages/sklearn/metrics/_classification.py:1318: UndefinedMetricWarning: Precision and F-score are ill-defined and being set to 0.0 in labels with no predicted samples. Use `zero_division` parameter to control this behavior.\n",
            "  _warn_prf(average, modifier, msg_start, len(result))\n",
            "/usr/local/lib/python3.8/dist-packages/sklearn/metrics/_classification.py:1318: UndefinedMetricWarning: Precision and F-score are ill-defined and being set to 0.0 in labels with no predicted samples. Use `zero_division` parameter to control this behavior.\n",
            "  _warn_prf(average, modifier, msg_start, len(result))\n"
          ]
        }
      ],
      "source": [
        "rel_labels = []\n",
        "pos_embeddings = []\n",
        "p = lr_clf.predict(start_test_features)\n",
        "for elt in range(len(p)):\n",
        "  if p[elt] ==1:\n",
        "    pos_embeddings.append(entity_embeddings[elt])\n",
        "    if r[elt] == 0:\n",
        "      rel_labels.append('NO_RELATION')\n",
        "    else:\n",
        "      rel_labels.append(r[elt])\n",
        "\n",
        "start_train_features, start_test_features, start_train_labels, start_test_labels = train_test_split(pos_embeddings, rel_labels)\n",
        "\n",
        "#Defines a logistic regression classifier\n",
        "lr_clf = LogisticRegression(solver='saga')\n",
        "\n",
        "#Fits the model to the training data\n",
        "lr_clf.fit(start_train_features, start_train_labels)\n",
        "\n",
        "#Tests the model using the test data\n",
        "lr_clf.score(start_test_features, start_test_labels)\n",
        "\n",
        "print(classification_report(start_test_labels, lr_clf.predict(start_test_features)))"
      ]
    },
    {
      "cell_type": "code",
      "execution_count": 36,
      "metadata": {
        "colab": {
          "base_uri": "https://localhost:8080/",
          "height": 527
        },
        "id": "3KcilWNKf-x_",
        "outputId": "83751d29-7088-4a94-ba24-fc5e22556d84"
      },
      "outputs": [
        {
          "output_type": "stream",
          "name": "stderr",
          "text": [
            "/usr/local/lib/python3.8/dist-packages/sklearn/utils/deprecation.py:87: FutureWarning: Function plot_confusion_matrix is deprecated; Function `plot_confusion_matrix` is deprecated in 1.0 and will be removed in 1.2. Use one of the class methods: ConfusionMatrixDisplay.from_predictions or ConfusionMatrixDisplay.from_estimator.\n",
            "  warnings.warn(msg, category=FutureWarning)\n"
          ]
        },
        {
          "output_type": "display_data",
          "data": {
            "text/plain": [
              "<Figure size 576x576 with 2 Axes>"
            ],
            "image/png": "[encoded data removed]"
          },
          "metadata": {
            "needs_background": "light"
          }
        }
      ],
      "source": [
        "fig, ax = plt.subplots(figsize=(8, 8))\n",
        "plot_confusion_matrix(lr_clf, start_test_features, start_test_labels, ax=ax)  \n",
        "plt.show()"
      ]
    },
    {
      "cell_type": "code",
      "source": [],
      "metadata": {
        "id": "3tpzsLqFEkf6"
      },
      "execution_count": null,
      "outputs": []
    }
  ],
  "metadata": {
    "colab": {
      "provenance": [],
      "authorship_tag": "ABX9TyPPiS6C4IlbIHJs7iN7rBls",
      "include_colab_link": true
    },
    "kernelspec": {
      "display_name": "Python 3",
      "name": "python3"
    },
    "language_info": {
      "name": "python"
    }
  },
  "nbformat": 4,
  "nbformat_minor": 0
}