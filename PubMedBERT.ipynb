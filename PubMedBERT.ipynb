{
  "nbformat": 4,
  "nbformat_minor": 0,
  "metadata": {
    "colab": {
      "provenance": [],
      "authorship_tag": "ABX9TyOiZ4QZa3XLXAM9dcnrfQfs",
      "include_colab_link": true
    },
    "kernelspec": {
      "name": "python3",
      "display_name": "Python 3"
    },
    "language_info": {
      "name": "python"
    },
    "widgets": {
      "application/vnd.jupyter.widget-state+json": {
        "a12194fc2c124a069f32bda3ae3dc0fb": {
          "model_module": "@jupyter-widgets/controls",
          "model_name": "HBoxModel",
          "model_module_version": "1.5.0",
          "state": {
            "_dom_classes": [],
            "_model_module": "@jupyter-widgets/controls",
            "_model_module_version": "1.5.0",
            "_model_name": "HBoxModel",
            "_view_count": null,
            "_view_module": "@jupyter-widgets/controls",
            "_view_module_version": "1.5.0",
            "_view_name": "HBoxView",
            "box_style": "",
            "children": [
              "IPY_MODEL_a077ee2471404aa1b83e40f89256386b",
              "IPY_MODEL_5b5317d901424d3e9df4c4b4342b393b",
              "IPY_MODEL_64ba49b289aa4671888647f70d4f6418"
            ],
            "layout": "IPY_MODEL_5f8c84edd2ef48c6ba2c2a3ce7680088"
          }
        },
        "a077ee2471404aa1b83e40f89256386b": {
          "model_module": "@jupyter-widgets/controls",
          "model_name": "HTMLModel",
          "model_module_version": "1.5.0",
          "state": {
            "_dom_classes": [],
            "_model_module": "@jupyter-widgets/controls",
            "_model_module_version": "1.5.0",
            "_model_name": "HTMLModel",
            "_view_count": null,
            "_view_module": "@jupyter-widgets/controls",
            "_view_module_version": "1.5.0",
            "_view_name": "HTMLView",
            "description": "",
            "description_tooltip": null,
            "layout": "IPY_MODEL_9c14798f54df4f0b8e2ed1812acd8571",
            "placeholder": "​",
            "style": "IPY_MODEL_825ab0db1a4541848d32c7e08f77250c",
            "value": "Downloading: 100%"
          }
        },
        "5b5317d901424d3e9df4c4b4342b393b": {
          "model_module": "@jupyter-widgets/controls",
          "model_name": "FloatProgressModel",
          "model_module_version": "1.5.0",
          "state": {
            "_dom_classes": [],
            "_model_module": "@jupyter-widgets/controls",
            "_model_module_version": "1.5.0",
            "_model_name": "FloatProgressModel",
            "_view_count": null,
            "_view_module": "@jupyter-widgets/controls",
            "_view_module_version": "1.5.0",
            "_view_name": "ProgressView",
            "bar_style": "success",
            "description": "",
            "description_tooltip": null,
            "layout": "IPY_MODEL_fbadf26bcf59437097f39e1d6a7e6c8c",
            "max": 385,
            "min": 0,
            "orientation": "horizontal",
            "style": "IPY_MODEL_41d3baa86cc64c138e5cab09093192ce",
            "value": 385
          }
        },
        "64ba49b289aa4671888647f70d4f6418": {
          "model_module": "@jupyter-widgets/controls",
          "model_name": "HTMLModel",
          "model_module_version": "1.5.0",
          "state": {
            "_dom_classes": [],
            "_model_module": "@jupyter-widgets/controls",
            "_model_module_version": "1.5.0",
            "_model_name": "HTMLModel",
            "_view_count": null,
            "_view_module": "@jupyter-widgets/controls",
            "_view_module_version": "1.5.0",
            "_view_name": "HTMLView",
            "description": "",
            "description_tooltip": null,
            "layout": "IPY_MODEL_41ee2bcfbec944bd99c6334f31290206",
            "placeholder": "​",
            "style": "IPY_MODEL_ac5ac4d5527244739578ebd108859d10",
            "value": " 385/385 [00:00&lt;00:00, 8.71kB/s]"
          }
        },
        "5f8c84edd2ef48c6ba2c2a3ce7680088": {
          "model_module": "@jupyter-widgets/base",
          "model_name": "LayoutModel",
          "model_module_version": "1.2.0",
          "state": {
            "_model_module": "@jupyter-widgets/base",
            "_model_module_version": "1.2.0",
            "_model_name": "LayoutModel",
            "_view_count": null,
            "_view_module": "@jupyter-widgets/base",
            "_view_module_version": "1.2.0",
            "_view_name": "LayoutView",
            "align_content": null,
            "align_items": null,
            "align_self": null,
            "border": null,
            "bottom": null,
            "display": null,
            "flex": null,
            "flex_flow": null,
            "grid_area": null,
            "grid_auto_columns": null,
            "grid_auto_flow": null,
            "grid_auto_rows": null,
            "grid_column": null,
            "grid_gap": null,
            "grid_row": null,
            "grid_template_areas": null,
            "grid_template_columns": null,
            "grid_template_rows": null,
            "height": null,
            "justify_content": null,
            "justify_items": null,
            "left": null,
            "margin": null,
            "max_height": null,
            "max_width": null,
            "min_height": null,
            "min_width": null,
            "object_fit": null,
            "object_position": null,
            "order": null,
            "overflow": null,
            "overflow_x": null,
            "overflow_y": null,
            "padding": null,
            "right": null,
            "top": null,
            "visibility": null,
            "width": null
          }
        },
        "9c14798f54df4f0b8e2ed1812acd8571": {
          "model_module": "@jupyter-widgets/base",
          "model_name": "LayoutModel",
          "model_module_version": "1.2.0",
          "state": {
            "_model_module": "@jupyter-widgets/base",
            "_model_module_version": "1.2.0",
            "_model_name": "LayoutModel",
            "_view_count": null,
            "_view_module": "@jupyter-widgets/base",
            "_view_module_version": "1.2.0",
            "_view_name": "LayoutView",
            "align_content": null,
            "align_items": null,
            "align_self": null,
            "border": null,
            "bottom": null,
            "display": null,
            "flex": null,
            "flex_flow": null,
            "grid_area": null,
            "grid_auto_columns": null,
            "grid_auto_flow": null,
            "grid_auto_rows": null,
            "grid_column": null,
            "grid_gap": null,
            "grid_row": null,
            "grid_template_areas": null,
            "grid_template_columns": null,
            "grid_template_rows": null,
            "height": null,
            "justify_content": null,
            "justify_items": null,
            "left": null,
            "margin": null,
            "max_height": null,
            "max_width": null,
            "min_height": null,
            "min_width": null,
            "object_fit": null,
            "object_position": null,
            "order": null,
            "overflow": null,
            "overflow_x": null,
            "overflow_y": null,
            "padding": null,
            "right": null,
            "top": null,
            "visibility": null,
            "width": null
          }
        },
        "825ab0db1a4541848d32c7e08f77250c": {
          "model_module": "@jupyter-widgets/controls",
          "model_name": "DescriptionStyleModel",
          "model_module_version": "1.5.0",
          "state": {
            "_model_module": "@jupyter-widgets/controls",
            "_model_module_version": "1.5.0",
            "_model_name": "DescriptionStyleModel",
            "_view_count": null,
            "_view_module": "@jupyter-widgets/base",
            "_view_module_version": "1.2.0",
            "_view_name": "StyleView",
            "description_width": ""
          }
        },
        "fbadf26bcf59437097f39e1d6a7e6c8c": {
          "model_module": "@jupyter-widgets/base",
          "model_name": "LayoutModel",
          "model_module_version": "1.2.0",
          "state": {
            "_model_module": "@jupyter-widgets/base",
            "_model_module_version": "1.2.0",
            "_model_name": "LayoutModel",
            "_view_count": null,
            "_view_module": "@jupyter-widgets/base",
            "_view_module_version": "1.2.0",
            "_view_name": "LayoutView",
            "align_content": null,
            "align_items": null,
            "align_self": null,
            "border": null,
            "bottom": null,
            "display": null,
            "flex": null,
            "flex_flow": null,
            "grid_area": null,
            "grid_auto_columns": null,
            "grid_auto_flow": null,
            "grid_auto_rows": null,
            "grid_column": null,
            "grid_gap": null,
            "grid_row": null,
            "grid_template_areas": null,
            "grid_template_columns": null,
            "grid_template_rows": null,
            "height": null,
            "justify_content": null,
            "justify_items": null,
            "left": null,
            "margin": null,
            "max_height": null,
            "max_width": null,
            "min_height": null,
            "min_width": null,
            "object_fit": null,
            "object_position": null,
            "order": null,
            "overflow": null,
            "overflow_x": null,
            "overflow_y": null,
            "padding": null,
            "right": null,
            "top": null,
            "visibility": null,
            "width": null
          }
        },
        "41d3baa86cc64c138e5cab09093192ce": {
          "model_module": "@jupyter-widgets/controls",
          "model_name": "ProgressStyleModel",
          "model_module_version": "1.5.0",
          "state": {
            "_model_module": "@jupyter-widgets/controls",
            "_model_module_version": "1.5.0",
            "_model_name": "ProgressStyleModel",
            "_view_count": null,
            "_view_module": "@jupyter-widgets/base",
            "_view_module_version": "1.2.0",
            "_view_name": "StyleView",
            "bar_color": null,
            "description_width": ""
          }
        },
        "41ee2bcfbec944bd99c6334f31290206": {
          "model_module": "@jupyter-widgets/base",
          "model_name": "LayoutModel",
          "model_module_version": "1.2.0",
          "state": {
            "_model_module": "@jupyter-widgets/base",
            "_model_module_version": "1.2.0",
            "_model_name": "LayoutModel",
            "_view_count": null,
            "_view_module": "@jupyter-widgets/base",
            "_view_module_version": "1.2.0",
            "_view_name": "LayoutView",
            "align_content": null,
            "align_items": null,
            "align_self": null,
            "border": null,
            "bottom": null,
            "display": null,
            "flex": null,
            "flex_flow": null,
            "grid_area": null,
            "grid_auto_columns": null,
            "grid_auto_flow": null,
            "grid_auto_rows": null,
            "grid_column": null,
            "grid_gap": null,
            "grid_row": null,
            "grid_template_areas": null,
            "grid_template_columns": null,
            "grid_template_rows": null,
            "height": null,
            "justify_content": null,
            "justify_items": null,
            "left": null,
            "margin": null,
            "max_height": null,
            "max_width": null,
            "min_height": null,
            "min_width": null,
            "object_fit": null,
            "object_position": null,
            "order": null,
            "overflow": null,
            "overflow_x": null,
            "overflow_y": null,
            "padding": null,
            "right": null,
            "top": null,
            "visibility": null,
            "width": null
          }
        },
        "ac5ac4d5527244739578ebd108859d10": {
          "model_module": "@jupyter-widgets/controls",
          "model_name": "DescriptionStyleModel",
          "model_module_version": "1.5.0",
          "state": {
            "_model_module": "@jupyter-widgets/controls",
            "_model_module_version": "1.5.0",
            "_model_name": "DescriptionStyleModel",
            "_view_count": null,
            "_view_module": "@jupyter-widgets/base",
            "_view_module_version": "1.2.0",
            "_view_name": "StyleView",
            "description_width": ""
          }
        },
        "f64957ee2c0d4e668f4a835e434b97fe": {
          "model_module": "@jupyter-widgets/controls",
          "model_name": "HBoxModel",
          "model_module_version": "1.5.0",
          "state": {
            "_dom_classes": [],
            "_model_module": "@jupyter-widgets/controls",
            "_model_module_version": "1.5.0",
            "_model_name": "HBoxModel",
            "_view_count": null,
            "_view_module": "@jupyter-widgets/controls",
            "_view_module_version": "1.5.0",
            "_view_name": "HBoxView",
            "box_style": "",
            "children": [
              "IPY_MODEL_da3a833140694e938435090187f31c1c",
              "IPY_MODEL_2e48e0eb2d3040a188fe2ce6f048ea82",
              "IPY_MODEL_45cd3bfcfcb04207b31bc8c44a6d6485"
            ],
            "layout": "IPY_MODEL_d2658d31802e4c1c9b2c8542dd0e9ded"
          }
        },
        "da3a833140694e938435090187f31c1c": {
          "model_module": "@jupyter-widgets/controls",
          "model_name": "HTMLModel",
          "model_module_version": "1.5.0",
          "state": {
            "_dom_classes": [],
            "_model_module": "@jupyter-widgets/controls",
            "_model_module_version": "1.5.0",
            "_model_name": "HTMLModel",
            "_view_count": null,
            "_view_module": "@jupyter-widgets/controls",
            "_view_module_version": "1.5.0",
            "_view_name": "HTMLView",
            "description": "",
            "description_tooltip": null,
            "layout": "IPY_MODEL_abb07f0580494627841673f74b8f925c",
            "placeholder": "​",
            "style": "IPY_MODEL_8bca143f9fe245d6a982363797345c51",
            "value": "Downloading: 100%"
          }
        },
        "2e48e0eb2d3040a188fe2ce6f048ea82": {
          "model_module": "@jupyter-widgets/controls",
          "model_name": "FloatProgressModel",
          "model_module_version": "1.5.0",
          "state": {
            "_dom_classes": [],
            "_model_module": "@jupyter-widgets/controls",
            "_model_module_version": "1.5.0",
            "_model_name": "FloatProgressModel",
            "_view_count": null,
            "_view_module": "@jupyter-widgets/controls",
            "_view_module_version": "1.5.0",
            "_view_name": "ProgressView",
            "bar_style": "success",
            "description": "",
            "description_tooltip": null,
            "layout": "IPY_MODEL_11af6ff401a542e0a4e567490c3c236d",
            "max": 440474434,
            "min": 0,
            "orientation": "horizontal",
            "style": "IPY_MODEL_e7215e41101842b89f3a9b660bf6f0f8",
            "value": 440474434
          }
        },
        "45cd3bfcfcb04207b31bc8c44a6d6485": {
          "model_module": "@jupyter-widgets/controls",
          "model_name": "HTMLModel",
          "model_module_version": "1.5.0",
          "state": {
            "_dom_classes": [],
            "_model_module": "@jupyter-widgets/controls",
            "_model_module_version": "1.5.0",
            "_model_name": "HTMLModel",
            "_view_count": null,
            "_view_module": "@jupyter-widgets/controls",
            "_view_module_version": "1.5.0",
            "_view_name": "HTMLView",
            "description": "",
            "description_tooltip": null,
            "layout": "IPY_MODEL_8a625da3649542679f438d73e0a8a6d8",
            "placeholder": "​",
            "style": "IPY_MODEL_03f65d9e8a234076ae877b9a0e8f6e36",
            "value": " 440M/440M [00:13&lt;00:00, 42.2MB/s]"
          }
        },
        "d2658d31802e4c1c9b2c8542dd0e9ded": {
          "model_module": "@jupyter-widgets/base",
          "model_name": "LayoutModel",
          "model_module_version": "1.2.0",
          "state": {
            "_model_module": "@jupyter-widgets/base",
            "_model_module_version": "1.2.0",
            "_model_name": "LayoutModel",
            "_view_count": null,
            "_view_module": "@jupyter-widgets/base",
            "_view_module_version": "1.2.0",
            "_view_name": "LayoutView",
            "align_content": null,
            "align_items": null,
            "align_self": null,
            "border": null,
            "bottom": null,
            "display": null,
            "flex": null,
            "flex_flow": null,
            "grid_area": null,
            "grid_auto_columns": null,
            "grid_auto_flow": null,
            "grid_auto_rows": null,
            "grid_column": null,
            "grid_gap": null,
            "grid_row": null,
            "grid_template_areas": null,
            "grid_template_columns": null,
            "grid_template_rows": null,
            "height": null,
            "justify_content": null,
            "justify_items": null,
            "left": null,
            "margin": null,
            "max_height": null,
            "max_width": null,
            "min_height": null,
            "min_width": null,
            "object_fit": null,
            "object_position": null,
            "order": null,
            "overflow": null,
            "overflow_x": null,
            "overflow_y": null,
            "padding": null,
            "right": null,
            "top": null,
            "visibility": null,
            "width": null
          }
        },
        "abb07f0580494627841673f74b8f925c": {
          "model_module": "@jupyter-widgets/base",
          "model_name": "LayoutModel",
          "model_module_version": "1.2.0",
          "state": {
            "_model_module": "@jupyter-widgets/base",
            "_model_module_version": "1.2.0",
            "_model_name": "LayoutModel",
            "_view_count": null,
            "_view_module": "@jupyter-widgets/base",
            "_view_module_version": "1.2.0",
            "_view_name": "LayoutView",
            "align_content": null,
            "align_items": null,
            "align_self": null,
            "border": null,
            "bottom": null,
            "display": null,
            "flex": null,
            "flex_flow": null,
            "grid_area": null,
            "grid_auto_columns": null,
            "grid_auto_flow": null,
            "grid_auto_rows": null,
            "grid_column": null,
            "grid_gap": null,
            "grid_row": null,
            "grid_template_areas": null,
            "grid_template_columns": null,
            "grid_template_rows": null,
            "height": null,
            "justify_content": null,
            "justify_items": null,
            "left": null,
            "margin": null,
            "max_height": null,
            "max_width": null,
            "min_height": null,
            "min_width": null,
            "object_fit": null,
            "object_position": null,
            "order": null,
            "overflow": null,
            "overflow_x": null,
            "overflow_y": null,
            "padding": null,
            "right": null,
            "top": null,
            "visibility": null,
            "width": null
          }
        },
        "8bca143f9fe245d6a982363797345c51": {
          "model_module": "@jupyter-widgets/controls",
          "model_name": "DescriptionStyleModel",
          "model_module_version": "1.5.0",
          "state": {
            "_model_module": "@jupyter-widgets/controls",
            "_model_module_version": "1.5.0",
            "_model_name": "DescriptionStyleModel",
            "_view_count": null,
            "_view_module": "@jupyter-widgets/base",
            "_view_module_version": "1.2.0",
            "_view_name": "StyleView",
            "description_width": ""
          }
        },
        "11af6ff401a542e0a4e567490c3c236d": {
          "model_module": "@jupyter-widgets/base",
          "model_name": "LayoutModel",
          "model_module_version": "1.2.0",
          "state": {
            "_model_module": "@jupyter-widgets/base",
            "_model_module_version": "1.2.0",
            "_model_name": "LayoutModel",
            "_view_count": null,
            "_view_module": "@jupyter-widgets/base",
            "_view_module_version": "1.2.0",
            "_view_name": "LayoutView",
            "align_content": null,
            "align_items": null,
            "align_self": null,
            "border": null,
            "bottom": null,
            "display": null,
            "flex": null,
            "flex_flow": null,
            "grid_area": null,
            "grid_auto_columns": null,
            "grid_auto_flow": null,
            "grid_auto_rows": null,
            "grid_column": null,
            "grid_gap": null,
            "grid_row": null,
            "grid_template_areas": null,
            "grid_template_columns": null,
            "grid_template_rows": null,
            "height": null,
            "justify_content": null,
            "justify_items": null,
            "left": null,
            "margin": null,
            "max_height": null,
            "max_width": null,
            "min_height": null,
            "min_width": null,
            "object_fit": null,
            "object_position": null,
            "order": null,
            "overflow": null,
            "overflow_x": null,
            "overflow_y": null,
            "padding": null,
            "right": null,
            "top": null,
            "visibility": null,
            "width": null
          }
        },
        "e7215e41101842b89f3a9b660bf6f0f8": {
          "model_module": "@jupyter-widgets/controls",
          "model_name": "ProgressStyleModel",
          "model_module_version": "1.5.0",
          "state": {
            "_model_module": "@jupyter-widgets/controls",
            "_model_module_version": "1.5.0",
            "_model_name": "ProgressStyleModel",
            "_view_count": null,
            "_view_module": "@jupyter-widgets/base",
            "_view_module_version": "1.2.0",
            "_view_name": "StyleView",
            "bar_color": null,
            "description_width": ""
          }
        },
        "8a625da3649542679f438d73e0a8a6d8": {
          "model_module": "@jupyter-widgets/base",
          "model_name": "LayoutModel",
          "model_module_version": "1.2.0",
          "state": {
            "_model_module": "@jupyter-widgets/base",
            "_model_module_version": "1.2.0",
            "_model_name": "LayoutModel",
            "_view_count": null,
            "_view_module": "@jupyter-widgets/base",
            "_view_module_version": "1.2.0",
            "_view_name": "LayoutView",
            "align_content": null,
            "align_items": null,
            "align_self": null,
            "border": null,
            "bottom": null,
            "display": null,
            "flex": null,
            "flex_flow": null,
            "grid_area": null,
            "grid_auto_columns": null,
            "grid_auto_flow": null,
            "grid_auto_rows": null,
            "grid_column": null,
            "grid_gap": null,
            "grid_row": null,
            "grid_template_areas": null,
            "grid_template_columns": null,
            "grid_template_rows": null,
            "height": null,
            "justify_content": null,
            "justify_items": null,
            "left": null,
            "margin": null,
            "max_height": null,
            "max_width": null,
            "min_height": null,
            "min_width": null,
            "object_fit": null,
            "object_position": null,
            "order": null,
            "overflow": null,
            "overflow_x": null,
            "overflow_y": null,
            "padding": null,
            "right": null,
            "top": null,
            "visibility": null,
            "width": null
          }
        },
        "03f65d9e8a234076ae877b9a0e8f6e36": {
          "model_module": "@jupyter-widgets/controls",
          "model_name": "DescriptionStyleModel",
          "model_module_version": "1.5.0",
          "state": {
            "_model_module": "@jupyter-widgets/controls",
            "_model_module_version": "1.5.0",
            "_model_name": "DescriptionStyleModel",
            "_view_count": null,
            "_view_module": "@jupyter-widgets/base",
            "_view_module_version": "1.2.0",
            "_view_name": "StyleView",
            "description_width": ""
          }
        },
        "461b42628efd411cb4bbb72f13859990": {
          "model_module": "@jupyter-widgets/controls",
          "model_name": "HBoxModel",
          "model_module_version": "1.5.0",
          "state": {
            "_dom_classes": [],
            "_model_module": "@jupyter-widgets/controls",
            "_model_module_version": "1.5.0",
            "_model_name": "HBoxModel",
            "_view_count": null,
            "_view_module": "@jupyter-widgets/controls",
            "_view_module_version": "1.5.0",
            "_view_name": "HBoxView",
            "box_style": "",
            "children": [
              "IPY_MODEL_b91355a051f345e488a0b316c3e41f4a",
              "IPY_MODEL_d84a6ca950b64f18b7bd5f6d0d5cc8cc",
              "IPY_MODEL_5b4dca68da7a42759a708b32d10dc6c8"
            ],
            "layout": "IPY_MODEL_6332e72526a1434caa43be12e6f38ed7"
          }
        },
        "b91355a051f345e488a0b316c3e41f4a": {
          "model_module": "@jupyter-widgets/controls",
          "model_name": "HTMLModel",
          "model_module_version": "1.5.0",
          "state": {
            "_dom_classes": [],
            "_model_module": "@jupyter-widgets/controls",
            "_model_module_version": "1.5.0",
            "_model_name": "HTMLModel",
            "_view_count": null,
            "_view_module": "@jupyter-widgets/controls",
            "_view_module_version": "1.5.0",
            "_view_name": "HTMLView",
            "description": "",
            "description_tooltip": null,
            "layout": "IPY_MODEL_a8157e8b6b5743579b4e73ce8d9c6791",
            "placeholder": "​",
            "style": "IPY_MODEL_a6544d8410ae480895af4fe940e7e775",
            "value": "Downloading: 100%"
          }
        },
        "d84a6ca950b64f18b7bd5f6d0d5cc8cc": {
          "model_module": "@jupyter-widgets/controls",
          "model_name": "FloatProgressModel",
          "model_module_version": "1.5.0",
          "state": {
            "_dom_classes": [],
            "_model_module": "@jupyter-widgets/controls",
            "_model_module_version": "1.5.0",
            "_model_name": "FloatProgressModel",
            "_view_count": null,
            "_view_module": "@jupyter-widgets/controls",
            "_view_module_version": "1.5.0",
            "_view_name": "ProgressView",
            "bar_style": "success",
            "description": "",
            "description_tooltip": null,
            "layout": "IPY_MODEL_397090ad8fa647e28cd72f985579cbd0",
            "max": 28,
            "min": 0,
            "orientation": "horizontal",
            "style": "IPY_MODEL_c53b8f1c5a8d49e7af199ec8682abd9a",
            "value": 28
          }
        },
        "5b4dca68da7a42759a708b32d10dc6c8": {
          "model_module": "@jupyter-widgets/controls",
          "model_name": "HTMLModel",
          "model_module_version": "1.5.0",
          "state": {
            "_dom_classes": [],
            "_model_module": "@jupyter-widgets/controls",
            "_model_module_version": "1.5.0",
            "_model_name": "HTMLModel",
            "_view_count": null,
            "_view_module": "@jupyter-widgets/controls",
            "_view_module_version": "1.5.0",
            "_view_name": "HTMLView",
            "description": "",
            "description_tooltip": null,
            "layout": "IPY_MODEL_a2f1734f2b9e4c2580f0dd609f616dcb",
            "placeholder": "​",
            "style": "IPY_MODEL_5799c1cb05314ac093361d17d3c879d0",
            "value": " 28.0/28.0 [00:00&lt;00:00, 600B/s]"
          }
        },
        "6332e72526a1434caa43be12e6f38ed7": {
          "model_module": "@jupyter-widgets/base",
          "model_name": "LayoutModel",
          "model_module_version": "1.2.0",
          "state": {
            "_model_module": "@jupyter-widgets/base",
            "_model_module_version": "1.2.0",
            "_model_name": "LayoutModel",
            "_view_count": null,
            "_view_module": "@jupyter-widgets/base",
            "_view_module_version": "1.2.0",
            "_view_name": "LayoutView",
            "align_content": null,
            "align_items": null,
            "align_self": null,
            "border": null,
            "bottom": null,
            "display": null,
            "flex": null,
            "flex_flow": null,
            "grid_area": null,
            "grid_auto_columns": null,
            "grid_auto_flow": null,
            "grid_auto_rows": null,
            "grid_column": null,
            "grid_gap": null,
            "grid_row": null,
            "grid_template_areas": null,
            "grid_template_columns": null,
            "grid_template_rows": null,
            "height": null,
            "justify_content": null,
            "justify_items": null,
            "left": null,
            "margin": null,
            "max_height": null,
            "max_width": null,
            "min_height": null,
            "min_width": null,
            "object_fit": null,
            "object_position": null,
            "order": null,
            "overflow": null,
            "overflow_x": null,
            "overflow_y": null,
            "padding": null,
            "right": null,
            "top": null,
            "visibility": null,
            "width": null
          }
        },
        "a8157e8b6b5743579b4e73ce8d9c6791": {
          "model_module": "@jupyter-widgets/base",
          "model_name": "LayoutModel",
          "model_module_version": "1.2.0",
          "state": {
            "_model_module": "@jupyter-widgets/base",
            "_model_module_version": "1.2.0",
            "_model_name": "LayoutModel",
            "_view_count": null,
            "_view_module": "@jupyter-widgets/base",
            "_view_module_version": "1.2.0",
            "_view_name": "LayoutView",
            "align_content": null,
            "align_items": null,
            "align_self": null,
            "border": null,
            "bottom": null,
            "display": null,
            "flex": null,
            "flex_flow": null,
            "grid_area": null,
            "grid_auto_columns": null,
            "grid_auto_flow": null,
            "grid_auto_rows": null,
            "grid_column": null,
            "grid_gap": null,
            "grid_row": null,
            "grid_template_areas": null,
            "grid_template_columns": null,
            "grid_template_rows": null,
            "height": null,
            "justify_content": null,
            "justify_items": null,
            "left": null,
            "margin": null,
            "max_height": null,
            "max_width": null,
            "min_height": null,
            "min_width": null,
            "object_fit": null,
            "object_position": null,
            "order": null,
            "overflow": null,
            "overflow_x": null,
            "overflow_y": null,
            "padding": null,
            "right": null,
            "top": null,
            "visibility": null,
            "width": null
          }
        },
        "a6544d8410ae480895af4fe940e7e775": {
          "model_module": "@jupyter-widgets/controls",
          "model_name": "DescriptionStyleModel",
          "model_module_version": "1.5.0",
          "state": {
            "_model_module": "@jupyter-widgets/controls",
            "_model_module_version": "1.5.0",
            "_model_name": "DescriptionStyleModel",
            "_view_count": null,
            "_view_module": "@jupyter-widgets/base",
            "_view_module_version": "1.2.0",
            "_view_name": "StyleView",
            "description_width": ""
          }
        },
        "397090ad8fa647e28cd72f985579cbd0": {
          "model_module": "@jupyter-widgets/base",
          "model_name": "LayoutModel",
          "model_module_version": "1.2.0",
          "state": {
            "_model_module": "@jupyter-widgets/base",
            "_model_module_version": "1.2.0",
            "_model_name": "LayoutModel",
            "_view_count": null,
            "_view_module": "@jupyter-widgets/base",
            "_view_module_version": "1.2.0",
            "_view_name": "LayoutView",
            "align_content": null,
            "align_items": null,
            "align_self": null,
            "border": null,
            "bottom": null,
            "display": null,
            "flex": null,
            "flex_flow": null,
            "grid_area": null,
            "grid_auto_columns": null,
            "grid_auto_flow": null,
            "grid_auto_rows": null,
            "grid_column": null,
            "grid_gap": null,
            "grid_row": null,
            "grid_template_areas": null,
            "grid_template_columns": null,
            "grid_template_rows": null,
            "height": null,
            "justify_content": null,
            "justify_items": null,
            "left": null,
            "margin": null,
            "max_height": null,
            "max_width": null,
            "min_height": null,
            "min_width": null,
            "object_fit": null,
            "object_position": null,
            "order": null,
            "overflow": null,
            "overflow_x": null,
            "overflow_y": null,
            "padding": null,
            "right": null,
            "top": null,
            "visibility": null,
            "width": null
          }
        },
        "c53b8f1c5a8d49e7af199ec8682abd9a": {
          "model_module": "@jupyter-widgets/controls",
          "model_name": "ProgressStyleModel",
          "model_module_version": "1.5.0",
          "state": {
            "_model_module": "@jupyter-widgets/controls",
            "_model_module_version": "1.5.0",
            "_model_name": "ProgressStyleModel",
            "_view_count": null,
            "_view_module": "@jupyter-widgets/base",
            "_view_module_version": "1.2.0",
            "_view_name": "StyleView",
            "bar_color": null,
            "description_width": ""
          }
        },
        "a2f1734f2b9e4c2580f0dd609f616dcb": {
          "model_module": "@jupyter-widgets/base",
          "model_name": "LayoutModel",
          "model_module_version": "1.2.0",
          "state": {
            "_model_module": "@jupyter-widgets/base",
            "_model_module_version": "1.2.0",
            "_model_name": "LayoutModel",
            "_view_count": null,
            "_view_module": "@jupyter-widgets/base",
            "_view_module_version": "1.2.0",
            "_view_name": "LayoutView",
            "align_content": null,
            "align_items": null,
            "align_self": null,
            "border": null,
            "bottom": null,
            "display": null,
            "flex": null,
            "flex_flow": null,
            "grid_area": null,
            "grid_auto_columns": null,
            "grid_auto_flow": null,
            "grid_auto_rows": null,
            "grid_column": null,
            "grid_gap": null,
            "grid_row": null,
            "grid_template_areas": null,
            "grid_template_columns": null,
            "grid_template_rows": null,
            "height": null,
            "justify_content": null,
            "justify_items": null,
            "left": null,
            "margin": null,
            "max_height": null,
            "max_width": null,
            "min_height": null,
            "min_width": null,
            "object_fit": null,
            "object_position": null,
            "order": null,
            "overflow": null,
            "overflow_x": null,
            "overflow_y": null,
            "padding": null,
            "right": null,
            "top": null,
            "visibility": null,
            "width": null
          }
        },
        "5799c1cb05314ac093361d17d3c879d0": {
          "model_module": "@jupyter-widgets/controls",
          "model_name": "DescriptionStyleModel",
          "model_module_version": "1.5.0",
          "state": {
            "_model_module": "@jupyter-widgets/controls",
            "_model_module_version": "1.5.0",
            "_model_name": "DescriptionStyleModel",
            "_view_count": null,
            "_view_module": "@jupyter-widgets/base",
            "_view_module_version": "1.2.0",
            "_view_name": "StyleView",
            "description_width": ""
          }
        },
        "a7994151e16549daa8acd11b5167ef8d": {
          "model_module": "@jupyter-widgets/controls",
          "model_name": "HBoxModel",
          "model_module_version": "1.5.0",
          "state": {
            "_dom_classes": [],
            "_model_module": "@jupyter-widgets/controls",
            "_model_module_version": "1.5.0",
            "_model_name": "HBoxModel",
            "_view_count": null,
            "_view_module": "@jupyter-widgets/controls",
            "_view_module_version": "1.5.0",
            "_view_name": "HBoxView",
            "box_style": "",
            "children": [
              "IPY_MODEL_35250fc5fa084b4e974f6a2946236eda",
              "IPY_MODEL_b6d03d2506334f579dd004be31c6a646",
              "IPY_MODEL_82f6bf813ccf4fd7bf6718c2fabc18a7"
            ],
            "layout": "IPY_MODEL_20877b97bb474129b5b399174eb4a2d4"
          }
        },
        "35250fc5fa084b4e974f6a2946236eda": {
          "model_module": "@jupyter-widgets/controls",
          "model_name": "HTMLModel",
          "model_module_version": "1.5.0",
          "state": {
            "_dom_classes": [],
            "_model_module": "@jupyter-widgets/controls",
            "_model_module_version": "1.5.0",
            "_model_name": "HTMLModel",
            "_view_count": null,
            "_view_module": "@jupyter-widgets/controls",
            "_view_module_version": "1.5.0",
            "_view_name": "HTMLView",
            "description": "",
            "description_tooltip": null,
            "layout": "IPY_MODEL_8d037ff4cd6e433da5e5019f7c1641c3",
            "placeholder": "​",
            "style": "IPY_MODEL_3e8c93cf3ea244498994a0749d9886a9",
            "value": "Downloading: 100%"
          }
        },
        "b6d03d2506334f579dd004be31c6a646": {
          "model_module": "@jupyter-widgets/controls",
          "model_name": "FloatProgressModel",
          "model_module_version": "1.5.0",
          "state": {
            "_dom_classes": [],
            "_model_module": "@jupyter-widgets/controls",
            "_model_module_version": "1.5.0",
            "_model_name": "FloatProgressModel",
            "_view_count": null,
            "_view_module": "@jupyter-widgets/controls",
            "_view_module_version": "1.5.0",
            "_view_name": "ProgressView",
            "bar_style": "success",
            "description": "",
            "description_tooltip": null,
            "layout": "IPY_MODEL_4092beb1f68d46119a7112ae059420ce",
            "max": 226150,
            "min": 0,
            "orientation": "horizontal",
            "style": "IPY_MODEL_ac06135548dd4dd7905cf6d2d4a9bc22",
            "value": 226150
          }
        },
        "82f6bf813ccf4fd7bf6718c2fabc18a7": {
          "model_module": "@jupyter-widgets/controls",
          "model_name": "HTMLModel",
          "model_module_version": "1.5.0",
          "state": {
            "_dom_classes": [],
            "_model_module": "@jupyter-widgets/controls",
            "_model_module_version": "1.5.0",
            "_model_name": "HTMLModel",
            "_view_count": null,
            "_view_module": "@jupyter-widgets/controls",
            "_view_module_version": "1.5.0",
            "_view_name": "HTMLView",
            "description": "",
            "description_tooltip": null,
            "layout": "IPY_MODEL_90cad02f6c2a46888efe637736c7117c",
            "placeholder": "​",
            "style": "IPY_MODEL_52136b162f3a4ceba0f5f93dacba393f",
            "value": " 226k/226k [00:00&lt;00:00, 948kB/s]"
          }
        },
        "20877b97bb474129b5b399174eb4a2d4": {
          "model_module": "@jupyter-widgets/base",
          "model_name": "LayoutModel",
          "model_module_version": "1.2.0",
          "state": {
            "_model_module": "@jupyter-widgets/base",
            "_model_module_version": "1.2.0",
            "_model_name": "LayoutModel",
            "_view_count": null,
            "_view_module": "@jupyter-widgets/base",
            "_view_module_version": "1.2.0",
            "_view_name": "LayoutView",
            "align_content": null,
            "align_items": null,
            "align_self": null,
            "border": null,
            "bottom": null,
            "display": null,
            "flex": null,
            "flex_flow": null,
            "grid_area": null,
            "grid_auto_columns": null,
            "grid_auto_flow": null,
            "grid_auto_rows": null,
            "grid_column": null,
            "grid_gap": null,
            "grid_row": null,
            "grid_template_areas": null,
            "grid_template_columns": null,
            "grid_template_rows": null,
            "height": null,
            "justify_content": null,
            "justify_items": null,
            "left": null,
            "margin": null,
            "max_height": null,
            "max_width": null,
            "min_height": null,
            "min_width": null,
            "object_fit": null,
            "object_position": null,
            "order": null,
            "overflow": null,
            "overflow_x": null,
            "overflow_y": null,
            "padding": null,
            "right": null,
            "top": null,
            "visibility": null,
            "width": null
          }
        },
        "8d037ff4cd6e433da5e5019f7c1641c3": {
          "model_module": "@jupyter-widgets/base",
          "model_name": "LayoutModel",
          "model_module_version": "1.2.0",
          "state": {
            "_model_module": "@jupyter-widgets/base",
            "_model_module_version": "1.2.0",
            "_model_name": "LayoutModel",
            "_view_count": null,
            "_view_module": "@jupyter-widgets/base",
            "_view_module_version": "1.2.0",
            "_view_name": "LayoutView",
            "align_content": null,
            "align_items": null,
            "align_self": null,
            "border": null,
            "bottom": null,
            "display": null,
            "flex": null,
            "flex_flow": null,
            "grid_area": null,
            "grid_auto_columns": null,
            "grid_auto_flow": null,
            "grid_auto_rows": null,
            "grid_column": null,
            "grid_gap": null,
            "grid_row": null,
            "grid_template_areas": null,
            "grid_template_columns": null,
            "grid_template_rows": null,
            "height": null,
            "justify_content": null,
            "justify_items": null,
            "left": null,
            "margin": null,
            "max_height": null,
            "max_width": null,
            "min_height": null,
            "min_width": null,
            "object_fit": null,
            "object_position": null,
            "order": null,
            "overflow": null,
            "overflow_x": null,
            "overflow_y": null,
            "padding": null,
            "right": null,
            "top": null,
            "visibility": null,
            "width": null
          }
        },
        "3e8c93cf3ea244498994a0749d9886a9": {
          "model_module": "@jupyter-widgets/controls",
          "model_name": "DescriptionStyleModel",
          "model_module_version": "1.5.0",
          "state": {
            "_model_module": "@jupyter-widgets/controls",
            "_model_module_version": "1.5.0",
            "_model_name": "DescriptionStyleModel",
            "_view_count": null,
            "_view_module": "@jupyter-widgets/base",
            "_view_module_version": "1.2.0",
            "_view_name": "StyleView",
            "description_width": ""
          }
        },
        "4092beb1f68d46119a7112ae059420ce": {
          "model_module": "@jupyter-widgets/base",
          "model_name": "LayoutModel",
          "model_module_version": "1.2.0",
          "state": {
            "_model_module": "@jupyter-widgets/base",
            "_model_module_version": "1.2.0",
            "_model_name": "LayoutModel",
            "_view_count": null,
            "_view_module": "@jupyter-widgets/base",
            "_view_module_version": "1.2.0",
            "_view_name": "LayoutView",
            "align_content": null,
            "align_items": null,
            "align_self": null,
            "border": null,
            "bottom": null,
            "display": null,
            "flex": null,
            "flex_flow": null,
            "grid_area": null,
            "grid_auto_columns": null,
            "grid_auto_flow": null,
            "grid_auto_rows": null,
            "grid_column": null,
            "grid_gap": null,
            "grid_row": null,
            "grid_template_areas": null,
            "grid_template_columns": null,
            "grid_template_rows": null,
            "height": null,
            "justify_content": null,
            "justify_items": null,
            "left": null,
            "margin": null,
            "max_height": null,
            "max_width": null,
            "min_height": null,
            "min_width": null,
            "object_fit": null,
            "object_position": null,
            "order": null,
            "overflow": null,
            "overflow_x": null,
            "overflow_y": null,
            "padding": null,
            "right": null,
            "top": null,
            "visibility": null,
            "width": null
          }
        },
        "ac06135548dd4dd7905cf6d2d4a9bc22": {
          "model_module": "@jupyter-widgets/controls",
          "model_name": "ProgressStyleModel",
          "model_module_version": "1.5.0",
          "state": {
            "_model_module": "@jupyter-widgets/controls",
            "_model_module_version": "1.5.0",
            "_model_name": "ProgressStyleModel",
            "_view_count": null,
            "_view_module": "@jupyter-widgets/base",
            "_view_module_version": "1.2.0",
            "_view_name": "StyleView",
            "bar_color": null,
            "description_width": ""
          }
        },
        "90cad02f6c2a46888efe637736c7117c": {
          "model_module": "@jupyter-widgets/base",
          "model_name": "LayoutModel",
          "model_module_version": "1.2.0",
          "state": {
            "_model_module": "@jupyter-widgets/base",
            "_model_module_version": "1.2.0",
            "_model_name": "LayoutModel",
            "_view_count": null,
            "_view_module": "@jupyter-widgets/base",
            "_view_module_version": "1.2.0",
            "_view_name": "LayoutView",
            "align_content": null,
            "align_items": null,
            "align_self": null,
            "border": null,
            "bottom": null,
            "display": null,
            "flex": null,
            "flex_flow": null,
            "grid_area": null,
            "grid_auto_columns": null,
            "grid_auto_flow": null,
            "grid_auto_rows": null,
            "grid_column": null,
            "grid_gap": null,
            "grid_row": null,
            "grid_template_areas": null,
            "grid_template_columns": null,
            "grid_template_rows": null,
            "height": null,
            "justify_content": null,
            "justify_items": null,
            "left": null,
            "margin": null,
            "max_height": null,
            "max_width": null,
            "min_height": null,
            "min_width": null,
            "object_fit": null,
            "object_position": null,
            "order": null,
            "overflow": null,
            "overflow_x": null,
            "overflow_y": null,
            "padding": null,
            "right": null,
            "top": null,
            "visibility": null,
            "width": null
          }
        },
        "52136b162f3a4ceba0f5f93dacba393f": {
          "model_module": "@jupyter-widgets/controls",
          "model_name": "DescriptionStyleModel",
          "model_module_version": "1.5.0",
          "state": {
            "_model_module": "@jupyter-widgets/controls",
            "_model_module_version": "1.5.0",
            "_model_name": "DescriptionStyleModel",
            "_view_count": null,
            "_view_module": "@jupyter-widgets/base",
            "_view_module_version": "1.2.0",
            "_view_name": "StyleView",
            "description_width": ""
          }
        }
      }
    }
  },
  "cells": [
    {
      "cell_type": "markdown",
      "metadata": {
        "id": "view-in-github",
        "colab_type": "text"
      },
      "source": [
        "<a href=\"https://colab.research.google.com/github/ChloeMorgana/Dissertation-Project/blob/main/PubMedBERT.ipynb\" target=\"_parent\"><img src=\"https://colab.research.google.com/assets/colab-badge.svg\" alt=\"Open In Colab\"/></a>"
      ]
    },
    {
      "cell_type": "markdown",
      "source": [
        "#Loading of DrugProt dataset\n",
        "\n",
        "Downloading and unzipping file"
      ],
      "metadata": {
        "id": "XEVZhcw6vcub"
      }
    },
    {
      "cell_type": "code",
      "execution_count": 1,
      "metadata": {
        "colab": {
          "base_uri": "https://localhost:8080/"
        },
        "id": "CXtcGw7lujGS",
        "outputId": "14d86530-242e-4209-ea45-4beb4a40b9ef"
      },
      "outputs": [
        {
          "output_type": "stream",
          "name": "stdout",
          "text": [
            "--2022-12-08 09:15:21--  https://zenodo.org/record/5042151/files/drugprot-gs-training-development.zip\n",
            "Resolving zenodo.org (zenodo.org)... 188.185.124.72\n",
            "Connecting to zenodo.org (zenodo.org)|188.185.124.72|:443... connected.\n",
            "HTTP request sent, awaiting response... 200 OK\n",
            "Length: 3796908 (3.6M) [application/octet-stream]\n",
            "Saving to: ‘drugprot-gs-training-development.zip’\n",
            "\n",
            "drugprot-gs-trainin 100%[===================>]   3.62M   411KB/s    in 9.2s    \n",
            "\n",
            "2022-12-08 09:15:33 (402 KB/s) - ‘drugprot-gs-training-development.zip’ saved [3796908/3796908]\n",
            "\n",
            "Archive:  drugprot-gs-training-development.zip\n",
            "   creating: drugprot-gs-training-development/\n",
            "  inflating: drugprot-gs-training-development/README.pdf  \n",
            "   creating: drugprot-gs-training-development/development/\n",
            "  inflating: drugprot-gs-training-development/development/drugprot_development_relations.tsv  \n",
            "  inflating: drugprot-gs-training-development/development/drugprot_development_entities.tsv  \n",
            "  inflating: drugprot-gs-training-development/development/drugprot_development_abstracs.tsv  \n",
            "   creating: drugprot-gs-training-development/training/\n",
            "  inflating: drugprot-gs-training-development/training/drugprot_training_abstracs.tsv  \n",
            "  inflating: drugprot-gs-training-development/training/drugprot_training_relations.tsv  \n",
            "  inflating: drugprot-gs-training-development/training/drugprot_training_entities.tsv  \n"
          ]
        }
      ],
      "source": [
        "!wget https://zenodo.org/record/5042151/files/drugprot-gs-training-development.zip\n",
        "!unzip drugprot-gs-training-development.zip"
      ]
    },
    {
      "cell_type": "markdown",
      "source": [
        "Combining all three files together."
      ],
      "metadata": {
        "id": "BlEsiDFNyVK2"
      }
    },
    {
      "cell_type": "code",
      "source": [
        "def loadDrugProt(abstracts_filename, entities_filename, relations_filename):\n",
        "\n",
        "  docs = {}\n",
        "\n",
        "  # Load the title/abstracts text in as documents\n",
        "  with open(abstracts_filename, encoding='utf8') as f:\n",
        "    for lineno,line in enumerate(f):\n",
        "      split = line.strip('\\n').split('\\t')\n",
        "      assert len(split) == 3, f\"Expected 3 columns but got {len(split)} on line {lineno+1}\"\n",
        "      pubmed_id, title, abstract = split\n",
        "      pubmed_id = int(pubmed_id)\n",
        "\n",
        "      combined_text = title + '\\n' + abstract\n",
        "      docs[pubmed_id] = {'pubmed_id':pubmed_id, 'text':combined_text, 'entities':{}, 'relations':[]}\n",
        "\n",
        "  # Load the entities and match them up with the documents\n",
        "  with open(entities_filename, encoding='utf8') as f:\n",
        "    for lineno,line in enumerate(f):\n",
        "      split = line.strip('\\n').split('\\t')\n",
        "      assert len(split) == 6, f\"Expected 6 columns but got {len(split)} on line {lineno+1}\"\n",
        "      pubmed_id, entity_id, entity_type, start_coord, end_coord, entity_text = split\n",
        "\n",
        "      pubmed_id = int(pubmed_id)\n",
        "      start_coord = int(start_coord)\n",
        "      end_coord = int(end_coord)\n",
        "\n",
        "      assert pubmed_id in docs, f\"Did not find matching document for pubmed_id={pubmed_id}\"\n",
        "      doc = docs[pubmed_id]\n",
        "\n",
        "      assert doc['text'][start_coord:end_coord] == entity_text, f\"Text for entity with coords {start_coord}:{end_coord} in document (pubmed_id={pubmed_id} does not match expected. 'f{doc['text'][start_coord:end_coord]}' != '{entity_text}'\"\n",
        "\n",
        "      entity = {'type':entity_type, 'start':start_coord, 'end':end_coord, 'text':entity_text}\n",
        "      doc['entities'][entity_id] = entity\n",
        "\n",
        "  if relations_filename is not None:\n",
        "    # Load the relations and match them up with the entities in the corresponding document\n",
        "    with open(relations_filename, encoding='utf8') as f:\n",
        "      for lineno,line in enumerate(f):\n",
        "        split = line.strip('\\n').split('\\t')\n",
        "        assert len(split) == 4, f\"Expected 4 columns but got {len(split)} on line {lineno+1}\"\n",
        "\n",
        "        pubmed_id, relation_type, arg1, arg2 = split\n",
        "\n",
        "        pubmed_id = int(pubmed_id)\n",
        "        assert arg1.startswith('Arg1:'), f\"Relation argument should start with 'Arg1:'. Got: {arg1}\"\n",
        "        assert arg2.startswith('Arg2:'), f\"Relation argument should start with 'Arg2:'. Got: {arg2}\"\n",
        "\n",
        "        # Remove arg1/arg2 from text\n",
        "        arg1 = arg1.split(':')[1]\n",
        "        arg2 = arg2.split(':')[1]\n",
        "\n",
        "        assert pubmed_id in docs, f\"Did not find matching document for pubmed_id={pubmed_id}\"\n",
        "        doc = docs[pubmed_id]\n",
        "\n",
        "        assert arg1 in doc['entities'], f\"Couldn't find entity with id={arg1} in document with pubmed_id={pubmed_id}\"\n",
        "        assert arg2 in doc['entities'], f\"Couldn't find entity with id={arg2} in document with pubmed_id={pubmed_id}\"\n",
        "\n",
        "        relation = {'type':relation_type,'arg1':arg1,'arg2':arg2}\n",
        "        doc['relations'].append(relation)\n",
        "\n",
        "  # Convert the dictionary of documents (indexed by pubmed_id) into a simpler dictionary\n",
        "  docs = sorted(docs.values(), key=lambda x:x['pubmed_id'])\n",
        "\n",
        "  return docs"
      ],
      "metadata": {
        "id": "Jnq0pnCUvtPI"
      },
      "execution_count": 2,
      "outputs": []
    },
    {
      "cell_type": "markdown",
      "source": [
        "Applying function to dataset"
      ],
      "metadata": {
        "id": "rmXTTkBLyk4Q"
      }
    },
    {
      "cell_type": "code",
      "source": [
        "docs = loadDrugProt('drugprot-gs-training-development/training/drugprot_training_abstracs.tsv',\n",
        "                    'drugprot-gs-training-development/training/drugprot_training_entities.tsv',\n",
        "                    'drugprot-gs-training-development/training/drugprot_training_relations.tsv')"
      ],
      "metadata": {
        "id": "yAemM9gmyG7F"
      },
      "execution_count": 3,
      "outputs": []
    },
    {
      "cell_type": "markdown",
      "source": [
        "Observation of doc structure\n"
      ],
      "metadata": {
        "id": "hsBqNeznyrJC"
      }
    },
    {
      "cell_type": "code",
      "source": [
        "search = [ d for i,d in enumerate(docs) if d['pubmed_id'] == 1322791]\n",
        "assert len(search) == 1, \"Something went wrong and couldn't find the document we want\"\n",
        "\n",
        "doc = search[0]\n",
        "doc"
      ],
      "metadata": {
        "colab": {
          "base_uri": "https://localhost:8080/"
        },
        "id": "AYt1O1bLyKK8",
        "outputId": "0322ae3f-c4fb-473f-e563-c9585199d778"
      },
      "execution_count": 22,
      "outputs": [
        {
          "output_type": "execute_result",
          "data": {
            "text/plain": [
              "{'pubmed_id': 1322791,\n",
              " 'text': 'Amsacrine and etoposide hypersensitivity of yeast cells overexpressing DNA topoisomerase II.\\nIncreasing the cellular concentration of DNA topoisomerase II in yeast by expressing constitutively a plasmid-borne TOP2 gene encoding the enzyme greatly increases the sensitivity of the cells to amsacrine and etoposide (VP-16). This increased drug sensitivity at a higher intracellular DNA topoisomerase II level is observed in both RAD52+ repair-proficient strains and rad52 mutants that are defective in the repair of double-stranded breaks. These results provide strong support of the hypothesis that the cellular target of these drugs is DNA topoisomerase II, and that these drugs kill cells by converting DNA topoisomerase II into a DNA damaging agent.',\n",
              " 'entities': {'T1': {'type': 'CHEMICAL',\n",
              "   'start': 289,\n",
              "   'end': 298,\n",
              "   'text': 'amsacrine'},\n",
              "  'T2': {'type': 'CHEMICAL', 'start': 303, 'end': 312, 'text': 'etoposide'},\n",
              "  'T3': {'type': 'CHEMICAL', 'start': 314, 'end': 319, 'text': 'VP-16'},\n",
              "  'T4': {'type': 'CHEMICAL', 'start': 0, 'end': 9, 'text': 'Amsacrine'},\n",
              "  'T5': {'type': 'CHEMICAL', 'start': 14, 'end': 23, 'text': 'etoposide'},\n",
              "  'T6': {'type': 'GENE-Y', 'start': 209, 'end': 213, 'text': 'TOP2'},\n",
              "  'T7': {'type': 'GENE-Y',\n",
              "   'start': 380,\n",
              "   'end': 400,\n",
              "   'text': 'DNA topoisomerase II'},\n",
              "  'T8': {'type': 'GENE-Y', 'start': 427, 'end': 432, 'text': 'RAD52'},\n",
              "  'T9': {'type': 'GENE-Y', 'start': 464, 'end': 469, 'text': 'rad52'},\n",
              "  'T10': {'type': 'GENE-Y',\n",
              "   'start': 134,\n",
              "   'end': 154,\n",
              "   'text': 'DNA topoisomerase II'},\n",
              "  'T11': {'type': 'GENE-Y',\n",
              "   'start': 636,\n",
              "   'end': 656,\n",
              "   'text': 'DNA topoisomerase II'},\n",
              "  'T12': {'type': 'GENE-Y',\n",
              "   'start': 704,\n",
              "   'end': 724,\n",
              "   'text': 'DNA topoisomerase II'},\n",
              "  'T13': {'type': 'GENE-Y',\n",
              "   'start': 71,\n",
              "   'end': 91,\n",
              "   'text': 'DNA topoisomerase II'}},\n",
              " 'relations': []}"
            ]
          },
          "metadata": {},
          "execution_count": 22
        }
      ]
    },
    {
      "cell_type": "markdown",
      "source": [
        "We can observe the total number of relations across all documents below:"
      ],
      "metadata": {
        "id": "SvJVGoiznqJs"
      }
    },
    {
      "cell_type": "code",
      "source": [
        "num = 0\n",
        "for doc in docs:\n",
        "  num += len(doc['relations'])\n",
        "\n",
        "print(num)"
      ],
      "metadata": {
        "colab": {
          "base_uri": "https://localhost:8080/"
        },
        "id": "YaUZTJ6Qntfq",
        "outputId": "7b2e23f2-dac8-460e-9ee9-21c2b04c8009"
      },
      "execution_count": 5,
      "outputs": [
        {
          "output_type": "stream",
          "name": "stdout",
          "text": [
            "17288\n"
          ]
        }
      ]
    },
    {
      "cell_type": "markdown",
      "source": [
        "# Encoding Step"
      ],
      "metadata": {
        "id": "wuvPifsbVAI2"
      }
    },
    {
      "cell_type": "markdown",
      "source": [
        "The code below imports certain packages that will be used during this relation extraction task."
      ],
      "metadata": {
        "id": "BwTEztaT7myc"
      }
    },
    {
      "cell_type": "code",
      "source": [
        "#!pip install torch\n",
        "!pip install transformers\n",
        "!pip install segtok\n",
        "\n",
        "#import transformers as ppb\n",
        "from transformers import BertModel, AutoTokenizer\n",
        "import pandas as pd\n",
        "import numpy as np\n",
        "import nltk\n",
        "import torch\n",
        "import itertools\n",
        "from segtok.segmenter import split_single"
      ],
      "metadata": {
        "colab": {
          "base_uri": "https://localhost:8080/"
        },
        "id": "zt-G3qMF6S6z",
        "outputId": "d8f1d023-8d11-4008-b2ae-2539491471e2"
      },
      "execution_count": 6,
      "outputs": [
        {
          "output_type": "stream",
          "name": "stdout",
          "text": [
            "Looking in indexes: https://pypi.org/simple, https://us-python.pkg.dev/colab-wheels/public/simple/\n",
            "Collecting transformers\n",
            "  Downloading transformers-4.25.1-py3-none-any.whl (5.8 MB)\n",
            "\u001b[K     |████████████████████████████████| 5.8 MB 8.5 MB/s \n",
            "\u001b[?25hRequirement already satisfied: filelock in /usr/local/lib/python3.8/dist-packages (from transformers) (3.8.0)\n",
            "Collecting huggingface-hub<1.0,>=0.10.0\n",
            "  Downloading huggingface_hub-0.11.1-py3-none-any.whl (182 kB)\n",
            "\u001b[K     |████████████████████████████████| 182 kB 56.2 MB/s \n",
            "\u001b[?25hRequirement already satisfied: tqdm>=4.27 in /usr/local/lib/python3.8/dist-packages (from transformers) (4.64.1)\n",
            "Requirement already satisfied: requests in /usr/local/lib/python3.8/dist-packages (from transformers) (2.23.0)\n",
            "Requirement already satisfied: regex!=2019.12.17 in /usr/local/lib/python3.8/dist-packages (from transformers) (2022.6.2)\n",
            "Requirement already satisfied: packaging>=20.0 in /usr/local/lib/python3.8/dist-packages (from transformers) (21.3)\n",
            "Requirement already satisfied: numpy>=1.17 in /usr/local/lib/python3.8/dist-packages (from transformers) (1.21.6)\n",
            "Requirement already satisfied: pyyaml>=5.1 in /usr/local/lib/python3.8/dist-packages (from transformers) (6.0)\n",
            "Collecting tokenizers!=0.11.3,<0.14,>=0.11.1\n",
            "  Downloading tokenizers-0.13.2-cp38-cp38-manylinux_2_17_x86_64.manylinux2014_x86_64.whl (7.6 MB)\n",
            "\u001b[K     |████████████████████████████████| 7.6 MB 42.2 MB/s \n",
            "\u001b[?25hRequirement already satisfied: typing-extensions>=3.7.4.3 in /usr/local/lib/python3.8/dist-packages (from huggingface-hub<1.0,>=0.10.0->transformers) (4.4.0)\n",
            "Requirement already satisfied: pyparsing!=3.0.5,>=2.0.2 in /usr/local/lib/python3.8/dist-packages (from packaging>=20.0->transformers) (3.0.9)\n",
            "Requirement already satisfied: chardet<4,>=3.0.2 in /usr/local/lib/python3.8/dist-packages (from requests->transformers) (3.0.4)\n",
            "Requirement already satisfied: urllib3!=1.25.0,!=1.25.1,<1.26,>=1.21.1 in /usr/local/lib/python3.8/dist-packages (from requests->transformers) (1.24.3)\n",
            "Requirement already satisfied: certifi>=2017.4.17 in /usr/local/lib/python3.8/dist-packages (from requests->transformers) (2022.9.24)\n",
            "Requirement already satisfied: idna<3,>=2.5 in /usr/local/lib/python3.8/dist-packages (from requests->transformers) (2.10)\n",
            "Installing collected packages: tokenizers, huggingface-hub, transformers\n",
            "Successfully installed huggingface-hub-0.11.1 tokenizers-0.13.2 transformers-4.25.1\n",
            "Looking in indexes: https://pypi.org/simple, https://us-python.pkg.dev/colab-wheels/public/simple/\n",
            "Collecting segtok\n",
            "  Downloading segtok-1.5.11-py3-none-any.whl (24 kB)\n",
            "Requirement already satisfied: regex in /usr/local/lib/python3.8/dist-packages (from segtok) (2022.6.2)\n",
            "Installing collected packages: segtok\n",
            "Successfully installed segtok-1.5.11\n"
          ]
        }
      ]
    },
    {
      "cell_type": "markdown",
      "source": [
        "This is a function that checks if a particular entity tag is part of a relation or not. This is used to form labels for the data so that the classifier can learn which sentences contain relations and which do not."
      ],
      "metadata": {
        "id": "Dzu6SwhS7GZd"
      }
    },
    {
      "cell_type": "code",
      "source": [
        "def isRelation(doc, key):\n",
        "\n",
        "  relations = doc['relations']\n",
        "  for r in relations:\n",
        "    #Checks if the entity is involved in any part of a specified relation\n",
        "    if (key == r['arg1']) or (key == r['arg2']):\n",
        "      #Returns the name of the relation and a boolean value\n",
        "      return True, r['type']\n",
        "  return False, 0\n",
        "\n",
        "def isEntityRelation(arg1,arg2,doc):\n",
        "  for r in doc['relations']:\n",
        "    if (arg1 == r['arg1']) and (arg2 == r['arg2']):\n",
        "      return True\n",
        "  return False\n"
      ],
      "metadata": {
        "id": "ruR21j2mXzO8"
      },
      "execution_count": 7,
      "outputs": []
    },
    {
      "cell_type": "markdown",
      "source": [
        "This function takes in the text and finds all of the labels for all pairs of entity relations. This will be used later to input into the classifier."
      ],
      "metadata": {
        "id": "Poo81Bj15g6C"
      }
    },
    {
      "cell_type": "code",
      "source": [
        "def find_sent_idxs(text):\n",
        "  idxs = [0]\n",
        "  idx = 0\n",
        "  split_text = split_single(text)\n",
        "  for t in split_text:\n",
        "    idx += len(t)+1\n",
        "    idxs.append(idx)\n",
        "  return idxs\n",
        "\n",
        "def find_entity_labels(idxs, keys, doc):\n",
        "  labels = []\n",
        "  entity_dict = {}\n",
        "\n",
        "  for i in idxs:\n",
        "    entity_dict[i]=[]\n",
        "\n",
        "  for key in keys:\n",
        "    for i in range(len(idxs)-1):\n",
        "      if doc['entities'][key]['start'] >= idxs[i] and doc['entities'][key]['start'] <= idxs[i+1]:\n",
        "        entity_dict[idxs[i]].append(key)\n",
        "\n",
        "  for v in entity_dict.values():\n",
        "    chems = []\n",
        "    genes = []\n",
        "    for name in v:\n",
        "      if doc['entities'][name]['type'] == 'CHEMICAL':\n",
        "        chems.append(name)\n",
        "      else:\n",
        "        genes.append(name)\n",
        "\n",
        "    prods = itertools.product(chems,genes)\n",
        "    for prod in prods:\n",
        "      if isEntityRelation(prod[0],prod[1],doc):\n",
        "        labels.append(1)\n",
        "      else:\n",
        "        labels.append(0)\n",
        "\n",
        "  #print(labels)\n",
        "\n",
        "  return labels\n",
        "\n",
        "\n",
        "\n",
        "entity_idx = find_sent_idxs(docs[0]['text'])\n",
        "print(entity_idx)\n",
        "#print(find_entity_labels(entity_idx))\n"
      ],
      "metadata": {
        "colab": {
          "base_uri": "https://localhost:8080/"
        },
        "id": "rjcYZDYn5y2G",
        "outputId": "89ecabe6-4964-4db1-82e2-ff6b17db5d94"
      },
      "execution_count": 35,
      "outputs": [
        {
          "output_type": "stream",
          "name": "stdout",
          "text": [
            "[0, 119, 240, 471, 590, 703, 861, 983, 1150, 1257, 1389, 1592, 1845]\n"
          ]
        }
      ]
    },
    {
      "cell_type": "markdown",
      "source": [
        "This function adds in start and end entity tags to biomedical text. This ensures that every chemical mentioned is encased in [E1][/E1] tags, and every gene is encased in [E2][/E2] tags, so that we can extract the embeddings for these later."
      ],
      "metadata": {
        "id": "DjiNDFJvgckl"
      }
    },
    {
      "cell_type": "code",
      "source": [
        "def addEntityTags(docs):\n",
        "\n",
        "  for doc in docs:\n",
        "    #Contains the labels for each sentence (1 for positive result, 0 for no relation)\n",
        "    doc['labels'] = []\n",
        "    #Contains more explicit names for the relations.\n",
        "    doc['classes'] = []\n",
        "\n",
        "    str = ''\n",
        "    index = 0\n",
        "\n",
        "    #Contains every mention of chemicals and genes for a particular document\n",
        "    keys = doc['entities'].keys()\n",
        "\n",
        "    #Makes sure the indices of these mentions are in order\n",
        "    key_list = sorted(keys, key= lambda x: (doc['entities'][x]['start']))\n",
        "\n",
        "    #Finds the indexes of the start and end of each sentence in the text\n",
        "    idxs = find_sent_idxs(doc['text'])\n",
        "\n",
        "\n",
        "    l = find_entity_labels(idxs, key_list, doc)\n",
        "    doc['entity_labels'] = l\n",
        "\n",
        "    for k in key_list:\n",
        "      #Adds a 1 to the list of labels if it is a positive result, 0 if negative\n",
        "      b,r = isRelation(doc,k)\n",
        "      if b:\n",
        "        doc['labels'].append(1)\n",
        "      else:\n",
        "        doc['labels'].append(0)\n",
        "      doc['classes'].append(r)\n",
        "      v = doc['entities'][k]\n",
        "\n",
        "      #Start and end indexes of entity\n",
        "      start = v['start']\n",
        "      end = v['end']\n",
        "\n",
        "      if v['type'] == 'CHEMICAL':\n",
        "        str += doc['text'][index:start] + '[E1] ' + doc['text'][start:end] + ' [/E1]'\n",
        "      else:\n",
        "        str += doc['text'][index:start] + '[E2] ' + doc['text'][start:end] + ' [/E2]'\n",
        "      index = end\n",
        "    \n",
        "    #Adds the tagged text to the dictionary of a particular document\n",
        "    doc['tagged_text'] = str \n",
        "\n",
        "addEntityTags(docs)\n",
        "#print(docs[1]['tagged_text'])\n",
        "#print(docs[0]['entity_labels'])\n",
        "\n",
        "print(docs[0].keys())\n",
        "print(docs[0]['entities'])\n",
        "print(docs[0]['entity_labels'])\n",
        "print(docs[0]['tagged_text'])\n",
        "\n"
      ],
      "metadata": {
        "id": "a7MjEIFqgiiC",
        "colab": {
          "base_uri": "https://localhost:8080/"
        },
        "outputId": "856dcd41-7a3d-4ffb-efa1-3a6c83b40c11"
      },
      "execution_count": 55,
      "outputs": [
        {
          "output_type": "stream",
          "name": "stdout",
          "text": [
            "dict_keys(['pubmed_id', 'text', 'entities', 'relations', 'labels', 'classes', 'tagged_text', 'entity_labels'])\n",
            "{'T1': {'type': 'CHEMICAL', 'start': 1455, 'end': 1466, 'text': 'benzamidine'}, 'T2': {'type': 'CHEMICAL', 'start': 1489, 'end': 1493, 'text': 'EACA'}, 'T3': {'type': 'CHEMICAL', 'start': 292, 'end': 298, 'text': 'lysine'}, 'T4': {'type': 'CHEMICAL', 'start': 308, 'end': 334, 'text': 'epsilon-amino caproic acid'}, 'T5': {'type': 'CHEMICAL', 'start': 336, 'end': 340, 'text': 'EACA'}, 'T6': {'type': 'CHEMICAL', 'start': 400, 'end': 406, 'text': 'lysine'}, 'T7': {'type': 'GENE-Y', 'start': 1165, 'end': 1170, 'text': 'gp330'}, 'T8': {'type': 'GENE-Y', 'start': 1172, 'end': 1179, 'text': 'plasmin'}, 'T9': {'type': 'GENE-Y', 'start': 227, 'end': 238, 'text': 'plasminogen'}, 'T10': {'type': 'GENE-Y', 'start': 1236, 'end': 1255, 'text': 'alpha 2-antiplasmin'}, 'T11': {'type': 'GENE-Y', 'start': 1272, 'end': 1279, 'text': 'plasmin'}, 'T12': {'type': 'GENE-Y', 'start': 1283, 'end': 1288, 'text': 'gp330'}, 'T13': {'type': 'GENE-Y', 'start': 1382, 'end': 1387, 'text': 'gp330'}, 'T14': {'type': 'GENE-Y', 'start': 1419, 'end': 1430, 'text': 'plasminogen'}, 'T15': {'type': 'GENE-Y', 'start': 1435, 'end': 1442, 'text': 'plasmin'}, 'T16': {'type': 'GENE-Y', 'start': 1446, 'end': 1451, 'text': 'gp330'}, 'T17': {'type': 'GENE-Y', 'start': 1519, 'end': 1526, 'text': 'plasmin'}, 'T18': {'type': 'GENE-Y', 'start': 1530, 'end': 1535, 'text': 'gp330'}, 'T19': {'type': 'GENE-Y', 'start': 1570, 'end': 1581, 'text': 'plasminogen'}, 'T20': {'type': 'GENE-Y', 'start': 1585, 'end': 1590, 'text': 'gp330'}, 'T21': {'type': 'GENE-Y', 'start': 1635, 'end': 1646, 'text': 'plasminogen'}, 'T22': {'type': 'GENE-Y', 'start': 1650, 'end': 1655, 'text': 'gp330'}, 'T23': {'type': 'GENE-Y', 'start': 1711, 'end': 1718, 'text': 'plasmin'}, 'T24': {'type': 'GENE-Y', 'start': 1812, 'end': 1819, 'text': 'plasmin'}, 'T25': {'type': 'GENE-Y', 'start': 359, 'end': 370, 'text': 'plasminogen'}, 'T26': {'type': 'GENE-Y', 'start': 444, 'end': 455, 'text': 'plasminogen'}, 'T27': {'type': 'GENE-Y', 'start': 495, 'end': 506, 'text': 'plasminogen'}, 'T28': {'type': 'GENE-Y', 'start': 156, 'end': 185, 'text': 'Heymann nephritis autoantigen'}, 'T29': {'type': 'GENE-Y', 'start': 519, 'end': 524, 'text': 'gp330'}, 'T30': {'type': 'GENE-Y', 'start': 568, 'end': 575, 'text': 'plasmin'}, 'T31': {'type': 'GENE-Y', 'start': 579, 'end': 588, 'text': 'urokinase'}, 'T32': {'type': 'GENE-Y', 'start': 609, 'end': 620, 'text': 'plasminogen'}, 'T33': {'type': 'GENE-Y', 'start': 624, 'end': 631, 'text': 'plasmin'}, 'T34': {'type': 'GENE-Y', 'start': 663, 'end': 674, 'text': 'plasminogen'}, 'T35': {'type': 'GENE-Y', 'start': 696, 'end': 701, 'text': 'gp330'}, 'T36': {'type': 'GENE-Y', 'start': 764, 'end': 773, 'text': 'urokinase'}, 'T37': {'type': 'GENE-Y', 'start': 187, 'end': 192, 'text': 'gp330'}, 'T38': {'type': 'GENE-Y', 'start': 809, 'end': 814, 'text': 'gp330'}, 'T39': {'type': 'GENE-Y', 'start': 877, 'end': 884, 'text': 'plasmin'}, 'T40': {'type': 'GENE-Y', 'start': 902, 'end': 907, 'text': 'gp330'}, 'T41': {'type': 'GENE-Y', 'start': 998, 'end': 1005, 'text': 'plasmin'}, 'T42': {'type': 'GENE-Y', 'start': 1009, 'end': 1014, 'text': 'gp330'}, 'T43': {'type': 'GENE-Y', 'start': 1077, 'end': 1082, 'text': 'gp330'}, 'T44': {'type': 'GENE-Y', 'start': 1116, 'end': 1123, 'text': 'plasmin'}, 'T45': {'type': 'GENE-Y', 'start': 112, 'end': 117, 'text': 'gp330'}, 'T46': {'type': 'GENE-Y', 'start': 12, 'end': 19, 'text': 'plasmin'}, 'T47': {'type': 'GENE-Y', 'start': 32, 'end': 41, 'text': 'urokinase'}, 'T48': {'type': 'GENE-Y', 'start': 56, 'end': 67, 'text': 'plasminogen'}, 'T49': {'type': 'GENE-Y', 'start': 81, 'end': 110, 'text': 'Heymann nephritis autoantigen'}}\n",
            "[0, 0, 0, 0, 0, 0, 0, 0, 1, 1, 1, 0, 0, 0, 0, 0, 0, 0, 1, 1, 1, 1]\n",
            "Analysis of [E2] plasmin [/E2] binding and [E2] urokinase [/E2] activation of [E2] plasminogen [/E2] bound to the [E2] Heymann nephritis autoantigen [/E2], [E2] gp330 [/E2].\n",
            "Previously, we demonstrated that the [E2] Heymann nephritis autoantigen [/E2], [E2] gp330 [/E2], can serve as a receptor site for [E2] plasminogen [/E2]. This binding was not significantly inhibited by the [E1] lysine [/E1] analogue [E1] epsilon-amino caproic acid [/E1] ([E1] EACA [/E1]), indicating that [E2] plasminogen [/E2] binding was not just through [E1] lysine [/E1] binding sites as suggested for other [E2] plasminogen [/E2] binding sites. We now report that once [E2] plasminogen [/E2] is bound to [E2] gp330 [/E2], it can be converted to its active form of [E2] plasmin [/E2] by [E2] urokinase [/E2]. This conversion of [E2] plasminogen [/E2] to [E2] plasmin [/E2] proceeds at a faster rate when [E2] plasminogen [/E2] is first prebound to [E2] gp330 [/E2]. Although there is a proportional increase in the Vmax of the [E2] urokinase [/E2]-catalyzed reaction with increasing [E2] gp330 [/E2] concentrations, no change in Km was observed. Once activated, [E2] plasmin [/E2] remains bound to [E2] gp330 [/E2] in an active state capable of cleaving the chromogenic tripeptide, S-2251. The binding of [E2] plasmin [/E2] to [E2] gp330 [/E2] did not significantly change its enzymatic activity; however, [E2] gp330 [/E2] did have a stabilizing effect on [E2] plasmin [/E2] activity at 37 degrees C. While bound to [E2] gp330 [/E2], [E2] plasmin [/E2] is protected from inactivation by its natural inhibitor [E2] alpha 2-antiplasmin [/E2]. The binding of [E2] plasmin [/E2] to [E2] gp330 [/E2] as analyzed by ELISA was shown to be time dependent, reversible, saturable, and specific for [E2] gp330 [/E2]. Inhibition of binding of both [E2] plasminogen [/E2] and [E2] plasmin [/E2] to [E2] gp330 [/E2] by [E1] benzamidine [/E1] was similar, although [E1] EACA [/E1] inhibited the binding of [E2] plasmin [/E2] to [E2] gp330 [/E2] slightly more than the binding of [E2] plasminogen [/E2] to [E2] gp330 [/E2]. These results indicate that the binding of [E2] plasminogen [/E2] to [E2] gp330 [/E2] serves as an effective means of increasing the rate of [E2] plasmin [/E2] production on the glomerular and tubular epithelial cell surface while protecting the active [E2] plasmin [/E2]\n"
          ]
        }
      ]
    },
    {
      "cell_type": "markdown",
      "source": [
        "Next, we can reduce the text to only sentences potentially containing relations between chemicals and genes by splitting the sentences and seeing if there are any entity tags present within the sentence. The findLabels function goes through the list of labels for a particular document and sees if there is a relation present within that sentence.\n",
        "\n",
        "(Note for later: I didn't take into account relations across sentences in this implementation, will have to change something to ensure that both entities for one relation are in the same sentence)"
      ],
      "metadata": {
        "id": "4ikJplM-cXqU"
      }
    },
    {
      "cell_type": "code",
      "source": [
        "from collections import Counter\n",
        "\n",
        "def relevantText():\n",
        "\n",
        "  target_text = []\n",
        "  labels = []\n",
        "\n",
        "  for doc in docs:\n",
        "    #print(doc.keys())\n",
        "    txt = doc['tagged_text']\n",
        "    lbls = doc['labels']\n",
        "\n",
        "    split_text = []\n",
        "    split_text += split_single(txt)\n",
        "    offset = 0\n",
        "\n",
        "    for s in split_text:\n",
        "      if '[/E' in s:\n",
        "        o, l, new_lbls = findLabels(s,lbls,offset)\n",
        "        target_text.append(s)\n",
        "        lbls = new_lbls\n",
        "        offset += o\n",
        "        labels.append(l)\n",
        "\n",
        "  return target_text, labels\n",
        "\n",
        "def findLabels(text, labels, offset=0):\n",
        "    words = text.split(\" \")\n",
        "    counter = Counter(words)\n",
        "    idx = counter['[E2]']+counter['[E1]']\n",
        "    isRel = False\n",
        "    for i in range(idx):\n",
        "      if labels[i]==1:\n",
        "        isRel = True\n",
        "    offset+=idx\n",
        "    if isRel:\n",
        "      label = 1\n",
        "    else:\n",
        "      label = 0\n",
        "    l = labels[idx:]\n",
        "    return offset, label, l\n",
        "\n",
        "target_text, labels= relevantText()\n",
        "\n",
        "#Both the target text and the labels must be the same length\n",
        "print(len(target_text))\n",
        "print(len(labels))\n"
      ],
      "metadata": {
        "id": "x0ps_RaP3wMU",
        "colab": {
          "base_uri": "https://localhost:8080/"
        },
        "outputId": "fe2e65be-c11e-4d9c-916f-17fe87ee2a34"
      },
      "execution_count": 40,
      "outputs": [
        {
          "output_type": "stream",
          "name": "stdout",
          "text": [
            "29234\n",
            "29234\n"
          ]
        }
      ]
    },
    {
      "cell_type": "markdown",
      "source": [
        "There are around 17288 total relations, therefore there some sentences that contain entities but don't actually contain a relation. The code below shows a snippet of the target text which should only contain sentences that contain tagged entities. It also contains the first five labels which are all 0 in this case. These seems sensible as there isn't a chemical in the first sentence, and therefore there is no relationship specified between a chemical and gene."
      ],
      "metadata": {
        "id": "jI2VTA9Po-a9"
      }
    },
    {
      "cell_type": "code",
      "source": [
        "print(target_text[:5])\n",
        "print(labels[:5])"
      ],
      "metadata": {
        "colab": {
          "base_uri": "https://localhost:8080/"
        },
        "id": "zb4HIf7ebZdo",
        "outputId": "eeab364c-bffa-4d73-cf53-523190ab11bc"
      },
      "execution_count": 41,
      "outputs": [
        {
          "output_type": "stream",
          "name": "stdout",
          "text": [
            "['Analysis of [E2] plasmin [/E2] binding and [E2] urokinase [/E2] activation of [E2] plasminogen [/E2] bound to the [E2] Heymann nephritis autoantigen [/E2], [E2] gp330 [/E2].', 'Previously, we demonstrated that the [E2] Heymann nephritis autoantigen [/E2], [E2] gp330 [/E2], can serve as a receptor site for [E2] plasminogen [/E2].', 'This binding was not significantly inhibited by the [E1] lysine [/E1] analogue [E1] epsilon-amino caproic acid [/E1] ([E1] EACA [/E1]), indicating that [E2] plasminogen [/E2] binding was not just through [E1] lysine [/E1] binding sites as suggested for other [E2] plasminogen [/E2] binding sites.', 'We now report that once [E2] plasminogen [/E2] is bound to [E2] gp330 [/E2], it can be converted to its active form of [E2] plasmin [/E2] by [E2] urokinase [/E2].', 'This conversion of [E2] plasminogen [/E2] to [E2] plasmin [/E2] proceeds at a faster rate when [E2] plasminogen [/E2] is first prebound to [E2] gp330 [/E2].']\n",
            "[0, 0, 0, 0, 0]\n"
          ]
        }
      ]
    },
    {
      "cell_type": "markdown",
      "source": [
        "# Embedding Step\n",
        "\n",
        "Next, a BERT model is defined that has been pre-trained using PubMed texts. This allows BERT to recognise biomedical terms within the text and understand their context better.\n",
        "\n",
        "The tokeniser is also defined using pubmed texts, and special tokens are added in so that BERT can recognise them and not break them down when tokenising."
      ],
      "metadata": {
        "id": "BXYgjLzmG2DT"
      }
    },
    {
      "cell_type": "code",
      "source": [
        "model = BertModel.from_pretrained(\"microsoft/BiomedNLP-PubMedBERT-base-uncased-abstract-fulltext\",\n",
        "                                  output_hidden_states = True,\n",
        "                                  )\n",
        "\n",
        "tokenizer = AutoTokenizer.from_pretrained(\"microsoft/BiomedNLP-PubMedBERT-base-uncased-abstract-fulltext\") \n",
        "\n",
        "tokenizer.add_tokens([\"[E1]\", \"[/E1]\", \"[E2]\", \"[/E2]\"])\n",
        "\n",
        "tokenizer.vocab[\"[E1]\"]"
      ],
      "metadata": {
        "colab": {
          "base_uri": "https://localhost:8080/",
          "height": 234,
          "referenced_widgets": [
            "a12194fc2c124a069f32bda3ae3dc0fb",
            "a077ee2471404aa1b83e40f89256386b",
            "5b5317d901424d3e9df4c4b4342b393b",
            "64ba49b289aa4671888647f70d4f6418",
            "5f8c84edd2ef48c6ba2c2a3ce7680088",
            "9c14798f54df4f0b8e2ed1812acd8571",
            "825ab0db1a4541848d32c7e08f77250c",
            "fbadf26bcf59437097f39e1d6a7e6c8c",
            "41d3baa86cc64c138e5cab09093192ce",
            "41ee2bcfbec944bd99c6334f31290206",
            "ac5ac4d5527244739578ebd108859d10",
            "f64957ee2c0d4e668f4a835e434b97fe",
            "da3a833140694e938435090187f31c1c",
            "2e48e0eb2d3040a188fe2ce6f048ea82",
            "45cd3bfcfcb04207b31bc8c44a6d6485",
            "d2658d31802e4c1c9b2c8542dd0e9ded",
            "abb07f0580494627841673f74b8f925c",
            "8bca143f9fe245d6a982363797345c51",
            "11af6ff401a542e0a4e567490c3c236d",
            "e7215e41101842b89f3a9b660bf6f0f8",
            "8a625da3649542679f438d73e0a8a6d8",
            "03f65d9e8a234076ae877b9a0e8f6e36",
            "461b42628efd411cb4bbb72f13859990",
            "b91355a051f345e488a0b316c3e41f4a",
            "d84a6ca950b64f18b7bd5f6d0d5cc8cc",
            "5b4dca68da7a42759a708b32d10dc6c8",
            "6332e72526a1434caa43be12e6f38ed7",
            "a8157e8b6b5743579b4e73ce8d9c6791",
            "a6544d8410ae480895af4fe940e7e775",
            "397090ad8fa647e28cd72f985579cbd0",
            "c53b8f1c5a8d49e7af199ec8682abd9a",
            "a2f1734f2b9e4c2580f0dd609f616dcb",
            "5799c1cb05314ac093361d17d3c879d0",
            "a7994151e16549daa8acd11b5167ef8d",
            "35250fc5fa084b4e974f6a2946236eda",
            "b6d03d2506334f579dd004be31c6a646",
            "82f6bf813ccf4fd7bf6718c2fabc18a7",
            "20877b97bb474129b5b399174eb4a2d4",
            "8d037ff4cd6e433da5e5019f7c1641c3",
            "3e8c93cf3ea244498994a0749d9886a9",
            "4092beb1f68d46119a7112ae059420ce",
            "ac06135548dd4dd7905cf6d2d4a9bc22",
            "90cad02f6c2a46888efe637736c7117c",
            "52136b162f3a4ceba0f5f93dacba393f"
          ]
        },
        "id": "FtHyA7DTG40c",
        "outputId": "0f40350c-c0ea-4e37-d986-132afe29d446"
      },
      "execution_count": 42,
      "outputs": [
        {
          "output_type": "display_data",
          "data": {
            "text/plain": [
              "Downloading:   0%|          | 0.00/385 [00:00<?, ?B/s]"
            ],
            "application/vnd.jupyter.widget-view+json": {
              "version_major": 2,
              "version_minor": 0,
              "model_id": "a12194fc2c124a069f32bda3ae3dc0fb"
            }
          },
          "metadata": {}
        },
        {
          "output_type": "display_data",
          "data": {
            "text/plain": [
              "Downloading:   0%|          | 0.00/440M [00:00<?, ?B/s]"
            ],
            "application/vnd.jupyter.widget-view+json": {
              "version_major": 2,
              "version_minor": 0,
              "model_id": "f64957ee2c0d4e668f4a835e434b97fe"
            }
          },
          "metadata": {}
        },
        {
          "output_type": "stream",
          "name": "stderr",
          "text": [
            "Some weights of the model checkpoint at microsoft/BiomedNLP-PubMedBERT-base-uncased-abstract-fulltext were not used when initializing BertModel: ['cls.predictions.decoder.bias', 'cls.predictions.transform.dense.bias', 'cls.predictions.bias', 'cls.predictions.decoder.weight', 'cls.predictions.transform.LayerNorm.bias', 'cls.predictions.transform.LayerNorm.weight', 'cls.predictions.transform.dense.weight', 'cls.seq_relationship.weight', 'cls.seq_relationship.bias']\n",
            "- This IS expected if you are initializing BertModel from the checkpoint of a model trained on another task or with another architecture (e.g. initializing a BertForSequenceClassification model from a BertForPreTraining model).\n",
            "- This IS NOT expected if you are initializing BertModel from the checkpoint of a model that you expect to be exactly identical (initializing a BertForSequenceClassification model from a BertForSequenceClassification model).\n"
          ]
        },
        {
          "output_type": "display_data",
          "data": {
            "text/plain": [
              "Downloading:   0%|          | 0.00/28.0 [00:00<?, ?B/s]"
            ],
            "application/vnd.jupyter.widget-view+json": {
              "version_major": 2,
              "version_minor": 0,
              "model_id": "461b42628efd411cb4bbb72f13859990"
            }
          },
          "metadata": {}
        },
        {
          "output_type": "display_data",
          "data": {
            "text/plain": [
              "Downloading:   0%|          | 0.00/226k [00:00<?, ?B/s]"
            ],
            "application/vnd.jupyter.widget-view+json": {
              "version_major": 2,
              "version_minor": 0,
              "model_id": "a7994151e16549daa8acd11b5167ef8d"
            }
          },
          "metadata": {}
        },
        {
          "output_type": "execute_result",
          "data": {
            "text/plain": [
              "30522"
            ]
          },
          "metadata": {},
          "execution_count": 42
        }
      ]
    },
    {
      "cell_type": "markdown",
      "source": [
        "This function adds [CLS] and [SEP] tokens to the beginning and end of sentences so that BERT knows when a new sentence is beginning. It then tokenises these sentences and converts all of the inputs into tensors."
      ],
      "metadata": {
        "id": "eFzXfZX-X3D8"
      }
    },
    {
      "cell_type": "code",
      "source": [
        "def bert_text_prep(text, tokenizer):\n",
        "\n",
        "  #CLS lets BERT know when start of sentence begins, SEP indicates start of second sentence.\n",
        "  marked_text = \"[CLS]\" + text + \"[SEP]\"\n",
        "\n",
        "  #Tokenizes text\n",
        "  tokenized_text = tokenizer.tokenize(marked_text)\n",
        "\n",
        "  if len(tokenized_text)>512:\n",
        "    print(text)\n",
        "\n",
        "  #Converts to ids\n",
        "  indexed_tokens = tokenizer.convert_tokens_to_ids(tokenized_text)\n",
        "\n",
        "  segments_ids = [1]*len(indexed_tokens)\n",
        "\n",
        "  # Converts inputs to tensors\n",
        "  tokens_tensor = torch.tensor([indexed_tokens])\n",
        "  segments_tensors = torch.tensor([segments_ids])\n",
        "\n",
        "  return tokenized_text, tokens_tensor, segments_tensors"
      ],
      "metadata": {
        "id": "8LWbqPbBL6TD"
      },
      "execution_count": 92,
      "outputs": []
    },
    {
      "cell_type": "markdown",
      "source": [
        "These tensors are then used to find the embeddings of all of the tokens."
      ],
      "metadata": {
        "id": "PMth1UIhX6a5"
      }
    },
    {
      "cell_type": "code",
      "source": [
        "def get_bert_embeddings(tokens_tensor, segments_tensors, model):\n",
        "  with torch.no_grad():\n",
        "    outputs = model(tokens_tensor, segments_tensors)\n",
        "    hidden_states = outputs[2][1:]\n",
        "\n",
        "  token_embeddings = hidden_states[-1]\n",
        "  #Collapsing tensor into 1 dimension\n",
        "  token_embeddings = torch.squeeze(token_embeddings, dim=0)\n",
        "  #converting tensors to lists\n",
        "  list_token_embeddings = [token_embed.tolist() for token_embed in token_embeddings]\n",
        "\n",
        "  return list_token_embeddings"
      ],
      "metadata": {
        "id": "-OnSsiEiOQrM"
      },
      "execution_count": 93,
      "outputs": []
    },
    {
      "cell_type": "markdown",
      "source": [
        "In order to find the relevant embeddings (entity start tag embeddings), findTags looks through the tokenised sentence and adds the index of that particular tag into a list of chemical indices or gene indices.\n",
        "\n",
        "These are then used after the sentence has been converted into embeddings to find the embedding at these specific indexes. The embeddings are accompanied by the cartesian product of all of the chemical and gene entities found, so that the embeddings for the specified indexes are concatenated."
      ],
      "metadata": {
        "id": "0li9zzHZh5Qn"
      }
    },
    {
      "cell_type": "code",
      "source": [
        "def findTags(tokens):\n",
        "  chems = []\n",
        "  genes = []\n",
        "\n",
        "  for i in range(len(tokens)):\n",
        "    #Adds the indexes to the relevant lists\n",
        "    if tokens[i] == '[e1]':\n",
        "      chems.append(i)\n",
        "    elif tokens[i] == '[e2]':\n",
        "      genes.append(i)\n",
        "  \n",
        "  #Returns empty lists if either chemicals or genes aren't present\n",
        "  if (chems == []) or (genes == []):\n",
        "    return [], []\n",
        "  else:\n",
        "    return chems, genes\n",
        "\n",
        "def findEmbeddings(prods, embeddings):\n",
        "  #Concatenates the embeddings\n",
        "  entity_embeddings = []\n",
        "  for elt in prods:\n",
        "    if elt != ():\n",
        "      chem = embeddings[elt[0]]\n",
        "      gene = embeddings[elt[1]]\n",
        "      entity_embeddings.append(chem+gene)\n",
        "  return entity_embeddings\n"
      ],
      "metadata": {
        "id": "m1oPiD79h_F1"
      },
      "execution_count": 94,
      "outputs": []
    },
    {
      "cell_type": "markdown",
      "source": [
        "Getting CLS and entity embeddings for each sentence\n",
        "\n"
      ],
      "metadata": {
        "id": "SDwF0f2a3rHE"
      }
    },
    {
      "cell_type": "code",
      "source": [
        "#t = target_text[:11]\n",
        "#l = labels[:11]\n",
        "cls_embeddings = []\n",
        "entity_embeddings = []\n",
        "\n",
        "for text in target_text:\n",
        "\n",
        "    #Finds tokenized text and tensors for a particular sentence in a document\n",
        "    tokenized_text, tokens_tensor, segments_tensors = bert_text_prep(text, tokenizer)\n",
        "\n",
        "    #Finds the embeddings\n",
        "    #list_token_embeddings = get_bert_embeddings(tokens_tensor, segments_tensors, model)\n",
        "\n",
        "    #Adds the [CLS] token embedding to the list\n",
        "    #cls_embeddings.append(list_token_embeddings[0])\n",
        "\n",
        "    #Finds the indexes for chemicals and genes in the sentence\n",
        "    #chems, genes = findTags(tokenized_text)\n",
        "\n",
        "    #Finds the cartesian product of all of these chemicals and genes\n",
        "    #prods = itertools.product(chems,genes)\n",
        "\n",
        "    #Adds the concatenated embeddings of all chemicals and genes to the list\n",
        "    #entity_embeddings += findEmbeddings(prods, list_token_embeddings)\n",
        "\n",
        "np.save(\"cls_embeddings.npy\",cls_embeddings)\n",
        "np.save(\"entity_embeddings.npy\",entity_embeddings)\n",
        "#print(len(entity_embeddings))\n",
        "#print(len(cls_embeddings))"
      ],
      "metadata": {
        "id": "tXoMT_blWrhG",
        "colab": {
          "base_uri": "https://localhost:8080/"
        },
        "outputId": "77d4b11e-e00b-444c-a921-65506b43e163"
      },
      "execution_count": 95,
      "outputs": [
        {
          "output_type": "stream",
          "name": "stdout",
          "text": [
            "In the present studies, the effects of [E2] CB(1) [/E2] agonists [[E1] (6aR,10aR)-3-(1-adamantyl)-6,6,9-trimethyl-6a,7,10,10a-tetrahydrobenzo[c]chromen-1-ol [/E1] ([E1] AM411 [/E1]), [E1] 9β-(hydroxymethyl)-3-(1-adamantyl)-hexahydrocannabinol [/E1] ([E1] AM4054 [/E1]), [E1] R-(+)-[2,3-dihydro-5-methyl-3-[(morpholinyl)methyl]pyrrolo[1,2,3-de]-1,4-benzoxazinyl]-(1-naphthalenyl)methanone mesylate [/E1] ([E1] WIN55,212.2 [/E1]), [E1] Δ(9)-tetrahydrocannabinol [/E1] ([E1] Δ(9)-THC [/E1]), [E1] (R)-(+)-arachidonyl-1'-hydroxy-2'-propylamide (methanandamide) [/E1]], [E2] CB(1) [/E2] antagonists [[E1] 5-(4-chlorophenyl)-1-(2,4-dichloro-phenyl)-4-methyl-N-(piperidin-1-yl)-1H-pyrazole-3-carboxamide [/E1] ([E1] SR141716A [/E1]), [E1] 5-(4-alkylphenyl)-1-(2,4-dichlorophenyl)-4-methyl-N-(piperidin-1-yl)-1H-pyrazole-3-carboxamide [/E1] ([E1] AM4113 [/E1])], and [E1] dopamine [/E1] (DA)-related [[E1] methamphetamine [/E1], [E1] (±)-6-chloro-7,8-dihydroxy-3-allyl-1-phenyl-2,3,4,5-tetrahydro-1H-3-benzazepine hydrobromide [/E1] ([E1] SKF82958 [/E1]), [E1] (R)-(+)-7-chloro-8-hydroxy-3-methyl-1-phenyl-2,3,4,5-tetrahydro-1H-3-benzazepine hydrochloride [/E1] ([E1] SCH23390 [/E1]), [E1] (6aR)-5,6,6a,7-tetrahydro-6-propyl-4H-dibenzo[de,g]quinoline-10,11-diol [/E1] ([E1] R-(-)-NPA [/E1]), [E1] haloperidol [/E1]] and opioid ([E1] morphine [/E1], [E1] naltrexone [/E1]) drugs on scheduled-controlled responding under a 30-response fixed ratio schedule of stimulus-shock termination in squirrel monkeys were compared before and during chronic treatment with the long-acting [E2] CB(1) [/E2] agonist [E1] AM411 [/E1] (1.0 mg/kg per day, i.m.).\n",
            "\n"
          ]
        }
      ]
    },
    {
      "cell_type": "markdown",
      "source": [
        "## Classification Step"
      ],
      "metadata": {
        "id": "E4CWwTfCcIqQ"
      }
    },
    {
      "cell_type": "markdown",
      "source": [
        "Relevant imports:\n",
        "\n"
      ],
      "metadata": {
        "id": "ijHn5tYH2ecP"
      }
    },
    {
      "cell_type": "code",
      "source": [
        "from sklearn.linear_model import LogisticRegression\n",
        "from sklearn.model_selection import cross_val_score\n",
        "from sklearn.model_selection import train_test_split\n",
        "from sklearn.metrics import plot_confusion_matrix"
      ],
      "metadata": {
        "id": "CwZpVx6Y9Vs-"
      },
      "execution_count": null,
      "outputs": []
    },
    {
      "cell_type": "markdown",
      "source": [
        "Splitting the embeddings into train/test sets"
      ],
      "metadata": {
        "id": "TrzGuFGnECwz"
      }
    },
    {
      "cell_type": "code",
      "source": [
        "#Splits the sentences into training and test sets\n",
        "cls_train_features, cls_test_features, cls_train_labels, cls_test_labels = train_test_split(cls_embeddings, labels)"
      ],
      "metadata": {
        "id": "fZqHekZbEHon"
      },
      "execution_count": null,
      "outputs": []
    },
    {
      "cell_type": "markdown",
      "source": [
        "Classifying these using logistic regression"
      ],
      "metadata": {
        "id": "mbGMU_aTMd0e"
      }
    },
    {
      "cell_type": "code",
      "source": [
        "#Defines a logistic regression classifier\n",
        "lr_clf = LogisticRegression()\n",
        "\n",
        "#Fits the model to the training data\n",
        "lr_clf.fit(cls_train_features, cls_train_labels)\n",
        "\n",
        "#Tests the model using the test data\n",
        "lr_clf.score(cls_test_features, cls_test_labels)"
      ],
      "metadata": {
        "id": "2Puvz2iJMkS-"
      },
      "execution_count": null,
      "outputs": []
    },
    {
      "cell_type": "markdown",
      "source": [
        "Entity start architecture"
      ],
      "metadata": {
        "id": "5B_gUEuFgxAY"
      }
    },
    {
      "cell_type": "code",
      "source": [
        "ent_labels = [doc['entity_labels'] for doc in docs if 'entity_labels' in doc.keys()]\n",
        "e = list(itertools.chain.from_iterable(ent_labels))\n",
        "print(e)\n",
        "print(len(e))\n",
        "\n",
        "start_train_features, start_test_features, start_train_labels, start_test_labels = train_test_split(entity_embeddings, e)"
      ],
      "metadata": {
        "id": "7KvwwWbWg5jj"
      },
      "execution_count": null,
      "outputs": []
    },
    {
      "cell_type": "code",
      "source": [
        "lr_clf = LogisticRegression()\n",
        "lr_clf.fit(start_train_features, start_train_labels)\n",
        "lr_clf.score(start_test_features, start_test_labels)"
      ],
      "metadata": {
        "id": "sbLcGoWghA49"
      },
      "execution_count": null,
      "outputs": []
    },
    {
      "cell_type": "markdown",
      "source": [
        "Establishing the relation labels"
      ],
      "metadata": {
        "id": "4lZZpVkhdC7I"
      }
    },
    {
      "cell_type": "code",
      "source": [
        "labels = list(set([r['type'] for doc in docs for r in doc['relations']]))"
      ],
      "metadata": {
        "id": "QklH7WB6ZaWE"
      },
      "execution_count": null,
      "outputs": []
    },
    {
      "cell_type": "code",
      "source": [],
      "metadata": {
        "id": "n7x9RYj9SpEU"
      },
      "execution_count": null,
      "outputs": []
    }
  ]
}