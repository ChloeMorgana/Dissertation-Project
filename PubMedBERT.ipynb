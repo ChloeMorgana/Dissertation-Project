{
  "nbformat": 4,
  "nbformat_minor": 0,
  "metadata": {
    "colab": {
      "provenance": [],
      "authorship_tag": "ABX9TyOu63/ThelfXtgRb4t6JhxZ",
      "include_colab_link": true
    },
    "kernelspec": {
      "name": "python3",
      "display_name": "Python 3"
    },
    "language_info": {
      "name": "python"
    },
    "widgets": {
      "application/vnd.jupyter.widget-state+json": {
        "b5db6c99601d4413ae963fd5420e7ea8": {
          "model_module": "@jupyter-widgets/controls",
          "model_name": "HBoxModel",
          "model_module_version": "1.5.0",
          "state": {
            "_dom_classes": [],
            "_model_module": "@jupyter-widgets/controls",
            "_model_module_version": "1.5.0",
            "_model_name": "HBoxModel",
            "_view_count": null,
            "_view_module": "@jupyter-widgets/controls",
            "_view_module_version": "1.5.0",
            "_view_name": "HBoxView",
            "box_style": "",
            "children": [
              "IPY_MODEL_1417f26155bc49deaa5d725ad79176d4",
              "IPY_MODEL_64bdd485ea1d4b7ab3e1dd9c106ae501",
              "IPY_MODEL_5ede5fb39f0a45e09c5a147ce1050966"
            ],
            "layout": "IPY_MODEL_447e996d24a24d20889ae2b02ef0ac22"
          }
        },
        "1417f26155bc49deaa5d725ad79176d4": {
          "model_module": "@jupyter-widgets/controls",
          "model_name": "HTMLModel",
          "model_module_version": "1.5.0",
          "state": {
            "_dom_classes": [],
            "_model_module": "@jupyter-widgets/controls",
            "_model_module_version": "1.5.0",
            "_model_name": "HTMLModel",
            "_view_count": null,
            "_view_module": "@jupyter-widgets/controls",
            "_view_module_version": "1.5.0",
            "_view_name": "HTMLView",
            "description": "",
            "description_tooltip": null,
            "layout": "IPY_MODEL_004230f4be704847bee4743b8b3588c6",
            "placeholder": "​",
            "style": "IPY_MODEL_1cfa90c6e87b492b9f250c1bf504f6b0",
            "value": "Downloading: 100%"
          }
        },
        "64bdd485ea1d4b7ab3e1dd9c106ae501": {
          "model_module": "@jupyter-widgets/controls",
          "model_name": "FloatProgressModel",
          "model_module_version": "1.5.0",
          "state": {
            "_dom_classes": [],
            "_model_module": "@jupyter-widgets/controls",
            "_model_module_version": "1.5.0",
            "_model_name": "FloatProgressModel",
            "_view_count": null,
            "_view_module": "@jupyter-widgets/controls",
            "_view_module_version": "1.5.0",
            "_view_name": "ProgressView",
            "bar_style": "success",
            "description": "",
            "description_tooltip": null,
            "layout": "IPY_MODEL_97f676fa3fd140cba9ab6fdcb5f3cdbe",
            "max": 385,
            "min": 0,
            "orientation": "horizontal",
            "style": "IPY_MODEL_e1c81959bc9b41e583239ac7e40481d7",
            "value": 385
          }
        },
        "5ede5fb39f0a45e09c5a147ce1050966": {
          "model_module": "@jupyter-widgets/controls",
          "model_name": "HTMLModel",
          "model_module_version": "1.5.0",
          "state": {
            "_dom_classes": [],
            "_model_module": "@jupyter-widgets/controls",
            "_model_module_version": "1.5.0",
            "_model_name": "HTMLModel",
            "_view_count": null,
            "_view_module": "@jupyter-widgets/controls",
            "_view_module_version": "1.5.0",
            "_view_name": "HTMLView",
            "description": "",
            "description_tooltip": null,
            "layout": "IPY_MODEL_78f5eceda01f40c681ce8e269b413580",
            "placeholder": "​",
            "style": "IPY_MODEL_9e56d40216de4fcaa63b3180c4cd3919",
            "value": " 385/385 [00:00&lt;00:00, 16.0kB/s]"
          }
        },
        "447e996d24a24d20889ae2b02ef0ac22": {
          "model_module": "@jupyter-widgets/base",
          "model_name": "LayoutModel",
          "model_module_version": "1.2.0",
          "state": {
            "_model_module": "@jupyter-widgets/base",
            "_model_module_version": "1.2.0",
            "_model_name": "LayoutModel",
            "_view_count": null,
            "_view_module": "@jupyter-widgets/base",
            "_view_module_version": "1.2.0",
            "_view_name": "LayoutView",
            "align_content": null,
            "align_items": null,
            "align_self": null,
            "border": null,
            "bottom": null,
            "display": null,
            "flex": null,
            "flex_flow": null,
            "grid_area": null,
            "grid_auto_columns": null,
            "grid_auto_flow": null,
            "grid_auto_rows": null,
            "grid_column": null,
            "grid_gap": null,
            "grid_row": null,
            "grid_template_areas": null,
            "grid_template_columns": null,
            "grid_template_rows": null,
            "height": null,
            "justify_content": null,
            "justify_items": null,
            "left": null,
            "margin": null,
            "max_height": null,
            "max_width": null,
            "min_height": null,
            "min_width": null,
            "object_fit": null,
            "object_position": null,
            "order": null,
            "overflow": null,
            "overflow_x": null,
            "overflow_y": null,
            "padding": null,
            "right": null,
            "top": null,
            "visibility": null,
            "width": null
          }
        },
        "004230f4be704847bee4743b8b3588c6": {
          "model_module": "@jupyter-widgets/base",
          "model_name": "LayoutModel",
          "model_module_version": "1.2.0",
          "state": {
            "_model_module": "@jupyter-widgets/base",
            "_model_module_version": "1.2.0",
            "_model_name": "LayoutModel",
            "_view_count": null,
            "_view_module": "@jupyter-widgets/base",
            "_view_module_version": "1.2.0",
            "_view_name": "LayoutView",
            "align_content": null,
            "align_items": null,
            "align_self": null,
            "border": null,
            "bottom": null,
            "display": null,
            "flex": null,
            "flex_flow": null,
            "grid_area": null,
            "grid_auto_columns": null,
            "grid_auto_flow": null,
            "grid_auto_rows": null,
            "grid_column": null,
            "grid_gap": null,
            "grid_row": null,
            "grid_template_areas": null,
            "grid_template_columns": null,
            "grid_template_rows": null,
            "height": null,
            "justify_content": null,
            "justify_items": null,
            "left": null,
            "margin": null,
            "max_height": null,
            "max_width": null,
            "min_height": null,
            "min_width": null,
            "object_fit": null,
            "object_position": null,
            "order": null,
            "overflow": null,
            "overflow_x": null,
            "overflow_y": null,
            "padding": null,
            "right": null,
            "top": null,
            "visibility": null,
            "width": null
          }
        },
        "1cfa90c6e87b492b9f250c1bf504f6b0": {
          "model_module": "@jupyter-widgets/controls",
          "model_name": "DescriptionStyleModel",
          "model_module_version": "1.5.0",
          "state": {
            "_model_module": "@jupyter-widgets/controls",
            "_model_module_version": "1.5.0",
            "_model_name": "DescriptionStyleModel",
            "_view_count": null,
            "_view_module": "@jupyter-widgets/base",
            "_view_module_version": "1.2.0",
            "_view_name": "StyleView",
            "description_width": ""
          }
        },
        "97f676fa3fd140cba9ab6fdcb5f3cdbe": {
          "model_module": "@jupyter-widgets/base",
          "model_name": "LayoutModel",
          "model_module_version": "1.2.0",
          "state": {
            "_model_module": "@jupyter-widgets/base",
            "_model_module_version": "1.2.0",
            "_model_name": "LayoutModel",
            "_view_count": null,
            "_view_module": "@jupyter-widgets/base",
            "_view_module_version": "1.2.0",
            "_view_name": "LayoutView",
            "align_content": null,
            "align_items": null,
            "align_self": null,
            "border": null,
            "bottom": null,
            "display": null,
            "flex": null,
            "flex_flow": null,
            "grid_area": null,
            "grid_auto_columns": null,
            "grid_auto_flow": null,
            "grid_auto_rows": null,
            "grid_column": null,
            "grid_gap": null,
            "grid_row": null,
            "grid_template_areas": null,
            "grid_template_columns": null,
            "grid_template_rows": null,
            "height": null,
            "justify_content": null,
            "justify_items": null,
            "left": null,
            "margin": null,
            "max_height": null,
            "max_width": null,
            "min_height": null,
            "min_width": null,
            "object_fit": null,
            "object_position": null,
            "order": null,
            "overflow": null,
            "overflow_x": null,
            "overflow_y": null,
            "padding": null,
            "right": null,
            "top": null,
            "visibility": null,
            "width": null
          }
        },
        "e1c81959bc9b41e583239ac7e40481d7": {
          "model_module": "@jupyter-widgets/controls",
          "model_name": "ProgressStyleModel",
          "model_module_version": "1.5.0",
          "state": {
            "_model_module": "@jupyter-widgets/controls",
            "_model_module_version": "1.5.0",
            "_model_name": "ProgressStyleModel",
            "_view_count": null,
            "_view_module": "@jupyter-widgets/base",
            "_view_module_version": "1.2.0",
            "_view_name": "StyleView",
            "bar_color": null,
            "description_width": ""
          }
        },
        "78f5eceda01f40c681ce8e269b413580": {
          "model_module": "@jupyter-widgets/base",
          "model_name": "LayoutModel",
          "model_module_version": "1.2.0",
          "state": {
            "_model_module": "@jupyter-widgets/base",
            "_model_module_version": "1.2.0",
            "_model_name": "LayoutModel",
            "_view_count": null,
            "_view_module": "@jupyter-widgets/base",
            "_view_module_version": "1.2.0",
            "_view_name": "LayoutView",
            "align_content": null,
            "align_items": null,
            "align_self": null,
            "border": null,
            "bottom": null,
            "display": null,
            "flex": null,
            "flex_flow": null,
            "grid_area": null,
            "grid_auto_columns": null,
            "grid_auto_flow": null,
            "grid_auto_rows": null,
            "grid_column": null,
            "grid_gap": null,
            "grid_row": null,
            "grid_template_areas": null,
            "grid_template_columns": null,
            "grid_template_rows": null,
            "height": null,
            "justify_content": null,
            "justify_items": null,
            "left": null,
            "margin": null,
            "max_height": null,
            "max_width": null,
            "min_height": null,
            "min_width": null,
            "object_fit": null,
            "object_position": null,
            "order": null,
            "overflow": null,
            "overflow_x": null,
            "overflow_y": null,
            "padding": null,
            "right": null,
            "top": null,
            "visibility": null,
            "width": null
          }
        },
        "9e56d40216de4fcaa63b3180c4cd3919": {
          "model_module": "@jupyter-widgets/controls",
          "model_name": "DescriptionStyleModel",
          "model_module_version": "1.5.0",
          "state": {
            "_model_module": "@jupyter-widgets/controls",
            "_model_module_version": "1.5.0",
            "_model_name": "DescriptionStyleModel",
            "_view_count": null,
            "_view_module": "@jupyter-widgets/base",
            "_view_module_version": "1.2.0",
            "_view_name": "StyleView",
            "description_width": ""
          }
        },
        "2c8473d21109478eb947f9622a8cc4e1": {
          "model_module": "@jupyter-widgets/controls",
          "model_name": "HBoxModel",
          "model_module_version": "1.5.0",
          "state": {
            "_dom_classes": [],
            "_model_module": "@jupyter-widgets/controls",
            "_model_module_version": "1.5.0",
            "_model_name": "HBoxModel",
            "_view_count": null,
            "_view_module": "@jupyter-widgets/controls",
            "_view_module_version": "1.5.0",
            "_view_name": "HBoxView",
            "box_style": "",
            "children": [
              "IPY_MODEL_1471fb9cb998482faf7cd3c6d9800b27",
              "IPY_MODEL_1cedb7f7bf61440d82c242668f6258da",
              "IPY_MODEL_4f68557efc414516a9cc8e50f17073ed"
            ],
            "layout": "IPY_MODEL_96fb1dd98bba419f9b80cbaae960333a"
          }
        },
        "1471fb9cb998482faf7cd3c6d9800b27": {
          "model_module": "@jupyter-widgets/controls",
          "model_name": "HTMLModel",
          "model_module_version": "1.5.0",
          "state": {
            "_dom_classes": [],
            "_model_module": "@jupyter-widgets/controls",
            "_model_module_version": "1.5.0",
            "_model_name": "HTMLModel",
            "_view_count": null,
            "_view_module": "@jupyter-widgets/controls",
            "_view_module_version": "1.5.0",
            "_view_name": "HTMLView",
            "description": "",
            "description_tooltip": null,
            "layout": "IPY_MODEL_f2b0e1dc679e4460ada3e379f6c2889f",
            "placeholder": "​",
            "style": "IPY_MODEL_e987957a478049af83835588c9115e1a",
            "value": "Downloading: 100%"
          }
        },
        "1cedb7f7bf61440d82c242668f6258da": {
          "model_module": "@jupyter-widgets/controls",
          "model_name": "FloatProgressModel",
          "model_module_version": "1.5.0",
          "state": {
            "_dom_classes": [],
            "_model_module": "@jupyter-widgets/controls",
            "_model_module_version": "1.5.0",
            "_model_name": "FloatProgressModel",
            "_view_count": null,
            "_view_module": "@jupyter-widgets/controls",
            "_view_module_version": "1.5.0",
            "_view_name": "ProgressView",
            "bar_style": "success",
            "description": "",
            "description_tooltip": null,
            "layout": "IPY_MODEL_9c653c0efcd04d27bbfcb26023f92810",
            "max": 440474434,
            "min": 0,
            "orientation": "horizontal",
            "style": "IPY_MODEL_559f1b686a754ce69dcda84cefd6a802",
            "value": 440474434
          }
        },
        "4f68557efc414516a9cc8e50f17073ed": {
          "model_module": "@jupyter-widgets/controls",
          "model_name": "HTMLModel",
          "model_module_version": "1.5.0",
          "state": {
            "_dom_classes": [],
            "_model_module": "@jupyter-widgets/controls",
            "_model_module_version": "1.5.0",
            "_model_name": "HTMLModel",
            "_view_count": null,
            "_view_module": "@jupyter-widgets/controls",
            "_view_module_version": "1.5.0",
            "_view_name": "HTMLView",
            "description": "",
            "description_tooltip": null,
            "layout": "IPY_MODEL_b7016dcc50c84626be7e3ac74a5a7647",
            "placeholder": "​",
            "style": "IPY_MODEL_32a198d0ee834de58477a2fb73146854",
            "value": " 440M/440M [00:08&lt;00:00, 47.5MB/s]"
          }
        },
        "96fb1dd98bba419f9b80cbaae960333a": {
          "model_module": "@jupyter-widgets/base",
          "model_name": "LayoutModel",
          "model_module_version": "1.2.0",
          "state": {
            "_model_module": "@jupyter-widgets/base",
            "_model_module_version": "1.2.0",
            "_model_name": "LayoutModel",
            "_view_count": null,
            "_view_module": "@jupyter-widgets/base",
            "_view_module_version": "1.2.0",
            "_view_name": "LayoutView",
            "align_content": null,
            "align_items": null,
            "align_self": null,
            "border": null,
            "bottom": null,
            "display": null,
            "flex": null,
            "flex_flow": null,
            "grid_area": null,
            "grid_auto_columns": null,
            "grid_auto_flow": null,
            "grid_auto_rows": null,
            "grid_column": null,
            "grid_gap": null,
            "grid_row": null,
            "grid_template_areas": null,
            "grid_template_columns": null,
            "grid_template_rows": null,
            "height": null,
            "justify_content": null,
            "justify_items": null,
            "left": null,
            "margin": null,
            "max_height": null,
            "max_width": null,
            "min_height": null,
            "min_width": null,
            "object_fit": null,
            "object_position": null,
            "order": null,
            "overflow": null,
            "overflow_x": null,
            "overflow_y": null,
            "padding": null,
            "right": null,
            "top": null,
            "visibility": null,
            "width": null
          }
        },
        "f2b0e1dc679e4460ada3e379f6c2889f": {
          "model_module": "@jupyter-widgets/base",
          "model_name": "LayoutModel",
          "model_module_version": "1.2.0",
          "state": {
            "_model_module": "@jupyter-widgets/base",
            "_model_module_version": "1.2.0",
            "_model_name": "LayoutModel",
            "_view_count": null,
            "_view_module": "@jupyter-widgets/base",
            "_view_module_version": "1.2.0",
            "_view_name": "LayoutView",
            "align_content": null,
            "align_items": null,
            "align_self": null,
            "border": null,
            "bottom": null,
            "display": null,
            "flex": null,
            "flex_flow": null,
            "grid_area": null,
            "grid_auto_columns": null,
            "grid_auto_flow": null,
            "grid_auto_rows": null,
            "grid_column": null,
            "grid_gap": null,
            "grid_row": null,
            "grid_template_areas": null,
            "grid_template_columns": null,
            "grid_template_rows": null,
            "height": null,
            "justify_content": null,
            "justify_items": null,
            "left": null,
            "margin": null,
            "max_height": null,
            "max_width": null,
            "min_height": null,
            "min_width": null,
            "object_fit": null,
            "object_position": null,
            "order": null,
            "overflow": null,
            "overflow_x": null,
            "overflow_y": null,
            "padding": null,
            "right": null,
            "top": null,
            "visibility": null,
            "width": null
          }
        },
        "e987957a478049af83835588c9115e1a": {
          "model_module": "@jupyter-widgets/controls",
          "model_name": "DescriptionStyleModel",
          "model_module_version": "1.5.0",
          "state": {
            "_model_module": "@jupyter-widgets/controls",
            "_model_module_version": "1.5.0",
            "_model_name": "DescriptionStyleModel",
            "_view_count": null,
            "_view_module": "@jupyter-widgets/base",
            "_view_module_version": "1.2.0",
            "_view_name": "StyleView",
            "description_width": ""
          }
        },
        "9c653c0efcd04d27bbfcb26023f92810": {
          "model_module": "@jupyter-widgets/base",
          "model_name": "LayoutModel",
          "model_module_version": "1.2.0",
          "state": {
            "_model_module": "@jupyter-widgets/base",
            "_model_module_version": "1.2.0",
            "_model_name": "LayoutModel",
            "_view_count": null,
            "_view_module": "@jupyter-widgets/base",
            "_view_module_version": "1.2.0",
            "_view_name": "LayoutView",
            "align_content": null,
            "align_items": null,
            "align_self": null,
            "border": null,
            "bottom": null,
            "display": null,
            "flex": null,
            "flex_flow": null,
            "grid_area": null,
            "grid_auto_columns": null,
            "grid_auto_flow": null,
            "grid_auto_rows": null,
            "grid_column": null,
            "grid_gap": null,
            "grid_row": null,
            "grid_template_areas": null,
            "grid_template_columns": null,
            "grid_template_rows": null,
            "height": null,
            "justify_content": null,
            "justify_items": null,
            "left": null,
            "margin": null,
            "max_height": null,
            "max_width": null,
            "min_height": null,
            "min_width": null,
            "object_fit": null,
            "object_position": null,
            "order": null,
            "overflow": null,
            "overflow_x": null,
            "overflow_y": null,
            "padding": null,
            "right": null,
            "top": null,
            "visibility": null,
            "width": null
          }
        },
        "559f1b686a754ce69dcda84cefd6a802": {
          "model_module": "@jupyter-widgets/controls",
          "model_name": "ProgressStyleModel",
          "model_module_version": "1.5.0",
          "state": {
            "_model_module": "@jupyter-widgets/controls",
            "_model_module_version": "1.5.0",
            "_model_name": "ProgressStyleModel",
            "_view_count": null,
            "_view_module": "@jupyter-widgets/base",
            "_view_module_version": "1.2.0",
            "_view_name": "StyleView",
            "bar_color": null,
            "description_width": ""
          }
        },
        "b7016dcc50c84626be7e3ac74a5a7647": {
          "model_module": "@jupyter-widgets/base",
          "model_name": "LayoutModel",
          "model_module_version": "1.2.0",
          "state": {
            "_model_module": "@jupyter-widgets/base",
            "_model_module_version": "1.2.0",
            "_model_name": "LayoutModel",
            "_view_count": null,
            "_view_module": "@jupyter-widgets/base",
            "_view_module_version": "1.2.0",
            "_view_name": "LayoutView",
            "align_content": null,
            "align_items": null,
            "align_self": null,
            "border": null,
            "bottom": null,
            "display": null,
            "flex": null,
            "flex_flow": null,
            "grid_area": null,
            "grid_auto_columns": null,
            "grid_auto_flow": null,
            "grid_auto_rows": null,
            "grid_column": null,
            "grid_gap": null,
            "grid_row": null,
            "grid_template_areas": null,
            "grid_template_columns": null,
            "grid_template_rows": null,
            "height": null,
            "justify_content": null,
            "justify_items": null,
            "left": null,
            "margin": null,
            "max_height": null,
            "max_width": null,
            "min_height": null,
            "min_width": null,
            "object_fit": null,
            "object_position": null,
            "order": null,
            "overflow": null,
            "overflow_x": null,
            "overflow_y": null,
            "padding": null,
            "right": null,
            "top": null,
            "visibility": null,
            "width": null
          }
        },
        "32a198d0ee834de58477a2fb73146854": {
          "model_module": "@jupyter-widgets/controls",
          "model_name": "DescriptionStyleModel",
          "model_module_version": "1.5.0",
          "state": {
            "_model_module": "@jupyter-widgets/controls",
            "_model_module_version": "1.5.0",
            "_model_name": "DescriptionStyleModel",
            "_view_count": null,
            "_view_module": "@jupyter-widgets/base",
            "_view_module_version": "1.2.0",
            "_view_name": "StyleView",
            "description_width": ""
          }
        },
        "3c7f80aebf4744f5a1ff42137c80ed93": {
          "model_module": "@jupyter-widgets/controls",
          "model_name": "HBoxModel",
          "model_module_version": "1.5.0",
          "state": {
            "_dom_classes": [],
            "_model_module": "@jupyter-widgets/controls",
            "_model_module_version": "1.5.0",
            "_model_name": "HBoxModel",
            "_view_count": null,
            "_view_module": "@jupyter-widgets/controls",
            "_view_module_version": "1.5.0",
            "_view_name": "HBoxView",
            "box_style": "",
            "children": [
              "IPY_MODEL_1fc90fa42f004c4a94e647e2abf7383e",
              "IPY_MODEL_0e885460425c496fa8b7ceba10e88145",
              "IPY_MODEL_c25e4f118712454680910cb34200fdcf"
            ],
            "layout": "IPY_MODEL_456df3180a8b4ecfa9041dd4fc167f47"
          }
        },
        "1fc90fa42f004c4a94e647e2abf7383e": {
          "model_module": "@jupyter-widgets/controls",
          "model_name": "HTMLModel",
          "model_module_version": "1.5.0",
          "state": {
            "_dom_classes": [],
            "_model_module": "@jupyter-widgets/controls",
            "_model_module_version": "1.5.0",
            "_model_name": "HTMLModel",
            "_view_count": null,
            "_view_module": "@jupyter-widgets/controls",
            "_view_module_version": "1.5.0",
            "_view_name": "HTMLView",
            "description": "",
            "description_tooltip": null,
            "layout": "IPY_MODEL_a28e23c4be964bbeb63ddec276412007",
            "placeholder": "​",
            "style": "IPY_MODEL_76f4185d51e64a41a86b0bb65ff2d73f",
            "value": "Downloading: 100%"
          }
        },
        "0e885460425c496fa8b7ceba10e88145": {
          "model_module": "@jupyter-widgets/controls",
          "model_name": "FloatProgressModel",
          "model_module_version": "1.5.0",
          "state": {
            "_dom_classes": [],
            "_model_module": "@jupyter-widgets/controls",
            "_model_module_version": "1.5.0",
            "_model_name": "FloatProgressModel",
            "_view_count": null,
            "_view_module": "@jupyter-widgets/controls",
            "_view_module_version": "1.5.0",
            "_view_name": "ProgressView",
            "bar_style": "success",
            "description": "",
            "description_tooltip": null,
            "layout": "IPY_MODEL_59556185ead44c9b8660ba14209cd88d",
            "max": 28,
            "min": 0,
            "orientation": "horizontal",
            "style": "IPY_MODEL_5360030d05134e90b6669c1a72ecdfe3",
            "value": 28
          }
        },
        "c25e4f118712454680910cb34200fdcf": {
          "model_module": "@jupyter-widgets/controls",
          "model_name": "HTMLModel",
          "model_module_version": "1.5.0",
          "state": {
            "_dom_classes": [],
            "_model_module": "@jupyter-widgets/controls",
            "_model_module_version": "1.5.0",
            "_model_name": "HTMLModel",
            "_view_count": null,
            "_view_module": "@jupyter-widgets/controls",
            "_view_module_version": "1.5.0",
            "_view_name": "HTMLView",
            "description": "",
            "description_tooltip": null,
            "layout": "IPY_MODEL_c12c232a992140ae90e35c9171649339",
            "placeholder": "​",
            "style": "IPY_MODEL_de603307de9841e8834b02a29d7535b5",
            "value": " 28.0/28.0 [00:00&lt;00:00, 1.11kB/s]"
          }
        },
        "456df3180a8b4ecfa9041dd4fc167f47": {
          "model_module": "@jupyter-widgets/base",
          "model_name": "LayoutModel",
          "model_module_version": "1.2.0",
          "state": {
            "_model_module": "@jupyter-widgets/base",
            "_model_module_version": "1.2.0",
            "_model_name": "LayoutModel",
            "_view_count": null,
            "_view_module": "@jupyter-widgets/base",
            "_view_module_version": "1.2.0",
            "_view_name": "LayoutView",
            "align_content": null,
            "align_items": null,
            "align_self": null,
            "border": null,
            "bottom": null,
            "display": null,
            "flex": null,
            "flex_flow": null,
            "grid_area": null,
            "grid_auto_columns": null,
            "grid_auto_flow": null,
            "grid_auto_rows": null,
            "grid_column": null,
            "grid_gap": null,
            "grid_row": null,
            "grid_template_areas": null,
            "grid_template_columns": null,
            "grid_template_rows": null,
            "height": null,
            "justify_content": null,
            "justify_items": null,
            "left": null,
            "margin": null,
            "max_height": null,
            "max_width": null,
            "min_height": null,
            "min_width": null,
            "object_fit": null,
            "object_position": null,
            "order": null,
            "overflow": null,
            "overflow_x": null,
            "overflow_y": null,
            "padding": null,
            "right": null,
            "top": null,
            "visibility": null,
            "width": null
          }
        },
        "a28e23c4be964bbeb63ddec276412007": {
          "model_module": "@jupyter-widgets/base",
          "model_name": "LayoutModel",
          "model_module_version": "1.2.0",
          "state": {
            "_model_module": "@jupyter-widgets/base",
            "_model_module_version": "1.2.0",
            "_model_name": "LayoutModel",
            "_view_count": null,
            "_view_module": "@jupyter-widgets/base",
            "_view_module_version": "1.2.0",
            "_view_name": "LayoutView",
            "align_content": null,
            "align_items": null,
            "align_self": null,
            "border": null,
            "bottom": null,
            "display": null,
            "flex": null,
            "flex_flow": null,
            "grid_area": null,
            "grid_auto_columns": null,
            "grid_auto_flow": null,
            "grid_auto_rows": null,
            "grid_column": null,
            "grid_gap": null,
            "grid_row": null,
            "grid_template_areas": null,
            "grid_template_columns": null,
            "grid_template_rows": null,
            "height": null,
            "justify_content": null,
            "justify_items": null,
            "left": null,
            "margin": null,
            "max_height": null,
            "max_width": null,
            "min_height": null,
            "min_width": null,
            "object_fit": null,
            "object_position": null,
            "order": null,
            "overflow": null,
            "overflow_x": null,
            "overflow_y": null,
            "padding": null,
            "right": null,
            "top": null,
            "visibility": null,
            "width": null
          }
        },
        "76f4185d51e64a41a86b0bb65ff2d73f": {
          "model_module": "@jupyter-widgets/controls",
          "model_name": "DescriptionStyleModel",
          "model_module_version": "1.5.0",
          "state": {
            "_model_module": "@jupyter-widgets/controls",
            "_model_module_version": "1.5.0",
            "_model_name": "DescriptionStyleModel",
            "_view_count": null,
            "_view_module": "@jupyter-widgets/base",
            "_view_module_version": "1.2.0",
            "_view_name": "StyleView",
            "description_width": ""
          }
        },
        "59556185ead44c9b8660ba14209cd88d": {
          "model_module": "@jupyter-widgets/base",
          "model_name": "LayoutModel",
          "model_module_version": "1.2.0",
          "state": {
            "_model_module": "@jupyter-widgets/base",
            "_model_module_version": "1.2.0",
            "_model_name": "LayoutModel",
            "_view_count": null,
            "_view_module": "@jupyter-widgets/base",
            "_view_module_version": "1.2.0",
            "_view_name": "LayoutView",
            "align_content": null,
            "align_items": null,
            "align_self": null,
            "border": null,
            "bottom": null,
            "display": null,
            "flex": null,
            "flex_flow": null,
            "grid_area": null,
            "grid_auto_columns": null,
            "grid_auto_flow": null,
            "grid_auto_rows": null,
            "grid_column": null,
            "grid_gap": null,
            "grid_row": null,
            "grid_template_areas": null,
            "grid_template_columns": null,
            "grid_template_rows": null,
            "height": null,
            "justify_content": null,
            "justify_items": null,
            "left": null,
            "margin": null,
            "max_height": null,
            "max_width": null,
            "min_height": null,
            "min_width": null,
            "object_fit": null,
            "object_position": null,
            "order": null,
            "overflow": null,
            "overflow_x": null,
            "overflow_y": null,
            "padding": null,
            "right": null,
            "top": null,
            "visibility": null,
            "width": null
          }
        },
        "5360030d05134e90b6669c1a72ecdfe3": {
          "model_module": "@jupyter-widgets/controls",
          "model_name": "ProgressStyleModel",
          "model_module_version": "1.5.0",
          "state": {
            "_model_module": "@jupyter-widgets/controls",
            "_model_module_version": "1.5.0",
            "_model_name": "ProgressStyleModel",
            "_view_count": null,
            "_view_module": "@jupyter-widgets/base",
            "_view_module_version": "1.2.0",
            "_view_name": "StyleView",
            "bar_color": null,
            "description_width": ""
          }
        },
        "c12c232a992140ae90e35c9171649339": {
          "model_module": "@jupyter-widgets/base",
          "model_name": "LayoutModel",
          "model_module_version": "1.2.0",
          "state": {
            "_model_module": "@jupyter-widgets/base",
            "_model_module_version": "1.2.0",
            "_model_name": "LayoutModel",
            "_view_count": null,
            "_view_module": "@jupyter-widgets/base",
            "_view_module_version": "1.2.0",
            "_view_name": "LayoutView",
            "align_content": null,
            "align_items": null,
            "align_self": null,
            "border": null,
            "bottom": null,
            "display": null,
            "flex": null,
            "flex_flow": null,
            "grid_area": null,
            "grid_auto_columns": null,
            "grid_auto_flow": null,
            "grid_auto_rows": null,
            "grid_column": null,
            "grid_gap": null,
            "grid_row": null,
            "grid_template_areas": null,
            "grid_template_columns": null,
            "grid_template_rows": null,
            "height": null,
            "justify_content": null,
            "justify_items": null,
            "left": null,
            "margin": null,
            "max_height": null,
            "max_width": null,
            "min_height": null,
            "min_width": null,
            "object_fit": null,
            "object_position": null,
            "order": null,
            "overflow": null,
            "overflow_x": null,
            "overflow_y": null,
            "padding": null,
            "right": null,
            "top": null,
            "visibility": null,
            "width": null
          }
        },
        "de603307de9841e8834b02a29d7535b5": {
          "model_module": "@jupyter-widgets/controls",
          "model_name": "DescriptionStyleModel",
          "model_module_version": "1.5.0",
          "state": {
            "_model_module": "@jupyter-widgets/controls",
            "_model_module_version": "1.5.0",
            "_model_name": "DescriptionStyleModel",
            "_view_count": null,
            "_view_module": "@jupyter-widgets/base",
            "_view_module_version": "1.2.0",
            "_view_name": "StyleView",
            "description_width": ""
          }
        },
        "3f48ac1c36a7484c86dc9900952fb98d": {
          "model_module": "@jupyter-widgets/controls",
          "model_name": "HBoxModel",
          "model_module_version": "1.5.0",
          "state": {
            "_dom_classes": [],
            "_model_module": "@jupyter-widgets/controls",
            "_model_module_version": "1.5.0",
            "_model_name": "HBoxModel",
            "_view_count": null,
            "_view_module": "@jupyter-widgets/controls",
            "_view_module_version": "1.5.0",
            "_view_name": "HBoxView",
            "box_style": "",
            "children": [
              "IPY_MODEL_dc72b8e08fbf43a486e81c65e22f33bc",
              "IPY_MODEL_6251ac6f712e4850a50df86a3bcdb1da",
              "IPY_MODEL_edf57586a8dc41c0878f9ebfabd86b4f"
            ],
            "layout": "IPY_MODEL_b91d45fa51404af9939f2a0421b1aa6a"
          }
        },
        "dc72b8e08fbf43a486e81c65e22f33bc": {
          "model_module": "@jupyter-widgets/controls",
          "model_name": "HTMLModel",
          "model_module_version": "1.5.0",
          "state": {
            "_dom_classes": [],
            "_model_module": "@jupyter-widgets/controls",
            "_model_module_version": "1.5.0",
            "_model_name": "HTMLModel",
            "_view_count": null,
            "_view_module": "@jupyter-widgets/controls",
            "_view_module_version": "1.5.0",
            "_view_name": "HTMLView",
            "description": "",
            "description_tooltip": null,
            "layout": "IPY_MODEL_294dee2280e7414ba5d06783a8065c04",
            "placeholder": "​",
            "style": "IPY_MODEL_7e1b81205f704a47ab1b721457a7a800",
            "value": "Downloading: 100%"
          }
        },
        "6251ac6f712e4850a50df86a3bcdb1da": {
          "model_module": "@jupyter-widgets/controls",
          "model_name": "FloatProgressModel",
          "model_module_version": "1.5.0",
          "state": {
            "_dom_classes": [],
            "_model_module": "@jupyter-widgets/controls",
            "_model_module_version": "1.5.0",
            "_model_name": "FloatProgressModel",
            "_view_count": null,
            "_view_module": "@jupyter-widgets/controls",
            "_view_module_version": "1.5.0",
            "_view_name": "ProgressView",
            "bar_style": "success",
            "description": "",
            "description_tooltip": null,
            "layout": "IPY_MODEL_0fe7b99f68e444ba871c6d86e5585cd2",
            "max": 226150,
            "min": 0,
            "orientation": "horizontal",
            "style": "IPY_MODEL_d2852d464f0c4627b2747e1c2160183c",
            "value": 226150
          }
        },
        "edf57586a8dc41c0878f9ebfabd86b4f": {
          "model_module": "@jupyter-widgets/controls",
          "model_name": "HTMLModel",
          "model_module_version": "1.5.0",
          "state": {
            "_dom_classes": [],
            "_model_module": "@jupyter-widgets/controls",
            "_model_module_version": "1.5.0",
            "_model_name": "HTMLModel",
            "_view_count": null,
            "_view_module": "@jupyter-widgets/controls",
            "_view_module_version": "1.5.0",
            "_view_name": "HTMLView",
            "description": "",
            "description_tooltip": null,
            "layout": "IPY_MODEL_cb06592f22834e219487a41c60475627",
            "placeholder": "​",
            "style": "IPY_MODEL_695d8466a4df4b1f906ec1a73e500f98",
            "value": " 226k/226k [00:00&lt;00:00, 2.29MB/s]"
          }
        },
        "b91d45fa51404af9939f2a0421b1aa6a": {
          "model_module": "@jupyter-widgets/base",
          "model_name": "LayoutModel",
          "model_module_version": "1.2.0",
          "state": {
            "_model_module": "@jupyter-widgets/base",
            "_model_module_version": "1.2.0",
            "_model_name": "LayoutModel",
            "_view_count": null,
            "_view_module": "@jupyter-widgets/base",
            "_view_module_version": "1.2.0",
            "_view_name": "LayoutView",
            "align_content": null,
            "align_items": null,
            "align_self": null,
            "border": null,
            "bottom": null,
            "display": null,
            "flex": null,
            "flex_flow": null,
            "grid_area": null,
            "grid_auto_columns": null,
            "grid_auto_flow": null,
            "grid_auto_rows": null,
            "grid_column": null,
            "grid_gap": null,
            "grid_row": null,
            "grid_template_areas": null,
            "grid_template_columns": null,
            "grid_template_rows": null,
            "height": null,
            "justify_content": null,
            "justify_items": null,
            "left": null,
            "margin": null,
            "max_height": null,
            "max_width": null,
            "min_height": null,
            "min_width": null,
            "object_fit": null,
            "object_position": null,
            "order": null,
            "overflow": null,
            "overflow_x": null,
            "overflow_y": null,
            "padding": null,
            "right": null,
            "top": null,
            "visibility": null,
            "width": null
          }
        },
        "294dee2280e7414ba5d06783a8065c04": {
          "model_module": "@jupyter-widgets/base",
          "model_name": "LayoutModel",
          "model_module_version": "1.2.0",
          "state": {
            "_model_module": "@jupyter-widgets/base",
            "_model_module_version": "1.2.0",
            "_model_name": "LayoutModel",
            "_view_count": null,
            "_view_module": "@jupyter-widgets/base",
            "_view_module_version": "1.2.0",
            "_view_name": "LayoutView",
            "align_content": null,
            "align_items": null,
            "align_self": null,
            "border": null,
            "bottom": null,
            "display": null,
            "flex": null,
            "flex_flow": null,
            "grid_area": null,
            "grid_auto_columns": null,
            "grid_auto_flow": null,
            "grid_auto_rows": null,
            "grid_column": null,
            "grid_gap": null,
            "grid_row": null,
            "grid_template_areas": null,
            "grid_template_columns": null,
            "grid_template_rows": null,
            "height": null,
            "justify_content": null,
            "justify_items": null,
            "left": null,
            "margin": null,
            "max_height": null,
            "max_width": null,
            "min_height": null,
            "min_width": null,
            "object_fit": null,
            "object_position": null,
            "order": null,
            "overflow": null,
            "overflow_x": null,
            "overflow_y": null,
            "padding": null,
            "right": null,
            "top": null,
            "visibility": null,
            "width": null
          }
        },
        "7e1b81205f704a47ab1b721457a7a800": {
          "model_module": "@jupyter-widgets/controls",
          "model_name": "DescriptionStyleModel",
          "model_module_version": "1.5.0",
          "state": {
            "_model_module": "@jupyter-widgets/controls",
            "_model_module_version": "1.5.0",
            "_model_name": "DescriptionStyleModel",
            "_view_count": null,
            "_view_module": "@jupyter-widgets/base",
            "_view_module_version": "1.2.0",
            "_view_name": "StyleView",
            "description_width": ""
          }
        },
        "0fe7b99f68e444ba871c6d86e5585cd2": {
          "model_module": "@jupyter-widgets/base",
          "model_name": "LayoutModel",
          "model_module_version": "1.2.0",
          "state": {
            "_model_module": "@jupyter-widgets/base",
            "_model_module_version": "1.2.0",
            "_model_name": "LayoutModel",
            "_view_count": null,
            "_view_module": "@jupyter-widgets/base",
            "_view_module_version": "1.2.0",
            "_view_name": "LayoutView",
            "align_content": null,
            "align_items": null,
            "align_self": null,
            "border": null,
            "bottom": null,
            "display": null,
            "flex": null,
            "flex_flow": null,
            "grid_area": null,
            "grid_auto_columns": null,
            "grid_auto_flow": null,
            "grid_auto_rows": null,
            "grid_column": null,
            "grid_gap": null,
            "grid_row": null,
            "grid_template_areas": null,
            "grid_template_columns": null,
            "grid_template_rows": null,
            "height": null,
            "justify_content": null,
            "justify_items": null,
            "left": null,
            "margin": null,
            "max_height": null,
            "max_width": null,
            "min_height": null,
            "min_width": null,
            "object_fit": null,
            "object_position": null,
            "order": null,
            "overflow": null,
            "overflow_x": null,
            "overflow_y": null,
            "padding": null,
            "right": null,
            "top": null,
            "visibility": null,
            "width": null
          }
        },
        "d2852d464f0c4627b2747e1c2160183c": {
          "model_module": "@jupyter-widgets/controls",
          "model_name": "ProgressStyleModel",
          "model_module_version": "1.5.0",
          "state": {
            "_model_module": "@jupyter-widgets/controls",
            "_model_module_version": "1.5.0",
            "_model_name": "ProgressStyleModel",
            "_view_count": null,
            "_view_module": "@jupyter-widgets/base",
            "_view_module_version": "1.2.0",
            "_view_name": "StyleView",
            "bar_color": null,
            "description_width": ""
          }
        },
        "cb06592f22834e219487a41c60475627": {
          "model_module": "@jupyter-widgets/base",
          "model_name": "LayoutModel",
          "model_module_version": "1.2.0",
          "state": {
            "_model_module": "@jupyter-widgets/base",
            "_model_module_version": "1.2.0",
            "_model_name": "LayoutModel",
            "_view_count": null,
            "_view_module": "@jupyter-widgets/base",
            "_view_module_version": "1.2.0",
            "_view_name": "LayoutView",
            "align_content": null,
            "align_items": null,
            "align_self": null,
            "border": null,
            "bottom": null,
            "display": null,
            "flex": null,
            "flex_flow": null,
            "grid_area": null,
            "grid_auto_columns": null,
            "grid_auto_flow": null,
            "grid_auto_rows": null,
            "grid_column": null,
            "grid_gap": null,
            "grid_row": null,
            "grid_template_areas": null,
            "grid_template_columns": null,
            "grid_template_rows": null,
            "height": null,
            "justify_content": null,
            "justify_items": null,
            "left": null,
            "margin": null,
            "max_height": null,
            "max_width": null,
            "min_height": null,
            "min_width": null,
            "object_fit": null,
            "object_position": null,
            "order": null,
            "overflow": null,
            "overflow_x": null,
            "overflow_y": null,
            "padding": null,
            "right": null,
            "top": null,
            "visibility": null,
            "width": null
          }
        },
        "695d8466a4df4b1f906ec1a73e500f98": {
          "model_module": "@jupyter-widgets/controls",
          "model_name": "DescriptionStyleModel",
          "model_module_version": "1.5.0",
          "state": {
            "_model_module": "@jupyter-widgets/controls",
            "_model_module_version": "1.5.0",
            "_model_name": "DescriptionStyleModel",
            "_view_count": null,
            "_view_module": "@jupyter-widgets/base",
            "_view_module_version": "1.2.0",
            "_view_name": "StyleView",
            "description_width": ""
          }
        }
      }
    }
  },
  "cells": [
    {
      "cell_type": "markdown",
      "metadata": {
        "id": "view-in-github",
        "colab_type": "text"
      },
      "source": [
        "<a href=\"https://colab.research.google.com/github/ChloeMorgana/Dissertation-Project/blob/main/PubMedBERT.ipynb\" target=\"_parent\"><img src=\"https://colab.research.google.com/assets/colab-badge.svg\" alt=\"Open In Colab\"/></a>"
      ]
    },
    {
      "cell_type": "markdown",
      "source": [
        "#Loading of DrugProt dataset\n",
        "\n",
        "Downloading and unzipping file"
      ],
      "metadata": {
        "id": "XEVZhcw6vcub"
      }
    },
    {
      "cell_type": "code",
      "execution_count": 1,
      "metadata": {
        "colab": {
          "base_uri": "https://localhost:8080/"
        },
        "id": "CXtcGw7lujGS",
        "outputId": "4e30ebe0-b8a1-4aee-d842-b44369f73432"
      },
      "outputs": [
        {
          "output_type": "stream",
          "name": "stdout",
          "text": [
            "--2022-12-22 10:59:24--  https://zenodo.org/record/5042151/files/drugprot-gs-training-development.zip\n",
            "Resolving zenodo.org (zenodo.org)... 188.185.124.72\n",
            "Connecting to zenodo.org (zenodo.org)|188.185.124.72|:443... connected.\n",
            "HTTP request sent, awaiting response... 200 OK\n",
            "Length: 3796908 (3.6M) [application/octet-stream]\n",
            "Saving to: ‘drugprot-gs-training-development.zip’\n",
            "\n",
            "drugprot-gs-trainin 100%[===================>]   3.62M   584KB/s    in 6.4s    \n",
            "\n",
            "2022-12-22 10:59:32 (576 KB/s) - ‘drugprot-gs-training-development.zip’ saved [3796908/3796908]\n",
            "\n",
            "Archive:  drugprot-gs-training-development.zip\n",
            "   creating: drugprot-gs-training-development/\n",
            "  inflating: drugprot-gs-training-development/README.pdf  \n",
            "   creating: drugprot-gs-training-development/development/\n",
            "  inflating: drugprot-gs-training-development/development/drugprot_development_relations.tsv  \n",
            "  inflating: drugprot-gs-training-development/development/drugprot_development_entities.tsv  \n",
            "  inflating: drugprot-gs-training-development/development/drugprot_development_abstracs.tsv  \n",
            "   creating: drugprot-gs-training-development/training/\n",
            "  inflating: drugprot-gs-training-development/training/drugprot_training_abstracs.tsv  \n",
            "  inflating: drugprot-gs-training-development/training/drugprot_training_relations.tsv  \n",
            "  inflating: drugprot-gs-training-development/training/drugprot_training_entities.tsv  \n"
          ]
        }
      ],
      "source": [
        "!wget https://zenodo.org/record/5042151/files/drugprot-gs-training-development.zip\n",
        "!unzip drugprot-gs-training-development.zip"
      ]
    },
    {
      "cell_type": "markdown",
      "source": [
        "Combining all three files together."
      ],
      "metadata": {
        "id": "BlEsiDFNyVK2"
      }
    },
    {
      "cell_type": "code",
      "source": [
        "def loadDrugProt(abstracts_filename, entities_filename, relations_filename):\n",
        "\n",
        "  docs = {}\n",
        "\n",
        "  # Load the title/abstracts text in as documents\n",
        "  with open(abstracts_filename, encoding='utf8') as f:\n",
        "    for lineno,line in enumerate(f):\n",
        "      split = line.strip('\\n').split('\\t')\n",
        "      assert len(split) == 3, f\"Expected 3 columns but got {len(split)} on line {lineno+1}\"\n",
        "      pubmed_id, title, abstract = split\n",
        "      pubmed_id = int(pubmed_id)\n",
        "\n",
        "      combined_text = title + '\\n' + abstract\n",
        "      docs[pubmed_id] = {'pubmed_id':pubmed_id, 'text':combined_text, 'entities':{}, 'relations':[]}\n",
        "\n",
        "  # Load the entities and match them up with the documents\n",
        "  with open(entities_filename, encoding='utf8') as f:\n",
        "    for lineno,line in enumerate(f):\n",
        "      split = line.strip('\\n').split('\\t')\n",
        "      assert len(split) == 6, f\"Expected 6 columns but got {len(split)} on line {lineno+1}\"\n",
        "      pubmed_id, entity_id, entity_type, start_coord, end_coord, entity_text = split\n",
        "\n",
        "      pubmed_id = int(pubmed_id)\n",
        "      start_coord = int(start_coord)\n",
        "      end_coord = int(end_coord)\n",
        "\n",
        "      assert pubmed_id in docs, f\"Did not find matching document for pubmed_id={pubmed_id}\"\n",
        "      doc = docs[pubmed_id]\n",
        "\n",
        "      assert doc['text'][start_coord:end_coord] == entity_text, f\"Text for entity with coords {start_coord}:{end_coord} in document (pubmed_id={pubmed_id} does not match expected. 'f{doc['text'][start_coord:end_coord]}' != '{entity_text}'\"\n",
        "\n",
        "      entity = {'type':entity_type, 'start':start_coord, 'end':end_coord, 'text':entity_text}\n",
        "      doc['entities'][entity_id] = entity\n",
        "\n",
        "  if relations_filename is not None:\n",
        "    # Load the relations and match them up with the entities in the corresponding document\n",
        "    with open(relations_filename, encoding='utf8') as f:\n",
        "      for lineno,line in enumerate(f):\n",
        "        split = line.strip('\\n').split('\\t')\n",
        "        assert len(split) == 4, f\"Expected 4 columns but got {len(split)} on line {lineno+1}\"\n",
        "\n",
        "        pubmed_id, relation_type, arg1, arg2 = split\n",
        "\n",
        "        pubmed_id = int(pubmed_id)\n",
        "        assert arg1.startswith('Arg1:'), f\"Relation argument should start with 'Arg1:'. Got: {arg1}\"\n",
        "        assert arg2.startswith('Arg2:'), f\"Relation argument should start with 'Arg2:'. Got: {arg2}\"\n",
        "\n",
        "        # Remove arg1/arg2 from text\n",
        "        arg1 = arg1.split(':')[1]\n",
        "        arg2 = arg2.split(':')[1]\n",
        "\n",
        "        assert pubmed_id in docs, f\"Did not find matching document for pubmed_id={pubmed_id}\"\n",
        "        doc = docs[pubmed_id]\n",
        "\n",
        "        assert arg1 in doc['entities'], f\"Couldn't find entity with id={arg1} in document with pubmed_id={pubmed_id}\"\n",
        "        assert arg2 in doc['entities'], f\"Couldn't find entity with id={arg2} in document with pubmed_id={pubmed_id}\"\n",
        "\n",
        "        relation = {'type':relation_type,'arg1':arg1,'arg2':arg2}\n",
        "        doc['relations'].append(relation)\n",
        "\n",
        "  # Convert the dictionary of documents (indexed by pubmed_id) into a simpler dictionary\n",
        "  docs = sorted(docs.values(), key=lambda x:x['pubmed_id'])\n",
        "\n",
        "  return docs"
      ],
      "metadata": {
        "id": "Jnq0pnCUvtPI"
      },
      "execution_count": 2,
      "outputs": []
    },
    {
      "cell_type": "markdown",
      "source": [
        "Applying function to dataset"
      ],
      "metadata": {
        "id": "rmXTTkBLyk4Q"
      }
    },
    {
      "cell_type": "code",
      "source": [
        "docs = loadDrugProt('drugprot-gs-training-development/training/drugprot_training_abstracs.tsv',\n",
        "                    'drugprot-gs-training-development/training/drugprot_training_entities.tsv',\n",
        "                    'drugprot-gs-training-development/training/drugprot_training_relations.tsv')"
      ],
      "metadata": {
        "id": "yAemM9gmyG7F"
      },
      "execution_count": 3,
      "outputs": []
    },
    {
      "cell_type": "markdown",
      "source": [
        "Observation of doc structure\n"
      ],
      "metadata": {
        "id": "hsBqNeznyrJC"
      }
    },
    {
      "cell_type": "code",
      "source": [
        "#search = [ d for d in docs if d['pubmed_id'] == 23197773]\n",
        "#find = [ d for d in docs if \"This study was designed to establish initial safety and efficacy data in essential hypertension for this novel class of drug.\" in d['text'] ]\n",
        "#assert len(search) == 1, \"Something went wrong and couldn't find the document we want\"\n",
        "\n",
        "\n",
        "non_sent = [ d for d in docs if d['pubmed_id'] == 8733007]\n",
        "non_sent\n",
        "#doc = search\n",
        "#print(doc)\n",
        "\n",
        "#docs.remove(search[0])\n",
        "#find"
      ],
      "metadata": {
        "colab": {
          "base_uri": "https://localhost:8080/"
        },
        "id": "AYt1O1bLyKK8",
        "outputId": "7c2929d3-ce13-47fd-dcb2-b2b81437e04f"
      },
      "execution_count": 169,
      "outputs": [
        {
          "output_type": "execute_result",
          "data": {
            "text/plain": [
              "[{'pubmed_id': 8733007,\n",
              "  'text': 'Mineralocorticoids, salt, hypertension: effects on the heart.\\nIn uninephrectomized rats on 1% NaCl solution to drink, aldosterone (0.75 micrograms/h subcutaneously for 8 weeks) raises blood pressure and causes marked interstitial and perivascular cardiac fibrosis, effects not seen in animals on a low salt intake. In extending these initial findings, we have shown that cardiac fibrosis (i) is not reversed by correction of mineralocorticoid-induced hypokalemia; (ii) appears not to involve the plasma or tissue renin-angiotensin systems, as fibrosis is largely unaffected by concurrent administration of Losartan or Perindopril; (iii) is independent of cardiac hypertrophy, in that it is equally seen in right and left ventricles, and in rats rendered hypertensive without cardiac hypertrophy by the administration of 9 alpha-fluorocortisol; (iv) is independent of elevated blood pressure, in that it is found in normotensive animals infused peripherally with aldosterone and intracerebroventricularly with the mineralocorticoid receptor (MR) antagonist RU28318; (v) is via classical MR, in that it is blocked by concurrent administration of the MR antagonist potassium canrenoate; and (vi) may or may not be a direct cardiac effect, inasmuch as data for in vivo effects on collagen formation by cardiac fibroblasts are conflicting. Although there is a high probability that the action of aldosterone to cause cardiac fibrosis in this experimental model is an effect via non-epithelial MR, the locus of aldosterone action remains to be established, as do the molecular mechanisms linking MR occupancy by aldosterone and collagen deposition. In addition, and in particular, the mechanisms underlying the crucial contribution of high salt intake in this model of mineralocorticoid excess await exploration.',\n",
              "  'entities': {'T1': {'type': 'CHEMICAL',\n",
              "    'start': 1162,\n",
              "    'end': 1182,\n",
              "    'text': 'potassium canrenoate'},\n",
              "   'T2': {'type': 'CHEMICAL',\n",
              "    'start': 1391,\n",
              "    'end': 1402,\n",
              "    'text': 'aldosterone'},\n",
              "   'T3': {'type': 'CHEMICAL',\n",
              "    'start': 1505,\n",
              "    'end': 1516,\n",
              "    'text': 'aldosterone'},\n",
              "   'T4': {'type': 'CHEMICAL',\n",
              "    'start': 1606,\n",
              "    'end': 1617,\n",
              "    'text': 'aldosterone'},\n",
              "   'T5': {'type': 'CHEMICAL', 'start': 94, 'end': 98, 'text': 'NaCl'},\n",
              "   'T6': {'type': 'CHEMICAL', 'start': 519, 'end': 530, 'text': 'angiotensin'},\n",
              "   'T7': {'type': 'CHEMICAL', 'start': 606, 'end': 614, 'text': 'Losartan'},\n",
              "   'T8': {'type': 'CHEMICAL', 'start': 618, 'end': 629, 'text': 'Perindopril'},\n",
              "   'T9': {'type': 'CHEMICAL', 'start': 118, 'end': 129, 'text': 'aldosterone'},\n",
              "   'T10': {'type': 'CHEMICAL',\n",
              "    'start': 820,\n",
              "    'end': 842,\n",
              "    'text': '9 alpha-fluorocortisol'},\n",
              "   'T11': {'type': 'CHEMICAL',\n",
              "    'start': 962,\n",
              "    'end': 973,\n",
              "    'text': 'aldosterone'},\n",
              "   'T12': {'type': 'CHEMICAL', 'start': 1056, 'end': 1063, 'text': 'RU28318'},\n",
              "   'T13': {'type': 'GENE-Y', 'start': 1086, 'end': 1088, 'text': 'MR'},\n",
              "   'T14': {'type': 'GENE-Y', 'start': 1148, 'end': 1150, 'text': 'MR'},\n",
              "   'T15': {'type': 'GENE-N', 'start': 1276, 'end': 1284, 'text': 'collagen'},\n",
              "   'T16': {'type': 'GENE-Y', 'start': 1488, 'end': 1490, 'text': 'MR'},\n",
              "   'T17': {'type': 'GENE-Y', 'start': 1590, 'end': 1592, 'text': 'MR'},\n",
              "   'T18': {'type': 'GENE-Y', 'start': 513, 'end': 518, 'text': 'renin'},\n",
              "   'T19': {'type': 'GENE-Y', 'start': 519, 'end': 530, 'text': 'angiotensin'},\n",
              "   'T20': {'type': 'GENE-Y',\n",
              "    'start': 1013,\n",
              "    'end': 1039,\n",
              "    'text': 'mineralocorticoid receptor'},\n",
              "   'T21': {'type': 'GENE-Y', 'start': 1041, 'end': 1043, 'text': 'MR'}},\n",
              "  'relations': [{'type': 'ANTAGONIST', 'arg1': 'T12', 'arg2': 'T20'},\n",
              "   {'type': 'ANTAGONIST', 'arg1': 'T12', 'arg2': 'T21'},\n",
              "   {'type': 'ANTAGONIST', 'arg1': 'T1', 'arg2': 'T14'},\n",
              "   {'type': 'DIRECT-REGULATOR', 'arg1': 'T4', 'arg2': 'T17'},\n",
              "   {'type': 'ANTAGONIST', 'arg1': 'T1', 'arg2': 'T13'}],\n",
              "  'labels': [0, 0, 0, 0, 0, 0, 0, 0, 0, 1, 1, 1, 1, 1, 1, 0, 0, 0, 0, 1, 1],\n",
              "  'classes': [0,\n",
              "   0,\n",
              "   0,\n",
              "   0,\n",
              "   0,\n",
              "   0,\n",
              "   0,\n",
              "   0,\n",
              "   0,\n",
              "   'ANTAGONIST',\n",
              "   'ANTAGONIST',\n",
              "   'ANTAGONIST',\n",
              "   'ANTAGONIST',\n",
              "   'ANTAGONIST',\n",
              "   'ANTAGONIST',\n",
              "   0,\n",
              "   0,\n",
              "   0,\n",
              "   0,\n",
              "   'DIRECT-REGULATOR',\n",
              "   'DIRECT-REGULATOR'],\n",
              "  'entity_labels': [0,\n",
              "   0,\n",
              "   0,\n",
              "   0,\n",
              "   0,\n",
              "   0,\n",
              "   0,\n",
              "   0,\n",
              "   0,\n",
              "   0,\n",
              "   0,\n",
              "   0,\n",
              "   0,\n",
              "   0,\n",
              "   0,\n",
              "   0,\n",
              "   0,\n",
              "   0,\n",
              "   0,\n",
              "   0,\n",
              "   0,\n",
              "   0,\n",
              "   0,\n",
              "   0,\n",
              "   0,\n",
              "   0,\n",
              "   0,\n",
              "   0,\n",
              "   0,\n",
              "   0,\n",
              "   0,\n",
              "   0,\n",
              "   0,\n",
              "   0,\n",
              "   0,\n",
              "   0,\n",
              "   0,\n",
              "   1,\n",
              "   1,\n",
              "   0,\n",
              "   0,\n",
              "   0,\n",
              "   0,\n",
              "   0,\n",
              "   0,\n",
              "   0,\n",
              "   1,\n",
              "   1,\n",
              "   0,\n",
              "   0,\n",
              "   0,\n",
              "   0,\n",
              "   0,\n",
              "   0,\n",
              "   1],\n",
              "  'tagged_text': 'Mineralocorticoids, salt, hypertension: effects on the heart.\\nIn uninephrectomized rats on 1%  [E1] NaCl [/E1] solution to drink,  [E1] aldosterone [/E1] (0.75 micrograms/h subcutaneously for 8 weeks) raises blood pressure and causes marked interstitial and perivascular cardiac fibrosis, effects not seen in animals on a low salt intake. In extending these initial findings, we have shown that cardiac fibrosis (i) is not reversed by correction of mineralocorticoid-induced hypokalemia; (ii) appears not to involve the plasma or tissue  [E2] renin [/E2]- [E1] angiotensin [/E1] [E2] angiotensin [/E2] systems, as fibrosis is largely unaffected by concurrent administration of  [E1] Losartan [/E1] or  [E1] Perindopril [/E1]; (iii) is independent of cardiac hypertrophy, in that it is equally seen in right and left ventricles, and in rats rendered hypertensive without cardiac hypertrophy by the administration of  [E1] 9 alpha-fluorocortisol [/E1]; (iv) is independent of elevated blood pressure, in that it is found in normotensive animals infused peripherally with  [E1] aldosterone [/E1] and intracerebroventricularly with the  [E2] mineralocorticoid receptor [/E2] ( [E2] MR [/E2]) antagonist  [E1] RU28318 [/E1]; (v) is via classical  [E2] MR [/E2], in that it is blocked by concurrent administration of the  [E2] MR [/E2] antagonist  [E1] potassium canrenoate [/E1]; and (vi) may or may not be a direct cardiac effect, inasmuch as data for in vivo effects on  [E2] collagen [/E2] formation by cardiac fibroblasts are conflicting. Although there is a high probability that the action of  [E1] aldosterone [/E1] to cause cardiac fibrosis in this experimental model is an effect via non-epithelial  [E2] MR [/E2], the locus of  [E1] aldosterone [/E1] action remains to be established, as do the molecular mechanisms linking  [E2] MR [/E2] occupancy by  [E1] aldosterone [/E1]'}]"
            ]
          },
          "metadata": {},
          "execution_count": 169
        }
      ]
    },
    {
      "cell_type": "markdown",
      "source": [
        "We can observe the total number of relations and the number of different relation types across all documents below:"
      ],
      "metadata": {
        "id": "SvJVGoiznqJs"
      }
    },
    {
      "cell_type": "code",
      "source": [
        "num = 0\n",
        "labs = list(set([r['type'] for doc in docs for r in doc['relations']]))\n",
        "rels = {}\n",
        "for l in labs:\n",
        "  rels[l] = 0\n",
        "\n",
        "for doc in docs:\n",
        "  num += len(doc['relations'])\n",
        "  for r in doc['relations']:\n",
        "    rels[r['type']]+=1\n",
        "  \n",
        "\n",
        "print(f\"Number of total relations: {num}\")\n",
        "for k,v in rels.items():\n",
        "  print(f\"Number of relations for {k} is: {v}\")"
      ],
      "metadata": {
        "colab": {
          "base_uri": "https://localhost:8080/"
        },
        "id": "YaUZTJ6Qntfq",
        "outputId": "d0b68da7-5dfe-477c-b348-1d91f1126761"
      },
      "execution_count": 5,
      "outputs": [
        {
          "output_type": "stream",
          "name": "stdout",
          "text": [
            "Number of total relations: 17273\n",
            "Number of relations for ACTIVATOR is: 1429\n",
            "Number of relations for INDIRECT-UPREGULATOR is: 1379\n",
            "Number of relations for INDIRECT-DOWNREGULATOR is: 1330\n",
            "Number of relations for AGONIST-INHIBITOR is: 13\n",
            "Number of relations for ANTAGONIST is: 968\n",
            "Number of relations for PART-OF is: 886\n",
            "Number of relations for PRODUCT-OF is: 921\n",
            "Number of relations for DIRECT-REGULATOR is: 2250\n",
            "Number of relations for SUBSTRATE_PRODUCT-OF is: 25\n",
            "Number of relations for AGONIST-ACTIVATOR is: 29\n",
            "Number of relations for INHIBITOR is: 5392\n",
            "Number of relations for SUBSTRATE is: 2003\n",
            "Number of relations for AGONIST is: 648\n"
          ]
        }
      ]
    },
    {
      "cell_type": "markdown",
      "source": [
        "# Encoding Step"
      ],
      "metadata": {
        "id": "wuvPifsbVAI2"
      }
    },
    {
      "cell_type": "markdown",
      "source": [
        "The code below imports certain packages that will be used during this relation extraction task."
      ],
      "metadata": {
        "id": "BwTEztaT7myc"
      }
    },
    {
      "cell_type": "code",
      "source": [
        "#!pip install torch\n",
        "!pip install transformers\n",
        "!pip install segtok\n",
        "\n",
        "#import transformers as ppb\n",
        "from transformers import BertModel, AutoTokenizer\n",
        "import pandas as pd\n",
        "import numpy as np\n",
        "import nltk\n",
        "import torch\n",
        "import itertools\n",
        "from segtok.segmenter import split_single"
      ],
      "metadata": {
        "id": "zt-G3qMF6S6z",
        "colab": {
          "base_uri": "https://localhost:8080/"
        },
        "outputId": "d66c6cf4-c12f-463a-912a-8454f0618095"
      },
      "execution_count": 6,
      "outputs": [
        {
          "output_type": "stream",
          "name": "stdout",
          "text": [
            "Looking in indexes: https://pypi.org/simple, https://us-python.pkg.dev/colab-wheels/public/simple/\n",
            "Collecting transformers\n",
            "  Downloading transformers-4.25.1-py3-none-any.whl (5.8 MB)\n",
            "\u001b[K     |████████████████████████████████| 5.8 MB 5.1 MB/s \n",
            "\u001b[?25hCollecting tokenizers!=0.11.3,<0.14,>=0.11.1\n",
            "  Downloading tokenizers-0.13.2-cp38-cp38-manylinux_2_17_x86_64.manylinux2014_x86_64.whl (7.6 MB)\n",
            "\u001b[K     |████████████████████████████████| 7.6 MB 35.8 MB/s \n",
            "\u001b[?25hRequirement already satisfied: tqdm>=4.27 in /usr/local/lib/python3.8/dist-packages (from transformers) (4.64.1)\n",
            "Requirement already satisfied: filelock in /usr/local/lib/python3.8/dist-packages (from transformers) (3.8.2)\n",
            "Requirement already satisfied: numpy>=1.17 in /usr/local/lib/python3.8/dist-packages (from transformers) (1.21.6)\n",
            "Requirement already satisfied: packaging>=20.0 in /usr/local/lib/python3.8/dist-packages (from transformers) (21.3)\n",
            "Requirement already satisfied: requests in /usr/local/lib/python3.8/dist-packages (from transformers) (2.23.0)\n",
            "Requirement already satisfied: pyyaml>=5.1 in /usr/local/lib/python3.8/dist-packages (from transformers) (6.0)\n",
            "Requirement already satisfied: regex!=2019.12.17 in /usr/local/lib/python3.8/dist-packages (from transformers) (2022.6.2)\n",
            "Collecting huggingface-hub<1.0,>=0.10.0\n",
            "  Downloading huggingface_hub-0.11.1-py3-none-any.whl (182 kB)\n",
            "\u001b[K     |████████████████████████████████| 182 kB 38.7 MB/s \n",
            "\u001b[?25hRequirement already satisfied: typing-extensions>=3.7.4.3 in /usr/local/lib/python3.8/dist-packages (from huggingface-hub<1.0,>=0.10.0->transformers) (4.4.0)\n",
            "Requirement already satisfied: pyparsing!=3.0.5,>=2.0.2 in /usr/local/lib/python3.8/dist-packages (from packaging>=20.0->transformers) (3.0.9)\n",
            "Requirement already satisfied: urllib3!=1.25.0,!=1.25.1,<1.26,>=1.21.1 in /usr/local/lib/python3.8/dist-packages (from requests->transformers) (1.24.3)\n",
            "Requirement already satisfied: idna<3,>=2.5 in /usr/local/lib/python3.8/dist-packages (from requests->transformers) (2.10)\n",
            "Requirement already satisfied: certifi>=2017.4.17 in /usr/local/lib/python3.8/dist-packages (from requests->transformers) (2022.12.7)\n",
            "Requirement already satisfied: chardet<4,>=3.0.2 in /usr/local/lib/python3.8/dist-packages (from requests->transformers) (3.0.4)\n",
            "Installing collected packages: tokenizers, huggingface-hub, transformers\n",
            "Successfully installed huggingface-hub-0.11.1 tokenizers-0.13.2 transformers-4.25.1\n",
            "Looking in indexes: https://pypi.org/simple, https://us-python.pkg.dev/colab-wheels/public/simple/\n",
            "Collecting segtok\n",
            "  Downloading segtok-1.5.11-py3-none-any.whl (24 kB)\n",
            "Requirement already satisfied: regex in /usr/local/lib/python3.8/dist-packages (from segtok) (2022.6.2)\n",
            "Installing collected packages: segtok\n",
            "Successfully installed segtok-1.5.11\n"
          ]
        }
      ]
    },
    {
      "cell_type": "markdown",
      "source": [
        "This is a function that checks if a particular entity tag is part of a relation or not. This is used to form labels for the data so that the classifier can learn which sentences contain relations and which do not."
      ],
      "metadata": {
        "id": "Dzu6SwhS7GZd"
      }
    },
    {
      "cell_type": "code",
      "source": [
        "# Checks if the entity specified belongs to one term in the relation\n",
        "def isRelation(doc, key):\n",
        "\n",
        "  relations = doc['relations']\n",
        "  for r in relations:\n",
        "    #Checks if the entity is involved in any part of a specified relation\n",
        "    if (key == r['arg1']) or (key == r['arg2']):\n",
        "      #Returns the name of the relation and a boolean value\n",
        "      return True, r['type']\n",
        "  return False, 0\n",
        "\n",
        "#Checks if both arguments are terms in one relation\n",
        "def isEntityRelation(arg1,arg2,doc):\n",
        "  for r in doc['relations']:\n",
        "    if (arg1 == r['arg1']) and (arg2 == r['arg2']):\n",
        "      return True\n",
        "  return False\n"
      ],
      "metadata": {
        "id": "ruR21j2mXzO8"
      },
      "execution_count": 7,
      "outputs": []
    },
    {
      "cell_type": "markdown",
      "source": [
        "This function takes in the text and finds all of the labels for all pairs of entity relations. This will be used later to input into the classifier."
      ],
      "metadata": {
        "id": "Poo81Bj15g6C"
      }
    },
    {
      "cell_type": "code",
      "source": [
        "def find_sent_idxs(text):\n",
        "  idxs = [0]\n",
        "  idx = 0\n",
        "  split_text = split_single(text)\n",
        "  #print(split_text)\n",
        "  for t in split_text:\n",
        "    #print(t)\n",
        "    #print(len(t))\n",
        "    idx += len(t)+1\n",
        "    idxs.append(idx)\n",
        "  return idxs\n",
        "\n",
        "def find_entity_labels(idxs, keys, doc):\n",
        "  labels = []\n",
        "  entity_dict = {}\n",
        "  processed_entities = set()\n",
        "\n",
        "  for i in idxs:\n",
        "    entity_dict[i]=[]\n",
        "\n",
        "  for key in keys:\n",
        "    if key in processed_entities:  # skip entity if it has already been processed\n",
        "      continue\n",
        "    for i in range(len(idxs)-1):\n",
        "      s = doc['entities'][key]['start']\n",
        "      e = doc['entities'][key]['end']\n",
        "      if (s >= idxs[i] and s < idxs[i+1]) and (e > idxs[i] and e <= idxs[i+1]):\n",
        "        #print(f\"First idx: {idxs[i]}, middle idx: {doc['entities'][key]['start']} {doc['entities'][key]['end']}, second idx: {idxs[i+1]}, \")\n",
        "        entity_dict[idxs[i]].append(key)\n",
        "        \n",
        "  for k, v in entity_dict.items():\n",
        "    #print(k)\n",
        "    if not v==[]:\n",
        "      #print(v)\n",
        "      chems = []\n",
        "      genes = []\n",
        "      for name in v:\n",
        "        if doc['entities'][name]['type'] == 'CHEMICAL':\n",
        "          chems.append(name)\n",
        "        else:\n",
        "          #print(doc['entities'][name]['type'])\n",
        "          genes.append(name)\n",
        "\n",
        "      #print(f'chems: {chems}, genes: {genes}')\n",
        "      #if chems!=[] and genes!=[]:\n",
        "      prods = itertools.product(chems,genes)\n",
        "      for prod in prods:\n",
        "        #print(prod)\n",
        "        #print(prod[0])\n",
        "        if isEntityRelation(prod[0],prod[1],doc):\n",
        "          labels.append(1)\n",
        "        else:\n",
        "          #print(f'Prod 0: {prod[0]}, prod 1: {prod[1]}')\n",
        "          labels.append(0)\n",
        "  \n",
        "\n",
        "  return labels"
      ],
      "metadata": {
        "id": "rjcYZDYn5y2G"
      },
      "execution_count": 201,
      "outputs": []
    },
    {
      "cell_type": "markdown",
      "source": [
        "This function adds in start and end entity tags to biomedical text. This ensures that every chemical mentioned is encased in [E1][/E1] tags, and every gene is encased in [E2][/E2] tags, so that we can extract the embeddings for these later."
      ],
      "metadata": {
        "id": "DjiNDFJvgckl"
      }
    },
    {
      "cell_type": "code",
      "source": [
        "def addEntityTags(docs):\n",
        "\n",
        "  for doc in docs:\n",
        "    #Contains the labels for each sentence (1 for positive result, 0 for no relation)\n",
        "    doc['labels'] = []\n",
        "    #Contains more explicit names for the relations.\n",
        "    doc['classes'] = []\n",
        "\n",
        "    str = ''\n",
        "    index = 0\n",
        "\n",
        "    #Contains every mention of chemicals and genes for a particular document\n",
        "    keys = doc['entities'].keys()\n",
        "\n",
        "    #Makes sure the indices of these mentions are in order\n",
        "    key_list = sorted(keys, key= lambda x: (doc['entities'][x]['start']))\n",
        "\n",
        "    #Finds the indexes of the start and end of each sentence in the text\n",
        "    idxs = find_sent_idxs(doc['text'])\n",
        "    #print(idxs)\n",
        "\n",
        "\n",
        "    l = find_entity_labels(idxs, key_list, doc)\n",
        "    doc['entity_labels'] = l\n",
        "    #print(l)\n",
        "    #print(find_entity_labels(idxs, keys, doc))\n",
        "\n",
        "    for k in key_list:\n",
        "      #Adds a 1 to the list of labels if it is a positive result, 0 if negative\n",
        "      b,r = isRelation(doc,k)\n",
        "      if b:\n",
        "        doc['labels'].append(1)\n",
        "      else:\n",
        "        doc['labels'].append(0)\n",
        "      doc['classes'].append(r)\n",
        "      v = doc['entities'][k]\n",
        "\n",
        "      #Start and end indexes of entity\n",
        "      start = v['start']\n",
        "      end = v['end']\n",
        "\n",
        "      if v['type'] == 'CHEMICAL':\n",
        "        str += doc['text'][index:start] + ' [E1] ' + doc['text'][start:end] + ' [/E1]'\n",
        "      else:\n",
        "        str += doc['text'][index:start] + ' [E2] ' + doc['text'][start:end] + ' [/E2]'\n",
        "      index = end\n",
        "    \n",
        "    #Adds the tagged text to the dictionary of a particular document\n",
        "    doc['tagged_text'] = str \n",
        "\n",
        "addEntityTags(docs)\n",
        "\n",
        "print(docs[0].keys())\n",
        "print(docs[0]['entities'])\n",
        "print(docs[0]['entity_labels'])\n",
        "print(docs[0]['tagged_text'])\n",
        "\n"
      ],
      "metadata": {
        "id": "a7MjEIFqgiiC",
        "colab": {
          "base_uri": "https://localhost:8080/"
        },
        "outputId": "8fe9aeeb-2735-4143-c8c0-4b92667bb1f9"
      },
      "execution_count": 202,
      "outputs": [
        {
          "output_type": "stream",
          "name": "stdout",
          "text": [
            "dict_keys(['pubmed_id', 'text', 'entities', 'relations', 'labels', 'classes', 'entity_labels', 'tagged_text'])\n",
            "{'T1': {'type': 'CHEMICAL', 'start': 1455, 'end': 1466, 'text': 'benzamidine'}, 'T2': {'type': 'CHEMICAL', 'start': 1489, 'end': 1493, 'text': 'EACA'}, 'T3': {'type': 'CHEMICAL', 'start': 292, 'end': 298, 'text': 'lysine'}, 'T4': {'type': 'CHEMICAL', 'start': 308, 'end': 334, 'text': 'epsilon-amino caproic acid'}, 'T5': {'type': 'CHEMICAL', 'start': 336, 'end': 340, 'text': 'EACA'}, 'T6': {'type': 'CHEMICAL', 'start': 400, 'end': 406, 'text': 'lysine'}, 'T7': {'type': 'GENE-Y', 'start': 1165, 'end': 1170, 'text': 'gp330'}, 'T8': {'type': 'GENE-Y', 'start': 1172, 'end': 1179, 'text': 'plasmin'}, 'T9': {'type': 'GENE-Y', 'start': 227, 'end': 238, 'text': 'plasminogen'}, 'T10': {'type': 'GENE-Y', 'start': 1236, 'end': 1255, 'text': 'alpha 2-antiplasmin'}, 'T11': {'type': 'GENE-Y', 'start': 1272, 'end': 1279, 'text': 'plasmin'}, 'T12': {'type': 'GENE-Y', 'start': 1283, 'end': 1288, 'text': 'gp330'}, 'T13': {'type': 'GENE-Y', 'start': 1382, 'end': 1387, 'text': 'gp330'}, 'T14': {'type': 'GENE-Y', 'start': 1419, 'end': 1430, 'text': 'plasminogen'}, 'T15': {'type': 'GENE-Y', 'start': 1435, 'end': 1442, 'text': 'plasmin'}, 'T16': {'type': 'GENE-Y', 'start': 1446, 'end': 1451, 'text': 'gp330'}, 'T17': {'type': 'GENE-Y', 'start': 1519, 'end': 1526, 'text': 'plasmin'}, 'T18': {'type': 'GENE-Y', 'start': 1530, 'end': 1535, 'text': 'gp330'}, 'T19': {'type': 'GENE-Y', 'start': 1570, 'end': 1581, 'text': 'plasminogen'}, 'T20': {'type': 'GENE-Y', 'start': 1585, 'end': 1590, 'text': 'gp330'}, 'T21': {'type': 'GENE-Y', 'start': 1635, 'end': 1646, 'text': 'plasminogen'}, 'T22': {'type': 'GENE-Y', 'start': 1650, 'end': 1655, 'text': 'gp330'}, 'T23': {'type': 'GENE-Y', 'start': 1711, 'end': 1718, 'text': 'plasmin'}, 'T24': {'type': 'GENE-Y', 'start': 1812, 'end': 1819, 'text': 'plasmin'}, 'T25': {'type': 'GENE-Y', 'start': 359, 'end': 370, 'text': 'plasminogen'}, 'T26': {'type': 'GENE-Y', 'start': 444, 'end': 455, 'text': 'plasminogen'}, 'T27': {'type': 'GENE-Y', 'start': 495, 'end': 506, 'text': 'plasminogen'}, 'T28': {'type': 'GENE-Y', 'start': 156, 'end': 185, 'text': 'Heymann nephritis autoantigen'}, 'T29': {'type': 'GENE-Y', 'start': 519, 'end': 524, 'text': 'gp330'}, 'T30': {'type': 'GENE-Y', 'start': 568, 'end': 575, 'text': 'plasmin'}, 'T31': {'type': 'GENE-Y', 'start': 579, 'end': 588, 'text': 'urokinase'}, 'T32': {'type': 'GENE-Y', 'start': 609, 'end': 620, 'text': 'plasminogen'}, 'T33': {'type': 'GENE-Y', 'start': 624, 'end': 631, 'text': 'plasmin'}, 'T34': {'type': 'GENE-Y', 'start': 663, 'end': 674, 'text': 'plasminogen'}, 'T35': {'type': 'GENE-Y', 'start': 696, 'end': 701, 'text': 'gp330'}, 'T36': {'type': 'GENE-Y', 'start': 764, 'end': 773, 'text': 'urokinase'}, 'T37': {'type': 'GENE-Y', 'start': 187, 'end': 192, 'text': 'gp330'}, 'T38': {'type': 'GENE-Y', 'start': 809, 'end': 814, 'text': 'gp330'}, 'T39': {'type': 'GENE-Y', 'start': 877, 'end': 884, 'text': 'plasmin'}, 'T40': {'type': 'GENE-Y', 'start': 902, 'end': 907, 'text': 'gp330'}, 'T41': {'type': 'GENE-Y', 'start': 998, 'end': 1005, 'text': 'plasmin'}, 'T42': {'type': 'GENE-Y', 'start': 1009, 'end': 1014, 'text': 'gp330'}, 'T43': {'type': 'GENE-Y', 'start': 1077, 'end': 1082, 'text': 'gp330'}, 'T44': {'type': 'GENE-Y', 'start': 1116, 'end': 1123, 'text': 'plasmin'}, 'T45': {'type': 'GENE-Y', 'start': 112, 'end': 117, 'text': 'gp330'}, 'T46': {'type': 'GENE-Y', 'start': 12, 'end': 19, 'text': 'plasmin'}, 'T47': {'type': 'GENE-Y', 'start': 32, 'end': 41, 'text': 'urokinase'}, 'T48': {'type': 'GENE-Y', 'start': 56, 'end': 67, 'text': 'plasminogen'}, 'T49': {'type': 'GENE-Y', 'start': 81, 'end': 110, 'text': 'Heymann nephritis autoantigen'}}\n",
            "[0, 0, 0, 0, 0, 0, 0, 0, 1, 1, 1, 0, 0, 0, 0, 0, 0, 0, 1, 1, 1, 1]\n",
            "Analysis of  [E2] plasmin [/E2] binding and  [E2] urokinase [/E2] activation of  [E2] plasminogen [/E2] bound to the  [E2] Heymann nephritis autoantigen [/E2],  [E2] gp330 [/E2].\n",
            "Previously, we demonstrated that the  [E2] Heymann nephritis autoantigen [/E2],  [E2] gp330 [/E2], can serve as a receptor site for  [E2] plasminogen [/E2]. This binding was not significantly inhibited by the  [E1] lysine [/E1] analogue  [E1] epsilon-amino caproic acid [/E1] ( [E1] EACA [/E1]), indicating that  [E2] plasminogen [/E2] binding was not just through  [E1] lysine [/E1] binding sites as suggested for other  [E2] plasminogen [/E2] binding sites. We now report that once  [E2] plasminogen [/E2] is bound to  [E2] gp330 [/E2], it can be converted to its active form of  [E2] plasmin [/E2] by  [E2] urokinase [/E2]. This conversion of  [E2] plasminogen [/E2] to  [E2] plasmin [/E2] proceeds at a faster rate when  [E2] plasminogen [/E2] is first prebound to  [E2] gp330 [/E2]. Although there is a proportional increase in the Vmax of the  [E2] urokinase [/E2]-catalyzed reaction with increasing  [E2] gp330 [/E2] concentrations, no change in Km was observed. Once activated,  [E2] plasmin [/E2] remains bound to  [E2] gp330 [/E2] in an active state capable of cleaving the chromogenic tripeptide, S-2251. The binding of  [E2] plasmin [/E2] to  [E2] gp330 [/E2] did not significantly change its enzymatic activity; however,  [E2] gp330 [/E2] did have a stabilizing effect on  [E2] plasmin [/E2] activity at 37 degrees C. While bound to  [E2] gp330 [/E2],  [E2] plasmin [/E2] is protected from inactivation by its natural inhibitor  [E2] alpha 2-antiplasmin [/E2]. The binding of  [E2] plasmin [/E2] to  [E2] gp330 [/E2] as analyzed by ELISA was shown to be time dependent, reversible, saturable, and specific for  [E2] gp330 [/E2]. Inhibition of binding of both  [E2] plasminogen [/E2] and  [E2] plasmin [/E2] to  [E2] gp330 [/E2] by  [E1] benzamidine [/E1] was similar, although  [E1] EACA [/E1] inhibited the binding of  [E2] plasmin [/E2] to  [E2] gp330 [/E2] slightly more than the binding of  [E2] plasminogen [/E2] to  [E2] gp330 [/E2]. These results indicate that the binding of  [E2] plasminogen [/E2] to  [E2] gp330 [/E2] serves as an effective means of increasing the rate of  [E2] plasmin [/E2] production on the glomerular and tubular epithelial cell surface while protecting the active  [E2] plasmin [/E2]\n"
          ]
        }
      ]
    },
    {
      "cell_type": "markdown",
      "source": [
        "Next, we can reduce the text to only sentences potentially containing relations between chemicals and genes by splitting the sentences and seeing if there are any entity tags present within the sentence. The findLabels function goes through the list of labels for a particular document and sees if there is a relation present within that sentence.\n",
        "\n",
        "(Note for later: I didn't take into account relations across sentences in this implementation, will have to change something to ensure that both entities for one relation are in the same sentence)"
      ],
      "metadata": {
        "id": "4ikJplM-cXqU"
      }
    },
    {
      "cell_type": "code",
      "source": [
        "from collections import Counter\n",
        "\n",
        "def relevantText():\n",
        "\n",
        "  target_text = []\n",
        "  labels = []\n",
        "\n",
        "  for doc in docs:\n",
        "    txt = doc['tagged_text']\n",
        "    lbls = doc['labels']\n",
        "\n",
        "    split_text = []\n",
        "    split_text += split_single(txt)\n",
        "    offset = 0\n",
        "\n",
        "    for s in split_text:\n",
        "      if '[/E' in s:\n",
        "        o, l, new_lbls = findLabels(s,lbls,offset)\n",
        "        target_text.append(s)\n",
        "        lbls = new_lbls\n",
        "        offset += o\n",
        "        labels.append(l)\n",
        "\n",
        "  return target_text, labels\n",
        "\n",
        "def findLabels(text, labels, offset=0):\n",
        "    words = text.split(\" \")\n",
        "    counter = Counter(words)\n",
        "    idx = counter['[E2]']+counter['[E1]']\n",
        "    isRel = False\n",
        "    for i in range(idx):\n",
        "      if labels[i]==1:\n",
        "        isRel = True\n",
        "    offset+=idx\n",
        "    if isRel:\n",
        "      label = 1\n",
        "    else:\n",
        "      label = 0\n",
        "    l = labels[idx:]\n",
        "    return offset, label, l\n",
        "\n",
        "target_text, labels= relevantText()\n",
        "\n",
        "#Both the target text and the labels must be the same length\n",
        "print(len(target_text))\n",
        "print(len(labels))\n",
        "\n"
      ],
      "metadata": {
        "id": "x0ps_RaP3wMU",
        "colab": {
          "base_uri": "https://localhost:8080/"
        },
        "outputId": "3e7caf49-9a75-4218-dad4-3d2781f5da78"
      },
      "execution_count": 142,
      "outputs": [
        {
          "output_type": "stream",
          "name": "stdout",
          "text": [
            "29249\n",
            "29249\n"
          ]
        }
      ]
    },
    {
      "cell_type": "markdown",
      "source": [
        "There are around 17288 total relations, therefore there some sentences that contain entities but don't actually contain a relation. The code below shows a snippet of the target text which should only contain sentences that contain tagged entities. It also contains the first five labels which are all 0 in this case. These seems sensible as there isn't a chemical in the first sentence, and therefore there is no relationship specified between a chemical and gene."
      ],
      "metadata": {
        "id": "jI2VTA9Po-a9"
      }
    },
    {
      "cell_type": "code",
      "source": [
        "print(target_text[:12])\n",
        "print(labels[:22])"
      ],
      "metadata": {
        "id": "zb4HIf7ebZdo",
        "colab": {
          "base_uri": "https://localhost:8080/"
        },
        "outputId": "95f120c6-ca62-4670-9b1c-155c86b486fb"
      },
      "execution_count": 92,
      "outputs": [
        {
          "output_type": "stream",
          "name": "stdout",
          "text": [
            "['Analysis of  [E2] plasmin [/E2] binding and  [E2] urokinase [/E2] activation of  [E2] plasminogen [/E2] bound to the  [E2] Heymann nephritis autoantigen [/E2],  [E2] gp330 [/E2].', 'Previously, we demonstrated that the  [E2] Heymann nephritis autoantigen [/E2],  [E2] gp330 [/E2], can serve as a receptor site for  [E2] plasminogen [/E2].', 'This binding was not significantly inhibited by the  [E1] lysine [/E1] analogue  [E1] epsilon-amino caproic acid [/E1] ( [E1] EACA [/E1]), indicating that  [E2] plasminogen [/E2] binding was not just through  [E1] lysine [/E1] binding sites as suggested for other  [E2] plasminogen [/E2] binding sites.', 'We now report that once  [E2] plasminogen [/E2] is bound to  [E2] gp330 [/E2], it can be converted to its active form of  [E2] plasmin [/E2] by  [E2] urokinase [/E2].', 'This conversion of  [E2] plasminogen [/E2] to  [E2] plasmin [/E2] proceeds at a faster rate when  [E2] plasminogen [/E2] is first prebound to  [E2] gp330 [/E2].', 'Although there is a proportional increase in the Vmax of the  [E2] urokinase [/E2]-catalyzed reaction with increasing  [E2] gp330 [/E2] concentrations, no change in Km was observed.', 'Once activated,  [E2] plasmin [/E2] remains bound to  [E2] gp330 [/E2] in an active state capable of cleaving the chromogenic tripeptide, S-2251.', 'The binding of  [E2] plasmin [/E2] to  [E2] gp330 [/E2] did not significantly change its enzymatic activity; however,  [E2] gp330 [/E2] did have a stabilizing effect on  [E2] plasmin [/E2] activity at 37 degrees C.', 'While bound to  [E2] gp330 [/E2],  [E2] plasmin [/E2] is protected from inactivation by its natural inhibitor  [E2] alpha 2-antiplasmin [/E2].', 'The binding of  [E2] plasmin [/E2] to  [E2] gp330 [/E2] as analyzed by ELISA was shown to be time dependent, reversible, saturable, and specific for  [E2] gp330 [/E2].', 'Inhibition of binding of both  [E2] plasminogen [/E2] and  [E2] plasmin [/E2] to  [E2] gp330 [/E2] by  [E1] benzamidine [/E1] was similar, although  [E1] EACA [/E1] inhibited the binding of  [E2] plasmin [/E2] to  [E2] gp330 [/E2] slightly more than the binding of  [E2] plasminogen [/E2] to  [E2] gp330 [/E2].', 'These results indicate that the binding of  [E2] plasminogen [/E2] to  [E2] gp330 [/E2] serves as an effective means of increasing the rate of  [E2] plasmin [/E2] production on the glomerular and tubular epithelial cell surface while protecting the active  [E2] plasmin [/E2]']\n",
            "[0, 0, 0, 0, 0, 0, 0, 0, 0, 0, 1, 0, 0, 1, 1, 0, 1, 0, 1, 0, 1, 1]\n"
          ]
        }
      ]
    },
    {
      "cell_type": "markdown",
      "source": [
        "# Embedding Step\n",
        "\n",
        "Next, a BERT model is defined that has been pre-trained using PubMed texts. This allows BERT to recognise biomedical terms within the text and understand their context better.\n",
        "\n",
        "The tokeniser is also defined using pubmed texts, and special tokens are added in so that BERT can recognise them and not break them down when tokenising."
      ],
      "metadata": {
        "id": "BXYgjLzmG2DT"
      }
    },
    {
      "cell_type": "code",
      "source": [
        "model = BertModel.from_pretrained(\"microsoft/BiomedNLP-PubMedBERT-base-uncased-abstract-fulltext\",\n",
        "                                  output_hidden_states = True,\n",
        "                                  )\n",
        "\n",
        "tokenizer = AutoTokenizer.from_pretrained(\"microsoft/BiomedNLP-PubMedBERT-base-uncased-abstract-fulltext\") \n",
        "\n",
        "tokenizer.add_tokens([\"[E1]\", \"[/E1]\", \"[E2]\", \"[/E2]\"])\n",
        "\n",
        "tokenizer.vocab[\"[E1]\"]"
      ],
      "metadata": {
        "id": "FtHyA7DTG40c",
        "colab": {
          "base_uri": "https://localhost:8080/",
          "height": 234,
          "referenced_widgets": [
            "b5db6c99601d4413ae963fd5420e7ea8",
            "1417f26155bc49deaa5d725ad79176d4",
            "64bdd485ea1d4b7ab3e1dd9c106ae501",
            "5ede5fb39f0a45e09c5a147ce1050966",
            "447e996d24a24d20889ae2b02ef0ac22",
            "004230f4be704847bee4743b8b3588c6",
            "1cfa90c6e87b492b9f250c1bf504f6b0",
            "97f676fa3fd140cba9ab6fdcb5f3cdbe",
            "e1c81959bc9b41e583239ac7e40481d7",
            "78f5eceda01f40c681ce8e269b413580",
            "9e56d40216de4fcaa63b3180c4cd3919",
            "2c8473d21109478eb947f9622a8cc4e1",
            "1471fb9cb998482faf7cd3c6d9800b27",
            "1cedb7f7bf61440d82c242668f6258da",
            "4f68557efc414516a9cc8e50f17073ed",
            "96fb1dd98bba419f9b80cbaae960333a",
            "f2b0e1dc679e4460ada3e379f6c2889f",
            "e987957a478049af83835588c9115e1a",
            "9c653c0efcd04d27bbfcb26023f92810",
            "559f1b686a754ce69dcda84cefd6a802",
            "b7016dcc50c84626be7e3ac74a5a7647",
            "32a198d0ee834de58477a2fb73146854",
            "3c7f80aebf4744f5a1ff42137c80ed93",
            "1fc90fa42f004c4a94e647e2abf7383e",
            "0e885460425c496fa8b7ceba10e88145",
            "c25e4f118712454680910cb34200fdcf",
            "456df3180a8b4ecfa9041dd4fc167f47",
            "a28e23c4be964bbeb63ddec276412007",
            "76f4185d51e64a41a86b0bb65ff2d73f",
            "59556185ead44c9b8660ba14209cd88d",
            "5360030d05134e90b6669c1a72ecdfe3",
            "c12c232a992140ae90e35c9171649339",
            "de603307de9841e8834b02a29d7535b5",
            "3f48ac1c36a7484c86dc9900952fb98d",
            "dc72b8e08fbf43a486e81c65e22f33bc",
            "6251ac6f712e4850a50df86a3bcdb1da",
            "edf57586a8dc41c0878f9ebfabd86b4f",
            "b91d45fa51404af9939f2a0421b1aa6a",
            "294dee2280e7414ba5d06783a8065c04",
            "7e1b81205f704a47ab1b721457a7a800",
            "0fe7b99f68e444ba871c6d86e5585cd2",
            "d2852d464f0c4627b2747e1c2160183c",
            "cb06592f22834e219487a41c60475627",
            "695d8466a4df4b1f906ec1a73e500f98"
          ]
        },
        "outputId": "f4617025-1a43-4867-8f02-b401b0d6961c"
      },
      "execution_count": 12,
      "outputs": [
        {
          "output_type": "display_data",
          "data": {
            "text/plain": [
              "Downloading:   0%|          | 0.00/385 [00:00<?, ?B/s]"
            ],
            "application/vnd.jupyter.widget-view+json": {
              "version_major": 2,
              "version_minor": 0,
              "model_id": "b5db6c99601d4413ae963fd5420e7ea8"
            }
          },
          "metadata": {}
        },
        {
          "output_type": "display_data",
          "data": {
            "text/plain": [
              "Downloading:   0%|          | 0.00/440M [00:00<?, ?B/s]"
            ],
            "application/vnd.jupyter.widget-view+json": {
              "version_major": 2,
              "version_minor": 0,
              "model_id": "2c8473d21109478eb947f9622a8cc4e1"
            }
          },
          "metadata": {}
        },
        {
          "output_type": "stream",
          "name": "stderr",
          "text": [
            "Some weights of the model checkpoint at microsoft/BiomedNLP-PubMedBERT-base-uncased-abstract-fulltext were not used when initializing BertModel: ['cls.predictions.decoder.weight', 'cls.predictions.decoder.bias', 'cls.predictions.transform.dense.weight', 'cls.predictions.transform.LayerNorm.weight', 'cls.seq_relationship.bias', 'cls.predictions.transform.LayerNorm.bias', 'cls.predictions.transform.dense.bias', 'cls.predictions.bias', 'cls.seq_relationship.weight']\n",
            "- This IS expected if you are initializing BertModel from the checkpoint of a model trained on another task or with another architecture (e.g. initializing a BertForSequenceClassification model from a BertForPreTraining model).\n",
            "- This IS NOT expected if you are initializing BertModel from the checkpoint of a model that you expect to be exactly identical (initializing a BertForSequenceClassification model from a BertForSequenceClassification model).\n"
          ]
        },
        {
          "output_type": "display_data",
          "data": {
            "text/plain": [
              "Downloading:   0%|          | 0.00/28.0 [00:00<?, ?B/s]"
            ],
            "application/vnd.jupyter.widget-view+json": {
              "version_major": 2,
              "version_minor": 0,
              "model_id": "3c7f80aebf4744f5a1ff42137c80ed93"
            }
          },
          "metadata": {}
        },
        {
          "output_type": "display_data",
          "data": {
            "text/plain": [
              "Downloading:   0%|          | 0.00/226k [00:00<?, ?B/s]"
            ],
            "application/vnd.jupyter.widget-view+json": {
              "version_major": 2,
              "version_minor": 0,
              "model_id": "3f48ac1c36a7484c86dc9900952fb98d"
            }
          },
          "metadata": {}
        },
        {
          "output_type": "execute_result",
          "data": {
            "text/plain": [
              "30522"
            ]
          },
          "metadata": {},
          "execution_count": 12
        }
      ]
    },
    {
      "cell_type": "markdown",
      "source": [
        "This function adds [CLS] and [SEP] tokens to the beginning and end of sentences so that BERT knows when a new sentence is beginning. It then tokenises these sentences and converts all of the inputs into tensors."
      ],
      "metadata": {
        "id": "eFzXfZX-X3D8"
      }
    },
    {
      "cell_type": "code",
      "source": [
        "def bert_text_prep(text, tokenizer):\n",
        "\n",
        "  #CLS lets BERT know when start of sentence begins, SEP indicates start of second sentence.\n",
        "  marked_text = \"[CLS]\" + text + \"[SEP]\"\n",
        "\n",
        "  #Tokenizes text\n",
        "  tokenized_text = tokenizer.tokenize(marked_text)\n",
        "\n",
        "  #Converts to ids\n",
        "  indexed_tokens = tokenizer.convert_tokens_to_ids(tokenized_text)\n",
        "  segments_ids = [1]*len(indexed_tokens)\n",
        "\n",
        "  # Converts inputs to tensors\n",
        "  tokens_tensor = torch.tensor([indexed_tokens])\n",
        "  #print(tokens_tensor.size())\n",
        "  segments_tensors = torch.tensor([segments_ids])\n",
        "\n",
        "  return tokenized_text, tokens_tensor, segments_tensors"
      ],
      "metadata": {
        "id": "8LWbqPbBL6TD"
      },
      "execution_count": 13,
      "outputs": []
    },
    {
      "cell_type": "markdown",
      "source": [
        "These tensors are then used to find the embeddings of all of the tokens."
      ],
      "metadata": {
        "id": "PMth1UIhX6a5"
      }
    },
    {
      "cell_type": "code",
      "source": [
        "def get_bert_embeddings(tokens_tensor, segments_tensors, model):\n",
        "  with torch.no_grad():\n",
        "    outputs = model(tokens_tensor, segments_tensors)\n",
        "    hidden_states = outputs[2][1:]\n",
        "\n",
        "  token_embeddings = hidden_states[-1]\n",
        "  #Collapsing tensor into 1 dimension\n",
        "  token_embeddings = torch.squeeze(token_embeddings, dim=0)\n",
        "  #print(token_embeddings)\n",
        "  #converting tensors to lists\n",
        "  list_token_embeddings = [token_embed.tolist() for token_embed in token_embeddings]\n",
        "\n",
        "  return list_token_embeddings"
      ],
      "metadata": {
        "id": "-OnSsiEiOQrM"
      },
      "execution_count": 14,
      "outputs": []
    },
    {
      "cell_type": "markdown",
      "source": [
        "In order to find the relevant embeddings (entity start tag embeddings), findTags looks through the tokenised sentence and adds the index of that particular tag into a list of chemical indices or gene indices.\n",
        "\n",
        "These are then used after the sentence has been converted into embeddings to find the embedding at these specific indexes. The embeddings are accompanied by the cartesian product of all of the chemical and gene entities found, so that the embeddings for the specified indexes are concatenated."
      ],
      "metadata": {
        "id": "0li9zzHZh5Qn"
      }
    },
    {
      "cell_type": "code",
      "source": [
        "def findTags(tokens):\n",
        "  chems = []\n",
        "  genes = []\n",
        "\n",
        "  for i in range(len(tokens)):\n",
        "    #Adds the indexes to the relevant lists\n",
        "    if tokens[i].lower() == '[e1]':\n",
        "      chems.append(i)\n",
        "    elif tokens[i].lower() == '[e2]':\n",
        "      genes.append(i)\n",
        "  \n",
        "  #Returns empty lists if either chemicals or genes aren't present\n",
        "  return chems, genes\n",
        "\n",
        "def findEmbeddings(prods, embeddings):\n",
        "  #Concatenates the embeddings\n",
        "  entity_embeddings = []\n",
        "  for elt in prods:\n",
        "    chem = embeddings[elt[0]]\n",
        "    gene = embeddings[elt[1]]\n",
        "    entity_embeddings.append(chem+gene)\n",
        "    #print(len(chem+gene))\n",
        "  return entity_embeddings\n"
      ],
      "metadata": {
        "id": "m1oPiD79h_F1"
      },
      "execution_count": 101,
      "outputs": []
    },
    {
      "cell_type": "markdown",
      "source": [
        "Getting CLS and entity embeddings for each sentence\n",
        "\n"
      ],
      "metadata": {
        "id": "SDwF0f2a3rHE"
      }
    },
    {
      "cell_type": "code",
      "source": [
        "#t = target_text[:12]\n",
        "#l = labels[:22]\n",
        "cls_embeddings = []\n",
        "entity_embeddings = []\n",
        "\n",
        "for text in target_text:\n",
        "\n",
        "    #Finds tokenized text and tensors for a particular sentence in a document\n",
        "    tokenized_text, tokens_tensor, segments_tensor = bert_text_prep(text, tokenizer)\n",
        "\n",
        "    #Finds the embeddings\n",
        "    list_token_embeddings = get_bert_embeddings(tokens_tensor, segments_tensor, model)\n",
        "\n",
        "    #Adds the [CLS] token embedding to the list\n",
        "    cls_embeddings.append(list_token_embeddings[0])\n",
        "\n",
        "    #Finds the indexes for chemicals and genes in the sentence\n",
        "    chems, genes = findTags(tokenized_text)\n",
        "\n",
        "    #Finds the cartesian product of all of these chemicals and genes\n",
        "    prods = itertools.product(chems,genes)\n",
        "\n",
        "    #Adds the concatenated embeddings of all chemicals and genes to the list\n",
        "    p = findEmbeddings(prods, list_token_embeddings)\n",
        "    entity_embeddings += p\n",
        "\n",
        "#np.save(\"cls_embeddings.npy\",cls_embeddings)\n",
        "#np.save(\"entity_embeddings.npy\",entity_embeddings)\n",
        "#print(len(entity_embeddings))\n",
        "#print(len(cls_embeddings))"
      ],
      "metadata": {
        "id": "tXoMT_blWrhG",
        "colab": {
          "base_uri": "https://localhost:8080/"
        },
        "outputId": "784b0a1d-15b5-46d9-a652-e42b5f7720e5"
      },
      "execution_count": 102,
      "outputs": [
        {
          "output_type": "stream",
          "name": "stdout",
          "text": [
            "['Analysis of  [E2] plasmin [/E2] binding and  [E2] urokinase [/E2] activation of  [E2] plasminogen [/E2] bound to the  [E2] Heymann nephritis autoantigen [/E2],  [E2] gp330 [/E2].', 'Previously, we demonstrated that the  [E2] Heymann nephritis autoantigen [/E2],  [E2] gp330 [/E2], can serve as a receptor site for  [E2] plasminogen [/E2].', 'This binding was not significantly inhibited by the  [E1] lysine [/E1] analogue  [E1] epsilon-amino caproic acid [/E1] ( [E1] EACA [/E1]), indicating that  [E2] plasminogen [/E2] binding was not just through  [E1] lysine [/E1] binding sites as suggested for other  [E2] plasminogen [/E2] binding sites.', 'We now report that once  [E2] plasminogen [/E2] is bound to  [E2] gp330 [/E2], it can be converted to its active form of  [E2] plasmin [/E2] by  [E2] urokinase [/E2].', 'This conversion of  [E2] plasminogen [/E2] to  [E2] plasmin [/E2] proceeds at a faster rate when  [E2] plasminogen [/E2] is first prebound to  [E2] gp330 [/E2].', 'Although there is a proportional increase in the Vmax of the  [E2] urokinase [/E2]-catalyzed reaction with increasing  [E2] gp330 [/E2] concentrations, no change in Km was observed.', 'Once activated,  [E2] plasmin [/E2] remains bound to  [E2] gp330 [/E2] in an active state capable of cleaving the chromogenic tripeptide, S-2251.', 'The binding of  [E2] plasmin [/E2] to  [E2] gp330 [/E2] did not significantly change its enzymatic activity; however,  [E2] gp330 [/E2] did have a stabilizing effect on  [E2] plasmin [/E2] activity at 37 degrees C.', 'While bound to  [E2] gp330 [/E2],  [E2] plasmin [/E2] is protected from inactivation by its natural inhibitor  [E2] alpha 2-antiplasmin [/E2].', 'The binding of  [E2] plasmin [/E2] to  [E2] gp330 [/E2] as analyzed by ELISA was shown to be time dependent, reversible, saturable, and specific for  [E2] gp330 [/E2].', 'Inhibition of binding of both  [E2] plasminogen [/E2] and  [E2] plasmin [/E2] to  [E2] gp330 [/E2] by  [E1] benzamidine [/E1] was similar, although  [E1] EACA [/E1] inhibited the binding of  [E2] plasmin [/E2] to  [E2] gp330 [/E2] slightly more than the binding of  [E2] plasminogen [/E2] to  [E2] gp330 [/E2].', 'These results indicate that the binding of  [E2] plasminogen [/E2] to  [E2] gp330 [/E2] serves as an effective means of increasing the rate of  [E2] plasmin [/E2] production on the glomerular and tubular epithelial cell surface while protecting the active  [E2] plasmin [/E2]']\n"
          ]
        }
      ]
    },
    {
      "cell_type": "code",
      "source": [
        "cls_embeddings = np.load(\"cls_embeddings.npy\")\n",
        "entity_embeddings = np.load(\"entity_embeddings.npy\")\n",
        "\n",
        "print(len(cls_embeddings))\n",
        "print(len(entity_embeddings))\n"
      ],
      "metadata": {
        "id": "cdX9DN-P1_9g",
        "colab": {
          "base_uri": "https://localhost:8080/"
        },
        "outputId": "a2fefbc9-37b3-4130-d699-e971dc0a7942"
      },
      "execution_count": 104,
      "outputs": [
        {
          "output_type": "stream",
          "name": "stdout",
          "text": [
            "29249\n",
            "64626\n"
          ]
        }
      ]
    },
    {
      "cell_type": "code",
      "source": [
        "print(len(docs))"
      ],
      "metadata": {
        "id": "nxLpqQEn7173",
        "colab": {
          "base_uri": "https://localhost:8080/"
        },
        "outputId": "d14513d5-91d7-49ce-e2aa-1732fcd5a157"
      },
      "execution_count": 17,
      "outputs": [
        {
          "output_type": "stream",
          "name": "stdout",
          "text": [
            "3499\n"
          ]
        }
      ]
    },
    {
      "cell_type": "code",
      "source": [
        "search = [ d for d in docs if d['pubmed_id'] == 1280065]\n",
        "#search\n",
        "#7 relations\n",
        "#12 sentences\n",
        "#print(len(split_single(d['text'])))"
      ],
      "metadata": {
        "id": "6dQMIjRJGmPA"
      },
      "execution_count": 103,
      "outputs": []
    },
    {
      "cell_type": "markdown",
      "source": [
        "## Classification Step"
      ],
      "metadata": {
        "id": "E4CWwTfCcIqQ"
      }
    },
    {
      "cell_type": "markdown",
      "source": [
        "Relevant imports:\n",
        "\n"
      ],
      "metadata": {
        "id": "ijHn5tYH2ecP"
      }
    },
    {
      "cell_type": "code",
      "source": [
        "from sklearn.linear_model import LogisticRegression\n",
        "from sklearn.model_selection import cross_val_score\n",
        "from sklearn.model_selection import train_test_split\n",
        "from sklearn.metrics import plot_confusion_matrix, classification_report\n",
        "import matplotlib.pyplot as plt"
      ],
      "metadata": {
        "id": "CwZpVx6Y9Vs-"
      },
      "execution_count": 170,
      "outputs": []
    },
    {
      "cell_type": "markdown",
      "source": [
        "Splitting the embeddings into train/test sets"
      ],
      "metadata": {
        "id": "TrzGuFGnECwz"
      }
    },
    {
      "cell_type": "code",
      "source": [
        "#Splits the sentences into training and test sets\n",
        "cls_train_features, cls_test_features, cls_train_labels, cls_test_labels = train_test_split(cls_embeddings, labels)"
      ],
      "metadata": {
        "id": "fZqHekZbEHon"
      },
      "execution_count": 20,
      "outputs": []
    },
    {
      "cell_type": "markdown",
      "source": [
        "Classifying these using logistic regression"
      ],
      "metadata": {
        "id": "mbGMU_aTMd0e"
      }
    },
    {
      "cell_type": "code",
      "source": [
        "#Defines a logistic regression classifier\n",
        "lr_clf = LogisticRegression(solver='saga')\n",
        "\n",
        "#Fits the model to the training data\n",
        "lr_clf.fit(cls_train_features, cls_train_labels)\n",
        "\n",
        "#Tests the model using the test data\n",
        "lr_clf.score(cls_test_features, cls_test_labels)\n",
        "\n",
        "print(classification_report(cls_test_labels, lr_clf.predict(cls_test_features)))"
      ],
      "metadata": {
        "id": "2Puvz2iJMkS-",
        "colab": {
          "base_uri": "https://localhost:8080/"
        },
        "outputId": "39a1670f-0274-49c0-ab87-3349e541ce15"
      },
      "execution_count": 175,
      "outputs": [
        {
          "output_type": "stream",
          "name": "stdout",
          "text": [
            "              precision    recall  f1-score   support\n",
            "\n",
            "           0       0.88      0.92      0.90      5670\n",
            "           1       0.65      0.55      0.60      1643\n",
            "\n",
            "    accuracy                           0.83      7313\n",
            "   macro avg       0.76      0.73      0.75      7313\n",
            "weighted avg       0.83      0.83      0.83      7313\n",
            "\n"
          ]
        },
        {
          "output_type": "stream",
          "name": "stderr",
          "text": [
            "/usr/local/lib/python3.8/dist-packages/sklearn/linear_model/_sag.py:352: ConvergenceWarning: The max_iter was reached which means the coef_ did not converge\n",
            "  warnings.warn(\n"
          ]
        }
      ]
    },
    {
      "cell_type": "code",
      "source": [
        "fig, ax = plt.subplots(figsize=(8, 8))\n",
        "plot_confusion_matrix(lr_clf, cls_test_features, cls_test_labels, ax=ax)  \n",
        "plt.show()"
      ],
      "metadata": {
        "id": "ssV6P_L1TWOb",
        "colab": {
          "base_uri": "https://localhost:8080/",
          "height": 538
        },
        "outputId": "4e1bd0a1-6e85-467d-e45a-24f68ff872db"
      },
      "execution_count": 176,
      "outputs": [
        {
          "output_type": "stream",
          "name": "stderr",
          "text": [
            "/usr/local/lib/python3.8/dist-packages/sklearn/utils/deprecation.py:87: FutureWarning: Function plot_confusion_matrix is deprecated; Function `plot_confusion_matrix` is deprecated in 1.0 and will be removed in 1.2. Use one of the class methods: ConfusionMatrixDisplay.from_predictions or ConfusionMatrixDisplay.from_estimator.\n",
            "  warnings.warn(msg, category=FutureWarning)\n"
          ]
        },
        {
          "output_type": "display_data",
          "data": {
            "text/plain": [
              "<Figure size 576x576 with 2 Axes>"
            ],
            "image/png": "[encoded data removed]"
          },
          "metadata": {
            "needs_background": "light"
          }
        },
        {
          "output_type": "display_data",
          "data": {
            "text/plain": [
              "<Figure size 432x288 with 0 Axes>"
            ]
          },
          "metadata": {}
        }
      ]
    },
    {
      "cell_type": "markdown",
      "source": [
        "Entity start architecture"
      ],
      "metadata": {
        "id": "5B_gUEuFgxAY"
      }
    },
    {
      "cell_type": "code",
      "source": [
        "ent_labels = [doc['entity_labels'] for doc in docs if 'entity_labels' in doc.keys()]\n",
        "e = list(itertools.chain.from_iterable(ent_labels))\n",
        "print(len(e))\n",
        "start_train_features, start_test_features, start_train_labels, start_test_labels = train_test_split(entity_embeddings, e)"
      ],
      "metadata": {
        "id": "7KvwwWbWg5jj",
        "colab": {
          "base_uri": "https://localhost:8080/",
          "height": 363
        },
        "outputId": "39a34786-86fe-4619-b6f8-f0ae51adb224"
      },
      "execution_count": 203,
      "outputs": [
        {
          "output_type": "stream",
          "name": "stdout",
          "text": [
            "64685\n"
          ]
        },
        {
          "output_type": "error",
          "ename": "ValueError",
          "evalue": "ignored",
          "traceback": [
            "\u001b[0;31m---------------------------------------------------------------------------\u001b[0m",
            "\u001b[0;31mValueError\u001b[0m                                Traceback (most recent call last)",
            "\u001b[0;32m<ipython-input-203-570c73bdc2c2>\u001b[0m in \u001b[0;36m<module>\u001b[0;34m\u001b[0m\n\u001b[1;32m      2\u001b[0m \u001b[0me\u001b[0m \u001b[0;34m=\u001b[0m \u001b[0mlist\u001b[0m\u001b[0;34m(\u001b[0m\u001b[0mitertools\u001b[0m\u001b[0;34m.\u001b[0m\u001b[0mchain\u001b[0m\u001b[0;34m.\u001b[0m\u001b[0mfrom_iterable\u001b[0m\u001b[0;34m(\u001b[0m\u001b[0ment_labels\u001b[0m\u001b[0;34m)\u001b[0m\u001b[0;34m)\u001b[0m\u001b[0;34m\u001b[0m\u001b[0;34m\u001b[0m\u001b[0m\n\u001b[1;32m      3\u001b[0m \u001b[0mprint\u001b[0m\u001b[0;34m(\u001b[0m\u001b[0mlen\u001b[0m\u001b[0;34m(\u001b[0m\u001b[0me\u001b[0m\u001b[0;34m)\u001b[0m\u001b[0;34m)\u001b[0m\u001b[0;34m\u001b[0m\u001b[0;34m\u001b[0m\u001b[0m\n\u001b[0;32m----> 4\u001b[0;31m \u001b[0mstart_train_features\u001b[0m\u001b[0;34m,\u001b[0m \u001b[0mstart_test_features\u001b[0m\u001b[0;34m,\u001b[0m \u001b[0mstart_train_labels\u001b[0m\u001b[0;34m,\u001b[0m \u001b[0mstart_test_labels\u001b[0m \u001b[0;34m=\u001b[0m \u001b[0mtrain_test_split\u001b[0m\u001b[0;34m(\u001b[0m\u001b[0mentity_embeddings\u001b[0m\u001b[0;34m,\u001b[0m \u001b[0me\u001b[0m\u001b[0;34m)\u001b[0m\u001b[0;34m\u001b[0m\u001b[0;34m\u001b[0m\u001b[0m\n\u001b[0m",
            "\u001b[0;32m/usr/local/lib/python3.8/dist-packages/sklearn/model_selection/_split.py\u001b[0m in \u001b[0;36mtrain_test_split\u001b[0;34m(test_size, train_size, random_state, shuffle, stratify, *arrays)\u001b[0m\n\u001b[1;32m   2415\u001b[0m         \u001b[0;32mraise\u001b[0m \u001b[0mValueError\u001b[0m\u001b[0;34m(\u001b[0m\u001b[0;34m\"At least one array required as input\"\u001b[0m\u001b[0;34m)\u001b[0m\u001b[0;34m\u001b[0m\u001b[0;34m\u001b[0m\u001b[0m\n\u001b[1;32m   2416\u001b[0m \u001b[0;34m\u001b[0m\u001b[0m\n\u001b[0;32m-> 2417\u001b[0;31m     \u001b[0marrays\u001b[0m \u001b[0;34m=\u001b[0m \u001b[0mindexable\u001b[0m\u001b[0;34m(\u001b[0m\u001b[0;34m*\u001b[0m\u001b[0marrays\u001b[0m\u001b[0;34m)\u001b[0m\u001b[0;34m\u001b[0m\u001b[0;34m\u001b[0m\u001b[0m\n\u001b[0m\u001b[1;32m   2418\u001b[0m \u001b[0;34m\u001b[0m\u001b[0m\n\u001b[1;32m   2419\u001b[0m     \u001b[0mn_samples\u001b[0m \u001b[0;34m=\u001b[0m \u001b[0m_num_samples\u001b[0m\u001b[0;34m(\u001b[0m\u001b[0marrays\u001b[0m\u001b[0;34m[\u001b[0m\u001b[0;36m0\u001b[0m\u001b[0;34m]\u001b[0m\u001b[0;34m)\u001b[0m\u001b[0;34m\u001b[0m\u001b[0;34m\u001b[0m\u001b[0m\n",
            "\u001b[0;32m/usr/local/lib/python3.8/dist-packages/sklearn/utils/validation.py\u001b[0m in \u001b[0;36mindexable\u001b[0;34m(*iterables)\u001b[0m\n\u001b[1;32m    376\u001b[0m \u001b[0;34m\u001b[0m\u001b[0m\n\u001b[1;32m    377\u001b[0m     \u001b[0mresult\u001b[0m \u001b[0;34m=\u001b[0m \u001b[0;34m[\u001b[0m\u001b[0m_make_indexable\u001b[0m\u001b[0;34m(\u001b[0m\u001b[0mX\u001b[0m\u001b[0;34m)\u001b[0m \u001b[0;32mfor\u001b[0m \u001b[0mX\u001b[0m \u001b[0;32min\u001b[0m \u001b[0miterables\u001b[0m\u001b[0;34m]\u001b[0m\u001b[0;34m\u001b[0m\u001b[0;34m\u001b[0m\u001b[0m\n\u001b[0;32m--> 378\u001b[0;31m     \u001b[0mcheck_consistent_length\u001b[0m\u001b[0;34m(\u001b[0m\u001b[0;34m*\u001b[0m\u001b[0mresult\u001b[0m\u001b[0;34m)\u001b[0m\u001b[0;34m\u001b[0m\u001b[0;34m\u001b[0m\u001b[0m\n\u001b[0m\u001b[1;32m    379\u001b[0m     \u001b[0;32mreturn\u001b[0m \u001b[0mresult\u001b[0m\u001b[0;34m\u001b[0m\u001b[0;34m\u001b[0m\u001b[0m\n\u001b[1;32m    380\u001b[0m \u001b[0;34m\u001b[0m\u001b[0m\n",
            "\u001b[0;32m/usr/local/lib/python3.8/dist-packages/sklearn/utils/validation.py\u001b[0m in \u001b[0;36mcheck_consistent_length\u001b[0;34m(*arrays)\u001b[0m\n\u001b[1;32m    330\u001b[0m     \u001b[0muniques\u001b[0m \u001b[0;34m=\u001b[0m \u001b[0mnp\u001b[0m\u001b[0;34m.\u001b[0m\u001b[0munique\u001b[0m\u001b[0;34m(\u001b[0m\u001b[0mlengths\u001b[0m\u001b[0;34m)\u001b[0m\u001b[0;34m\u001b[0m\u001b[0;34m\u001b[0m\u001b[0m\n\u001b[1;32m    331\u001b[0m     \u001b[0;32mif\u001b[0m \u001b[0mlen\u001b[0m\u001b[0;34m(\u001b[0m\u001b[0muniques\u001b[0m\u001b[0;34m)\u001b[0m \u001b[0;34m>\u001b[0m \u001b[0;36m1\u001b[0m\u001b[0;34m:\u001b[0m\u001b[0;34m\u001b[0m\u001b[0;34m\u001b[0m\u001b[0m\n\u001b[0;32m--> 332\u001b[0;31m         raise ValueError(\n\u001b[0m\u001b[1;32m    333\u001b[0m             \u001b[0;34m\"Found input variables with inconsistent numbers of samples: %r\"\u001b[0m\u001b[0;34m\u001b[0m\u001b[0;34m\u001b[0m\u001b[0m\n\u001b[1;32m    334\u001b[0m             \u001b[0;34m%\u001b[0m \u001b[0;34m[\u001b[0m\u001b[0mint\u001b[0m\u001b[0;34m(\u001b[0m\u001b[0ml\u001b[0m\u001b[0;34m)\u001b[0m \u001b[0;32mfor\u001b[0m \u001b[0ml\u001b[0m \u001b[0;32min\u001b[0m \u001b[0mlengths\u001b[0m\u001b[0;34m]\u001b[0m\u001b[0;34m\u001b[0m\u001b[0;34m\u001b[0m\u001b[0m\n",
            "\u001b[0;31mValueError\u001b[0m: Found input variables with inconsistent numbers of samples: [64626, 64685]"
          ]
        }
      ]
    },
    {
      "cell_type": "code",
      "source": [
        "lr_clf = LogisticRegression(solver='saga')\n",
        "lr_clf.fit(start_train_features, start_train_labels)\n",
        "lr_clf.score(start_test_features, start_test_labels)\n",
        "\n",
        "print(classification_report(start_test_labels, lr_clf.predict(start_test_features)))"
      ],
      "metadata": {
        "id": "sbLcGoWghA49",
        "colab": {
          "base_uri": "https://localhost:8080/"
        },
        "outputId": "c6294fb8-361b-41d3-a933-a01427c9f56a"
      },
      "execution_count": 173,
      "outputs": [
        {
          "output_type": "stream",
          "name": "stdout",
          "text": [
            "              precision    recall  f1-score   support\n",
            "\n",
            "           0       0.74      0.98      0.84     11951\n",
            "           1       0.38      0.04      0.07      4206\n",
            "\n",
            "    accuracy                           0.73     16157\n",
            "   macro avg       0.56      0.51      0.46     16157\n",
            "weighted avg       0.65      0.73      0.64     16157\n",
            "\n"
          ]
        },
        {
          "output_type": "stream",
          "name": "stderr",
          "text": [
            "/usr/local/lib/python3.8/dist-packages/sklearn/linear_model/_sag.py:352: ConvergenceWarning: The max_iter was reached which means the coef_ did not converge\n",
            "  warnings.warn(\n"
          ]
        }
      ]
    },
    {
      "cell_type": "code",
      "source": [
        "fig, ax = plt.subplots(figsize=(8, 8))\n",
        "plot_confusion_matrix(lr_clf, start_test_features, start_test_labels, ax=ax)  \n",
        "plt.show()"
      ],
      "metadata": {
        "id": "QYkFtFJmUCnq",
        "colab": {
          "base_uri": "https://localhost:8080/",
          "height": 521
        },
        "outputId": "7bfcce19-0b5e-4426-b796-b709e16cb242"
      },
      "execution_count": 127,
      "outputs": [
        {
          "output_type": "stream",
          "name": "stderr",
          "text": [
            "/usr/local/lib/python3.8/dist-packages/sklearn/utils/deprecation.py:87: FutureWarning: Function plot_confusion_matrix is deprecated; Function `plot_confusion_matrix` is deprecated in 1.0 and will be removed in 1.2. Use one of the class methods: ConfusionMatrixDisplay.from_predictions or ConfusionMatrixDisplay.from_estimator.\n",
            "  warnings.warn(msg, category=FutureWarning)\n"
          ]
        },
        {
          "output_type": "display_data",
          "data": {
            "text/plain": [
              "<Figure size 576x576 with 2 Axes>"
            ],
            "image/png": "[encoded data removed]"
          },
          "metadata": {
            "needs_background": "light"
          }
        }
      ]
    },
    {
      "cell_type": "markdown",
      "source": [
        "Establishing the relation labels"
      ],
      "metadata": {
        "id": "4lZZpVkhdC7I"
      }
    },
    {
      "cell_type": "code",
      "source": [
        "labels = list(set([r['type'] for doc in docs for r in doc['relations']]))"
      ],
      "metadata": {
        "id": "QklH7WB6ZaWE"
      },
      "execution_count": null,
      "outputs": []
    },
    {
      "cell_type": "code",
      "source": [],
      "metadata": {
        "id": "n7x9RYj9SpEU"
      },
      "execution_count": null,
      "outputs": []
    }
  ]
}